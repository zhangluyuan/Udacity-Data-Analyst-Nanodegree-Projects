{
 "cells": [
  {
   "cell_type": "markdown",
   "metadata": {},
   "source": [
    "# Data Wrangling and Analysis  of Twitter WeRateDogs\n",
    "#### by Luyuan Zhang, August 2018"
   ]
  },
  {
   "cell_type": "markdown",
   "metadata": {},
   "source": [
    "<a id='top'></a>"
   ]
  },
  {
   "cell_type": "markdown",
   "metadata": {},
   "source": [
    "This is the final project of Udacity Data Wrangling course, which is the third part of term 2 of Data Analyst Nano Degree. This file mainly documents data wrangling effort in gathering, assessing and cleaning twitter WeRateDogs archive data. The final clean data is copied to dataframe df for brief analysis and visualization.\n",
    "\n",
    "**Table of contents**:\n",
    "1. [Data gathering](#gathering)<br>\n",
    "2. [Data assessment](#assessment)<br>\n",
    "3. [Data cleaning](#cleaning)<br>\n",
    "4. [Data analysis and visualization](#analysis)<br>\n",
    "5. [References](#references)"
   ]
  },
  {
   "cell_type": "markdown",
   "metadata": {},
   "source": [
    "Import libraries"
   ]
  },
  {
   "cell_type": "code",
   "execution_count": 3,
   "metadata": {},
   "outputs": [],
   "source": [
    "import os\n",
    "import pandas as pd\n",
    "import numpy as np\n",
    "import tweepy\n",
    "import requests\n",
    "from PIL import Image\n",
    "from io import BytesIO\n",
    "import json\n",
    "import ast\n",
    "from bs4 import BeautifulSoup as BS\n",
    "import matplotlib.pyplot as plt\n",
    "%matplotlib inline"
   ]
  },
  {
   "cell_type": "markdown",
   "metadata": {},
   "source": [
    "<a id='gathering'></a>"
   ]
  },
  {
   "cell_type": "markdown",
   "metadata": {},
   "source": [
    "[back to top of the report](#top)"
   ]
  },
  {
   "cell_type": "markdown",
   "metadata": {},
   "source": [
    "## 1. Gathering"
   ]
  },
  {
   "cell_type": "markdown",
   "metadata": {},
   "source": [
    "***table of contents***:<br>\n",
    "1.1 [archive: from twitter-archive-enhanced.csv](#archive)    <br>\n",
    "1.2 [updated_info: from Twitter using API](#updated_info)    <br>\n",
    "1.3 [image_predictions: request from url](#image_predictions)"
   ]
  },
  {
   "cell_type": "markdown",
   "metadata": {},
   "source": [
    "<a id='archive'></a>"
   ]
  },
  {
   "cell_type": "markdown",
   "metadata": {},
   "source": [
    "### 1.1 archive: from twitter-archive-enhanced.csv"
   ]
  },
  {
   "cell_type": "code",
   "execution_count": 4,
   "metadata": {
    "scrolled": true
   },
   "outputs": [
    {
     "data": {
      "text/html": [
       "<div>\n",
       "<style scoped>\n",
       "    .dataframe tbody tr th:only-of-type {\n",
       "        vertical-align: middle;\n",
       "    }\n",
       "\n",
       "    .dataframe tbody tr th {\n",
       "        vertical-align: top;\n",
       "    }\n",
       "\n",
       "    .dataframe thead th {\n",
       "        text-align: right;\n",
       "    }\n",
       "</style>\n",
       "<table border=\"1\" class=\"dataframe\">\n",
       "  <thead>\n",
       "    <tr style=\"text-align: right;\">\n",
       "      <th></th>\n",
       "      <th>tweet_id</th>\n",
       "      <th>in_reply_to_status_id</th>\n",
       "      <th>in_reply_to_user_id</th>\n",
       "      <th>timestamp</th>\n",
       "      <th>source</th>\n",
       "      <th>text</th>\n",
       "      <th>retweeted_status_id</th>\n",
       "      <th>retweeted_status_user_id</th>\n",
       "      <th>retweeted_status_timestamp</th>\n",
       "      <th>expanded_urls</th>\n",
       "      <th>rating_numerator</th>\n",
       "      <th>rating_denominator</th>\n",
       "      <th>name</th>\n",
       "      <th>doggo</th>\n",
       "      <th>floofer</th>\n",
       "      <th>pupper</th>\n",
       "      <th>puppo</th>\n",
       "    </tr>\n",
       "  </thead>\n",
       "  <tbody>\n",
       "    <tr>\n",
       "      <th>0</th>\n",
       "      <td>892420643555336193</td>\n",
       "      <td>NaN</td>\n",
       "      <td>NaN</td>\n",
       "      <td>2017-08-01 16:23:56 +0000</td>\n",
       "      <td>&lt;a href=\"http://twitter.com/download/iphone\" r...</td>\n",
       "      <td>This is Phineas. He's a mystical boy. Only eve...</td>\n",
       "      <td>NaN</td>\n",
       "      <td>NaN</td>\n",
       "      <td>NaN</td>\n",
       "      <td>https://twitter.com/dog_rates/status/892420643...</td>\n",
       "      <td>13</td>\n",
       "      <td>10</td>\n",
       "      <td>Phineas</td>\n",
       "      <td>None</td>\n",
       "      <td>None</td>\n",
       "      <td>None</td>\n",
       "      <td>None</td>\n",
       "    </tr>\n",
       "  </tbody>\n",
       "</table>\n",
       "</div>"
      ],
      "text/plain": [
       "             tweet_id  in_reply_to_status_id  in_reply_to_user_id  \\\n",
       "0  892420643555336193                    NaN                  NaN   \n",
       "\n",
       "                   timestamp  \\\n",
       "0  2017-08-01 16:23:56 +0000   \n",
       "\n",
       "                                              source  \\\n",
       "0  <a href=\"http://twitter.com/download/iphone\" r...   \n",
       "\n",
       "                                                text  retweeted_status_id  \\\n",
       "0  This is Phineas. He's a mystical boy. Only eve...                  NaN   \n",
       "\n",
       "   retweeted_status_user_id retweeted_status_timestamp  \\\n",
       "0                       NaN                        NaN   \n",
       "\n",
       "                                       expanded_urls  rating_numerator  \\\n",
       "0  https://twitter.com/dog_rates/status/892420643...                13   \n",
       "\n",
       "   rating_denominator     name doggo floofer pupper puppo  \n",
       "0                  10  Phineas  None    None   None  None  "
      ]
     },
     "execution_count": 4,
     "metadata": {},
     "output_type": "execute_result"
    }
   ],
   "source": [
    "archive=pd.read_csv('twitter-archive-enhanced.csv')\n",
    "archive.head(1)"
   ]
  },
  {
   "cell_type": "markdown",
   "metadata": {},
   "source": [
    "<a id='updated_info'></a>"
   ]
  },
  {
   "cell_type": "markdown",
   "metadata": {},
   "source": [
    "### 1.2 updated_info: from Twitter using API\n",
    "acquire additional tweet data to the archive through twitter API using tweet_id"
   ]
  },
  {
   "cell_type": "markdown",
   "metadata": {},
   "source": [
    "set up API"
   ]
  },
  {
   "cell_type": "code",
   "execution_count": 132,
   "metadata": {},
   "outputs": [],
   "source": [
    "import tweepy\n",
    "\n",
    "consumer_key = 'xxxx'\n",
    "consumer_secret = 'xxxx'\n",
    "access_token = 'xxxx'\n",
    "access_secret = 'xxxx'\n",
    "\n",
    "auth = tweepy.OAuthHandler(consumer_key, consumer_secret)\n",
    "auth.set_access_token(access_token, access_secret)\n",
    "\n",
    "api = tweepy.API(auth)"
   ]
  },
  {
   "cell_type": "markdown",
   "metadata": {},
   "source": [
    "gather and save data into tweet_json.txt"
   ]
  },
  {
   "cell_type": "code",
   "execution_count": 133,
   "metadata": {},
   "outputs": [
    {
     "name": "stdout",
     "output_type": "stream",
     "text": [
      "Successfully obtained tweets of user 892420643555336193\n",
      "Successfully obtained tweets of user 892177421306343426\n",
      "Successfully obtained tweets of user 891815181378084864\n",
      "Successfully obtained tweets of user 891689557279858688\n",
      "Successfully obtained tweets of user 891327558926688256\n",
      "Successfully obtained tweets of user 891087950875897856\n",
      "Successfully obtained tweets of user 890971913173991426\n",
      "Successfully obtained tweets of user 890729181411237888\n",
      "Successfully obtained tweets of user 890609185150312448\n",
      "Successfully obtained tweets of user 890240255349198849\n",
      "Successfully obtained tweets of user 890006608113172480\n",
      "Successfully obtained tweets of user 889880896479866881\n",
      "Successfully obtained tweets of user 889665388333682689\n",
      "Successfully obtained tweets of user 889638837579907072\n",
      "Successfully obtained tweets of user 889531135344209921\n",
      "Successfully obtained tweets of user 889278841981685760\n",
      "Successfully obtained tweets of user 888917238123831296\n",
      "Successfully obtained tweets of user 888804989199671297\n",
      "Successfully obtained tweets of user 888554962724278272\n",
      "Successfully obtained tweets of user 888078434458587136\n",
      "Successfully obtained tweets of user 887705289381826560\n",
      "Successfully obtained tweets of user 887517139158093824\n",
      "Successfully obtained tweets of user 887473957103951883\n",
      "Successfully obtained tweets of user 887343217045368832\n",
      "Successfully obtained tweets of user 887101392804085760\n",
      "Successfully obtained tweets of user 886983233522544640\n",
      "Successfully obtained tweets of user 886736880519319552\n",
      "Successfully obtained tweets of user 886680336477933568\n",
      "Successfully obtained tweets of user 886366144734445568\n",
      "Successfully obtained tweets of user 886267009285017600\n",
      "Successfully obtained tweets of user 886258384151887873\n",
      "Successfully obtained tweets of user 886054160059072513\n",
      "Successfully obtained tweets of user 885984800019947520\n",
      "Successfully obtained tweets of user 885528943205470208\n",
      "Successfully obtained tweets of user 885518971528720385\n",
      "Successfully obtained tweets of user 885311592912609280\n",
      "Successfully obtained tweets of user 885167619883638784\n",
      "Successfully obtained tweets of user 884925521741709313\n",
      "Successfully obtained tweets of user 884876753390489601\n",
      "Successfully obtained tweets of user 884562892145688576\n",
      "Successfully obtained tweets of user 884441805382717440\n",
      "Successfully obtained tweets of user 884247878851493888\n",
      "Successfully obtained tweets of user 884162670584377345\n",
      "Successfully obtained tweets of user 883838122936631299\n",
      "Successfully obtained tweets of user 883482846933004288\n",
      "Successfully obtained tweets of user 883360690899218434\n",
      "Successfully obtained tweets of user 883117836046086144\n",
      "Successfully obtained tweets of user 882992080364220416\n",
      "Successfully obtained tweets of user 882762694511734784\n",
      "Successfully obtained tweets of user 882627270321602560\n",
      "Successfully obtained tweets of user 882268110199369728\n",
      "Successfully obtained tweets of user 882045870035918850\n",
      "Successfully obtained tweets of user 881906580714921986\n",
      "Successfully obtained tweets of user 881666595344535552\n",
      "Successfully obtained tweets of user 881633300179243008\n",
      "Successfully obtained tweets of user 881536004380872706\n",
      "Successfully obtained tweets of user 881268444196462592\n",
      "Successfully obtained tweets of user 880935762899988482\n",
      "Successfully obtained tweets of user 880872448815771648\n",
      "Successfully obtained tweets of user 880465832366813184\n",
      "Successfully obtained tweets of user 880221127280381952\n",
      "Successfully obtained tweets of user 880095782870896641\n",
      "Successfully obtained tweets of user 879862464715927552\n",
      "Successfully obtained tweets of user 879674319642796034\n",
      "Successfully obtained tweets of user 879492040517615616\n",
      "Successfully obtained tweets of user 879415818425184262\n",
      "Successfully obtained tweets of user 879376492567855104\n",
      "Successfully obtained tweets of user 879130579576475649\n",
      "Successfully obtained tweets of user 879050749262655488\n",
      "Successfully obtained tweets of user 879008229531029506\n",
      "Successfully obtained tweets of user 878776093423087618\n",
      "Successfully obtained tweets of user 878604707211726852\n",
      "Successfully obtained tweets of user 878404777348136964\n",
      "Successfully obtained tweets of user 878316110768087041\n",
      "Successfully obtained tweets of user 878281511006478336\n",
      "Successfully obtained tweets of user 878057613040115712\n",
      "Successfully obtained tweets of user 877736472329191424\n",
      "Successfully obtained tweets of user 877611172832227328\n",
      "Successfully obtained tweets of user 877556246731214848\n",
      "Successfully obtained tweets of user 877316821321428993\n",
      "Successfully obtained tweets of user 877201837425926144\n",
      "Successfully obtained tweets of user 876838120628539392\n",
      "Successfully obtained tweets of user 876537666061221889\n",
      "Successfully obtained tweets of user 876484053909872640\n",
      "Successfully obtained tweets of user 876120275196170240\n",
      "Successfully obtained tweets of user 875747767867523072\n",
      "Successfully obtained tweets of user 875144289856114688\n",
      "Successfully obtained tweets of user 875097192612077568\n",
      "Successfully obtained tweets of user 875021211251597312\n",
      "Successfully obtained tweets of user 874680097055178752\n",
      "Successfully obtained tweets of user 874434818259525634\n",
      "Successfully obtained tweets of user 874296783580663808\n",
      "Successfully obtained tweets of user 874057562936811520\n",
      "Successfully obtained tweets of user 874012996292530176\n",
      "Successfully obtained tweets of user 873580283840344065\n",
      "Successfully obtained tweets of user 873337748698140672\n",
      "Successfully obtained tweets of user 873213775632977920\n",
      "Successfully obtained tweets of user 872967104147763200\n",
      "Successfully obtained tweets of user 872820683541237760\n",
      "Successfully obtained tweets of user 872668790621863937\n",
      "Successfully obtained tweets of user 872620804844003328\n",
      "Successfully obtained tweets of user 872486979161796608\n",
      "Successfully obtained tweets of user 872261713294495745\n",
      "Successfully obtained tweets of user 872122724285648897\n",
      "Successfully obtained tweets of user 871879754684805121\n",
      "Successfully obtained tweets of user 871762521631449091\n",
      "Successfully obtained tweets of user 871515927908634625\n",
      "Successfully obtained tweets of user 871166179821445120\n",
      "Successfully obtained tweets of user 871102520638267392\n",
      "Successfully obtained tweets of user 871032628920680449\n",
      "Successfully obtained tweets of user 870804317367881728\n",
      "Successfully obtained tweets of user 870726314365509632\n",
      "Successfully obtained tweets of user 870656317836468226\n",
      "Successfully obtained tweets of user 870374049280663552\n",
      "Successfully obtained tweets of user 870308999962521604\n",
      "Successfully obtained tweets of user 870063196459192321\n",
      "Successfully obtained tweets of user 869772420881756160\n",
      "Successfully obtained tweets of user 869702957897576449\n",
      "Successfully obtained tweets of user 869596645499047938\n",
      "Successfully obtained tweets of user 869227993411051520\n",
      "Successfully obtained tweets of user 868880397819494401\n",
      "Successfully obtained tweets of user 868639477480148993\n",
      "Successfully obtained tweets of user 868622495443632128\n",
      "Successfully obtained tweets of user 868552278524837888\n",
      "Successfully obtained tweets of user 867900495410671616\n",
      "Successfully obtained tweets of user 867774946302451713\n",
      "Successfully obtained tweets of user 867421006826221569\n",
      "Successfully obtained tweets of user 867072653475098625\n",
      "Successfully obtained tweets of user 867051520902168576\n",
      "Successfully obtained tweets of user 866720684873056260\n",
      "Successfully obtained tweets of user 866686824827068416\n",
      "Successfully obtained tweets of user 866450705531457537\n",
      "Successfully obtained tweets of user 866334964761202691\n",
      "Successfully obtained tweets of user 866094527597207552\n",
      "Successfully obtained tweets of user 865718153858494464\n",
      "Successfully obtained tweets of user 865359393868664832\n",
      "Successfully obtained tweets of user 865006731092295680\n",
      "Successfully obtained tweets of user 864873206498414592\n",
      "Successfully obtained tweets of user 864279568663928832\n",
      "Successfully obtained tweets of user 864197398364647424\n",
      "Successfully obtained tweets of user 863907417377173506\n",
      "Successfully obtained tweets of user 863553081350529029\n",
      "Successfully obtained tweets of user 863471782782697472\n",
      "Successfully obtained tweets of user 863432100342583297\n",
      "Successfully obtained tweets of user 863427515083354112\n",
      "Successfully obtained tweets of user 863079547188785154\n",
      "Successfully obtained tweets of user 863062471531167744\n"
     ]
    },
    {
     "name": "stdout",
     "output_type": "stream",
     "text": [
      "Successfully obtained tweets of user 862831371563274240\n",
      "Successfully obtained tweets of user 862722525377298433\n",
      "Successfully obtained tweets of user 862457590147678208\n",
      "Successfully obtained tweets of user 862096992088072192\n",
      "Successfully obtained tweets of user 861383897657036800\n",
      "Successfully obtained tweets of user 861288531465048066\n",
      "Successfully obtained tweets of user 861005113778896900\n",
      "Successfully obtained tweets of user 860981674716409858\n",
      "Successfully obtained tweets of user 860924035999428608\n",
      "Successfully obtained tweets of user 860563773140209665\n",
      "Successfully obtained tweets of user 860524505164394496\n",
      "Successfully obtained tweets of user 860276583193509888\n",
      "Successfully obtained tweets of user 860184849394610176\n",
      "Successfully obtained tweets of user 860177593139703809\n",
      "Successfully obtained tweets of user 859924526012018688\n",
      "Successfully obtained tweets of user 859851578198683649\n",
      "Successfully obtained tweets of user 859607811541651456\n",
      "Successfully obtained tweets of user 859196978902773760\n",
      "Successfully obtained tweets of user 859074603037188101\n",
      "Successfully obtained tweets of user 858860390427611136\n",
      "Successfully obtained tweets of user 858843525470990336\n",
      "Successfully obtained tweets of user 858471635011153920\n",
      "Successfully obtained tweets of user 858107933456039936\n",
      "Successfully obtained tweets of user 857989990357356544\n",
      "Successfully obtained tweets of user 857746408056729600\n",
      "Successfully obtained tweets of user 857393404942143489\n",
      "Successfully obtained tweets of user 857263160327368704\n",
      "Successfully obtained tweets of user 857214891891077121\n",
      "Successfully obtained tweets of user 857062103051644929\n",
      "Successfully obtained tweets of user 857029823797047296\n",
      "Successfully obtained tweets of user 856602993587888130\n",
      "Successfully obtained tweets of user 856543823941562368\n",
      "Successfully obtained tweets of user 856526610513747968\n",
      "Successfully obtained tweets of user 856330835276025856\n",
      "Successfully obtained tweets of user 856288084350160898\n",
      "Successfully obtained tweets of user 856282028240666624\n",
      "Successfully obtained tweets of user 855862651834028034\n",
      "Successfully obtained tweets of user 855860136149123072\n",
      "Successfully obtained tweets of user 855857698524602368\n",
      "Successfully obtained tweets of user 855851453814013952\n",
      "Successfully obtained tweets of user 855818117272018944\n",
      "Successfully obtained tweets of user 855459453768019968\n",
      "Successfully obtained tweets of user 855245323840757760\n",
      "Successfully obtained tweets of user 855138241867124737\n",
      "Successfully obtained tweets of user 854732716440526848\n",
      "Successfully obtained tweets of user 854482394044301312\n",
      "Successfully obtained tweets of user 854365224396361728\n",
      "Successfully obtained tweets of user 854120357044912130\n",
      "Successfully obtained tweets of user 854010172552949760\n",
      "Successfully obtained tweets of user 853760880890318849\n",
      "Successfully obtained tweets of user 853639147608842240\n",
      "Successfully obtained tweets of user 853299958564483072\n",
      "Successfully obtained tweets of user 852936405516943360\n",
      "Successfully obtained tweets of user 852912242202992640\n",
      "Successfully obtained tweets of user 852672615818899456\n",
      "Successfully obtained tweets of user 852553447878664193\n",
      "Successfully obtained tweets of user 852311364735569921\n",
      "Successfully obtained tweets of user 852226086759018497\n",
      "Successfully obtained tweets of user 852189679701164033\n",
      "Successfully obtained tweets of user 851953902622658560\n",
      "Successfully obtained tweets of user 851861385021730816\n",
      "Successfully obtained tweets of user 851591660324737024\n",
      "Successfully obtained tweets of user 851464819735769094\n",
      "Successfully obtained tweets of user 851224888060895234\n",
      "Successfully obtained tweets of user 850753642995093505\n",
      "Successfully obtained tweets of user 850380195714523136\n",
      "Successfully obtained tweets of user 850333567704068097\n",
      "Successfully obtained tweets of user 850145622816686080\n",
      "Successfully obtained tweets of user 850019790995546112\n",
      "Successfully obtained tweets of user 849776966551130114\n",
      "Successfully obtained tweets of user 849668094696017920\n",
      "Successfully obtained tweets of user 849412302885593088\n",
      "Successfully obtained tweets of user 849336543269576704\n",
      "Successfully obtained tweets of user 849051919805034497\n",
      "Successfully obtained tweets of user 848690551926992896\n",
      "Successfully obtained tweets of user 848324959059550208\n",
      "Successfully obtained tweets of user 848213670039564288\n",
      "Successfully obtained tweets of user 848212111729840128\n",
      "Successfully obtained tweets of user 847978865427394560\n",
      "Successfully obtained tweets of user 847971574464610304\n",
      "Successfully obtained tweets of user 847962785489326080\n",
      "Successfully obtained tweets of user 847842811428974592\n",
      "Successfully obtained tweets of user 847617282490613760\n",
      "Successfully obtained tweets of user 847606175596138505\n",
      "Successfully obtained tweets of user 847251039262605312\n",
      "Successfully obtained tweets of user 847157206088847362\n",
      "Successfully obtained tweets of user 847116187444137987\n",
      "Successfully obtained tweets of user 846874817362120707\n",
      "Successfully obtained tweets of user 846514051647705089\n",
      "Successfully obtained tweets of user 846505985330044928\n",
      "Successfully obtained tweets of user 846153765933735936\n",
      "Successfully obtained tweets of user 846139713627017216\n",
      "Successfully obtained tweets of user 846042936437604353\n",
      "Successfully obtained tweets of user 845812042753855489\n",
      "Successfully obtained tweets of user 845677943972139009\n",
      "Successfully obtained tweets of user 845397057150107648\n",
      "Successfully obtained tweets of user 845306882940190720\n",
      "Successfully obtained tweets of user 845098359547420673\n",
      "Successfully obtained tweets of user 844979544864018432\n",
      "Successfully obtained tweets of user 844973813909606400\n",
      "Successfully obtained tweets of user 844704788403113984\n",
      "Successfully obtained tweets of user 844580511645339650\n",
      "Successfully obtained tweets of user 844223788422217728\n",
      "Successfully obtained tweets of user 843981021012017153\n",
      "Successfully obtained tweets of user 843856843873095681\n",
      "Successfully obtained tweets of user 843604394117681152\n",
      "Successfully obtained tweets of user 843235543001513987\n",
      "Successfully obtained tweets of user 842846295480000512\n",
      "Successfully obtained tweets of user 842765311967449089\n",
      "Successfully obtained tweets of user 842535590457499648\n",
      "Successfully obtained tweets of user 842163532590374912\n",
      "Successfully obtained tweets of user 842115215311396866\n",
      "Successfully obtained tweets of user 841833993020538882\n",
      "Successfully obtained tweets of user 841680585030541313\n",
      "Successfully obtained tweets of user 841439858740625411\n",
      "Successfully obtained tweets of user 841320156043304961\n",
      "Successfully obtained tweets of user 841314665196081154\n",
      "Successfully obtained tweets of user 841077006473256960\n",
      "Successfully obtained tweets of user 840761248237133825\n",
      "Successfully obtained tweets of user 840728873075638272\n",
      "Successfully obtained tweets of user 840698636975636481\n",
      "Successfully obtained tweets of user 840696689258311684\n",
      "Successfully obtained tweets of user 840632337062862849\n",
      "Successfully obtained tweets of user 840370681858686976\n",
      "Successfully obtained tweets of user 840268004936019968\n",
      "Successfully obtained tweets of user 839990271299457024\n",
      "Successfully obtained tweets of user 839549326359670784\n",
      "Successfully obtained tweets of user 839290600511926273\n",
      "Successfully obtained tweets of user 839239871831150596\n",
      "Successfully obtained tweets of user 838952994649550848\n",
      "Successfully obtained tweets of user 838921590096166913\n",
      "Successfully obtained tweets of user 838916489579200512\n",
      "Successfully obtained tweets of user 838831947270979586\n",
      "Successfully obtained tweets of user 838561493054533637\n",
      "Successfully obtained tweets of user 838476387338051585\n",
      "Successfully obtained tweets of user 838201503651401729\n",
      "Successfully obtained tweets of user 838150277551247360\n",
      "Successfully obtained tweets of user 838085839343206401\n",
      "Successfully obtained tweets of user 838083903487373313\n",
      "Successfully obtained tweets of user 837820167694528512\n",
      "Successfully obtained tweets of user 837482249356513284\n",
      "Successfully obtained tweets of user 837471256429613056\n",
      "Successfully obtained tweets of user 837366284874571778\n",
      "Successfully obtained tweets of user 837110210464448512\n",
      "Successfully obtained tweets of user 836989968035819520\n",
      "Successfully obtained tweets of user 836753516572119041\n",
      "Successfully obtained tweets of user 836677758902222849\n"
     ]
    },
    {
     "name": "stdout",
     "output_type": "stream",
     "text": [
      "Successfully obtained tweets of user 836648853927522308\n",
      "Successfully obtained tweets of user 836397794269200385\n",
      "Successfully obtained tweets of user 836380477523124226\n",
      "Successfully obtained tweets of user 836260088725786625\n",
      "Successfully obtained tweets of user 836001077879255040\n",
      "Successfully obtained tweets of user 835685285446955009\n",
      "Successfully obtained tweets of user 835574547218894849\n",
      "Successfully obtained tweets of user 835536468978302976\n",
      "Successfully obtained tweets of user 835309094223372289\n",
      "Successfully obtained tweets of user 835297930240217089\n",
      "Successfully obtained tweets of user 835264098648616962\n",
      "Successfully obtained tweets of user 835246439529840640\n",
      "Successfully obtained tweets of user 835172783151792128\n",
      "Successfully obtained tweets of user 835152434251116546\n",
      "Successfully obtained tweets of user 834931633769889797\n",
      "Successfully obtained tweets of user 834786237630337024\n",
      "Successfully obtained tweets of user 834574053763584002\n",
      "Successfully obtained tweets of user 834477809192075265\n",
      "Successfully obtained tweets of user 834458053273591808\n",
      "Successfully obtained tweets of user 834209720923721728\n",
      "Successfully obtained tweets of user 834167344700198914\n",
      "Successfully obtained tweets of user 834089966724603904\n",
      "Successfully obtained tweets of user 834086379323871233\n",
      "Successfully obtained tweets of user 833863086058651648\n",
      "Successfully obtained tweets of user 833826103416520705\n",
      "Successfully obtained tweets of user 833732339549220864\n",
      "Successfully obtained tweets of user 833722901757046785\n",
      "Successfully obtained tweets of user 833479644947025920\n",
      "Successfully obtained tweets of user 833124694597443584\n",
      "Successfully obtained tweets of user 832998151111966721\n",
      "Successfully obtained tweets of user 832769181346996225\n",
      "Successfully obtained tweets of user 832757312314028032\n",
      "Successfully obtained tweets of user 832682457690300417\n",
      "Successfully obtained tweets of user 832645525019123713\n",
      "Successfully obtained tweets of user 832636094638288896\n",
      "Successfully obtained tweets of user 832397543355072512\n",
      "Successfully obtained tweets of user 832369877331693569\n",
      "Successfully obtained tweets of user 832273440279240704\n",
      "Successfully obtained tweets of user 832215909146226688\n",
      "Successfully obtained tweets of user 832215726631055365\n",
      "Successfully obtained tweets of user 832088576586297345\n",
      "Successfully obtained tweets of user 832040443403784192\n",
      "Successfully obtained tweets of user 832032802820481025\n",
      "Successfully obtained tweets of user 831939777352105988\n",
      "Successfully obtained tweets of user 831926988323639298\n",
      "Successfully obtained tweets of user 831911600680497154\n",
      "Successfully obtained tweets of user 831670449226514432\n",
      "Successfully obtained tweets of user 831650051525054464\n",
      "Successfully obtained tweets of user 831552930092285952\n",
      "Successfully obtained tweets of user 831322785565769729\n",
      "Successfully obtained tweets of user 831315979191906304\n",
      "Successfully obtained tweets of user 831309418084069378\n",
      "Successfully obtained tweets of user 831262627380748289\n",
      "Successfully obtained tweets of user 830956169170665475\n",
      "Successfully obtained tweets of user 830583320585068544\n",
      "Successfully obtained tweets of user 830173239259324417\n",
      "Successfully obtained tweets of user 830097400375152640\n",
      "Successfully obtained tweets of user 829878982036299777\n",
      "Successfully obtained tweets of user 829861396166877184\n",
      "Successfully obtained tweets of user 829501995190984704\n",
      "Successfully obtained tweets of user 829449946868879360\n",
      "Successfully obtained tweets of user 829374341691346946\n",
      "Successfully obtained tweets of user 829141528400556032\n",
      "Successfully obtained tweets of user 829011960981237760\n",
      "Successfully obtained tweets of user 828801551087042563\n",
      "Successfully obtained tweets of user 828770345708580865\n",
      "Successfully obtained tweets of user 828708714936930305\n",
      "Successfully obtained tweets of user 828650029636317184\n",
      "Successfully obtained tweets of user 828409743546925057\n",
      "Successfully obtained tweets of user 828408677031882754\n",
      "Successfully obtained tweets of user 828381636999917570\n",
      "Successfully obtained tweets of user 828376505180889089\n",
      "Successfully obtained tweets of user 828372645993398273\n",
      "Successfully obtained tweets of user 828361771580813312\n",
      "Successfully obtained tweets of user 828046555563323392\n",
      "Successfully obtained tweets of user 828011680017821696\n",
      "Successfully obtained tweets of user 827933404142436356\n",
      "Successfully obtained tweets of user 827653905312006145\n",
      "Successfully obtained tweets of user 827600520311402496\n",
      "Successfully obtained tweets of user 827324948884643840\n",
      "Successfully obtained tweets of user 827199976799354881\n",
      "Successfully obtained tweets of user 826958653328592898\n",
      "Successfully obtained tweets of user 826848821049180160\n",
      "Successfully obtained tweets of user 826615380357632002\n",
      "Successfully obtained tweets of user 826598799820865537\n",
      "Successfully obtained tweets of user 826598365270007810\n",
      "Successfully obtained tweets of user 826476773533745153\n",
      "Successfully obtained tweets of user 826240494070030336\n",
      "Successfully obtained tweets of user 826204788643753985\n",
      "Successfully obtained tweets of user 826115272272650244\n",
      "Successfully obtained tweets of user 825876512159186944\n",
      "Successfully obtained tweets of user 825829644528148480\n",
      "Successfully obtained tweets of user 825535076884762624\n",
      "Successfully obtained tweets of user 825147591692263424\n",
      "Successfully obtained tweets of user 825120256414846976\n",
      "Successfully obtained tweets of user 825026590719483904\n",
      "Successfully obtained tweets of user 824796380199809024\n",
      "Successfully obtained tweets of user 824775126675836928\n",
      "Successfully obtained tweets of user 824663926340194305\n",
      "Successfully obtained tweets of user 824325613288833024\n",
      "Successfully obtained tweets of user 824297048279236611\n",
      "Successfully obtained tweets of user 824025158776213504\n",
      "Successfully obtained tweets of user 823939628516474880\n",
      "Successfully obtained tweets of user 823719002937630720\n",
      "Successfully obtained tweets of user 823699002998870016\n",
      "Successfully obtained tweets of user 823581115634085888\n",
      "Successfully obtained tweets of user 823333489516937216\n",
      "Successfully obtained tweets of user 823322678127919110\n",
      "Successfully obtained tweets of user 823269594223824897\n",
      "Successfully obtained tweets of user 822975315408461824\n",
      "Successfully obtained tweets of user 822872901745569793\n",
      "Successfully obtained tweets of user 822859134160621569\n",
      "Successfully obtained tweets of user 822647212903690241\n",
      "Successfully obtained tweets of user 822610361945911296\n",
      "Successfully obtained tweets of user 822489057087389700\n",
      "Successfully obtained tweets of user 822462944365645825\n",
      "Successfully obtained tweets of user 822244816520155136\n",
      "Successfully obtained tweets of user 822163064745328640\n",
      "Successfully obtained tweets of user 821886076407029760\n",
      "Successfully obtained tweets of user 821813639212650496\n",
      "Successfully obtained tweets of user 821765923262631936\n",
      "Successfully obtained tweets of user 821522889702862852\n",
      "Successfully obtained tweets of user 821421320206483457\n",
      "Successfully obtained tweets of user 821407182352777218\n",
      "Successfully obtained tweets of user 821153421864615936\n",
      "Successfully obtained tweets of user 821149554670182400\n",
      "Successfully obtained tweets of user 821107785811234820\n",
      "Successfully obtained tweets of user 821044531881721856\n",
      "Successfully obtained tweets of user 820837357901512704\n",
      "Successfully obtained tweets of user 820749716845686786\n",
      "Successfully obtained tweets of user 820690176645140481\n",
      "Successfully obtained tweets of user 820494788566847489\n",
      "Successfully obtained tweets of user 820446719150292993\n",
      "Successfully obtained tweets of user 820314633777061888\n",
      "Successfully obtained tweets of user 820078625395449857\n",
      "Successfully obtained tweets of user 820013781606658049\n",
      "Successfully obtained tweets of user 819952236453363712\n",
      "Successfully obtained tweets of user 819924195358416896\n",
      "Successfully obtained tweets of user 819711362133872643\n",
      "Successfully obtained tweets of user 819588359383371776\n",
      "Successfully obtained tweets of user 819347104292290561\n",
      "Successfully obtained tweets of user 819238181065359361\n",
      "Successfully obtained tweets of user 819227688460238848\n",
      "Successfully obtained tweets of user 819015337530290176\n",
      "Successfully obtained tweets of user 819015331746349057\n",
      "Successfully obtained tweets of user 819006400881917954\n",
      "Successfully obtained tweets of user 819004803107983360\n"
     ]
    },
    {
     "name": "stdout",
     "output_type": "stream",
     "text": [
      "Successfully obtained tweets of user 818646164899774465\n",
      "Successfully obtained tweets of user 818627210458333184\n",
      "Successfully obtained tweets of user 818614493328580609\n",
      "Successfully obtained tweets of user 818588835076603904\n",
      "Successfully obtained tweets of user 818536468981415936\n",
      "Successfully obtained tweets of user 818307523543449600\n",
      "Successfully obtained tweets of user 818259473185828864\n",
      "Successfully obtained tweets of user 818145370475810820\n",
      "Successfully obtained tweets of user 817908911860748288\n",
      "Successfully obtained tweets of user 817827839487737858\n",
      "Successfully obtained tweets of user 817777686764523521\n",
      "Successfully obtained tweets of user 817536400337801217\n",
      "Successfully obtained tweets of user 817502432452313088\n",
      "Successfully obtained tweets of user 817423860136083457\n",
      "Successfully obtained tweets of user 817415592588222464\n",
      "Successfully obtained tweets of user 817181837579653120\n",
      "Successfully obtained tweets of user 817171292965273600\n",
      "Successfully obtained tweets of user 817120970343411712\n",
      "Successfully obtained tweets of user 817056546584727552\n",
      "Successfully obtained tweets of user 816829038950027264\n",
      "Successfully obtained tweets of user 816816676327063552\n",
      "Successfully obtained tweets of user 816697700272001025\n",
      "Successfully obtained tweets of user 816450570814898180\n",
      "Successfully obtained tweets of user 816336735214911488\n",
      "Successfully obtained tweets of user 816091915477250048\n",
      "Successfully obtained tweets of user 816062466425819140\n",
      "Successfully obtained tweets of user 816014286006976512\n",
      "Successfully obtained tweets of user 815990720817401858\n",
      "Successfully obtained tweets of user 815966073409433600\n",
      "Successfully obtained tweets of user 815745968457060357\n",
      "Successfully obtained tweets of user 815736392542261248\n",
      "Successfully obtained tweets of user 815639385530101762\n",
      "Successfully obtained tweets of user 815390420867969024\n",
      "Successfully obtained tweets of user 814986499976527872\n",
      "Successfully obtained tweets of user 814638523311648768\n",
      "Successfully obtained tweets of user 814578408554463233\n",
      "Successfully obtained tweets of user 814530161257443328\n",
      "Successfully obtained tweets of user 814153002265309185\n",
      "Successfully obtained tweets of user 813944609378369540\n",
      "Successfully obtained tweets of user 813910438903693312\n",
      "Successfully obtained tweets of user 813812741911748608\n",
      "Successfully obtained tweets of user 813800681631023104\n",
      "Successfully obtained tweets of user 813217897535406080\n",
      "Successfully obtained tweets of user 813202720496779264\n",
      "Successfully obtained tweets of user 813187593374461952\n",
      "Successfully obtained tweets of user 813172488309972993\n",
      "Successfully obtained tweets of user 813157409116065792\n",
      "Successfully obtained tweets of user 813142292504645637\n",
      "Successfully obtained tweets of user 813130366689148928\n",
      "Successfully obtained tweets of user 813127251579564032\n",
      "Successfully obtained tweets of user 813112105746448384\n",
      "Successfully obtained tweets of user 813096984823349248\n",
      "Successfully obtained tweets of user 813081950185472002\n",
      "Successfully obtained tweets of user 813066809284972545\n",
      "Successfully obtained tweets of user 813051746834595840\n",
      "Successfully obtained tweets of user 812781120811126785\n",
      "Successfully obtained tweets of user 812747805718642688\n",
      "Successfully obtained tweets of user 812709060537683968\n",
      "Successfully obtained tweets of user 812503143955202048\n",
      "Successfully obtained tweets of user 812466873996607488\n",
      "Successfully obtained tweets of user 812372279581671427\n",
      "Successfully obtained tweets of user 811985624773361665\n",
      "Successfully obtained tweets of user 811744202451197953\n",
      "Successfully obtained tweets of user 811647686436880384\n",
      "Successfully obtained tweets of user 811627233043480576\n",
      "Successfully obtained tweets of user 811386762094317568\n",
      "Successfully obtained tweets of user 810984652412424192\n",
      "Successfully obtained tweets of user 810896069567610880\n",
      "Successfully obtained tweets of user 810657578271330305\n",
      "Successfully obtained tweets of user 810284430598270976\n",
      "Successfully obtained tweets of user 810254108431155201\n",
      "Successfully obtained tweets of user 809920764300447744\n",
      "Successfully obtained tweets of user 809808892968534016\n",
      "Successfully obtained tweets of user 809448704142938112\n",
      "Successfully obtained tweets of user 809220051211603969\n",
      "Successfully obtained tweets of user 809084759137812480\n",
      "Successfully obtained tweets of user 808838249661788160\n",
      "Successfully obtained tweets of user 808733504066486276\n",
      "Successfully obtained tweets of user 808501579447930884\n",
      "Successfully obtained tweets of user 808344865868283904\n",
      "Successfully obtained tweets of user 808134635716833280\n",
      "Successfully obtained tweets of user 808106460588765185\n",
      "Successfully obtained tweets of user 808001312164028416\n",
      "Successfully obtained tweets of user 807621403335917568\n",
      "Successfully obtained tweets of user 807106840509214720\n",
      "Successfully obtained tweets of user 807059379405148160\n",
      "Successfully obtained tweets of user 807010152071229440\n",
      "Successfully obtained tweets of user 806629075125202948\n",
      "Successfully obtained tweets of user 806620845233815552\n",
      "Successfully obtained tweets of user 806576416489959424\n",
      "Successfully obtained tweets of user 806542213899489280\n",
      "Successfully obtained tweets of user 806242860592926720\n",
      "Successfully obtained tweets of user 806219024703037440\n",
      "Successfully obtained tweets of user 805958939288408065\n",
      "Successfully obtained tweets of user 805932879469572096\n",
      "Successfully obtained tweets of user 805826884734976000\n",
      "Successfully obtained tweets of user 805823200554876929\n",
      "Successfully obtained tweets of user 805520635690676224\n",
      "Successfully obtained tweets of user 805487436403003392\n",
      "Successfully obtained tweets of user 805207613751304193\n",
      "Successfully obtained tweets of user 804738756058218496\n",
      "Successfully obtained tweets of user 804475857670639616\n",
      "Successfully obtained tweets of user 804413760345620481\n",
      "Successfully obtained tweets of user 804026241225523202\n",
      "Successfully obtained tweets of user 803773340896923648\n",
      "Successfully obtained tweets of user 803692223237865472\n",
      "Successfully obtained tweets of user 803638050916102144\n",
      "Successfully obtained tweets of user 803380650405482500\n",
      "Successfully obtained tweets of user 803321560782307329\n",
      "Successfully obtained tweets of user 803276597545603072\n",
      "Successfully obtained tweets of user 802952499103731712\n",
      "Successfully obtained tweets of user 802624713319034886\n",
      "Successfully obtained tweets of user 802600418706604034\n",
      "Successfully obtained tweets of user 802572683846291456\n",
      "Successfully obtained tweets of user 802323869084381190\n",
      "Successfully obtained tweets of user 802265048156610565\n",
      "Successfully obtained tweets of user 802239329049477120\n",
      "Successfully obtained tweets of user 802185808107208704\n",
      "Successfully obtained tweets of user 801958328846974976\n",
      "Successfully obtained tweets of user 801854953262350336\n",
      "Successfully obtained tweets of user 801538201127157760\n",
      "Successfully obtained tweets of user 801285448605831168\n",
      "Successfully obtained tweets of user 801167903437357056\n",
      "Successfully obtained tweets of user 801127390143516673\n",
      "Successfully obtained tweets of user 801115127852503040\n",
      "Successfully obtained tweets of user 800859414831898624\n",
      "Successfully obtained tweets of user 800855607700029440\n",
      "Successfully obtained tweets of user 800751577355128832\n",
      "Successfully obtained tweets of user 800513324630806528\n",
      "Successfully obtained tweets of user 800459316964663297\n",
      "Successfully obtained tweets of user 800443802682937345\n",
      "Successfully obtained tweets of user 800388270626521089\n",
      "Successfully obtained tweets of user 800188575492947969\n",
      "Successfully obtained tweets of user 800141422401830912\n",
      "Successfully obtained tweets of user 800018252395122689\n",
      "Successfully obtained tweets of user 799774291445383169\n",
      "Successfully obtained tweets of user 799757965289017345\n",
      "Successfully obtained tweets of user 799422933579902976\n",
      "Successfully obtained tweets of user 799308762079035393\n",
      "Successfully obtained tweets of user 799297110730567681\n",
      "Successfully obtained tweets of user 799063482566066176\n",
      "Successfully obtained tweets of user 798933969379225600\n",
      "Successfully obtained tweets of user 798925684722855936\n",
      "Successfully obtained tweets of user 798705661114773508\n",
      "Successfully obtained tweets of user 798701998996647937\n",
      "Successfully obtained tweets of user 798697898615730177\n",
      "Successfully obtained tweets of user 798694562394996736\n"
     ]
    },
    {
     "name": "stdout",
     "output_type": "stream",
     "text": [
      "Successfully obtained tweets of user 798686750113755136\n",
      "Successfully obtained tweets of user 798682547630837760\n",
      "Successfully obtained tweets of user 798673117451325440\n",
      "Successfully obtained tweets of user 798665375516884993\n",
      "Successfully obtained tweets of user 798644042770751489\n",
      "Successfully obtained tweets of user 798628517273620480\n",
      "Successfully obtained tweets of user 798585098161549313\n",
      "Successfully obtained tweets of user 798576900688019456\n",
      "Successfully obtained tweets of user 798340744599797760\n",
      "Successfully obtained tweets of user 798209839306514432\n",
      "Successfully obtained tweets of user 797971864723324932\n",
      "Successfully obtained tweets of user 797545162159308800\n",
      "Successfully obtained tweets of user 797236660651966464\n",
      "Successfully obtained tweets of user 797165961484890113\n",
      "Successfully obtained tweets of user 796904159865868288\n",
      "Successfully obtained tweets of user 796865951799083009\n",
      "Successfully obtained tweets of user 796759840936919040\n",
      "Successfully obtained tweets of user 796563435802726400\n",
      "Successfully obtained tweets of user 796484825502875648\n",
      "Successfully obtained tweets of user 796387464403357696\n",
      "Successfully obtained tweets of user 796177847564038144\n",
      "Successfully obtained tweets of user 796149749086875649\n",
      "Successfully obtained tweets of user 796125600683540480\n",
      "Successfully obtained tweets of user 796116448414461957\n",
      "Successfully obtained tweets of user 796080075804475393\n",
      "Successfully obtained tweets of user 796031486298386433\n",
      "Successfully obtained tweets of user 795464331001561088\n",
      "Successfully obtained tweets of user 795400264262053889\n",
      "Successfully obtained tweets of user 795076730285391872\n",
      "Successfully obtained tweets of user 794983741416415232\n",
      "Successfully obtained tweets of user 794926597468000259\n",
      "Successfully obtained tweets of user 794355576146903043\n",
      "Successfully obtained tweets of user 794332329137291264\n",
      "Successfully obtained tweets of user 794205286408003585\n",
      "Successfully obtained tweets of user 793962221541933056\n",
      "Successfully obtained tweets of user 793845145112371200\n",
      "Successfully obtained tweets of user 793614319594401792\n",
      "Successfully obtained tweets of user 793601777308463104\n",
      "Successfully obtained tweets of user 793500921481273345\n",
      "Successfully obtained tweets of user 793286476301799424\n",
      "Successfully obtained tweets of user 793271401113350145\n",
      "Successfully obtained tweets of user 793256262322548741\n",
      "Successfully obtained tweets of user 793241302385262592\n",
      "Successfully obtained tweets of user 793226087023144960\n",
      "Successfully obtained tweets of user 793210959003287553\n",
      "Successfully obtained tweets of user 793195938047070209\n",
      "Successfully obtained tweets of user 793180763617361921\n",
      "Successfully obtained tweets of user 793165685325201412\n",
      "Successfully obtained tweets of user 793150605191548928\n",
      "Successfully obtained tweets of user 793135492858580992\n",
      "Successfully obtained tweets of user 793120401413079041\n",
      "Successfully obtained tweets of user 792913359805018113\n",
      "Successfully obtained tweets of user 792883833364439040\n",
      "Successfully obtained tweets of user 792773781206999040\n",
      "Successfully obtained tweets of user 792394556390137856\n",
      "Successfully obtained tweets of user 792050063153438720\n",
      "Successfully obtained tweets of user 791821351946420224\n",
      "Successfully obtained tweets of user 791784077045166082\n",
      "Successfully obtained tweets of user 791780927877898241\n",
      "Successfully obtained tweets of user 791774931465953280\n",
      "Successfully obtained tweets of user 791672322847637504\n",
      "Successfully obtained tweets of user 791406955684368384\n",
      "Successfully obtained tweets of user 791312159183634433\n",
      "Successfully obtained tweets of user 791026214425268224\n",
      "Successfully obtained tweets of user 790987426131050500\n",
      "Successfully obtained tweets of user 790946055508652032\n",
      "Successfully obtained tweets of user 790723298204217344\n",
      "Successfully obtained tweets of user 790698755171364864\n",
      "Successfully obtained tweets of user 790581949425475584\n",
      "Successfully obtained tweets of user 790337589677002753\n",
      "Successfully obtained tweets of user 790277117346975746\n",
      "Successfully obtained tweets of user 790227638568808452\n",
      "Successfully obtained tweets of user 789986466051088384\n",
      "Successfully obtained tweets of user 789960241177853952\n",
      "Successfully obtained tweets of user 789903600034189313\n",
      "Successfully obtained tweets of user 789628658055020548\n",
      "Successfully obtained tweets of user 789599242079838210\n",
      "Successfully obtained tweets of user 789530877013393408\n",
      "Successfully obtained tweets of user 789314372632018944\n",
      "Successfully obtained tweets of user 789280767834746880\n",
      "Successfully obtained tweets of user 789268448748703744\n",
      "Successfully obtained tweets of user 789137962068021249\n",
      "Successfully obtained tweets of user 788908386943430656\n",
      "Successfully obtained tweets of user 788765914992902144\n",
      "Successfully obtained tweets of user 788552643979468800\n",
      "Successfully obtained tweets of user 788412144018661376\n",
      "Successfully obtained tweets of user 788178268662984705\n",
      "Successfully obtained tweets of user 788150585577050112\n",
      "Successfully obtained tweets of user 788070120937619456\n",
      "Successfully obtained tweets of user 788039637453406209\n",
      "Successfully obtained tweets of user 787810552592695296\n",
      "Successfully obtained tweets of user 787717603741622272\n",
      "Successfully obtained tweets of user 787397959788929025\n",
      "Successfully obtained tweets of user 787322443945877504\n",
      "Successfully obtained tweets of user 787111942498508800\n",
      "Successfully obtained tweets of user 786963064373534720\n",
      "Successfully obtained tweets of user 786729988674449408\n",
      "Successfully obtained tweets of user 786709082849828864\n",
      "Successfully obtained tweets of user 786664955043049472\n",
      "Successfully obtained tweets of user 786595970293370880\n",
      "Successfully obtained tweets of user 786363235746385920\n",
      "Successfully obtained tweets of user 786286427768250368\n",
      "Successfully obtained tweets of user 786233965241827333\n",
      "Successfully obtained tweets of user 786051337297522688\n",
      "Successfully obtained tweets of user 786036967502913536\n",
      "Successfully obtained tweets of user 785927819176054784\n",
      "Successfully obtained tweets of user 785872687017132033\n",
      "Successfully obtained tweets of user 785639753186217984\n",
      "Successfully obtained tweets of user 785533386513321988\n",
      "Successfully obtained tweets of user 785515384317313025\n",
      "Successfully obtained tweets of user 785264754247995392\n",
      "Successfully obtained tweets of user 785170936622350336\n",
      "Successfully obtained tweets of user 784826020293709826\n",
      "Successfully obtained tweets of user 784517518371221505\n",
      "Successfully obtained tweets of user 784431430411685888\n",
      "Successfully obtained tweets of user 784183165795655680\n",
      "Successfully obtained tweets of user 784057939640352768\n",
      "Successfully obtained tweets of user 783839966405230592\n",
      "Successfully obtained tweets of user 783821107061198850\n",
      "Successfully obtained tweets of user 783695101801398276\n",
      "Successfully obtained tweets of user 783466772167098368\n",
      "Successfully obtained tweets of user 783391753726550016\n",
      "Successfully obtained tweets of user 783347506784731136\n",
      "Successfully obtained tweets of user 783334639985389568\n",
      "Successfully obtained tweets of user 783085703974514689\n",
      "Successfully obtained tweets of user 782969140009107456\n",
      "Successfully obtained tweets of user 782747134529531904\n",
      "Successfully obtained tweets of user 782722598790725632\n",
      "Successfully obtained tweets of user 782598640137187329\n",
      "Successfully obtained tweets of user 782305867769217024\n",
      "Successfully obtained tweets of user 782021823840026624\n",
      "Successfully obtained tweets of user 781955203444699136\n",
      "Successfully obtained tweets of user 781661882474196992\n",
      "Successfully obtained tweets of user 781655249211752448\n",
      "Successfully obtained tweets of user 781524693396357120\n",
      "Successfully obtained tweets of user 781308096455073793\n",
      "Successfully obtained tweets of user 781251288990355457\n",
      "Successfully obtained tweets of user 781163403222056960\n",
      "Successfully obtained tweets of user 780931614150983680\n",
      "Successfully obtained tweets of user 780858289093574656\n",
      "Successfully obtained tweets of user 780800785462489090\n",
      "Successfully obtained tweets of user 780601303617732608\n",
      "Successfully obtained tweets of user 780543529827336192\n",
      "Successfully obtained tweets of user 780496263422808064\n",
      "Successfully obtained tweets of user 780476555013349377\n",
      "Successfully obtained tweets of user 780459368902959104\n",
      "Successfully obtained tweets of user 780192070812196864\n"
     ]
    },
    {
     "name": "stdout",
     "output_type": "stream",
     "text": [
      "Successfully obtained tweets of user 780092040432480260\n",
      "Successfully obtained tweets of user 780074436359819264\n",
      "Successfully obtained tweets of user 779834332596887552\n",
      "Successfully obtained tweets of user 779377524342161408\n",
      "Successfully obtained tweets of user 779124354206535695\n",
      "Successfully obtained tweets of user 779123168116150273\n",
      "Successfully obtained tweets of user 779056095788752897\n",
      "Successfully obtained tweets of user 778990705243029504\n",
      "Successfully obtained tweets of user 778774459159379968\n",
      "Successfully obtained tweets of user 778764940568104960\n",
      "Successfully obtained tweets of user 778748913645780993\n",
      "Successfully obtained tweets of user 778650543019483137\n",
      "Successfully obtained tweets of user 778624900596654080\n",
      "Successfully obtained tweets of user 778408200802557953\n",
      "Successfully obtained tweets of user 778396591732486144\n",
      "Successfully obtained tweets of user 778383385161035776\n",
      "Successfully obtained tweets of user 778286810187399168\n",
      "Successfully obtained tweets of user 778039087836069888\n",
      "Successfully obtained tweets of user 778027034220126208\n",
      "Successfully obtained tweets of user 777953400541634568\n",
      "Successfully obtained tweets of user 777885040357281792\n",
      "Successfully obtained tweets of user 777684233540206592\n",
      "Successfully obtained tweets of user 777641927919427584\n",
      "Successfully obtained tweets of user 777621514455814149\n",
      "Successfully obtained tweets of user 777189768882946048\n",
      "Successfully obtained tweets of user 776819012571455488\n",
      "Successfully obtained tweets of user 776813020089548800\n",
      "Successfully obtained tweets of user 776477788987613185\n",
      "Successfully obtained tweets of user 776249906839351296\n",
      "Successfully obtained tweets of user 776218204058357768\n",
      "Successfully obtained tweets of user 776201521193218049\n",
      "Successfully obtained tweets of user 776113305656188928\n",
      "Successfully obtained tweets of user 776088319444877312\n",
      "Successfully obtained tweets of user 775898661951791106\n",
      "Successfully obtained tweets of user 775842724423557120\n",
      "Successfully obtained tweets of user 775733305207554048\n",
      "Successfully obtained tweets of user 775729183532220416\n",
      "Successfully obtained tweets of user 775364825476165632\n",
      "Successfully obtained tweets of user 775350846108426240\n",
      "Successfully obtained tweets of user 775085132600442880\n",
      "Successfully obtained tweets of user 774757898236878852\n",
      "Successfully obtained tweets of user 774639387460112384\n",
      "Successfully obtained tweets of user 774314403806253056\n",
      "Successfully obtained tweets of user 773985732834758656\n",
      "Successfully obtained tweets of user 773922284943896577\n",
      "Successfully obtained tweets of user 773704687002451968\n",
      "Successfully obtained tweets of user 773670353721753600\n",
      "Successfully obtained tweets of user 773547596996571136\n",
      "Successfully obtained tweets of user 773336787167145985\n",
      "Successfully obtained tweets of user 773308824254029826\n",
      "Successfully obtained tweets of user 773247561583001600\n",
      "Successfully obtained tweets of user 773191612633579521\n",
      "Successfully obtained tweets of user 772877495989305348\n",
      "Successfully obtained tweets of user 772826264096874500\n",
      "Successfully obtained tweets of user 772615324260794368\n",
      "Successfully obtained tweets of user 772581559778025472\n",
      "Successfully obtained tweets of user 772193107915964416\n",
      "Successfully obtained tweets of user 772152991789019136\n",
      "Successfully obtained tweets of user 772117678702071809\n",
      "Successfully obtained tweets of user 772114945936949249\n",
      "Successfully obtained tweets of user 772102971039580160\n",
      "Successfully obtained tweets of user 771908950375665664\n",
      "Successfully obtained tweets of user 771770456517009408\n",
      "Successfully obtained tweets of user 771500966810099713\n",
      "Successfully obtained tweets of user 771380798096281600\n",
      "Successfully obtained tweets of user 771171053431250945\n",
      "Successfully obtained tweets of user 771136648247640064\n",
      "Successfully obtained tweets of user 771102124360998913\n",
      "Successfully obtained tweets of user 771014301343748096\n",
      "Successfully obtained tweets of user 770787852854652928\n",
      "Successfully obtained tweets of user 770772759874076672\n",
      "Successfully obtained tweets of user 770655142660169732\n",
      "Successfully obtained tweets of user 770414278348247044\n",
      "Successfully obtained tweets of user 770293558247038976\n",
      "Successfully obtained tweets of user 770093767776997377\n",
      "Successfully obtained tweets of user 770069151037685760\n",
      "Successfully obtained tweets of user 769940425801170949\n",
      "Successfully obtained tweets of user 769695466921623552\n",
      "Successfully obtained tweets of user 769335591808995329\n",
      "Successfully obtained tweets of user 769212283578875904\n",
      "Successfully obtained tweets of user 768970937022709760\n",
      "Successfully obtained tweets of user 768909767477751808\n",
      "Successfully obtained tweets of user 768855141948723200\n",
      "Successfully obtained tweets of user 768609597686943744\n",
      "Successfully obtained tweets of user 768596291618299904\n",
      "Successfully obtained tweets of user 768554158521745409\n",
      "Successfully obtained tweets of user 768473857036525572\n",
      "Successfully obtained tweets of user 768193404517830656\n",
      "Successfully obtained tweets of user 767884188863397888\n",
      "Successfully obtained tweets of user 767754930266464257\n",
      "Successfully obtained tweets of user 767500508068192258\n",
      "Successfully obtained tweets of user 767191397493538821\n",
      "Successfully obtained tweets of user 767122157629476866\n",
      "Successfully obtained tweets of user 766864461642756096\n",
      "Successfully obtained tweets of user 766793450729734144\n",
      "Successfully obtained tweets of user 766714921925144576\n",
      "Successfully obtained tweets of user 766693177336135680\n",
      "Successfully obtained tweets of user 766423258543644672\n",
      "Successfully obtained tweets of user 766313316352462849\n",
      "Successfully obtained tweets of user 766078092750233600\n",
      "Successfully obtained tweets of user 766069199026450432\n",
      "Successfully obtained tweets of user 766008592277377025\n",
      "Successfully obtained tweets of user 765719909049503744\n",
      "Successfully obtained tweets of user 765669560888528897\n",
      "Successfully obtained tweets of user 765395769549590528\n",
      "Successfully obtained tweets of user 765371061932261376\n",
      "Successfully obtained tweets of user 765222098633691136\n",
      "Successfully obtained tweets of user 764857477905154048\n",
      "Successfully obtained tweets of user 764259802650378240\n",
      "Successfully obtained tweets of user 763956972077010945\n",
      "Successfully obtained tweets of user 763837565564780549\n",
      "Successfully obtained tweets of user 763183847194451968\n",
      "Successfully obtained tweets of user 763167063695355904\n",
      "Successfully obtained tweets of user 763103485927849985\n",
      "Successfully obtained tweets of user 762699858130116608\n",
      "Successfully obtained tweets of user 762471784394268675\n",
      "Successfully obtained tweets of user 762464539388485633\n",
      "Successfully obtained tweets of user 762316489655476224\n",
      "Successfully obtained tweets of user 762035686371364864\n",
      "Successfully obtained tweets of user 761976711479193600\n",
      "Successfully obtained tweets of user 761750502866649088\n",
      "Successfully obtained tweets of user 761745352076779520\n",
      "Successfully obtained tweets of user 761672994376806400\n",
      "Successfully obtained tweets of user 761599872357261312\n",
      "Successfully obtained tweets of user 761371037149827077\n",
      "Successfully obtained tweets of user 761334018830917632\n",
      "Successfully obtained tweets of user 761292947749015552\n",
      "Successfully obtained tweets of user 761227390836215808\n",
      "Successfully obtained tweets of user 761004547850530816\n",
      "Successfully obtained tweets of user 760893934457552897\n",
      "Successfully obtained tweets of user 760656994973933572\n",
      "Successfully obtained tweets of user 760641137271070720\n",
      "Successfully obtained tweets of user 760539183865880579\n",
      "Successfully obtained tweets of user 760521673607086080\n",
      "Successfully obtained tweets of user 760290219849637889\n",
      "Successfully obtained tweets of user 760252756032651264\n",
      "Successfully obtained tweets of user 760190180481531904\n",
      "Successfully obtained tweets of user 760153949710192640\n",
      "Successfully obtained tweets of user 759943073749200896\n",
      "Successfully obtained tweets of user 759923798737051648\n",
      "Successfully obtained tweets of user 759846353224826880\n",
      "Successfully obtained tweets of user 759793422261743616\n",
      "Successfully obtained tweets of user 759566828574212096\n",
      "Successfully obtained tweets of user 759557299618865152\n",
      "Successfully obtained tweets of user 759447681597108224\n",
      "Successfully obtained tweets of user 759446261539934208\n",
      "Successfully obtained tweets of user 759197388317847553\n"
     ]
    },
    {
     "name": "stdout",
     "output_type": "stream",
     "text": [
      "Successfully obtained tweets of user 759159934323924993\n",
      "Successfully obtained tweets of user 759099523532779520\n",
      "Successfully obtained tweets of user 759047813560868866\n",
      "Successfully obtained tweets of user 758854675097526272\n",
      "Successfully obtained tweets of user 758828659922702336\n"
     ]
    },
    {
     "name": "stderr",
     "output_type": "stream",
     "text": [
      "Rate limit reached. Sleeping for: 671\n"
     ]
    },
    {
     "name": "stdout",
     "output_type": "stream",
     "text": [
      "Successfully obtained tweets of user 758740312047005698\n",
      "Successfully obtained tweets of user 758474966123810816\n",
      "Successfully obtained tweets of user 758467244762497024\n",
      "Successfully obtained tweets of user 758405701903519748\n",
      "Successfully obtained tweets of user 758355060040593408\n",
      "Successfully obtained tweets of user 758099635764359168\n",
      "Successfully obtained tweets of user 758041019896193024\n",
      "Successfully obtained tweets of user 757741869644341248\n",
      "Successfully obtained tweets of user 757729163776290825\n",
      "Successfully obtained tweets of user 757725642876129280\n",
      "Successfully obtained tweets of user 757611664640446465\n",
      "Successfully obtained tweets of user 757597904299253760\n",
      "Successfully obtained tweets of user 757596066325864448\n",
      "Successfully obtained tweets of user 757400162377592832\n",
      "Successfully obtained tweets of user 757393109802180609\n",
      "Successfully obtained tweets of user 757354760399941633\n",
      "Successfully obtained tweets of user 756998049151549440\n",
      "Successfully obtained tweets of user 756939218950160384\n",
      "Successfully obtained tweets of user 756651752796094464\n",
      "Successfully obtained tweets of user 756526248105566208\n",
      "Successfully obtained tweets of user 756303284449767430\n",
      "Successfully obtained tweets of user 756288534030475264\n",
      "Successfully obtained tweets of user 756275833623502848\n",
      "Successfully obtained tweets of user 755955933503782912\n",
      "Successfully obtained tweets of user 755206590534418437\n",
      "Successfully obtained tweets of user 755110668769038337\n",
      "Successfully obtained tweets of user 754874841593970688\n",
      "Successfully obtained tweets of user 754856583969079297\n",
      "Successfully obtained tweets of user 754747087846248448\n",
      "Successfully obtained tweets of user 754482103782404096\n",
      "Successfully obtained tweets of user 754449512966619136\n",
      "Successfully obtained tweets of user 754120377874386944\n",
      "Successfully obtained tweets of user 753655901052166144\n",
      "Successfully obtained tweets of user 753420520834629632\n",
      "Successfully obtained tweets of user 753398408988139520\n",
      "Successfully obtained tweets of user 753375668877008896\n",
      "Successfully obtained tweets of user 753298634498793472\n",
      "Successfully obtained tweets of user 753294487569522689\n",
      "Successfully obtained tweets of user 753039830821511168\n",
      "Successfully obtained tweets of user 753026973505581056\n",
      "Successfully obtained tweets of user 752932432744185856\n",
      "Successfully obtained tweets of user 752917284578922496\n",
      "Successfully obtained tweets of user 752701944171524096\n",
      "Successfully obtained tweets of user 752682090207055872\n",
      "Successfully obtained tweets of user 752660715232722944\n",
      "Successfully obtained tweets of user 752568224206688256\n",
      "Successfully obtained tweets of user 752519690950500352\n",
      "Successfully obtained tweets of user 752334515931054080\n",
      "Successfully obtained tweets of user 752309394570878976\n",
      "Successfully obtained tweets of user 752173152931807232\n",
      "Successfully obtained tweets of user 751950017322246144\n",
      "Successfully obtained tweets of user 751937170840121344\n",
      "Successfully obtained tweets of user 751830394383790080\n",
      "Successfully obtained tweets of user 751793661361422336\n",
      "Successfully obtained tweets of user 751598357617971201\n",
      "Successfully obtained tweets of user 751583847268179968\n",
      "Successfully obtained tweets of user 751538714308972544\n",
      "Successfully obtained tweets of user 751456908746354688\n",
      "Successfully obtained tweets of user 751251247299190784\n",
      "Successfully obtained tweets of user 751205363882532864\n",
      "Successfully obtained tweets of user 751132876104687617\n",
      "Successfully obtained tweets of user 750868782890057730\n",
      "Successfully obtained tweets of user 750719632563142656\n",
      "Successfully obtained tweets of user 750506206503038976\n",
      "Successfully obtained tweets of user 750429297815552001\n",
      "Successfully obtained tweets of user 750383411068534784\n",
      "Successfully obtained tweets of user 750381685133418496\n",
      "Successfully obtained tweets of user 750147208377409536\n",
      "Successfully obtained tweets of user 750132105863102464\n",
      "Successfully obtained tweets of user 750117059602808832\n",
      "Successfully obtained tweets of user 750101899009982464\n",
      "Successfully obtained tweets of user 750086836815486976\n",
      "Successfully obtained tweets of user 750071704093859840\n",
      "Successfully obtained tweets of user 750056684286914561\n",
      "Successfully obtained tweets of user 750041628174217216\n",
      "Successfully obtained tweets of user 750026558547456000\n",
      "Successfully obtained tweets of user 750011400160841729\n",
      "Successfully obtained tweets of user 749996283729883136\n",
      "Successfully obtained tweets of user 749981277374128128\n",
      "Successfully obtained tweets of user 749774190421639168\n",
      "Successfully obtained tweets of user 749417653287129088\n",
      "Successfully obtained tweets of user 749403093750648834\n",
      "Successfully obtained tweets of user 749395845976588288\n",
      "Successfully obtained tweets of user 749317047558017024\n",
      "Successfully obtained tweets of user 749075273010798592\n",
      "Successfully obtained tweets of user 749064354620928000\n",
      "Successfully obtained tweets of user 749036806121881602\n",
      "Successfully obtained tweets of user 748977405889503236\n",
      "Successfully obtained tweets of user 748932637671223296\n",
      "Successfully obtained tweets of user 748705597323898880\n",
      "Successfully obtained tweets of user 748699167502000129\n",
      "Successfully obtained tweets of user 748692773788876800\n",
      "Successfully obtained tweets of user 748575535303884801\n",
      "Successfully obtained tweets of user 748568946752774144\n",
      "Successfully obtained tweets of user 748346686624440324\n",
      "Successfully obtained tweets of user 748337862848962560\n",
      "Successfully obtained tweets of user 748324050481647620\n",
      "Successfully obtained tweets of user 748307329658011649\n",
      "Successfully obtained tweets of user 748220828303695873\n",
      "Successfully obtained tweets of user 747963614829678593\n",
      "Successfully obtained tweets of user 747933425676525569\n",
      "Successfully obtained tweets of user 747885874273214464\n",
      "Successfully obtained tweets of user 747844099428986880\n",
      "Successfully obtained tweets of user 747816857231626240\n",
      "Successfully obtained tweets of user 747651430853525504\n",
      "Successfully obtained tweets of user 747648653817413632\n",
      "Successfully obtained tweets of user 747600769478692864\n",
      "Successfully obtained tweets of user 747594051852075008\n",
      "Successfully obtained tweets of user 747512671126323200\n",
      "Successfully obtained tweets of user 747461612269887489\n",
      "Successfully obtained tweets of user 747439450712596480\n",
      "Successfully obtained tweets of user 747242308580548608\n",
      "Successfully obtained tweets of user 747219827526344708\n",
      "Successfully obtained tweets of user 747204161125646336\n",
      "Successfully obtained tweets of user 747103485104099331\n",
      "Successfully obtained tweets of user 746906459439529985\n",
      "Successfully obtained tweets of user 746872823977771008\n",
      "Successfully obtained tweets of user 746818907684614144\n",
      "Successfully obtained tweets of user 746790600704425984\n",
      "Successfully obtained tweets of user 746757706116112384\n",
      "Successfully obtained tweets of user 746726898085036033\n",
      "Successfully obtained tweets of user 746542875601690625\n",
      "Successfully obtained tweets of user 746521445350707200\n",
      "Successfully obtained tweets of user 746507379341139972\n",
      "Successfully obtained tweets of user 746369468511756288\n",
      "Successfully obtained tweets of user 746131877086527488\n",
      "Successfully obtained tweets of user 746056683365994496\n",
      "Successfully obtained tweets of user 745789745784041472\n",
      "Successfully obtained tweets of user 745712589599014916\n",
      "Successfully obtained tweets of user 745433870967832576\n",
      "Successfully obtained tweets of user 745422732645535745\n",
      "Successfully obtained tweets of user 745314880350101504\n",
      "Successfully obtained tweets of user 745074613265149952\n",
      "Successfully obtained tweets of user 745057283344719872\n",
      "Successfully obtained tweets of user 744995568523612160\n",
      "Successfully obtained tweets of user 744971049620602880\n",
      "Successfully obtained tweets of user 744709971296780288\n",
      "Successfully obtained tweets of user 744334592493166593\n",
      "Successfully obtained tweets of user 744234799360020481\n",
      "Successfully obtained tweets of user 744223424764059648\n",
      "Successfully obtained tweets of user 743980027717509120\n",
      "Successfully obtained tweets of user 743895849529389061\n",
      "Successfully obtained tweets of user 743835915802583040\n",
      "Successfully obtained tweets of user 743609206067040256\n",
      "Successfully obtained tweets of user 743595368194129920\n",
      "Successfully obtained tweets of user 743545585370791937\n",
      "Successfully obtained tweets of user 743510151680958465\n"
     ]
    },
    {
     "name": "stdout",
     "output_type": "stream",
     "text": [
      "Successfully obtained tweets of user 743253157753532416\n",
      "Successfully obtained tweets of user 743222593470234624\n",
      "Successfully obtained tweets of user 743210557239623680\n",
      "Successfully obtained tweets of user 742534281772302336\n",
      "Successfully obtained tweets of user 742528092657332225\n",
      "Successfully obtained tweets of user 742465774154047488\n",
      "Successfully obtained tweets of user 742423170473463808\n",
      "Successfully obtained tweets of user 742385895052087300\n",
      "Successfully obtained tweets of user 742161199639494656\n",
      "Successfully obtained tweets of user 742150209887731712\n",
      "Successfully obtained tweets of user 741793263812808706\n",
      "Successfully obtained tweets of user 741743634094141440\n",
      "Successfully obtained tweets of user 741438259667034112\n",
      "Successfully obtained tweets of user 741303864243200000\n",
      "Successfully obtained tweets of user 741099773336379392\n",
      "Successfully obtained tweets of user 741067306818797568\n",
      "Successfully obtained tweets of user 740995100998766593\n",
      "Successfully obtained tweets of user 740711788199743490\n",
      "Successfully obtained tweets of user 740699697422163968\n",
      "Successfully obtained tweets of user 740676976021798912\n",
      "Successfully obtained tweets of user 740373189193256964\n",
      "Successfully obtained tweets of user 740365076218183684\n",
      "Successfully obtained tweets of user 740359016048689152\n",
      "Successfully obtained tweets of user 740214038584557568\n",
      "Successfully obtained tweets of user 739979191639244800\n",
      "Successfully obtained tweets of user 739932936087216128\n",
      "Successfully obtained tweets of user 739844404073074688\n",
      "Successfully obtained tweets of user 739623569819336705\n",
      "Successfully obtained tweets of user 739606147276148736\n",
      "Successfully obtained tweets of user 739544079319588864\n",
      "Successfully obtained tweets of user 739485634323156992\n",
      "Successfully obtained tweets of user 739238157791694849\n",
      "Successfully obtained tweets of user 738891149612572673\n",
      "Successfully obtained tweets of user 738885046782832640\n",
      "Successfully obtained tweets of user 738883359779196928\n",
      "Successfully obtained tweets of user 738537504001953792\n",
      "Successfully obtained tweets of user 738402415918125056\n",
      "Successfully obtained tweets of user 738184450748633089\n",
      "Successfully obtained tweets of user 738166403467907072\n",
      "Successfully obtained tweets of user 738156290900254721\n",
      "Successfully obtained tweets of user 737826014890496000\n",
      "Successfully obtained tweets of user 737800304142471168\n",
      "Successfully obtained tweets of user 737678689543020544\n",
      "Successfully obtained tweets of user 737445876994609152\n",
      "Successfully obtained tweets of user 737322739594330112\n",
      "Successfully obtained tweets of user 737310737551491075\n",
      "Successfully obtained tweets of user 736736130620620800\n",
      "Successfully obtained tweets of user 736392552031657984\n",
      "Successfully obtained tweets of user 736365877722001409\n",
      "Successfully obtained tweets of user 736225175608430592\n",
      "Successfully obtained tweets of user 736010884653420544\n",
      "Successfully obtained tweets of user 735991953473572864\n",
      "Successfully obtained tweets of user 735648611367784448\n",
      "Successfully obtained tweets of user 735635087207878657\n",
      "Successfully obtained tweets of user 735274964362878976\n",
      "Successfully obtained tweets of user 735256018284875776\n",
      "Successfully obtained tweets of user 735137028879360001\n",
      "Successfully obtained tweets of user 734912297295085568\n",
      "Successfully obtained tweets of user 734787690684657664\n",
      "Successfully obtained tweets of user 734776360183431168\n",
      "Successfully obtained tweets of user 734559631394082816\n",
      "Successfully obtained tweets of user 733828123016450049\n",
      "Successfully obtained tweets of user 733822306246479872\n",
      "Successfully obtained tweets of user 733482008106668032\n",
      "Successfully obtained tweets of user 733460102733135873\n",
      "Successfully obtained tweets of user 733109485275860992\n",
      "Successfully obtained tweets of user 732732193018155009\n",
      "Successfully obtained tweets of user 732726085725589504\n",
      "Successfully obtained tweets of user 732585889486888962\n",
      "Successfully obtained tweets of user 732375214819057664\n",
      "Successfully obtained tweets of user 732005617171337216\n",
      "Successfully obtained tweets of user 731285275100512256\n",
      "Successfully obtained tweets of user 731156023742988288\n",
      "Successfully obtained tweets of user 730924654643314689\n",
      "Successfully obtained tweets of user 730573383004487680\n",
      "Successfully obtained tweets of user 730427201120833536\n",
      "Successfully obtained tweets of user 730211855403241472\n",
      "Successfully obtained tweets of user 730196704625098752\n",
      "Successfully obtained tweets of user 729854734790754305\n",
      "Successfully obtained tweets of user 729838605770891264\n",
      "Successfully obtained tweets of user 729823566028484608\n",
      "Successfully obtained tweets of user 729463711119904772\n",
      "Successfully obtained tweets of user 729113531270991872\n",
      "Successfully obtained tweets of user 728986383096946689\n",
      "Successfully obtained tweets of user 728760639972315136\n",
      "Successfully obtained tweets of user 728751179681943552\n",
      "Successfully obtained tweets of user 728653952833728512\n",
      "Successfully obtained tweets of user 728409960103686147\n",
      "Successfully obtained tweets of user 728387165835677696\n",
      "Successfully obtained tweets of user 728046963732717569\n",
      "Successfully obtained tweets of user 728035342121635841\n",
      "Successfully obtained tweets of user 728015554473250816\n",
      "Successfully obtained tweets of user 727685679342333952\n",
      "Successfully obtained tweets of user 727644517743104000\n",
      "Successfully obtained tweets of user 727524757080539137\n",
      "Successfully obtained tweets of user 727314416056803329\n",
      "Successfully obtained tweets of user 727286334147182592\n",
      "Successfully obtained tweets of user 727175381690781696\n",
      "Successfully obtained tweets of user 727155742655025152\n",
      "Successfully obtained tweets of user 726935089318363137\n",
      "Successfully obtained tweets of user 726887082820554753\n",
      "Successfully obtained tweets of user 726828223124897792\n",
      "Successfully obtained tweets of user 726224900189511680\n",
      "Successfully obtained tweets of user 725842289046749185\n",
      "Successfully obtained tweets of user 725786712245440512\n",
      "Successfully obtained tweets of user 725729321944506368\n",
      "Successfully obtained tweets of user 725458796924002305\n",
      "Successfully obtained tweets of user 724983749226668032\n",
      "Successfully obtained tweets of user 724771698126512129\n",
      "Successfully obtained tweets of user 724405726123311104\n",
      "Successfully obtained tweets of user 724049859469295616\n",
      "Successfully obtained tweets of user 724046343203856385\n",
      "Successfully obtained tweets of user 724004602748780546\n",
      "Successfully obtained tweets of user 723912936180330496\n",
      "Successfully obtained tweets of user 723688335806480385\n",
      "Successfully obtained tweets of user 723673163800948736\n",
      "Successfully obtained tweets of user 723179728551723008\n",
      "Successfully obtained tweets of user 722974582966214656\n",
      "Successfully obtained tweets of user 722613351520608256\n",
      "Successfully obtained tweets of user 721503162398597120\n",
      "Successfully obtained tweets of user 721001180231503872\n",
      "Successfully obtained tweets of user 720785406564900865\n",
      "Successfully obtained tweets of user 720775346191278080\n",
      "Successfully obtained tweets of user 720415127506415616\n",
      "Successfully obtained tweets of user 720389942216527872\n",
      "Successfully obtained tweets of user 720340705894408192\n",
      "Successfully obtained tweets of user 720059472081784833\n",
      "Successfully obtained tweets of user 720043174954147842\n",
      "Successfully obtained tweets of user 719991154352222208\n",
      "Successfully obtained tweets of user 719704490224398336\n",
      "Successfully obtained tweets of user 719551379208073216\n",
      "Successfully obtained tweets of user 719367763014393856\n",
      "Successfully obtained tweets of user 719339463458033665\n",
      "Successfully obtained tweets of user 719332531645071360\n",
      "Successfully obtained tweets of user 718971898235854848\n",
      "Successfully obtained tweets of user 718939241951195136\n",
      "Successfully obtained tweets of user 718631497683582976\n",
      "Successfully obtained tweets of user 718613305783398402\n",
      "Successfully obtained tweets of user 718540630683709445\n",
      "Successfully obtained tweets of user 718460005985447936\n",
      "Successfully obtained tweets of user 718454725339934721\n",
      "Successfully obtained tweets of user 718246886998687744\n",
      "Successfully obtained tweets of user 718234618122661888\n",
      "Successfully obtained tweets of user 717841801130979328\n",
      "Successfully obtained tweets of user 717790033953034240\n",
      "Successfully obtained tweets of user 717537687239008257\n",
      "Successfully obtained tweets of user 717428917016076293\n"
     ]
    },
    {
     "name": "stdout",
     "output_type": "stream",
     "text": [
      "Successfully obtained tweets of user 717421804990701568\n",
      "Successfully obtained tweets of user 717047459982213120\n",
      "Successfully obtained tweets of user 717009362452090881\n",
      "Successfully obtained tweets of user 716802964044845056\n",
      "Successfully obtained tweets of user 716791146589110272\n",
      "Successfully obtained tweets of user 716730379797970944\n",
      "Successfully obtained tweets of user 716447146686459905\n",
      "Successfully obtained tweets of user 716439118184652801\n",
      "Successfully obtained tweets of user 716285507865542656\n",
      "Successfully obtained tweets of user 716080869887381504\n",
      "Successfully obtained tweets of user 715928423106027520\n",
      "Successfully obtained tweets of user 715758151270801409\n",
      "Successfully obtained tweets of user 715733265223708672\n",
      "Successfully obtained tweets of user 715704790270025728\n",
      "Successfully obtained tweets of user 715696743237730304\n",
      "Successfully obtained tweets of user 715680795826982913\n",
      "Successfully obtained tweets of user 715360349751484417\n",
      "Successfully obtained tweets of user 715342466308784130\n",
      "Successfully obtained tweets of user 715220193576927233\n",
      "Successfully obtained tweets of user 715200624753819648\n",
      "Successfully obtained tweets of user 715009755312439296\n",
      "Successfully obtained tweets of user 714982300363173890\n",
      "Successfully obtained tweets of user 714962719905021952\n",
      "Successfully obtained tweets of user 714957620017307648\n",
      "Successfully obtained tweets of user 714631576617938945\n",
      "Successfully obtained tweets of user 714606013974974464\n",
      "Successfully obtained tweets of user 714485234495041536\n",
      "Successfully obtained tweets of user 714258258790387713\n",
      "Successfully obtained tweets of user 714251586676113411\n",
      "Successfully obtained tweets of user 714214115368108032\n",
      "Successfully obtained tweets of user 714141408463036416\n",
      "Successfully obtained tweets of user 713919462244790272\n",
      "Successfully obtained tweets of user 713909862279876608\n",
      "Successfully obtained tweets of user 713900603437621249\n",
      "Successfully obtained tweets of user 713761197720473600\n",
      "Successfully obtained tweets of user 713411074226274305\n",
      "Successfully obtained tweets of user 713177543487135744\n",
      "Successfully obtained tweets of user 713175907180089344\n",
      "Successfully obtained tweets of user 712809025985978368\n",
      "Successfully obtained tweets of user 712717840512598017\n",
      "Successfully obtained tweets of user 712668654853337088\n",
      "Successfully obtained tweets of user 712438159032893441\n",
      "Successfully obtained tweets of user 712309440758808576\n",
      "Successfully obtained tweets of user 712097430750289920\n",
      "Successfully obtained tweets of user 712092745624633345\n",
      "Successfully obtained tweets of user 712085617388212225\n",
      "Successfully obtained tweets of user 712065007010385924\n",
      "Successfully obtained tweets of user 711998809858043904\n",
      "Successfully obtained tweets of user 711968124745228288\n",
      "Successfully obtained tweets of user 711743778164514816\n",
      "Successfully obtained tweets of user 711732680602345472\n",
      "Successfully obtained tweets of user 711694788429553666\n",
      "Successfully obtained tweets of user 711652651650457602\n",
      "Successfully obtained tweets of user 711363825979756544\n",
      "Successfully obtained tweets of user 711306686208872448\n",
      "Successfully obtained tweets of user 711008018775851008\n",
      "Successfully obtained tweets of user 710997087345876993\n",
      "Successfully obtained tweets of user 710844581445812225\n",
      "Successfully obtained tweets of user 710833117892898816\n",
      "Successfully obtained tweets of user 710658690886586372\n",
      "Successfully obtained tweets of user 710609963652087808\n",
      "Successfully obtained tweets of user 710588934686908417\n",
      "Successfully obtained tweets of user 710296729921429505\n",
      "Successfully obtained tweets of user 710283270106132480\n",
      "Successfully obtained tweets of user 710272297844797440\n",
      "Successfully obtained tweets of user 710269109699739648\n",
      "Successfully obtained tweets of user 710153181850935296\n",
      "Successfully obtained tweets of user 710140971284037632\n",
      "Successfully obtained tweets of user 710117014656950272\n",
      "Successfully obtained tweets of user 709918798883774466\n",
      "Successfully obtained tweets of user 709901256215666688\n",
      "Successfully obtained tweets of user 709852847387627521\n",
      "Successfully obtained tweets of user 709566166965075968\n",
      "Successfully obtained tweets of user 709556954897764353\n",
      "Successfully obtained tweets of user 709519240576036864\n",
      "Successfully obtained tweets of user 709449600415961088\n",
      "Successfully obtained tweets of user 709409458133323776\n",
      "Successfully obtained tweets of user 709225125749587968\n",
      "Successfully obtained tweets of user 709207347839836162\n",
      "Successfully obtained tweets of user 709198395643068416\n",
      "Successfully obtained tweets of user 709179584944730112\n",
      "Successfully obtained tweets of user 709158332880297985\n",
      "Successfully obtained tweets of user 709042156699303936\n",
      "Successfully obtained tweets of user 708853462201716736\n",
      "Successfully obtained tweets of user 708845821941387268\n",
      "Successfully obtained tweets of user 708834316713893888\n",
      "Successfully obtained tweets of user 708810915978854401\n",
      "Successfully obtained tweets of user 708738143638450176\n",
      "Successfully obtained tweets of user 708711088997666817\n",
      "Successfully obtained tweets of user 708479650088034305\n",
      "Successfully obtained tweets of user 708469915515297792\n",
      "Successfully obtained tweets of user 708400866336894977\n",
      "Successfully obtained tweets of user 708356463048204288\n",
      "Successfully obtained tweets of user 708349470027751425\n",
      "Successfully obtained tweets of user 708149363256774660\n",
      "Successfully obtained tweets of user 708130923141795840\n",
      "Successfully obtained tweets of user 708119489313951744\n",
      "Successfully obtained tweets of user 708109389455101952\n",
      "Successfully obtained tweets of user 708026248782585858\n",
      "Successfully obtained tweets of user 707995814724026368\n",
      "Successfully obtained tweets of user 707983188426153984\n",
      "Successfully obtained tweets of user 707969809498152960\n",
      "Successfully obtained tweets of user 707776935007539200\n",
      "Successfully obtained tweets of user 707741517457260545\n",
      "Successfully obtained tweets of user 707738799544082433\n",
      "Successfully obtained tweets of user 707693576495472641\n",
      "Successfully obtained tweets of user 707629649552134146\n",
      "Successfully obtained tweets of user 707610948723478529\n",
      "Successfully obtained tweets of user 707420581654872064\n",
      "Successfully obtained tweets of user 707411934438625280\n",
      "Successfully obtained tweets of user 707387676719185920\n",
      "Successfully obtained tweets of user 707377100785885184\n",
      "Successfully obtained tweets of user 707315916783140866\n",
      "Successfully obtained tweets of user 707297311098011648\n",
      "Successfully obtained tweets of user 707059547140169728\n",
      "Successfully obtained tweets of user 707038192327901184\n",
      "Successfully obtained tweets of user 707021089608753152\n",
      "Successfully obtained tweets of user 707014260413456384\n",
      "Successfully obtained tweets of user 706904523814649856\n",
      "Successfully obtained tweets of user 706901761596989440\n",
      "Successfully obtained tweets of user 706681918348251136\n",
      "Successfully obtained tweets of user 706644897839910912\n",
      "Successfully obtained tweets of user 706593038911545345\n",
      "Successfully obtained tweets of user 706538006853918722\n",
      "Successfully obtained tweets of user 706516534877929472\n",
      "Successfully obtained tweets of user 706346369204748288\n",
      "Successfully obtained tweets of user 706310011488698368\n",
      "Successfully obtained tweets of user 706291001778950144\n",
      "Successfully obtained tweets of user 706265994973601792\n",
      "Successfully obtained tweets of user 706169069255446529\n",
      "Successfully obtained tweets of user 706166467411222528\n",
      "Successfully obtained tweets of user 706153300320784384\n",
      "Successfully obtained tweets of user 705975130514706432\n",
      "Successfully obtained tweets of user 705970349788291072\n",
      "Successfully obtained tweets of user 705898680587526145\n",
      "Successfully obtained tweets of user 705786532653883392\n",
      "Successfully obtained tweets of user 705591895322394625\n",
      "Successfully obtained tweets of user 705475953783398401\n",
      "Successfully obtained tweets of user 705442520700944385\n",
      "Successfully obtained tweets of user 705428427625635840\n",
      "Successfully obtained tweets of user 705239209544720384\n",
      "Successfully obtained tweets of user 705223444686888960\n",
      "Successfully obtained tweets of user 705102439679201280\n",
      "Successfully obtained tweets of user 705066031337840642\n",
      "Successfully obtained tweets of user 704871453724954624\n",
      "Successfully obtained tweets of user 704859558691414016\n",
      "Successfully obtained tweets of user 704847917308362754\n"
     ]
    },
    {
     "name": "stdout",
     "output_type": "stream",
     "text": [
      "Successfully obtained tweets of user 704819833553219584\n",
      "Successfully obtained tweets of user 704761120771465216\n",
      "Successfully obtained tweets of user 704499785726889984\n",
      "Successfully obtained tweets of user 704491224099647488\n",
      "Successfully obtained tweets of user 704480331685040129\n",
      "Successfully obtained tweets of user 704364645503647744\n",
      "Successfully obtained tweets of user 704347321748819968\n",
      "Successfully obtained tweets of user 704134088924532736\n",
      "Successfully obtained tweets of user 704113298707505153\n",
      "Successfully obtained tweets of user 704054845121142784\n",
      "Successfully obtained tweets of user 703774238772166656\n",
      "Successfully obtained tweets of user 703769065844768768\n",
      "Successfully obtained tweets of user 703631701117943808\n",
      "Successfully obtained tweets of user 703611486317502464\n",
      "Successfully obtained tweets of user 703425003149250560\n",
      "Successfully obtained tweets of user 703407252292673536\n",
      "Successfully obtained tweets of user 703382836347330562\n",
      "Successfully obtained tweets of user 703356393781329922\n",
      "Successfully obtained tweets of user 703268521220972544\n",
      "Successfully obtained tweets of user 703079050210877440\n",
      "Successfully obtained tweets of user 703041949650034688\n",
      "Successfully obtained tweets of user 702932127499816960\n",
      "Successfully obtained tweets of user 702899151802126337\n",
      "Successfully obtained tweets of user 702684942141153280\n",
      "Successfully obtained tweets of user 702671118226825216\n",
      "Successfully obtained tweets of user 702598099714314240\n",
      "Successfully obtained tweets of user 702539513671897089\n",
      "Successfully obtained tweets of user 702332542343577600\n",
      "Successfully obtained tweets of user 702321140488925184\n",
      "Successfully obtained tweets of user 702276748847800320\n",
      "Successfully obtained tweets of user 702217446468493312\n",
      "Successfully obtained tweets of user 701981390485725185\n",
      "Successfully obtained tweets of user 701952816642965504\n",
      "Successfully obtained tweets of user 701889187134500865\n",
      "Successfully obtained tweets of user 701805642395348998\n",
      "Successfully obtained tweets of user 701601587219795968\n",
      "Successfully obtained tweets of user 701570477911896070\n",
      "Successfully obtained tweets of user 701545186879471618\n",
      "Successfully obtained tweets of user 701214700881756160\n",
      "Successfully obtained tweets of user 700890391244103680\n",
      "Successfully obtained tweets of user 700864154249383937\n",
      "Successfully obtained tweets of user 700847567345688576\n",
      "Successfully obtained tweets of user 700796979434098688\n",
      "Successfully obtained tweets of user 700747788515020802\n",
      "Successfully obtained tweets of user 700518061187723268\n",
      "Successfully obtained tweets of user 700505138482569216\n",
      "Successfully obtained tweets of user 700462010979500032\n",
      "Successfully obtained tweets of user 700167517596164096\n",
      "Successfully obtained tweets of user 700151421916807169\n",
      "Successfully obtained tweets of user 700143752053182464\n",
      "Successfully obtained tweets of user 700062718104104960\n",
      "Successfully obtained tweets of user 700029284593901568\n",
      "Successfully obtained tweets of user 700002074055016451\n",
      "Successfully obtained tweets of user 699801817392291840\n",
      "Successfully obtained tweets of user 699788877217865730\n",
      "Successfully obtained tweets of user 699779630832685056\n",
      "Successfully obtained tweets of user 699775878809702401\n",
      "Successfully obtained tweets of user 699691744225525762\n",
      "Successfully obtained tweets of user 699446877801091073\n",
      "Successfully obtained tweets of user 699434518667751424\n",
      "Successfully obtained tweets of user 699423671849451520\n",
      "Successfully obtained tweets of user 699413908797464576\n",
      "Successfully obtained tweets of user 699370870310113280\n",
      "Successfully obtained tweets of user 699323444782047232\n",
      "Successfully obtained tweets of user 699088579889332224\n",
      "Successfully obtained tweets of user 699079609774645248\n",
      "Successfully obtained tweets of user 699072405256409088\n",
      "Successfully obtained tweets of user 699060279947165696\n",
      "Successfully obtained tweets of user 699036661657767936\n",
      "Successfully obtained tweets of user 698989035503689728\n",
      "Successfully obtained tweets of user 698953797952008193\n",
      "Successfully obtained tweets of user 698907974262222848\n",
      "Successfully obtained tweets of user 698710712454139905\n",
      "Successfully obtained tweets of user 698703483621523456\n",
      "Successfully obtained tweets of user 698635131305795584\n",
      "Successfully obtained tweets of user 698549713696649216\n",
      "Successfully obtained tweets of user 698355670425473025\n",
      "Successfully obtained tweets of user 698342080612007937\n",
      "Successfully obtained tweets of user 698262614669991936\n",
      "Successfully obtained tweets of user 698195409219559425\n",
      "Successfully obtained tweets of user 698178924120031232\n",
      "Successfully obtained tweets of user 697995514407682048\n",
      "Successfully obtained tweets of user 697990423684476929\n",
      "Successfully obtained tweets of user 697943111201378304\n",
      "Successfully obtained tweets of user 697881462549430272\n",
      "Successfully obtained tweets of user 697630435728322560\n",
      "Successfully obtained tweets of user 697616773278015490\n",
      "Successfully obtained tweets of user 697596423848730625\n",
      "Successfully obtained tweets of user 697575480820686848\n",
      "Successfully obtained tweets of user 697516214579523584\n",
      "Successfully obtained tweets of user 697482927769255936\n",
      "Successfully obtained tweets of user 697463031882764288\n",
      "Successfully obtained tweets of user 697270446429966336\n",
      "Successfully obtained tweets of user 697259378236399616\n",
      "Successfully obtained tweets of user 697255105972801536\n",
      "Successfully obtained tweets of user 697242256848379904\n",
      "Successfully obtained tweets of user 696900204696625153\n",
      "Successfully obtained tweets of user 696894894812565505\n",
      "Successfully obtained tweets of user 696886256886657024\n",
      "Successfully obtained tweets of user 696877980375769088\n",
      "Successfully obtained tweets of user 696754882863349760\n",
      "Successfully obtained tweets of user 696744641916489729\n",
      "Successfully obtained tweets of user 696713835009417216\n",
      "Successfully obtained tweets of user 696518437233913856\n",
      "Successfully obtained tweets of user 696490539101908992\n",
      "Successfully obtained tweets of user 696488710901260288\n",
      "Successfully obtained tweets of user 696405997980676096\n",
      "Successfully obtained tweets of user 696100768806522880\n",
      "Successfully obtained tweets of user 695816827381944320\n",
      "Successfully obtained tweets of user 695794761660297217\n",
      "Successfully obtained tweets of user 695767669421768709\n",
      "Successfully obtained tweets of user 695629776980148225\n",
      "Successfully obtained tweets of user 695446424020918272\n",
      "Successfully obtained tweets of user 695409464418041856\n",
      "Successfully obtained tweets of user 695314793360662529\n",
      "Successfully obtained tweets of user 695095422348574720\n",
      "Successfully obtained tweets of user 695074328191332352\n",
      "Successfully obtained tweets of user 695064344191721472\n",
      "Successfully obtained tweets of user 695051054296211456\n",
      "Successfully obtained tweets of user 694925794720792577\n",
      "Successfully obtained tweets of user 694905863685980160\n",
      "Successfully obtained tweets of user 694669722378485760\n",
      "Successfully obtained tweets of user 694356675654983680\n",
      "Successfully obtained tweets of user 694352839993344000\n",
      "Successfully obtained tweets of user 694342028726001664\n",
      "Successfully obtained tweets of user 694329668942569472\n",
      "Successfully obtained tweets of user 694206574471057408\n",
      "Successfully obtained tweets of user 694183373896572928\n",
      "Successfully obtained tweets of user 694001791655137281\n",
      "Successfully obtained tweets of user 693993230313091072\n",
      "Successfully obtained tweets of user 693942351086120961\n",
      "Successfully obtained tweets of user 693647888581312512\n",
      "Successfully obtained tweets of user 693644216740769793\n",
      "Successfully obtained tweets of user 693642232151285760\n",
      "Successfully obtained tweets of user 693629975228977152\n",
      "Successfully obtained tweets of user 693622659251335168\n",
      "Successfully obtained tweets of user 693590843962331137\n",
      "Successfully obtained tweets of user 693582294167244802\n",
      "Successfully obtained tweets of user 693486665285931008\n",
      "Successfully obtained tweets of user 693280720173801472\n",
      "Successfully obtained tweets of user 693267061318012928\n",
      "Successfully obtained tweets of user 693262851218264065\n",
      "Successfully obtained tweets of user 693231807727280129\n",
      "Successfully obtained tweets of user 693155686491000832\n",
      "Successfully obtained tweets of user 693109034023534592\n",
      "Successfully obtained tweets of user 693095443459342336\n",
      "Successfully obtained tweets of user 692919143163629568\n"
     ]
    },
    {
     "name": "stdout",
     "output_type": "stream",
     "text": [
      "Successfully obtained tweets of user 692905862751522816\n",
      "Successfully obtained tweets of user 692901601640583168\n",
      "Successfully obtained tweets of user 692894228850999298\n",
      "Successfully obtained tweets of user 692828166163931137\n",
      "Successfully obtained tweets of user 692752401762250755\n",
      "Successfully obtained tweets of user 692568918515392513\n",
      "Successfully obtained tweets of user 692535307825213440\n",
      "Successfully obtained tweets of user 692530551048294401\n",
      "Successfully obtained tweets of user 692423280028966913\n",
      "Successfully obtained tweets of user 692417313023332352\n",
      "Successfully obtained tweets of user 692187005137076224\n",
      "Successfully obtained tweets of user 692158366030913536\n",
      "Successfully obtained tweets of user 692142790915014657\n",
      "Successfully obtained tweets of user 692041934689402880\n",
      "Successfully obtained tweets of user 692017291282812928\n",
      "Successfully obtained tweets of user 691820333922455552\n",
      "Successfully obtained tweets of user 691793053716221953\n",
      "Successfully obtained tweets of user 691756958957883396\n",
      "Successfully obtained tweets of user 691675652215414786\n",
      "Successfully obtained tweets of user 691483041324204033\n",
      "Successfully obtained tweets of user 691459709405118465\n",
      "Successfully obtained tweets of user 691444869282295808\n",
      "Successfully obtained tweets of user 691416866452082688\n",
      "Successfully obtained tweets of user 691321916024623104\n",
      "Successfully obtained tweets of user 691096613310316544\n",
      "Successfully obtained tweets of user 691090071332753408\n",
      "Successfully obtained tweets of user 690989312272396288\n",
      "Successfully obtained tweets of user 690959652130045952\n",
      "Successfully obtained tweets of user 690938899477221376\n",
      "Successfully obtained tweets of user 690932576555528194\n",
      "Successfully obtained tweets of user 690735892932222976\n",
      "Successfully obtained tweets of user 690728923253055490\n",
      "Successfully obtained tweets of user 690690673629138944\n",
      "Successfully obtained tweets of user 690649993829576704\n",
      "Successfully obtained tweets of user 690607260360429569\n",
      "Successfully obtained tweets of user 690597161306841088\n",
      "Successfully obtained tweets of user 690400367696297985\n",
      "Successfully obtained tweets of user 690374419777196032\n",
      "Successfully obtained tweets of user 690360449368465409\n",
      "Successfully obtained tweets of user 690348396616552449\n",
      "Successfully obtained tweets of user 690248561355657216\n",
      "Successfully obtained tweets of user 690021994562220032\n",
      "Successfully obtained tweets of user 690015576308211712\n",
      "Successfully obtained tweets of user 690005060500217858\n",
      "Successfully obtained tweets of user 689999384604450816\n",
      "Successfully obtained tweets of user 689993469801164801\n",
      "Successfully obtained tweets of user 689977555533848577\n",
      "Successfully obtained tweets of user 689905486972461056\n",
      "Successfully obtained tweets of user 689877686181715968\n",
      "Successfully obtained tweets of user 689835978131935233\n",
      "Successfully obtained tweets of user 689661964914655233\n",
      "Successfully obtained tweets of user 689659372465688576\n",
      "Successfully obtained tweets of user 689623661272240129\n",
      "Successfully obtained tweets of user 689599056876867584\n",
      "Successfully obtained tweets of user 689557536375177216\n",
      "Successfully obtained tweets of user 689517482558820352\n",
      "Successfully obtained tweets of user 689289219123089408\n",
      "Successfully obtained tweets of user 689283819090870273\n",
      "Successfully obtained tweets of user 689280876073582592\n",
      "Successfully obtained tweets of user 689275259254616065\n",
      "Successfully obtained tweets of user 689255633275777024\n",
      "Successfully obtained tweets of user 689154315265683456\n",
      "Successfully obtained tweets of user 689143371370250240\n",
      "Successfully obtained tweets of user 688916208532455424\n",
      "Successfully obtained tweets of user 688908934925697024\n",
      "Successfully obtained tweets of user 688898160958271489\n",
      "Successfully obtained tweets of user 688894073864884227\n",
      "Successfully obtained tweets of user 688828561667567616\n",
      "Successfully obtained tweets of user 688804835492233216\n",
      "Successfully obtained tweets of user 688789766343622656\n",
      "Successfully obtained tweets of user 688547210804498433\n",
      "Successfully obtained tweets of user 688519176466644993\n",
      "Successfully obtained tweets of user 688385280030670848\n",
      "Successfully obtained tweets of user 688211956440801280\n",
      "Successfully obtained tweets of user 688179443353796608\n",
      "Successfully obtained tweets of user 688116655151435777\n",
      "Successfully obtained tweets of user 688064179421470721\n",
      "Successfully obtained tweets of user 687841446767013888\n",
      "Successfully obtained tweets of user 687826841265172480\n",
      "Successfully obtained tweets of user 687818504314159109\n",
      "Successfully obtained tweets of user 687807801670897665\n",
      "Successfully obtained tweets of user 687732144991551489\n",
      "Successfully obtained tweets of user 687704180304273409\n",
      "Successfully obtained tweets of user 687664829264453632\n",
      "Successfully obtained tweets of user 687494652870668288\n",
      "Successfully obtained tweets of user 687480748861947905\n",
      "Successfully obtained tweets of user 687476254459715584\n",
      "Successfully obtained tweets of user 687460506001633280\n",
      "Successfully obtained tweets of user 687399393394311168\n",
      "Successfully obtained tweets of user 687317306314240000\n",
      "Successfully obtained tweets of user 687312378585812992\n",
      "Successfully obtained tweets of user 687127927494963200\n",
      "Successfully obtained tweets of user 687124485711986689\n",
      "Successfully obtained tweets of user 687109925361856513\n",
      "Successfully obtained tweets of user 687102708889812993\n",
      "Successfully obtained tweets of user 687096057537363968\n",
      "Successfully obtained tweets of user 686947101016735744\n",
      "Successfully obtained tweets of user 686760001961103360\n",
      "Successfully obtained tweets of user 686749460672679938\n",
      "Successfully obtained tweets of user 686730991906516992\n",
      "Successfully obtained tweets of user 686683045143953408\n",
      "Successfully obtained tweets of user 686618349602762752\n",
      "Successfully obtained tweets of user 686606069955735556\n",
      "Successfully obtained tweets of user 686394059078897668\n",
      "Successfully obtained tweets of user 686386521809772549\n",
      "Successfully obtained tweets of user 686377065986265092\n",
      "Successfully obtained tweets of user 686358356425093120\n",
      "Successfully obtained tweets of user 686286779679375361\n",
      "Successfully obtained tweets of user 686050296934563840\n",
      "Successfully obtained tweets of user 686035780142297088\n",
      "Successfully obtained tweets of user 686034024800862208\n",
      "Successfully obtained tweets of user 686007916130873345\n",
      "Successfully obtained tweets of user 686003207160610816\n",
      "Successfully obtained tweets of user 685973236358713344\n",
      "Successfully obtained tweets of user 685943807276412928\n",
      "Successfully obtained tweets of user 685906723014619143\n",
      "Successfully obtained tweets of user 685681090388975616\n",
      "Successfully obtained tweets of user 685667379192414208\n",
      "Successfully obtained tweets of user 685663452032069632\n",
      "Successfully obtained tweets of user 685641971164143616\n",
      "Successfully obtained tweets of user 685547936038666240\n",
      "Successfully obtained tweets of user 685532292383666176\n",
      "Successfully obtained tweets of user 685325112850124800\n",
      "Successfully obtained tweets of user 685321586178670592\n",
      "Successfully obtained tweets of user 685315239903100929\n",
      "Successfully obtained tweets of user 685307451701334016\n",
      "Successfully obtained tweets of user 685268753634967552\n",
      "Successfully obtained tweets of user 685198997565345792\n",
      "Successfully obtained tweets of user 685169283572338688\n",
      "Successfully obtained tweets of user 684969860808454144\n",
      "Successfully obtained tweets of user 684959798585110529\n",
      "Successfully obtained tweets of user 684940049151070208\n",
      "Successfully obtained tweets of user 684926975086034944\n",
      "Successfully obtained tweets of user 684914660081053696\n",
      "Successfully obtained tweets of user 684902183876321280\n",
      "Successfully obtained tweets of user 684880619965411328\n",
      "Successfully obtained tweets of user 684830982659280897\n",
      "Successfully obtained tweets of user 684800227459624960\n",
      "Successfully obtained tweets of user 684594889858887680\n",
      "Successfully obtained tweets of user 684588130326986752\n",
      "Successfully obtained tweets of user 684567543613382656\n",
      "Successfully obtained tweets of user 684538444857667585\n",
      "Successfully obtained tweets of user 684481074559381504\n",
      "Successfully obtained tweets of user 684460069371654144\n",
      "Successfully obtained tweets of user 684241637099323392\n",
      "Successfully obtained tweets of user 684225744407494656\n",
      "Successfully obtained tweets of user 684222868335505415\n"
     ]
    },
    {
     "name": "stdout",
     "output_type": "stream",
     "text": [
      "Successfully obtained tweets of user 684200372118904832\n",
      "Successfully obtained tweets of user 684195085588783105\n",
      "Successfully obtained tweets of user 684188786104872960\n",
      "Successfully obtained tweets of user 684177701129875456\n",
      "Successfully obtained tweets of user 684147889187209216\n",
      "Successfully obtained tweets of user 684122891630342144\n",
      "Successfully obtained tweets of user 684097758874210310\n",
      "Successfully obtained tweets of user 683857920510050305\n",
      "Successfully obtained tweets of user 683852578183077888\n",
      "Successfully obtained tweets of user 683849932751646720\n",
      "Successfully obtained tweets of user 683834909291606017\n",
      "Successfully obtained tweets of user 683828599284170753\n",
      "Successfully obtained tweets of user 683773439333797890\n",
      "Successfully obtained tweets of user 683742671509258241\n",
      "Successfully obtained tweets of user 683515932363329536\n",
      "Successfully obtained tweets of user 683498322573824003\n",
      "Successfully obtained tweets of user 683481228088049664\n",
      "Successfully obtained tweets of user 683462770029932544\n",
      "Successfully obtained tweets of user 683449695444799489\n",
      "Successfully obtained tweets of user 683391852557561860\n",
      "Successfully obtained tweets of user 683357973142474752\n",
      "Successfully obtained tweets of user 683142553609318400\n",
      "Successfully obtained tweets of user 683111407806746624\n",
      "Successfully obtained tweets of user 683098815881154561\n",
      "Successfully obtained tweets of user 683078886620553216\n",
      "Successfully obtained tweets of user 683030066213818368\n",
      "Successfully obtained tweets of user 682962037429899265\n",
      "Successfully obtained tweets of user 682808988178739200\n",
      "Successfully obtained tweets of user 682788441537560576\n",
      "Successfully obtained tweets of user 682750546109968385\n",
      "Successfully obtained tweets of user 682697186228989953\n",
      "Successfully obtained tweets of user 682662431982772225\n",
      "Successfully obtained tweets of user 682638830361513985\n",
      "Successfully obtained tweets of user 682429480204398592\n",
      "Successfully obtained tweets of user 682406705142087680\n",
      "Successfully obtained tweets of user 682393905736888321\n",
      "Successfully obtained tweets of user 682389078323662849\n",
      "Successfully obtained tweets of user 682303737705140231\n",
      "Successfully obtained tweets of user 682259524040966145\n",
      "Successfully obtained tweets of user 682242692827447297\n",
      "Successfully obtained tweets of user 682088079302213632\n",
      "Successfully obtained tweets of user 682059653698686977\n",
      "Successfully obtained tweets of user 682047327939461121\n",
      "Successfully obtained tweets of user 682032003584274432\n",
      "Successfully obtained tweets of user 682003177596559360\n",
      "Successfully obtained tweets of user 681981167097122816\n",
      "Successfully obtained tweets of user 681891461017812993\n",
      "Successfully obtained tweets of user 681694085539872773\n",
      "Successfully obtained tweets of user 681679526984871937\n",
      "Successfully obtained tweets of user 681654059175129088\n",
      "Successfully obtained tweets of user 681610798867845120\n",
      "Successfully obtained tweets of user 681579835668455424\n",
      "Successfully obtained tweets of user 681523177663676416\n",
      "Successfully obtained tweets of user 681340665377193984\n",
      "Successfully obtained tweets of user 681339448655802368\n",
      "Successfully obtained tweets of user 681320187870711809\n",
      "Successfully obtained tweets of user 681302363064414209\n",
      "Successfully obtained tweets of user 681297372102656000\n",
      "Successfully obtained tweets of user 681281657291280384\n",
      "Successfully obtained tweets of user 681261549936340994\n",
      "Successfully obtained tweets of user 681242418453299201\n",
      "Successfully obtained tweets of user 681231109724700672\n",
      "Successfully obtained tweets of user 681193455364796417\n",
      "Successfully obtained tweets of user 680970795137544192\n",
      "Successfully obtained tweets of user 680959110691590145\n",
      "Successfully obtained tweets of user 680940246314430465\n",
      "Successfully obtained tweets of user 680934982542561280\n",
      "Successfully obtained tweets of user 680913438424612864\n",
      "Successfully obtained tweets of user 680889648562991104\n",
      "Successfully obtained tweets of user 680836378243002368\n",
      "Successfully obtained tweets of user 680805554198020098\n",
      "Successfully obtained tweets of user 680801747103793152\n",
      "Successfully obtained tweets of user 680798457301471234\n",
      "Successfully obtained tweets of user 680609293079592961\n",
      "Successfully obtained tweets of user 680583894916304897\n",
      "Successfully obtained tweets of user 680497766108381184\n",
      "Successfully obtained tweets of user 680494726643068929\n",
      "Successfully obtained tweets of user 680473011644985345\n",
      "Successfully obtained tweets of user 680440374763077632\n",
      "Successfully obtained tweets of user 680221482581123072\n",
      "Successfully obtained tweets of user 680206703334408192\n",
      "Successfully obtained tweets of user 680191257256136705\n",
      "Successfully obtained tweets of user 680176173301628928\n",
      "Successfully obtained tweets of user 680161097740095489\n",
      "Successfully obtained tweets of user 680145970311643136\n",
      "Successfully obtained tweets of user 680130881361686529\n",
      "Successfully obtained tweets of user 680115823365742593\n",
      "Successfully obtained tweets of user 680100725817409536\n",
      "Successfully obtained tweets of user 680085611152338944\n",
      "Successfully obtained tweets of user 680070545539371008\n",
      "Successfully obtained tweets of user 680055455951884288\n",
      "Successfully obtained tweets of user 679877062409191424\n",
      "Successfully obtained tweets of user 679872969355714560\n",
      "Successfully obtained tweets of user 679862121895714818\n",
      "Successfully obtained tweets of user 679854723806179328\n",
      "Successfully obtained tweets of user 679844490799091713\n",
      "Successfully obtained tweets of user 679828447187857408\n",
      "Successfully obtained tweets of user 679777920601223168\n",
      "Successfully obtained tweets of user 679736210798047232\n",
      "Successfully obtained tweets of user 679729593985699840\n",
      "Successfully obtained tweets of user 679722016581222400\n",
      "Successfully obtained tweets of user 679530280114372609\n",
      "Successfully obtained tweets of user 679527802031484928\n",
      "Successfully obtained tweets of user 679511351870550016\n",
      "Successfully obtained tweets of user 679503373272485890\n",
      "Successfully obtained tweets of user 679475951516934144\n",
      "Successfully obtained tweets of user 679462823135686656\n",
      "Successfully obtained tweets of user 679405845277462528\n",
      "Successfully obtained tweets of user 679158373988876288\n",
      "Successfully obtained tweets of user 679148763231985668\n",
      "Successfully obtained tweets of user 679132435750195208\n",
      "Successfully obtained tweets of user 679111216690831360\n",
      "Successfully obtained tweets of user 679062614270468097\n",
      "Successfully obtained tweets of user 679047485189439488\n",
      "Successfully obtained tweets of user 679001094530465792\n",
      "Successfully obtained tweets of user 678991772295516161\n",
      "Successfully obtained tweets of user 678969228704284672\n",
      "Successfully obtained tweets of user 678800283649069056\n",
      "Successfully obtained tweets of user 678798276842360832\n",
      "Successfully obtained tweets of user 678774928607469569\n",
      "Successfully obtained tweets of user 678767140346941444\n",
      "Successfully obtained tweets of user 678764513869611008\n",
      "Successfully obtained tweets of user 678755239630127104\n",
      "Successfully obtained tweets of user 678740035362037760\n",
      "Successfully obtained tweets of user 678708137298427904\n",
      "Successfully obtained tweets of user 678675843183484930\n",
      "Successfully obtained tweets of user 678643457146150913\n",
      "Successfully obtained tweets of user 678446151570427904\n",
      "Successfully obtained tweets of user 678424312106393600\n",
      "Successfully obtained tweets of user 678410210315247616\n",
      "Successfully obtained tweets of user 678399652199309312\n",
      "Successfully obtained tweets of user 678396796259975168\n",
      "Successfully obtained tweets of user 678389028614488064\n",
      "Successfully obtained tweets of user 678380236862578688\n",
      "Successfully obtained tweets of user 678341075375947776\n",
      "Successfully obtained tweets of user 678334497360859136\n",
      "Successfully obtained tweets of user 678278586130948096\n",
      "Successfully obtained tweets of user 678255464182861824\n",
      "Successfully obtained tweets of user 678023323247357953\n",
      "Successfully obtained tweets of user 678021115718029313\n",
      "Successfully obtained tweets of user 677961670166224897\n",
      "Successfully obtained tweets of user 677918531514703872\n",
      "Successfully obtained tweets of user 677895101218201600\n",
      "Successfully obtained tweets of user 677716515794329600\n",
      "Successfully obtained tweets of user 677700003327029250\n",
      "Successfully obtained tweets of user 677698403548192770\n",
      "Successfully obtained tweets of user 677687604918272002\n"
     ]
    },
    {
     "name": "stdout",
     "output_type": "stream",
     "text": [
      "Successfully obtained tweets of user 677673981332312066\n",
      "Successfully obtained tweets of user 677662372920729601\n",
      "Successfully obtained tweets of user 677644091929329666\n",
      "Successfully obtained tweets of user 677573743309385728\n",
      "Successfully obtained tweets of user 677565715327688705\n",
      "Successfully obtained tweets of user 677557565589463040\n",
      "Successfully obtained tweets of user 677547928504967168\n",
      "Successfully obtained tweets of user 677530072887205888\n",
      "Successfully obtained tweets of user 677335745548390400\n",
      "Successfully obtained tweets of user 677334615166730240\n",
      "Successfully obtained tweets of user 677331501395156992\n",
      "Successfully obtained tweets of user 677328882937298944\n",
      "Successfully obtained tweets of user 677314812125323265\n",
      "Successfully obtained tweets of user 677301033169788928\n",
      "Successfully obtained tweets of user 677269281705472000\n",
      "Successfully obtained tweets of user 677228873407442944\n",
      "Successfully obtained tweets of user 677187300187611136\n"
     ]
    },
    {
     "name": "stderr",
     "output_type": "stream",
     "text": [
      "Rate limit reached. Sleeping for: 661\n"
     ]
    },
    {
     "name": "stdout",
     "output_type": "stream",
     "text": [
      "Successfully obtained tweets of user 676975532580409345\n",
      "Successfully obtained tweets of user 676957860086095872\n",
      "Successfully obtained tweets of user 676949632774234114\n",
      "Successfully obtained tweets of user 676948236477857792\n",
      "Successfully obtained tweets of user 676946864479084545\n",
      "Successfully obtained tweets of user 676942428000112642\n",
      "Successfully obtained tweets of user 676936541936185344\n",
      "Successfully obtained tweets of user 676916996760600576\n",
      "Successfully obtained tweets of user 676897532954456065\n",
      "Successfully obtained tweets of user 676864501615042560\n",
      "Successfully obtained tweets of user 676821958043033607\n",
      "Successfully obtained tweets of user 676819651066732545\n",
      "Successfully obtained tweets of user 676811746707918848\n",
      "Successfully obtained tweets of user 676776431406465024\n",
      "Successfully obtained tweets of user 676617503762681856\n",
      "Successfully obtained tweets of user 676613908052996102\n",
      "Successfully obtained tweets of user 676606785097199616\n",
      "Successfully obtained tweets of user 676603393314578432\n",
      "Successfully obtained tweets of user 676593408224403456\n",
      "Successfully obtained tweets of user 676590572941893632\n",
      "Successfully obtained tweets of user 676588346097852417\n",
      "Successfully obtained tweets of user 676582956622721024\n",
      "Successfully obtained tweets of user 676575501977128964\n",
      "Successfully obtained tweets of user 676533798876651520\n",
      "Successfully obtained tweets of user 676496375194980353\n",
      "Successfully obtained tweets of user 676470639084101634\n",
      "Successfully obtained tweets of user 676440007570247681\n",
      "Successfully obtained tweets of user 676430933382295552\n",
      "Successfully obtained tweets of user 676263575653122048\n",
      "Successfully obtained tweets of user 676237365392908289\n",
      "Successfully obtained tweets of user 676219687039057920\n",
      "Successfully obtained tweets of user 676215927814406144\n",
      "Successfully obtained tweets of user 676191832485810177\n",
      "Successfully obtained tweets of user 676146341966438401\n",
      "Successfully obtained tweets of user 676121918416756736\n",
      "Successfully obtained tweets of user 676101918813499392\n",
      "Successfully obtained tweets of user 676098748976615425\n",
      "Successfully obtained tweets of user 676089483918516224\n",
      "Successfully obtained tweets of user 675898130735476737\n",
      "Successfully obtained tweets of user 675891555769696257\n",
      "Successfully obtained tweets of user 675888385639251968\n",
      "Successfully obtained tweets of user 675878199931371520\n",
      "Successfully obtained tweets of user 675870721063669760\n",
      "Successfully obtained tweets of user 675853064436391936\n",
      "Successfully obtained tweets of user 675849018447167488\n",
      "Successfully obtained tweets of user 675845657354215424\n",
      "Successfully obtained tweets of user 675822767435051008\n",
      "Successfully obtained tweets of user 675820929667219457\n",
      "Successfully obtained tweets of user 675798442703122432\n",
      "Successfully obtained tweets of user 675781562965868544\n",
      "Successfully obtained tweets of user 675740360753160193\n",
      "Successfully obtained tweets of user 675710890956750848\n",
      "Successfully obtained tweets of user 675707330206547968\n",
      "Successfully obtained tweets of user 675706639471788032\n",
      "Successfully obtained tweets of user 675534494439489536\n",
      "Successfully obtained tweets of user 675531475945709568\n",
      "Successfully obtained tweets of user 675522403582218240\n",
      "Successfully obtained tweets of user 675517828909424640\n",
      "Successfully obtained tweets of user 675501075957489664\n",
      "Successfully obtained tweets of user 675497103322386432\n",
      "Successfully obtained tweets of user 675489971617296384\n",
      "Successfully obtained tweets of user 675483430902214656\n",
      "Successfully obtained tweets of user 675432746517426176\n",
      "Successfully obtained tweets of user 675372240448454658\n",
      "Successfully obtained tweets of user 675362609739206656\n",
      "Successfully obtained tweets of user 675354435921575936\n",
      "Successfully obtained tweets of user 675349384339542016\n",
      "Successfully obtained tweets of user 675334060156301312\n",
      "Successfully obtained tweets of user 675166823650848770\n",
      "Successfully obtained tweets of user 675153376133427200\n",
      "Successfully obtained tweets of user 675149409102012420\n",
      "Successfully obtained tweets of user 675147105808306176\n",
      "Successfully obtained tweets of user 675146535592706048\n",
      "Successfully obtained tweets of user 675145476954566656\n",
      "Successfully obtained tweets of user 675135153782571009\n",
      "Successfully obtained tweets of user 675113801096802304\n",
      "Successfully obtained tweets of user 675111688094527488\n",
      "Successfully obtained tweets of user 675109292475830276\n",
      "Successfully obtained tweets of user 675047298674663426\n",
      "Successfully obtained tweets of user 675015141583413248\n",
      "Successfully obtained tweets of user 675006312288268288\n",
      "Successfully obtained tweets of user 675003128568291329\n",
      "Successfully obtained tweets of user 674999807681908736\n",
      "Successfully obtained tweets of user 674805413498527744\n",
      "Successfully obtained tweets of user 674800520222154752\n",
      "Successfully obtained tweets of user 674793399141146624\n",
      "Successfully obtained tweets of user 674790488185167872\n",
      "Successfully obtained tweets of user 674788554665512960\n",
      "Successfully obtained tweets of user 674781762103414784\n",
      "Successfully obtained tweets of user 674774481756377088\n",
      "Successfully obtained tweets of user 674767892831932416\n",
      "Successfully obtained tweets of user 674764817387900928\n",
      "Successfully obtained tweets of user 674754018082705410\n",
      "Successfully obtained tweets of user 674752233200820224\n",
      "Successfully obtained tweets of user 674743008475090944\n",
      "Successfully obtained tweets of user 674742531037511680\n",
      "Successfully obtained tweets of user 674739953134403584\n",
      "Successfully obtained tweets of user 674737130913071104\n",
      "Successfully obtained tweets of user 674690135443775488\n",
      "Successfully obtained tweets of user 674670581682434048\n",
      "Successfully obtained tweets of user 674664755118911488\n",
      "Successfully obtained tweets of user 674646392044941312\n",
      "Successfully obtained tweets of user 674644256330530816\n",
      "Successfully obtained tweets of user 674638615994089473\n",
      "Successfully obtained tweets of user 674632714662858753\n",
      "Successfully obtained tweets of user 674606911342424069\n",
      "Successfully obtained tweets of user 674468880899788800\n",
      "Successfully obtained tweets of user 674447403907457024\n",
      "Successfully obtained tweets of user 674436901579923456\n",
      "Successfully obtained tweets of user 674422304705744896\n",
      "Successfully obtained tweets of user 674416750885273600\n",
      "Successfully obtained tweets of user 674410619106390016\n",
      "Successfully obtained tweets of user 674394782723014656\n",
      "Successfully obtained tweets of user 674372068062928900\n",
      "Successfully obtained tweets of user 674330906434379776\n",
      "Successfully obtained tweets of user 674318007229923329\n",
      "Successfully obtained tweets of user 674307341513269249\n",
      "Successfully obtained tweets of user 674291837063053312\n",
      "Successfully obtained tweets of user 674271431610523648\n",
      "Successfully obtained tweets of user 674269164442398721\n",
      "Successfully obtained tweets of user 674265582246694913\n",
      "Successfully obtained tweets of user 674262580978937856\n",
      "Successfully obtained tweets of user 674255168825880576\n",
      "Successfully obtained tweets of user 674082852460433408\n",
      "Successfully obtained tweets of user 674075285688614912\n",
      "Successfully obtained tweets of user 674063288070742018\n",
      "Successfully obtained tweets of user 674053186244734976\n",
      "Successfully obtained tweets of user 674051556661161984\n",
      "Successfully obtained tweets of user 674045139690631169\n",
      "Successfully obtained tweets of user 674042553264685056\n",
      "Successfully obtained tweets of user 674038233588723717\n",
      "Successfully obtained tweets of user 674036086168010753\n",
      "Successfully obtained tweets of user 674024893172875264\n",
      "Successfully obtained tweets of user 674019345211760640\n",
      "Successfully obtained tweets of user 674014384960745472\n",
      "Successfully obtained tweets of user 674008982932058114\n",
      "Successfully obtained tweets of user 673956914389192708\n",
      "Successfully obtained tweets of user 673919437611909120\n",
      "Successfully obtained tweets of user 673906403526995968\n",
      "Successfully obtained tweets of user 673887867907739649\n",
      "Successfully obtained tweets of user 673716320723169284\n",
      "Successfully obtained tweets of user 673715861853720576\n",
      "Successfully obtained tweets of user 673711475735838725\n",
      "Successfully obtained tweets of user 673709992831262724\n",
      "Successfully obtained tweets of user 673708611235921920\n",
      "Successfully obtained tweets of user 673707060090052608\n",
      "Successfully obtained tweets of user 673705679337693185\n"
     ]
    },
    {
     "name": "stdout",
     "output_type": "stream",
     "text": [
      "Successfully obtained tweets of user 673700254269775872\n",
      "Successfully obtained tweets of user 673697980713705472\n",
      "Successfully obtained tweets of user 673689733134946305\n",
      "Successfully obtained tweets of user 673688752737402881\n",
      "Successfully obtained tweets of user 673686845050527744\n",
      "Successfully obtained tweets of user 673680198160809984\n",
      "Successfully obtained tweets of user 673662677122719744\n",
      "Successfully obtained tweets of user 673656262056419329\n",
      "Successfully obtained tweets of user 673636718965334016\n",
      "Successfully obtained tweets of user 673612854080196609\n",
      "Successfully obtained tweets of user 673583129559498752\n",
      "Successfully obtained tweets of user 673580926094458881\n",
      "Successfully obtained tweets of user 673576835670777856\n",
      "Successfully obtained tweets of user 673363615379013632\n",
      "Successfully obtained tweets of user 673359818736984064\n",
      "Successfully obtained tweets of user 673355879178194945\n",
      "Successfully obtained tweets of user 673352124999274496\n",
      "Successfully obtained tweets of user 673350198937153538\n",
      "Successfully obtained tweets of user 673345638550134785\n",
      "Successfully obtained tweets of user 673343217010679808\n",
      "Successfully obtained tweets of user 673342308415348736\n",
      "Successfully obtained tweets of user 673320132811366400\n",
      "Successfully obtained tweets of user 673317986296586240\n",
      "Successfully obtained tweets of user 673295268553605120\n",
      "Successfully obtained tweets of user 673270968295534593\n",
      "Successfully obtained tweets of user 673240798075449344\n",
      "Successfully obtained tweets of user 673213039743795200\n",
      "Successfully obtained tweets of user 673148804208660480\n",
      "Successfully obtained tweets of user 672997845381865473\n",
      "Successfully obtained tweets of user 672995267319328768\n",
      "Successfully obtained tweets of user 672988786805112832\n",
      "Successfully obtained tweets of user 672984142909456390\n",
      "Successfully obtained tweets of user 672980819271634944\n",
      "Successfully obtained tweets of user 672975131468300288\n",
      "Successfully obtained tweets of user 672970152493887488\n",
      "Successfully obtained tweets of user 672968025906282496\n",
      "Successfully obtained tweets of user 672964561327235073\n",
      "Successfully obtained tweets of user 672902681409806336\n",
      "Successfully obtained tweets of user 672898206762672129\n",
      "Successfully obtained tweets of user 672884426393653248\n",
      "Successfully obtained tweets of user 672877615439593473\n",
      "Successfully obtained tweets of user 672834301050937345\n",
      "Successfully obtained tweets of user 672828477930868736\n",
      "Successfully obtained tweets of user 672640509974827008\n",
      "Successfully obtained tweets of user 672622327801233409\n",
      "Successfully obtained tweets of user 672614745925664768\n",
      "Successfully obtained tweets of user 672609152938721280\n",
      "Successfully obtained tweets of user 672604026190569472\n",
      "Successfully obtained tweets of user 672594978741354496\n",
      "Successfully obtained tweets of user 672591762242805761\n",
      "Successfully obtained tweets of user 672591271085670400\n",
      "Successfully obtained tweets of user 672538107540070400\n",
      "Successfully obtained tweets of user 672523490734551040\n",
      "Successfully obtained tweets of user 672488522314567680\n",
      "Successfully obtained tweets of user 672482722825261057\n",
      "Successfully obtained tweets of user 672481316919734272\n",
      "Successfully obtained tweets of user 672475084225949696\n",
      "Successfully obtained tweets of user 672466075045466113\n",
      "Successfully obtained tweets of user 672272411274932228\n",
      "Successfully obtained tweets of user 672267570918129665\n",
      "Successfully obtained tweets of user 672264251789176834\n",
      "Successfully obtained tweets of user 672256522047614977\n",
      "Successfully obtained tweets of user 672254177670729728\n",
      "Successfully obtained tweets of user 672248013293752320\n",
      "Successfully obtained tweets of user 672245253877968896\n",
      "Successfully obtained tweets of user 672239279297454080\n",
      "Successfully obtained tweets of user 672231046314901505\n",
      "Successfully obtained tweets of user 672222792075620352\n",
      "Successfully obtained tweets of user 672205392827572224\n",
      "Successfully obtained tweets of user 672169685991993344\n",
      "Successfully obtained tweets of user 672160042234327040\n",
      "Successfully obtained tweets of user 672139350159835138\n",
      "Successfully obtained tweets of user 672125275208069120\n",
      "Successfully obtained tweets of user 672095186491711488\n",
      "Successfully obtained tweets of user 672082170312290304\n",
      "Successfully obtained tweets of user 672068090318987265\n",
      "Successfully obtained tweets of user 671896809300709376\n",
      "Successfully obtained tweets of user 671891728106971137\n",
      "Successfully obtained tweets of user 671882082306625538\n",
      "Successfully obtained tweets of user 671879137494245376\n",
      "Successfully obtained tweets of user 671874878652489728\n",
      "Successfully obtained tweets of user 671866342182637568\n",
      "Successfully obtained tweets of user 671855973984772097\n",
      "Successfully obtained tweets of user 671789708968640512\n",
      "Successfully obtained tweets of user 671768281401958400\n",
      "Successfully obtained tweets of user 671763349865160704\n",
      "Successfully obtained tweets of user 671744970634719232\n",
      "Successfully obtained tweets of user 671743150407421952\n",
      "Successfully obtained tweets of user 671735591348891648\n",
      "Successfully obtained tweets of user 671729906628341761\n",
      "Successfully obtained tweets of user 671561002136281088\n",
      "Successfully obtained tweets of user 671550332464455680\n",
      "Successfully obtained tweets of user 671547767500775424\n",
      "Successfully obtained tweets of user 671544874165002241\n",
      "Successfully obtained tweets of user 671542985629241344\n",
      "Successfully obtained tweets of user 671538301157904385\n",
      "Successfully obtained tweets of user 671536543010570240\n",
      "Successfully obtained tweets of user 671533943490011136\n",
      "Successfully obtained tweets of user 671528761649688577\n",
      "Successfully obtained tweets of user 671520732782923777\n",
      "Successfully obtained tweets of user 671518598289059840\n",
      "Successfully obtained tweets of user 671511350426865664\n",
      "Successfully obtained tweets of user 671504605491109889\n",
      "Successfully obtained tweets of user 671497587707535361\n",
      "Successfully obtained tweets of user 671488513339211776\n",
      "Successfully obtained tweets of user 671486386088865792\n",
      "Successfully obtained tweets of user 671485057807351808\n",
      "Successfully obtained tweets of user 671390180817915904\n",
      "Successfully obtained tweets of user 671362598324076544\n",
      "Successfully obtained tweets of user 671357843010908160\n",
      "Successfully obtained tweets of user 671355857343524864\n",
      "Successfully obtained tweets of user 671347597085433856\n",
      "Successfully obtained tweets of user 671186162933985280\n",
      "Successfully obtained tweets of user 671182547775299584\n",
      "Successfully obtained tweets of user 671166507850801152\n",
      "Successfully obtained tweets of user 671163268581498880\n",
      "Successfully obtained tweets of user 671159727754231808\n",
      "Successfully obtained tweets of user 671154572044468225\n",
      "Successfully obtained tweets of user 671151324042559489\n",
      "Successfully obtained tweets of user 671147085991960577\n",
      "Successfully obtained tweets of user 671141549288370177\n",
      "Successfully obtained tweets of user 671138694582165504\n",
      "Successfully obtained tweets of user 671134062904504320\n",
      "Successfully obtained tweets of user 671122204919246848\n",
      "Successfully obtained tweets of user 671115716440031232\n",
      "Successfully obtained tweets of user 671109016219725825\n",
      "Successfully obtained tweets of user 670995969505435648\n",
      "Successfully obtained tweets of user 670842764863651840\n",
      "Successfully obtained tweets of user 670840546554966016\n",
      "Successfully obtained tweets of user 670838202509447168\n",
      "Successfully obtained tweets of user 670833812859932673\n",
      "Successfully obtained tweets of user 670832455012716544\n",
      "Successfully obtained tweets of user 670826280409919488\n",
      "Successfully obtained tweets of user 670823764196741120\n",
      "Successfully obtained tweets of user 670822709593571328\n",
      "Successfully obtained tweets of user 670815497391357952\n",
      "Successfully obtained tweets of user 670811965569282048\n",
      "Successfully obtained tweets of user 670807719151067136\n",
      "Successfully obtained tweets of user 670804601705242624\n",
      "Successfully obtained tweets of user 670803562457407488\n",
      "Successfully obtained tweets of user 670797304698376195\n",
      "Successfully obtained tweets of user 670792680469889025\n",
      "Successfully obtained tweets of user 670789397210615808\n",
      "Successfully obtained tweets of user 670786190031921152\n",
      "Successfully obtained tweets of user 670783437142401025\n",
      "Successfully obtained tweets of user 670782429121134593\n",
      "Successfully obtained tweets of user 670780561024270336\n"
     ]
    },
    {
     "name": "stdout",
     "output_type": "stream",
     "text": [
      "Successfully obtained tweets of user 670778058496974848\n",
      "Successfully obtained tweets of user 670764103623966721\n",
      "Successfully obtained tweets of user 670755717859713024\n",
      "Successfully obtained tweets of user 670733412878163972\n",
      "Successfully obtained tweets of user 670727704916926465\n",
      "Successfully obtained tweets of user 670717338665226240\n",
      "Successfully obtained tweets of user 670704688707301377\n",
      "Successfully obtained tweets of user 670691627984359425\n",
      "Successfully obtained tweets of user 670679630144274432\n",
      "Successfully obtained tweets of user 670676092097810432\n",
      "Successfully obtained tweets of user 670668383499735048\n",
      "Successfully obtained tweets of user 670474236058800128\n",
      "Successfully obtained tweets of user 670468609693655041\n",
      "Successfully obtained tweets of user 670465786746662913\n",
      "Successfully obtained tweets of user 670452855871037440\n",
      "Successfully obtained tweets of user 670449342516494336\n",
      "Successfully obtained tweets of user 670444955656130560\n",
      "Successfully obtained tweets of user 670442337873600512\n",
      "Successfully obtained tweets of user 670435821946826752\n",
      "Successfully obtained tweets of user 670434127938719744\n",
      "Successfully obtained tweets of user 670433248821026816\n",
      "Successfully obtained tweets of user 670428280563085312\n",
      "Successfully obtained tweets of user 670427002554466305\n",
      "Successfully obtained tweets of user 670421925039075328\n",
      "Successfully obtained tweets of user 670420569653809152\n",
      "Successfully obtained tweets of user 670417414769758208\n",
      "Successfully obtained tweets of user 670411370698022913\n",
      "Successfully obtained tweets of user 670408998013820928\n",
      "Successfully obtained tweets of user 670403879788544000\n",
      "Successfully obtained tweets of user 670385711116361728\n",
      "Successfully obtained tweets of user 670374371102445568\n",
      "Successfully obtained tweets of user 670361874861563904\n",
      "Successfully obtained tweets of user 670338931251150849\n",
      "Successfully obtained tweets of user 670319130621435904\n",
      "Successfully obtained tweets of user 670303360680108032\n",
      "Successfully obtained tweets of user 670290420111441920\n",
      "Successfully obtained tweets of user 670093938074779648\n",
      "Successfully obtained tweets of user 670086499208155136\n",
      "Successfully obtained tweets of user 670079681849372674\n",
      "Successfully obtained tweets of user 670073503555706880\n",
      "Successfully obtained tweets of user 670069087419133954\n",
      "Successfully obtained tweets of user 670061506722140161\n",
      "Successfully obtained tweets of user 670055038660800512\n",
      "Successfully obtained tweets of user 670046952931721218\n",
      "Successfully obtained tweets of user 670040295598354432\n",
      "Successfully obtained tweets of user 670037189829525505\n",
      "Successfully obtained tweets of user 670003130994700288\n",
      "Successfully obtained tweets of user 669993076832759809\n",
      "Successfully obtained tweets of user 669972011175813120\n",
      "Successfully obtained tweets of user 669970042633789440\n",
      "Successfully obtained tweets of user 669942763794931712\n",
      "Successfully obtained tweets of user 669926384437997569\n",
      "Successfully obtained tweets of user 669923323644657664\n",
      "Successfully obtained tweets of user 669753178989142016\n",
      "Successfully obtained tweets of user 669749430875258880\n",
      "Successfully obtained tweets of user 669684865554620416\n",
      "Successfully obtained tweets of user 669683899023405056\n",
      "Successfully obtained tweets of user 669682095984410625\n",
      "Successfully obtained tweets of user 669680153564442624\n",
      "Successfully obtained tweets of user 669661792646373376\n",
      "Successfully obtained tweets of user 669625907762618368\n",
      "Successfully obtained tweets of user 669603084620980224\n",
      "Successfully obtained tweets of user 669597912108789760\n",
      "Successfully obtained tweets of user 669583744538451968\n",
      "Successfully obtained tweets of user 669573570759163904\n",
      "Successfully obtained tweets of user 669571471778410496\n",
      "Successfully obtained tweets of user 669567591774625800\n",
      "Successfully obtained tweets of user 669564461267722241\n",
      "Successfully obtained tweets of user 669393256313184256\n",
      "Successfully obtained tweets of user 669375718304980992\n",
      "Successfully obtained tweets of user 669371483794317312\n",
      "Successfully obtained tweets of user 669367896104181761\n",
      "Successfully obtained tweets of user 669363888236994561\n",
      "Successfully obtained tweets of user 669359674819481600\n",
      "Successfully obtained tweets of user 669354382627049472\n",
      "Successfully obtained tweets of user 669353438988365824\n",
      "Successfully obtained tweets of user 669351434509529089\n",
      "Successfully obtained tweets of user 669328503091937280\n",
      "Successfully obtained tweets of user 669327207240699904\n",
      "Successfully obtained tweets of user 669324657376567296\n",
      "Successfully obtained tweets of user 669216679721873412\n",
      "Successfully obtained tweets of user 669214165781868544\n",
      "Successfully obtained tweets of user 669203728096960512\n",
      "Successfully obtained tweets of user 669037058363662336\n",
      "Successfully obtained tweets of user 669015743032369152\n",
      "Successfully obtained tweets of user 669006782128353280\n",
      "Successfully obtained tweets of user 669000397445533696\n",
      "Successfully obtained tweets of user 668994913074286592\n",
      "Successfully obtained tweets of user 668992363537309700\n",
      "Successfully obtained tweets of user 668989615043424256\n",
      "Successfully obtained tweets of user 668988183816871936\n",
      "Successfully obtained tweets of user 668986018524233728\n",
      "Successfully obtained tweets of user 668981893510119424\n",
      "Successfully obtained tweets of user 668979806671884288\n",
      "Successfully obtained tweets of user 668975677807423489\n",
      "Successfully obtained tweets of user 668967877119254528\n",
      "Successfully obtained tweets of user 668960084974809088\n",
      "Successfully obtained tweets of user 668955713004314625\n",
      "Successfully obtained tweets of user 668932921458302977\n",
      "Successfully obtained tweets of user 668902994700836864\n",
      "Successfully obtained tweets of user 668892474547511297\n",
      "Successfully obtained tweets of user 668872652652679168\n",
      "Successfully obtained tweets of user 668852170888998912\n",
      "Successfully obtained tweets of user 668826086256599040\n",
      "Successfully obtained tweets of user 668815180734689280\n",
      "Successfully obtained tweets of user 668779399630725120\n",
      "Successfully obtained tweets of user 668655139528511488\n",
      "Successfully obtained tweets of user 668645506898350081\n",
      "Successfully obtained tweets of user 668643542311546881\n",
      "Successfully obtained tweets of user 668641109086707712\n",
      "Successfully obtained tweets of user 668636665813057536\n",
      "Successfully obtained tweets of user 668633411083464705\n",
      "Successfully obtained tweets of user 668631377374486528\n",
      "Successfully obtained tweets of user 668627278264475648\n",
      "Successfully obtained tweets of user 668625577880875008\n",
      "Successfully obtained tweets of user 668623201287675904\n",
      "Successfully obtained tweets of user 668620235289837568\n",
      "Successfully obtained tweets of user 668614819948453888\n",
      "Successfully obtained tweets of user 668587383441514497\n",
      "Successfully obtained tweets of user 668567822092664832\n",
      "Successfully obtained tweets of user 668544745690562560\n",
      "Successfully obtained tweets of user 668542336805281792\n",
      "Successfully obtained tweets of user 668537837512433665\n",
      "Successfully obtained tweets of user 668528771708952576\n",
      "Successfully obtained tweets of user 668507509523615744\n",
      "Successfully obtained tweets of user 668496999348633600\n",
      "Successfully obtained tweets of user 668484198282485761\n",
      "Successfully obtained tweets of user 668480044826800133\n",
      "Successfully obtained tweets of user 668466899341221888\n",
      "Successfully obtained tweets of user 668297328638447616\n",
      "Successfully obtained tweets of user 668291999406125056\n",
      "Successfully obtained tweets of user 668286279830867968\n",
      "Successfully obtained tweets of user 668274247790391296\n",
      "Successfully obtained tweets of user 668268907921326080\n",
      "Successfully obtained tweets of user 668256321989451776\n",
      "Successfully obtained tweets of user 668248472370458624\n",
      "Successfully obtained tweets of user 668237644992782336\n",
      "Successfully obtained tweets of user 668226093875376128\n",
      "Successfully obtained tweets of user 668221241640230912\n",
      "Successfully obtained tweets of user 668204964695683073\n",
      "Successfully obtained tweets of user 668190681446379520\n",
      "Successfully obtained tweets of user 668171859951755264\n",
      "Successfully obtained tweets of user 668154635664932864\n",
      "Successfully obtained tweets of user 668142349051129856\n",
      "Successfully obtained tweets of user 668113020489474048\n",
      "Successfully obtained tweets of user 667937095915278337\n",
      "Successfully obtained tweets of user 667924896115245057\n"
     ]
    },
    {
     "name": "stdout",
     "output_type": "stream",
     "text": [
      "Successfully obtained tweets of user 667915453470232577\n",
      "Successfully obtained tweets of user 667911425562669056\n",
      "Successfully obtained tweets of user 667902449697558528\n",
      "Successfully obtained tweets of user 667886921285246976\n",
      "Successfully obtained tweets of user 667885044254572545\n",
      "Successfully obtained tweets of user 667878741721415682\n",
      "Successfully obtained tweets of user 667873844930215936\n",
      "Successfully obtained tweets of user 667866724293877760\n",
      "Successfully obtained tweets of user 667861340749471744\n",
      "Successfully obtained tweets of user 667832474953625600\n",
      "Successfully obtained tweets of user 667806454573760512\n",
      "Successfully obtained tweets of user 667801013445750784\n",
      "Successfully obtained tweets of user 667793409583771648\n",
      "Successfully obtained tweets of user 667782464991965184\n",
      "Successfully obtained tweets of user 667773195014021121\n",
      "Successfully obtained tweets of user 667766675769573376\n",
      "Successfully obtained tweets of user 667728196545200128\n",
      "Successfully obtained tweets of user 667724302356258817\n",
      "Successfully obtained tweets of user 667550904950915073\n",
      "Successfully obtained tweets of user 667550882905632768\n",
      "Successfully obtained tweets of user 667549055577362432\n",
      "Successfully obtained tweets of user 667546741521195010\n",
      "Successfully obtained tweets of user 667544320556335104\n",
      "Successfully obtained tweets of user 667538891197542400\n",
      "Successfully obtained tweets of user 667534815156183040\n",
      "Successfully obtained tweets of user 667530908589760512\n",
      "Successfully obtained tweets of user 667524857454854144\n",
      "Successfully obtained tweets of user 667517642048163840\n",
      "Successfully obtained tweets of user 667509364010450944\n",
      "Successfully obtained tweets of user 667502640335572993\n",
      "Successfully obtained tweets of user 667495797102141441\n",
      "Successfully obtained tweets of user 667491009379606528\n",
      "Successfully obtained tweets of user 667470559035432960\n",
      "Successfully obtained tweets of user 667455448082227200\n",
      "Successfully obtained tweets of user 667453023279554560\n",
      "Successfully obtained tweets of user 667443425659232256\n",
      "Successfully obtained tweets of user 667437278097252352\n",
      "Successfully obtained tweets of user 667435689202614272\n",
      "Successfully obtained tweets of user 667405339315146752\n",
      "Successfully obtained tweets of user 667393430834667520\n",
      "Successfully obtained tweets of user 667369227918143488\n",
      "Successfully obtained tweets of user 667211855547486208\n",
      "Successfully obtained tweets of user 667200525029539841\n",
      "Successfully obtained tweets of user 667192066997374976\n",
      "Successfully obtained tweets of user 667188689915760640\n",
      "Successfully obtained tweets of user 667182792070062081\n",
      "Successfully obtained tweets of user 667177989038297088\n",
      "Successfully obtained tweets of user 667176164155375616\n",
      "Successfully obtained tweets of user 667174963120574464\n",
      "Successfully obtained tweets of user 667171260800061440\n",
      "Successfully obtained tweets of user 667165590075940865\n",
      "Successfully obtained tweets of user 667160273090932737\n",
      "Successfully obtained tweets of user 667152164079423490\n",
      "Successfully obtained tweets of user 667138269671505920\n",
      "Successfully obtained tweets of user 667119796878725120\n",
      "Successfully obtained tweets of user 667090893657276420\n",
      "Successfully obtained tweets of user 667073648344346624\n",
      "Successfully obtained tweets of user 667070482143944705\n",
      "Successfully obtained tweets of user 667065535570550784\n",
      "Successfully obtained tweets of user 667062181243039745\n",
      "Successfully obtained tweets of user 667044094246576128\n",
      "Successfully obtained tweets of user 667012601033924608\n",
      "Successfully obtained tweets of user 666996132027977728\n",
      "Successfully obtained tweets of user 666983947667116034\n",
      "Successfully obtained tweets of user 666837028449972224\n",
      "Successfully obtained tweets of user 666835007768551424\n",
      "Successfully obtained tweets of user 666826780179869698\n",
      "Successfully obtained tweets of user 666817836334096384\n",
      "Successfully obtained tweets of user 666804364988780544\n",
      "Successfully obtained tweets of user 666786068205871104\n",
      "Successfully obtained tweets of user 666781792255496192\n",
      "Successfully obtained tweets of user 666776908487630848\n",
      "Successfully obtained tweets of user 666739327293083650\n",
      "Successfully obtained tweets of user 666701168228331520\n",
      "Successfully obtained tweets of user 666691418707132416\n",
      "Successfully obtained tweets of user 666649482315059201\n",
      "Successfully obtained tweets of user 666644823164719104\n",
      "Successfully obtained tweets of user 666454714377183233\n",
      "Successfully obtained tweets of user 666447344410484738\n",
      "Successfully obtained tweets of user 666437273139982337\n",
      "Successfully obtained tweets of user 666435652385423360\n",
      "Successfully obtained tweets of user 666430724426358785\n",
      "Successfully obtained tweets of user 666428276349472768\n",
      "Successfully obtained tweets of user 666421158376562688\n",
      "Successfully obtained tweets of user 666418789513326592\n",
      "Successfully obtained tweets of user 666411507551481857\n",
      "Successfully obtained tweets of user 666407126856765440\n",
      "Successfully obtained tweets of user 666396247373291520\n",
      "Successfully obtained tweets of user 666373753744588802\n",
      "Successfully obtained tweets of user 666362758909284353\n",
      "Successfully obtained tweets of user 666353288456101888\n",
      "Successfully obtained tweets of user 666345417576210432\n",
      "Successfully obtained tweets of user 666337882303524864\n",
      "Successfully obtained tweets of user 666293911632134144\n",
      "Successfully obtained tweets of user 666287406224695296\n",
      "Successfully obtained tweets of user 666273097616637952\n",
      "Successfully obtained tweets of user 666268910803644416\n",
      "Successfully obtained tweets of user 666104133288665088\n",
      "Successfully obtained tweets of user 666102155909144576\n",
      "Successfully obtained tweets of user 666099513787052032\n",
      "Successfully obtained tweets of user 666094000022159362\n",
      "Successfully obtained tweets of user 666082916733198337\n",
      "Successfully obtained tweets of user 666073100786774016\n",
      "Successfully obtained tweets of user 666071193221509120\n",
      "Successfully obtained tweets of user 666063827256086533\n",
      "Successfully obtained tweets of user 666058600524156928\n",
      "Successfully obtained tweets of user 666057090499244032\n",
      "Successfully obtained tweets of user 666055525042405380\n",
      "Successfully obtained tweets of user 666051853826850816\n",
      "Successfully obtained tweets of user 666050758794694657\n",
      "Successfully obtained tweets of user 666049248165822465\n",
      "Successfully obtained tweets of user 666044226329800704\n",
      "Successfully obtained tweets of user 666033412701032449\n",
      "Successfully obtained tweets of user 666029285002620928\n",
      "Successfully obtained tweets of user 666020888022790149\n"
     ]
    }
   ],
   "source": [
    "import json\n",
    "success_ids=[]\n",
    "error_ids=[]\n",
    "with open('tweet_json.txt', 'w') as outfile:\n",
    "    for id in archive['tweet_id']:\n",
    "        try:\n",
    "            tweet=api.get_status(id, tweet_mode='extended',\n",
    "                                wait_on_rate_limit=True,\n",
    "                                wait_on_rate_limit_notify=True)\n",
    "            json.dump(tweet._json, outfile)\n",
    "            outfile.write('\\n')\n",
    "            success_ids.append(id)\n",
    "            print('Successfully obtained tweets of user {}'.format(id))\n",
    "        except Exception as e: \n",
    "            error={}\n",
    "            error['error message']=e\n",
    "            error['tweet_id']=id\n",
    "            error_ids.append(error) \n",
    "error_ids=pd.DataFrame(error_ids)\n",
    "error_ids.to_csv('error_ids.csv', index=False)"
   ]
  },
  {
   "cell_type": "markdown",
   "metadata": {},
   "source": [
    "read tweet_jason.txt and convert it into pandas dataframe more_info"
   ]
  },
  {
   "cell_type": "code",
   "execution_count": 5,
   "metadata": {
    "scrolled": false
   },
   "outputs": [],
   "source": [
    "more_info=[]\n",
    "with open('tweet_json.txt', 'r') as infile:\n",
    "    for line in infile:\n",
    "        f=json.loads(line)\n",
    "        more_info.append(f)\n",
    "        #f=json.loads(infile.readlines()[:-1])\n",
    "more_info=pd.DataFrame(more_info)\n",
    "more_info.to_csv('more_info.csv', index=False)"
   ]
  },
  {
   "cell_type": "code",
   "execution_count": 6,
   "metadata": {
    "scrolled": false
   },
   "outputs": [
    {
     "data": {
      "text/plain": [
       "(2342, 32)"
      ]
     },
     "execution_count": 6,
     "metadata": {},
     "output_type": "execute_result"
    }
   ],
   "source": [
    "more_info.shape"
   ]
  },
  {
   "cell_type": "code",
   "execution_count": 9,
   "metadata": {},
   "outputs": [],
   "source": [
    "error_ids=pd.read_csv('error_ids.csv')"
   ]
  },
  {
   "cell_type": "code",
   "execution_count": 10,
   "metadata": {
    "scrolled": false
   },
   "outputs": [
    {
     "data": {
      "text/html": [
       "<div>\n",
       "<style scoped>\n",
       "    .dataframe tbody tr th:only-of-type {\n",
       "        vertical-align: middle;\n",
       "    }\n",
       "\n",
       "    .dataframe tbody tr th {\n",
       "        vertical-align: top;\n",
       "    }\n",
       "\n",
       "    .dataframe thead th {\n",
       "        text-align: right;\n",
       "    }\n",
       "</style>\n",
       "<table border=\"1\" class=\"dataframe\">\n",
       "  <thead>\n",
       "    <tr style=\"text-align: right;\">\n",
       "      <th></th>\n",
       "      <th>error message</th>\n",
       "      <th>tweet_id</th>\n",
       "    </tr>\n",
       "  </thead>\n",
       "  <tbody>\n",
       "    <tr>\n",
       "      <th>0</th>\n",
       "      <td>[{'code': 144, 'message': 'No status found wit...</td>\n",
       "      <td>888202515573088257</td>\n",
       "    </tr>\n",
       "    <tr>\n",
       "      <th>1</th>\n",
       "      <td>[{'code': 144, 'message': 'No status found wit...</td>\n",
       "      <td>873697596434513921</td>\n",
       "    </tr>\n",
       "    <tr>\n",
       "      <th>2</th>\n",
       "      <td>[{'code': 144, 'message': 'No status found wit...</td>\n",
       "      <td>869988702071779329</td>\n",
       "    </tr>\n",
       "    <tr>\n",
       "      <th>3</th>\n",
       "      <td>[{'code': 144, 'message': 'No status found wit...</td>\n",
       "      <td>866816280283807744</td>\n",
       "    </tr>\n",
       "    <tr>\n",
       "      <th>4</th>\n",
       "      <td>[{'code': 144, 'message': 'No status found wit...</td>\n",
       "      <td>861769973181624320</td>\n",
       "    </tr>\n",
       "    <tr>\n",
       "      <th>5</th>\n",
       "      <td>[{'code': 144, 'message': 'No status found wit...</td>\n",
       "      <td>845459076796616705</td>\n",
       "    </tr>\n",
       "    <tr>\n",
       "      <th>6</th>\n",
       "      <td>[{'code': 144, 'message': 'No status found wit...</td>\n",
       "      <td>842892208864923648</td>\n",
       "    </tr>\n",
       "    <tr>\n",
       "      <th>7</th>\n",
       "      <td>[{'code': 144, 'message': 'No status found wit...</td>\n",
       "      <td>837012587749474308</td>\n",
       "    </tr>\n",
       "    <tr>\n",
       "      <th>8</th>\n",
       "      <td>[{'code': 144, 'message': 'No status found wit...</td>\n",
       "      <td>827228250799742977</td>\n",
       "    </tr>\n",
       "    <tr>\n",
       "      <th>9</th>\n",
       "      <td>[{'code': 144, 'message': 'No status found wit...</td>\n",
       "      <td>802247111496568832</td>\n",
       "    </tr>\n",
       "    <tr>\n",
       "      <th>10</th>\n",
       "      <td>[{'code': 144, 'message': 'No status found wit...</td>\n",
       "      <td>775096608509886464</td>\n",
       "    </tr>\n",
       "    <tr>\n",
       "      <th>11</th>\n",
       "      <td>[{'code': 179, 'message': 'Sorry, you are not ...</td>\n",
       "      <td>771004394259247104</td>\n",
       "    </tr>\n",
       "    <tr>\n",
       "      <th>12</th>\n",
       "      <td>[{'code': 144, 'message': 'No status found wit...</td>\n",
       "      <td>770743923962707968</td>\n",
       "    </tr>\n",
       "    <tr>\n",
       "      <th>13</th>\n",
       "      <td>[{'code': 144, 'message': 'No status found wit...</td>\n",
       "      <td>754011816964026368</td>\n",
       "    </tr>\n",
       "  </tbody>\n",
       "</table>\n",
       "</div>"
      ],
      "text/plain": [
       "                                        error message            tweet_id\n",
       "0   [{'code': 144, 'message': 'No status found wit...  888202515573088257\n",
       "1   [{'code': 144, 'message': 'No status found wit...  873697596434513921\n",
       "2   [{'code': 144, 'message': 'No status found wit...  869988702071779329\n",
       "3   [{'code': 144, 'message': 'No status found wit...  866816280283807744\n",
       "4   [{'code': 144, 'message': 'No status found wit...  861769973181624320\n",
       "5   [{'code': 144, 'message': 'No status found wit...  845459076796616705\n",
       "6   [{'code': 144, 'message': 'No status found wit...  842892208864923648\n",
       "7   [{'code': 144, 'message': 'No status found wit...  837012587749474308\n",
       "8   [{'code': 144, 'message': 'No status found wit...  827228250799742977\n",
       "9   [{'code': 144, 'message': 'No status found wit...  802247111496568832\n",
       "10  [{'code': 144, 'message': 'No status found wit...  775096608509886464\n",
       "11  [{'code': 179, 'message': 'Sorry, you are not ...  771004394259247104\n",
       "12  [{'code': 144, 'message': 'No status found wit...  770743923962707968\n",
       "13  [{'code': 144, 'message': 'No status found wit...  754011816964026368"
      ]
     },
     "execution_count": 10,
     "metadata": {},
     "output_type": "execute_result"
    }
   ],
   "source": [
    "error_ids"
   ]
  },
  {
   "cell_type": "markdown",
   "metadata": {},
   "source": [
    "2342 of the 2356 tweets are gathered successfully. 13 tweets no longer exist, and 1 tweet denied me access."
   ]
  },
  {
   "cell_type": "code",
   "execution_count": 11,
   "metadata": {
    "scrolled": true
   },
   "outputs": [
    {
     "data": {
      "text/plain": [
       "Index(['contributors', 'coordinates', 'created_at', 'display_text_range',\n",
       "       'entities', 'extended_entities', 'favorite_count', 'favorited',\n",
       "       'full_text', 'geo', 'id', 'id_str', 'in_reply_to_screen_name',\n",
       "       'in_reply_to_status_id', 'in_reply_to_status_id_str',\n",
       "       'in_reply_to_user_id', 'in_reply_to_user_id_str', 'is_quote_status',\n",
       "       'lang', 'place', 'possibly_sensitive', 'possibly_sensitive_appealable',\n",
       "       'quoted_status', 'quoted_status_id', 'quoted_status_id_str',\n",
       "       'quoted_status_permalink', 'retweet_count', 'retweeted',\n",
       "       'retweeted_status', 'source', 'truncated', 'user'],\n",
       "      dtype='object')"
      ]
     },
     "execution_count": 11,
     "metadata": {},
     "output_type": "execute_result"
    }
   ],
   "source": [
    "more_info.columns"
   ]
  },
  {
   "cell_type": "markdown",
   "metadata": {},
   "source": [
    "**variables of interest in this dataframe:**\n",
    "<br>\n",
    "**id, favorite_count, retweet_count**\n",
    "<br>\n",
    "I am also interested in **external urls** included in tweets, **number of media** and **types of media** such as photos or video. therefore three additional columns will be added:\n",
    "<br>\n",
    "external_url (in column \"entities\"), num_medias and media_types(in \"extended_entities\")"
   ]
  },
  {
   "cell_type": "markdown",
   "metadata": {},
   "source": [
    "**Extract variabls of interest** from more_info, and name the result dataframe **updated_info**"
   ]
  },
  {
   "cell_type": "code",
   "execution_count": 12,
   "metadata": {},
   "outputs": [],
   "source": [
    "# define a function to extract id, favorite_count, retweet_count, external_url, expanded_url, number of media and types of media\n",
    "def extract(tweet):\n",
    "    tweet_id=tweet['id']    \n",
    "    favorite_count=tweet['favorite_count']\n",
    "    retweet_count=tweet['retweet_count']\n",
    "    try:\n",
    "        #entity=ast.literal_eval(tweet['entities'])\n",
    "        entity=tweet['entities']\n",
    "        external_url=[x['expanded_url'] for x in entity['urls']]\n",
    "        if len(external_url)==0:\n",
    "            external_url=\"None\"\n",
    "        else:\n",
    "            external_url=','.join(external_url)\n",
    "    except:\n",
    "        external_url=\"None\"\n",
    "    try:\n",
    "        #medias=ast.literal_eval(tweet['extended_entities'])\n",
    "        medias=tweet['extended_entities']\n",
    "        num_medias=len(medias['media'])\n",
    "    except:\n",
    "        num_medias=0\n",
    "    try:\n",
    "        expanded_url=medias['media'][0]['expanded_url']\n",
    "    except:\n",
    "        expanded_url=\"None\"\n",
    "    try:\n",
    "        media_types=list(set([x['type'] for x in medias['media']]))\n",
    "        media_types=','.join(media_types)\n",
    "    except:\n",
    "        media_types=\"None\"\n",
    "    return {'tweet_id': tweet_id,\n",
    "            'favorite_count': favorite_count,\n",
    "            'retweet_count':retweet_count,\n",
    "           'external_url': external_url,\n",
    "            'expanded_url':expanded_url,\n",
    "           'num_medias': num_medias,\n",
    "           'media_types': media_types}"
   ]
  },
  {
   "cell_type": "code",
   "execution_count": 13,
   "metadata": {},
   "outputs": [],
   "source": [
    "updated_info=[]\n",
    "for tweet in more_info.index:\n",
    "    updated_info.append(extract(more_info.loc[tweet]))\n",
    "updated_info=pd.DataFrame(updated_info)    "
   ]
  },
  {
   "cell_type": "code",
   "execution_count": 14,
   "metadata": {
    "scrolled": false
   },
   "outputs": [
    {
     "data": {
      "text/html": [
       "<div>\n",
       "<style scoped>\n",
       "    .dataframe tbody tr th:only-of-type {\n",
       "        vertical-align: middle;\n",
       "    }\n",
       "\n",
       "    .dataframe tbody tr th {\n",
       "        vertical-align: top;\n",
       "    }\n",
       "\n",
       "    .dataframe thead th {\n",
       "        text-align: right;\n",
       "    }\n",
       "</style>\n",
       "<table border=\"1\" class=\"dataframe\">\n",
       "  <thead>\n",
       "    <tr style=\"text-align: right;\">\n",
       "      <th></th>\n",
       "      <th>expanded_url</th>\n",
       "      <th>external_url</th>\n",
       "      <th>favorite_count</th>\n",
       "      <th>media_types</th>\n",
       "      <th>num_medias</th>\n",
       "      <th>retweet_count</th>\n",
       "      <th>tweet_id</th>\n",
       "    </tr>\n",
       "  </thead>\n",
       "  <tbody>\n",
       "    <tr>\n",
       "      <th>0</th>\n",
       "      <td>https://twitter.com/dog_rates/status/892420643...</td>\n",
       "      <td>None</td>\n",
       "      <td>38509</td>\n",
       "      <td>photo</td>\n",
       "      <td>1</td>\n",
       "      <td>8487</td>\n",
       "      <td>892420643555336193</td>\n",
       "    </tr>\n",
       "    <tr>\n",
       "      <th>1</th>\n",
       "      <td>https://twitter.com/dog_rates/status/892177421...</td>\n",
       "      <td>None</td>\n",
       "      <td>33011</td>\n",
       "      <td>photo</td>\n",
       "      <td>1</td>\n",
       "      <td>6243</td>\n",
       "      <td>892177421306343426</td>\n",
       "    </tr>\n",
       "    <tr>\n",
       "      <th>2</th>\n",
       "      <td>https://twitter.com/dog_rates/status/891815181...</td>\n",
       "      <td>None</td>\n",
       "      <td>24847</td>\n",
       "      <td>photo</td>\n",
       "      <td>1</td>\n",
       "      <td>4138</td>\n",
       "      <td>891815181378084864</td>\n",
       "    </tr>\n",
       "    <tr>\n",
       "      <th>3</th>\n",
       "      <td>https://twitter.com/dog_rates/status/891689557...</td>\n",
       "      <td>None</td>\n",
       "      <td>41899</td>\n",
       "      <td>photo</td>\n",
       "      <td>1</td>\n",
       "      <td>8611</td>\n",
       "      <td>891689557279858688</td>\n",
       "    </tr>\n",
       "    <tr>\n",
       "      <th>4</th>\n",
       "      <td>https://twitter.com/dog_rates/status/891327558...</td>\n",
       "      <td>None</td>\n",
       "      <td>40028</td>\n",
       "      <td>photo</td>\n",
       "      <td>2</td>\n",
       "      <td>9348</td>\n",
       "      <td>891327558926688256</td>\n",
       "    </tr>\n",
       "  </tbody>\n",
       "</table>\n",
       "</div>"
      ],
      "text/plain": [
       "                                        expanded_url external_url  \\\n",
       "0  https://twitter.com/dog_rates/status/892420643...         None   \n",
       "1  https://twitter.com/dog_rates/status/892177421...         None   \n",
       "2  https://twitter.com/dog_rates/status/891815181...         None   \n",
       "3  https://twitter.com/dog_rates/status/891689557...         None   \n",
       "4  https://twitter.com/dog_rates/status/891327558...         None   \n",
       "\n",
       "   favorite_count media_types  num_medias  retweet_count            tweet_id  \n",
       "0           38509       photo           1           8487  892420643555336193  \n",
       "1           33011       photo           1           6243  892177421306343426  \n",
       "2           24847       photo           1           4138  891815181378084864  \n",
       "3           41899       photo           1           8611  891689557279858688  \n",
       "4           40028       photo           2           9348  891327558926688256  "
      ]
     },
     "execution_count": 14,
     "metadata": {},
     "output_type": "execute_result"
    }
   ],
   "source": [
    "updated_info.head()"
   ]
  },
  {
   "cell_type": "markdown",
   "metadata": {},
   "source": [
    "<a id='image_predictions'></a>"
   ]
  },
  {
   "cell_type": "markdown",
   "metadata": {},
   "source": [
    "[back to top of Data gathering](#gathing)     [back to top of the report](#top)"
   ]
  },
  {
   "cell_type": "markdown",
   "metadata": {},
   "source": [
    "### 1.3 image_predictions: request from url"
   ]
  },
  {
   "cell_type": "code",
   "execution_count": 15,
   "metadata": {
    "scrolled": false
   },
   "outputs": [
    {
     "data": {
      "text/html": [
       "<div>\n",
       "<style scoped>\n",
       "    .dataframe tbody tr th:only-of-type {\n",
       "        vertical-align: middle;\n",
       "    }\n",
       "\n",
       "    .dataframe tbody tr th {\n",
       "        vertical-align: top;\n",
       "    }\n",
       "\n",
       "    .dataframe thead th {\n",
       "        text-align: right;\n",
       "    }\n",
       "</style>\n",
       "<table border=\"1\" class=\"dataframe\">\n",
       "  <thead>\n",
       "    <tr style=\"text-align: right;\">\n",
       "      <th></th>\n",
       "      <th>tweet_id</th>\n",
       "      <th>jpg_url</th>\n",
       "      <th>img_num</th>\n",
       "      <th>p1</th>\n",
       "      <th>p1_conf</th>\n",
       "      <th>p1_dog</th>\n",
       "      <th>p2</th>\n",
       "      <th>p2_conf</th>\n",
       "      <th>p2_dog</th>\n",
       "      <th>p3</th>\n",
       "      <th>p3_conf</th>\n",
       "      <th>p3_dog</th>\n",
       "    </tr>\n",
       "  </thead>\n",
       "  <tbody>\n",
       "    <tr>\n",
       "      <th>0</th>\n",
       "      <td>666020888022790149</td>\n",
       "      <td>https://pbs.twimg.com/media/CT4udn0WwAA0aMy.jpg</td>\n",
       "      <td>1</td>\n",
       "      <td>Welsh_springer_spaniel</td>\n",
       "      <td>0.465074</td>\n",
       "      <td>True</td>\n",
       "      <td>collie</td>\n",
       "      <td>0.156665</td>\n",
       "      <td>True</td>\n",
       "      <td>Shetland_sheepdog</td>\n",
       "      <td>0.061428</td>\n",
       "      <td>True</td>\n",
       "    </tr>\n",
       "    <tr>\n",
       "      <th>1</th>\n",
       "      <td>666029285002620928</td>\n",
       "      <td>https://pbs.twimg.com/media/CT42GRgUYAA5iDo.jpg</td>\n",
       "      <td>1</td>\n",
       "      <td>redbone</td>\n",
       "      <td>0.506826</td>\n",
       "      <td>True</td>\n",
       "      <td>miniature_pinscher</td>\n",
       "      <td>0.074192</td>\n",
       "      <td>True</td>\n",
       "      <td>Rhodesian_ridgeback</td>\n",
       "      <td>0.072010</td>\n",
       "      <td>True</td>\n",
       "    </tr>\n",
       "    <tr>\n",
       "      <th>2</th>\n",
       "      <td>666033412701032449</td>\n",
       "      <td>https://pbs.twimg.com/media/CT4521TWwAEvMyu.jpg</td>\n",
       "      <td>1</td>\n",
       "      <td>German_shepherd</td>\n",
       "      <td>0.596461</td>\n",
       "      <td>True</td>\n",
       "      <td>malinois</td>\n",
       "      <td>0.138584</td>\n",
       "      <td>True</td>\n",
       "      <td>bloodhound</td>\n",
       "      <td>0.116197</td>\n",
       "      <td>True</td>\n",
       "    </tr>\n",
       "    <tr>\n",
       "      <th>3</th>\n",
       "      <td>666044226329800704</td>\n",
       "      <td>https://pbs.twimg.com/media/CT5Dr8HUEAA-lEu.jpg</td>\n",
       "      <td>1</td>\n",
       "      <td>Rhodesian_ridgeback</td>\n",
       "      <td>0.408143</td>\n",
       "      <td>True</td>\n",
       "      <td>redbone</td>\n",
       "      <td>0.360687</td>\n",
       "      <td>True</td>\n",
       "      <td>miniature_pinscher</td>\n",
       "      <td>0.222752</td>\n",
       "      <td>True</td>\n",
       "    </tr>\n",
       "    <tr>\n",
       "      <th>4</th>\n",
       "      <td>666049248165822465</td>\n",
       "      <td>https://pbs.twimg.com/media/CT5IQmsXIAAKY4A.jpg</td>\n",
       "      <td>1</td>\n",
       "      <td>miniature_pinscher</td>\n",
       "      <td>0.560311</td>\n",
       "      <td>True</td>\n",
       "      <td>Rottweiler</td>\n",
       "      <td>0.243682</td>\n",
       "      <td>True</td>\n",
       "      <td>Doberman</td>\n",
       "      <td>0.154629</td>\n",
       "      <td>True</td>\n",
       "    </tr>\n",
       "  </tbody>\n",
       "</table>\n",
       "</div>"
      ],
      "text/plain": [
       "             tweet_id                                          jpg_url  \\\n",
       "0  666020888022790149  https://pbs.twimg.com/media/CT4udn0WwAA0aMy.jpg   \n",
       "1  666029285002620928  https://pbs.twimg.com/media/CT42GRgUYAA5iDo.jpg   \n",
       "2  666033412701032449  https://pbs.twimg.com/media/CT4521TWwAEvMyu.jpg   \n",
       "3  666044226329800704  https://pbs.twimg.com/media/CT5Dr8HUEAA-lEu.jpg   \n",
       "4  666049248165822465  https://pbs.twimg.com/media/CT5IQmsXIAAKY4A.jpg   \n",
       "\n",
       "   img_num                      p1   p1_conf  p1_dog                  p2  \\\n",
       "0        1  Welsh_springer_spaniel  0.465074    True              collie   \n",
       "1        1                 redbone  0.506826    True  miniature_pinscher   \n",
       "2        1         German_shepherd  0.596461    True            malinois   \n",
       "3        1     Rhodesian_ridgeback  0.408143    True             redbone   \n",
       "4        1      miniature_pinscher  0.560311    True          Rottweiler   \n",
       "\n",
       "    p2_conf  p2_dog                   p3   p3_conf  p3_dog  \n",
       "0  0.156665    True    Shetland_sheepdog  0.061428    True  \n",
       "1  0.074192    True  Rhodesian_ridgeback  0.072010    True  \n",
       "2  0.138584    True           bloodhound  0.116197    True  \n",
       "3  0.360687    True   miniature_pinscher  0.222752    True  \n",
       "4  0.243682    True             Doberman  0.154629    True  "
      ]
     },
     "execution_count": 15,
     "metadata": {},
     "output_type": "execute_result"
    }
   ],
   "source": [
    "url='https://d17h27t6h515a5.cloudfront.net/topher/2017/August/599fd2ad_image-predictions/image-predictions.tsv'\n",
    "image_predictions=pd.read_csv(url, sep='\\t')\n",
    "image_predictions.head()"
   ]
  },
  {
   "cell_type": "markdown",
   "metadata": {},
   "source": [
    "So far I have 3 dataframes: archive, image_predictions and updated_info\n",
    "<br>\n",
    "### This marks completion of data gathering"
   ]
  },
  {
   "cell_type": "markdown",
   "metadata": {},
   "source": [
    "<a id='assessment'></a>"
   ]
  },
  {
   "cell_type": "markdown",
   "metadata": {},
   "source": [
    "[back to top of the report](#top)"
   ]
  },
  {
   "cell_type": "markdown",
   "metadata": {},
   "source": [
    "## 2. Data assessment<br>\n",
    "***table of contents***:<br>\n",
    "2.1 [assessment of archive](#archive_assessment)    <br>\n",
    "2.2 [assessment of image_predictions](#image_predictions_assessment)    <br>\n",
    "2.3 [assessment of updated_info](#updated_info_assessment)    <br>\n",
    "2.4 [**summary of assessment**](#assessment_summary)"
   ]
  },
  {
   "cell_type": "markdown",
   "metadata": {},
   "source": [
    "<a id='archive_assessment'></a>"
   ]
  },
  {
   "cell_type": "markdown",
   "metadata": {},
   "source": [
    "### 2.1 assessing archive dataframe"
   ]
  },
  {
   "cell_type": "markdown",
   "metadata": {},
   "source": [
    "##### archive quality: timestamps are strings, instead of datetime"
   ]
  },
  {
   "cell_type": "code",
   "execution_count": 16,
   "metadata": {
    "scrolled": true
   },
   "outputs": [
    {
     "data": {
      "text/html": [
       "<div>\n",
       "<style scoped>\n",
       "    .dataframe tbody tr th:only-of-type {\n",
       "        vertical-align: middle;\n",
       "    }\n",
       "\n",
       "    .dataframe tbody tr th {\n",
       "        vertical-align: top;\n",
       "    }\n",
       "\n",
       "    .dataframe thead th {\n",
       "        text-align: right;\n",
       "    }\n",
       "</style>\n",
       "<table border=\"1\" class=\"dataframe\">\n",
       "  <thead>\n",
       "    <tr style=\"text-align: right;\">\n",
       "      <th></th>\n",
       "    </tr>\n",
       "  </thead>\n",
       "  <tbody>\n",
       "    <tr>\n",
       "      <th>0</th>\n",
       "    </tr>\n",
       "    <tr>\n",
       "      <th>1</th>\n",
       "    </tr>\n",
       "  </tbody>\n",
       "</table>\n",
       "</div>"
      ],
      "text/plain": [
       "Empty DataFrame\n",
       "Columns: []\n",
       "Index: [0, 1]"
      ]
     },
     "execution_count": 16,
     "metadata": {},
     "output_type": "execute_result"
    }
   ],
   "source": [
    "archive.select_dtypes(include=[np.datetime64]).head(2)"
   ]
  },
  {
   "cell_type": "markdown",
   "metadata": {},
   "source": [
    "No datetime datetypes were found in archive"
   ]
  },
  {
   "cell_type": "code",
   "execution_count": 17,
   "metadata": {
    "scrolled": false
   },
   "outputs": [
    {
     "data": {
      "text/html": [
       "<div>\n",
       "<style scoped>\n",
       "    .dataframe tbody tr th:only-of-type {\n",
       "        vertical-align: middle;\n",
       "    }\n",
       "\n",
       "    .dataframe tbody tr th {\n",
       "        vertical-align: top;\n",
       "    }\n",
       "\n",
       "    .dataframe thead th {\n",
       "        text-align: right;\n",
       "    }\n",
       "</style>\n",
       "<table border=\"1\" class=\"dataframe\">\n",
       "  <thead>\n",
       "    <tr style=\"text-align: right;\">\n",
       "      <th></th>\n",
       "      <th>timestamp</th>\n",
       "      <th>source</th>\n",
       "      <th>text</th>\n",
       "      <th>retweeted_status_timestamp</th>\n",
       "      <th>expanded_urls</th>\n",
       "      <th>name</th>\n",
       "      <th>doggo</th>\n",
       "      <th>floofer</th>\n",
       "      <th>pupper</th>\n",
       "      <th>puppo</th>\n",
       "    </tr>\n",
       "  </thead>\n",
       "  <tbody>\n",
       "    <tr>\n",
       "      <th>0</th>\n",
       "      <td>2017-08-01 16:23:56 +0000</td>\n",
       "      <td>&lt;a href=\"http://twitter.com/download/iphone\" r...</td>\n",
       "      <td>This is Phineas. He's a mystical boy. Only eve...</td>\n",
       "      <td>NaN</td>\n",
       "      <td>https://twitter.com/dog_rates/status/892420643...</td>\n",
       "      <td>Phineas</td>\n",
       "      <td>None</td>\n",
       "      <td>None</td>\n",
       "      <td>None</td>\n",
       "      <td>None</td>\n",
       "    </tr>\n",
       "    <tr>\n",
       "      <th>1</th>\n",
       "      <td>2017-08-01 00:17:27 +0000</td>\n",
       "      <td>&lt;a href=\"http://twitter.com/download/iphone\" r...</td>\n",
       "      <td>This is Tilly. She's just checking pup on you....</td>\n",
       "      <td>NaN</td>\n",
       "      <td>https://twitter.com/dog_rates/status/892177421...</td>\n",
       "      <td>Tilly</td>\n",
       "      <td>None</td>\n",
       "      <td>None</td>\n",
       "      <td>None</td>\n",
       "      <td>None</td>\n",
       "    </tr>\n",
       "  </tbody>\n",
       "</table>\n",
       "</div>"
      ],
      "text/plain": [
       "                   timestamp  \\\n",
       "0  2017-08-01 16:23:56 +0000   \n",
       "1  2017-08-01 00:17:27 +0000   \n",
       "\n",
       "                                              source  \\\n",
       "0  <a href=\"http://twitter.com/download/iphone\" r...   \n",
       "1  <a href=\"http://twitter.com/download/iphone\" r...   \n",
       "\n",
       "                                                text  \\\n",
       "0  This is Phineas. He's a mystical boy. Only eve...   \n",
       "1  This is Tilly. She's just checking pup on you....   \n",
       "\n",
       "  retweeted_status_timestamp  \\\n",
       "0                        NaN   \n",
       "1                        NaN   \n",
       "\n",
       "                                       expanded_urls     name doggo floofer  \\\n",
       "0  https://twitter.com/dog_rates/status/892420643...  Phineas  None    None   \n",
       "1  https://twitter.com/dog_rates/status/892177421...    Tilly  None    None   \n",
       "\n",
       "  pupper puppo  \n",
       "0   None  None  \n",
       "1   None  None  "
      ]
     },
     "execution_count": 17,
     "metadata": {},
     "output_type": "execute_result"
    }
   ],
   "source": [
    "archive.select_dtypes(include='object').head(2)"
   ]
  },
  {
   "cell_type": "markdown",
   "metadata": {},
   "source": [
    "##### archive quality: 13 tweets no longer exist, and 1 tweet denied me access.\n",
    "The following tweets could not be gathered"
   ]
  },
  {
   "cell_type": "code",
   "execution_count": 18,
   "metadata": {},
   "outputs": [
    {
     "data": {
      "text/plain": [
       "0     888202515573088257\n",
       "1     873697596434513921\n",
       "2     869988702071779329\n",
       "3     866816280283807744\n",
       "4     861769973181624320\n",
       "5     845459076796616705\n",
       "6     842892208864923648\n",
       "7     837012587749474308\n",
       "8     827228250799742977\n",
       "9     802247111496568832\n",
       "10    775096608509886464\n",
       "11    771004394259247104\n",
       "12    770743923962707968\n",
       "13    754011816964026368\n",
       "Name: tweet_id, dtype: int64"
      ]
     },
     "execution_count": 18,
     "metadata": {},
     "output_type": "execute_result"
    }
   ],
   "source": [
    "error_ids['tweet_id']"
   ]
  },
  {
   "cell_type": "markdown",
   "metadata": {},
   "source": [
    "[back to top of Data assessment](#assessment)      [back to top of the report](#top)"
   ]
  },
  {
   "cell_type": "markdown",
   "metadata": {},
   "source": [
    "##### archive quality: replies and retweets"
   ]
  },
  {
   "cell_type": "code",
   "execution_count": 19,
   "metadata": {
    "scrolled": true
   },
   "outputs": [
    {
     "name": "stdout",
     "output_type": "stream",
     "text": [
      "<class 'pandas.core.frame.DataFrame'>\n",
      "RangeIndex: 2356 entries, 0 to 2355\n",
      "Data columns (total 17 columns):\n",
      "tweet_id                      2356 non-null int64\n",
      "in_reply_to_status_id         78 non-null float64\n",
      "in_reply_to_user_id           78 non-null float64\n",
      "timestamp                     2356 non-null object\n",
      "source                        2356 non-null object\n",
      "text                          2356 non-null object\n",
      "retweeted_status_id           181 non-null float64\n",
      "retweeted_status_user_id      181 non-null float64\n",
      "retweeted_status_timestamp    181 non-null object\n",
      "expanded_urls                 2297 non-null object\n",
      "rating_numerator              2356 non-null int64\n",
      "rating_denominator            2356 non-null int64\n",
      "name                          2356 non-null object\n",
      "doggo                         2356 non-null object\n",
      "floofer                       2356 non-null object\n",
      "pupper                        2356 non-null object\n",
      "puppo                         2356 non-null object\n",
      "dtypes: float64(4), int64(3), object(10)\n",
      "memory usage: 313.0+ KB\n"
     ]
    }
   ],
   "source": [
    "archive.info()"
   ]
  },
  {
   "cell_type": "markdown",
   "metadata": {},
   "source": [
    "Among the 2356 tweets, 78 are replies, and 181 are retweets. We don't want these."
   ]
  },
  {
   "cell_type": "markdown",
   "metadata": {},
   "source": [
    "##### archive quality: inaccurate rating_numerator and rating_denominator"
   ]
  },
  {
   "cell_type": "code",
   "execution_count": 20,
   "metadata": {},
   "outputs": [],
   "source": [
    "#combine the columns 'rating_numerator' and 'rating_denominator'\n",
    "def rating(row):\n",
    "    return str(row['rating_numerator'])+'/'+str(row['rating_denominator'])\n",
    "archive['rating']=archive.apply(lambda row:rating(row), axis=1)"
   ]
  },
  {
   "cell_type": "code",
   "execution_count": 21,
   "metadata": {
    "scrolled": true
   },
   "outputs": [
    {
     "data": {
      "text/plain": [
       "array(['13/10', '12/10', '14/10', '5/10', '17/10', '11/10', '10/10',\n",
       "       '420/10', '666/10', '6/10', '15/10', '182/10', '960/0', '0/10',\n",
       "       '75/10', '11/15', '7/10', '84/70', '9/10', '24/7', '8/10', '1/10',\n",
       "       '27/10', '3/10', '9/11', '4/10', '165/150', '1776/10', '204/170',\n",
       "       '4/20', '50/50', '99/90', '80/80', '45/50', '60/50', '44/40',\n",
       "       '143/130', '121/110', '7/11', '20/16', '26/10', '2/10', '144/120',\n",
       "       '88/80', '1/2'], dtype=object)"
      ]
     },
     "execution_count": 21,
     "metadata": {},
     "output_type": "execute_result"
    }
   ],
   "source": [
    "#check unique values of ratings\n",
    "archive['rating'].unique()"
   ]
  },
  {
   "cell_type": "markdown",
   "metadata": {},
   "source": [
    "**Some of the values in 'rating' are not really rating**. For example, '24/7' means 24 hours 7 days, and this tweet actually doesn't have a rating. '7/11' actually means the 7/11 store, and the real rating of this tweet is 10/10.\n",
    "<br>\n",
    "**Some ratings are for multiple dogs**. These ratings have denominators that are multiplication of 10. They should be normalized to 10.\n",
    "<br>\n",
    "**Some ratings are not the correct one** . "
   ]
  },
  {
   "cell_type": "code",
   "execution_count": 22,
   "metadata": {},
   "outputs": [
    {
     "data": {
      "text/plain": [
       "'@roushfenway These are good dogs but 17/10 is an emotional impulse rating. More like 13/10s'"
      ]
     },
     "execution_count": 22,
     "metadata": {},
     "output_type": "execute_result"
    }
   ],
   "source": [
    "archive.loc[55, 'text']"
   ]
  },
  {
   "cell_type": "code",
   "execution_count": 23,
   "metadata": {},
   "outputs": [
    {
     "data": {
      "text/plain": [
       "'17/10'"
      ]
     },
     "execution_count": 23,
     "metadata": {},
     "output_type": "execute_result"
    }
   ],
   "source": [
    "archive.loc[55, 'rating']"
   ]
  },
  {
   "cell_type": "markdown",
   "metadata": {},
   "source": [
    "The reall rating of this tweet is 13/10, not 17/10"
   ]
  },
  {
   "cell_type": "markdown",
   "metadata": {},
   "source": [
    "##### archive quality: source values are difficult to read\n",
    "There are 4 unique source values. Inclusion of the tag and href made it difficult to read the name of the source."
   ]
  },
  {
   "cell_type": "code",
   "execution_count": 24,
   "metadata": {
    "scrolled": false
   },
   "outputs": [
    {
     "data": {
      "text/plain": [
       "array(['<a href=\"http://twitter.com/download/iphone\" rel=\"nofollow\">Twitter for iPhone</a>',\n",
       "       '<a href=\"http://twitter.com\" rel=\"nofollow\">Twitter Web Client</a>',\n",
       "       '<a href=\"http://vine.co\" rel=\"nofollow\">Vine - Make a Scene</a>',\n",
       "       '<a href=\"https://about.twitter.com/products/tweetdeck\" rel=\"nofollow\">TweetDeck</a>'],\n",
       "      dtype=object)"
      ]
     },
     "execution_count": 24,
     "metadata": {},
     "output_type": "execute_result"
    }
   ],
   "source": [
    "archive['source'].unique()"
   ]
  },
  {
   "cell_type": "markdown",
   "metadata": {},
   "source": [
    "##### archive tidiness: dog stages spread into 4 columns\n",
    "Dog stage is one variable. There is no need for 4 columns for it."
   ]
  },
  {
   "cell_type": "markdown",
   "metadata": {},
   "source": [
    "##### archive quality: multiple dog stages in single tweet\n",
    "Some tweets have multiple dog stages. Some of them do have multiple dogs of different stages. Some of them have one dog but multiple stages."
   ]
  },
  {
   "cell_type": "code",
   "execution_count": 25,
   "metadata": {
    "scrolled": true
   },
   "outputs": [
    {
     "data": {
      "text/html": [
       "<div>\n",
       "<style scoped>\n",
       "    .dataframe tbody tr th:only-of-type {\n",
       "        vertical-align: middle;\n",
       "    }\n",
       "\n",
       "    .dataframe tbody tr th {\n",
       "        vertical-align: top;\n",
       "    }\n",
       "\n",
       "    .dataframe thead th {\n",
       "        text-align: right;\n",
       "    }\n",
       "</style>\n",
       "<table border=\"1\" class=\"dataframe\">\n",
       "  <thead>\n",
       "    <tr style=\"text-align: right;\">\n",
       "      <th></th>\n",
       "      <th>tweet_id</th>\n",
       "      <th>doggo</th>\n",
       "      <th>floofer</th>\n",
       "      <th>pupper</th>\n",
       "      <th>puppo</th>\n",
       "    </tr>\n",
       "  </thead>\n",
       "  <tbody>\n",
       "    <tr>\n",
       "      <th>191</th>\n",
       "      <td>855851453814013952</td>\n",
       "      <td>doggo</td>\n",
       "      <td>None</td>\n",
       "      <td>None</td>\n",
       "      <td>puppo</td>\n",
       "    </tr>\n",
       "  </tbody>\n",
       "</table>\n",
       "</div>"
      ],
      "text/plain": [
       "               tweet_id  doggo floofer pupper  puppo\n",
       "191  855851453814013952  doggo    None   None  puppo"
      ]
     },
     "execution_count": 25,
     "metadata": {},
     "output_type": "execute_result"
    }
   ],
   "source": [
    "archive.query('doggo==\"doggo\" and puppo==\"puppo\"')[['tweet_id','doggo', 'floofer', 'pupper', 'puppo']]"
   ]
  },
  {
   "cell_type": "code",
   "execution_count": 26,
   "metadata": {
    "scrolled": true
   },
   "outputs": [
    {
     "data": {
      "text/html": [
       "<div>\n",
       "<style scoped>\n",
       "    .dataframe tbody tr th:only-of-type {\n",
       "        vertical-align: middle;\n",
       "    }\n",
       "\n",
       "    .dataframe tbody tr th {\n",
       "        vertical-align: top;\n",
       "    }\n",
       "\n",
       "    .dataframe thead th {\n",
       "        text-align: right;\n",
       "    }\n",
       "</style>\n",
       "<table border=\"1\" class=\"dataframe\">\n",
       "  <thead>\n",
       "    <tr style=\"text-align: right;\">\n",
       "      <th></th>\n",
       "      <th>tweet_id</th>\n",
       "      <th>doggo</th>\n",
       "      <th>floofer</th>\n",
       "      <th>pupper</th>\n",
       "      <th>puppo</th>\n",
       "    </tr>\n",
       "  </thead>\n",
       "  <tbody>\n",
       "    <tr>\n",
       "      <th>200</th>\n",
       "      <td>854010172552949760</td>\n",
       "      <td>doggo</td>\n",
       "      <td>floofer</td>\n",
       "      <td>None</td>\n",
       "      <td>None</td>\n",
       "    </tr>\n",
       "  </tbody>\n",
       "</table>\n",
       "</div>"
      ],
      "text/plain": [
       "               tweet_id  doggo  floofer pupper puppo\n",
       "200  854010172552949760  doggo  floofer   None  None"
      ]
     },
     "execution_count": 26,
     "metadata": {},
     "output_type": "execute_result"
    }
   ],
   "source": [
    "archive.query('doggo==\"doggo\" and floofer==\"floofer\"')[['tweet_id','doggo', 'floofer', 'pupper', 'puppo']]"
   ]
  },
  {
   "cell_type": "code",
   "execution_count": 27,
   "metadata": {},
   "outputs": [
    {
     "data": {
      "text/html": [
       "<div>\n",
       "<style scoped>\n",
       "    .dataframe tbody tr th:only-of-type {\n",
       "        vertical-align: middle;\n",
       "    }\n",
       "\n",
       "    .dataframe tbody tr th {\n",
       "        vertical-align: top;\n",
       "    }\n",
       "\n",
       "    .dataframe thead th {\n",
       "        text-align: right;\n",
       "    }\n",
       "</style>\n",
       "<table border=\"1\" class=\"dataframe\">\n",
       "  <thead>\n",
       "    <tr style=\"text-align: right;\">\n",
       "      <th></th>\n",
       "      <th>tweet_id</th>\n",
       "      <th>doggo</th>\n",
       "      <th>floofer</th>\n",
       "      <th>pupper</th>\n",
       "      <th>puppo</th>\n",
       "    </tr>\n",
       "  </thead>\n",
       "  <tbody>\n",
       "    <tr>\n",
       "      <th>460</th>\n",
       "      <td>817777686764523521</td>\n",
       "      <td>doggo</td>\n",
       "      <td>None</td>\n",
       "      <td>pupper</td>\n",
       "      <td>None</td>\n",
       "    </tr>\n",
       "    <tr>\n",
       "      <th>531</th>\n",
       "      <td>808106460588765185</td>\n",
       "      <td>doggo</td>\n",
       "      <td>None</td>\n",
       "      <td>pupper</td>\n",
       "      <td>None</td>\n",
       "    </tr>\n",
       "    <tr>\n",
       "      <th>565</th>\n",
       "      <td>802265048156610565</td>\n",
       "      <td>doggo</td>\n",
       "      <td>None</td>\n",
       "      <td>pupper</td>\n",
       "      <td>None</td>\n",
       "    </tr>\n",
       "    <tr>\n",
       "      <th>575</th>\n",
       "      <td>801115127852503040</td>\n",
       "      <td>doggo</td>\n",
       "      <td>None</td>\n",
       "      <td>pupper</td>\n",
       "      <td>None</td>\n",
       "    </tr>\n",
       "    <tr>\n",
       "      <th>705</th>\n",
       "      <td>785639753186217984</td>\n",
       "      <td>doggo</td>\n",
       "      <td>None</td>\n",
       "      <td>pupper</td>\n",
       "      <td>None</td>\n",
       "    </tr>\n",
       "    <tr>\n",
       "      <th>733</th>\n",
       "      <td>781308096455073793</td>\n",
       "      <td>doggo</td>\n",
       "      <td>None</td>\n",
       "      <td>pupper</td>\n",
       "      <td>None</td>\n",
       "    </tr>\n",
       "    <tr>\n",
       "      <th>778</th>\n",
       "      <td>775898661951791106</td>\n",
       "      <td>doggo</td>\n",
       "      <td>None</td>\n",
       "      <td>pupper</td>\n",
       "      <td>None</td>\n",
       "    </tr>\n",
       "    <tr>\n",
       "      <th>822</th>\n",
       "      <td>770093767776997377</td>\n",
       "      <td>doggo</td>\n",
       "      <td>None</td>\n",
       "      <td>pupper</td>\n",
       "      <td>None</td>\n",
       "    </tr>\n",
       "    <tr>\n",
       "      <th>889</th>\n",
       "      <td>759793422261743616</td>\n",
       "      <td>doggo</td>\n",
       "      <td>None</td>\n",
       "      <td>pupper</td>\n",
       "      <td>None</td>\n",
       "    </tr>\n",
       "    <tr>\n",
       "      <th>956</th>\n",
       "      <td>751583847268179968</td>\n",
       "      <td>doggo</td>\n",
       "      <td>None</td>\n",
       "      <td>pupper</td>\n",
       "      <td>None</td>\n",
       "    </tr>\n",
       "    <tr>\n",
       "      <th>1063</th>\n",
       "      <td>741067306818797568</td>\n",
       "      <td>doggo</td>\n",
       "      <td>None</td>\n",
       "      <td>pupper</td>\n",
       "      <td>None</td>\n",
       "    </tr>\n",
       "    <tr>\n",
       "      <th>1113</th>\n",
       "      <td>733109485275860992</td>\n",
       "      <td>doggo</td>\n",
       "      <td>None</td>\n",
       "      <td>pupper</td>\n",
       "      <td>None</td>\n",
       "    </tr>\n",
       "  </tbody>\n",
       "</table>\n",
       "</div>"
      ],
      "text/plain": [
       "                tweet_id  doggo floofer  pupper puppo\n",
       "460   817777686764523521  doggo    None  pupper  None\n",
       "531   808106460588765185  doggo    None  pupper  None\n",
       "565   802265048156610565  doggo    None  pupper  None\n",
       "575   801115127852503040  doggo    None  pupper  None\n",
       "705   785639753186217984  doggo    None  pupper  None\n",
       "733   781308096455073793  doggo    None  pupper  None\n",
       "778   775898661951791106  doggo    None  pupper  None\n",
       "822   770093767776997377  doggo    None  pupper  None\n",
       "889   759793422261743616  doggo    None  pupper  None\n",
       "956   751583847268179968  doggo    None  pupper  None\n",
       "1063  741067306818797568  doggo    None  pupper  None\n",
       "1113  733109485275860992  doggo    None  pupper  None"
      ]
     },
     "execution_count": 27,
     "metadata": {},
     "output_type": "execute_result"
    }
   ],
   "source": [
    "archive.query('doggo==\"doggo\" and pupper==\"pupper\"')[['tweet_id','doggo', 'floofer', 'pupper', 'puppo']]"
   ]
  },
  {
   "cell_type": "markdown",
   "metadata": {},
   "source": [
    "##### archive quality: multiple copies of url in same row\n",
    "Some contains duplicates of the same url. This is because there are multiple images in the tweet. The number of copies of same url in expanded_urls represent number of images in the tweet. Therefore we can add one more column to indicate number of images in the tweet.\n",
    "<br>\n",
    "\n",
    "##### archive quality: need one addtional column \"num_images\""
   ]
  },
  {
   "cell_type": "code",
   "execution_count": 28,
   "metadata": {},
   "outputs": [
    {
     "data": {
      "text/plain": [
       "'https://twitter.com/dog_rates/status/891327558926688256/photo/1,https://twitter.com/dog_rates/status/891327558926688256/photo/1'"
      ]
     },
     "execution_count": 28,
     "metadata": {},
     "output_type": "execute_result"
    }
   ],
   "source": [
    "#This expanded url contains two copies of the same url\n",
    "archive.loc[4, 'expanded_urls']"
   ]
  },
  {
   "cell_type": "markdown",
   "metadata": {},
   "source": [
    "##### archive tidiness: external urls included in expanded_urls\n",
    "some expanded_url contains external link such as gofundme"
   ]
  },
  {
   "cell_type": "code",
   "execution_count": 29,
   "metadata": {
    "scrolled": true
   },
   "outputs": [
    {
     "data": {
      "text/plain": [
       "'https://gofundme.com/ydvmve-surgery-for-jax,https://twitter.com/dog_rates/status/890971913173991426/photo/1'"
      ]
     },
     "execution_count": 29,
     "metadata": {},
     "output_type": "execute_result"
    }
   ],
   "source": [
    "#This expanded url contains gofundme link, in addition to tweet link\n",
    "archive.loc[6, 'expanded_urls']"
   ]
  },
  {
   "cell_type": "code",
   "execution_count": 30,
   "metadata": {},
   "outputs": [
    {
     "data": {
      "text/plain": [
       "'https://www.gofundme.com/get-indie-home/,https://twitter.com/dog_rates/status/842765311967449089/photo/1,https://twitter.com/dog_rates/status/842765311967449089/photo/1'"
      ]
     },
     "execution_count": 30,
     "metadata": {},
     "output_type": "execute_result"
    }
   ],
   "source": [
    "#This expanded url contsins url to donation site, and two copies of the same url to the tweet\n",
    "archive.loc[262, 'expanded_urls']"
   ]
  },
  {
   "cell_type": "markdown",
   "metadata": {},
   "source": [
    "##### archive quality: inaccurate dog names"
   ]
  },
  {
   "cell_type": "code",
   "execution_count": 31,
   "metadata": {
    "scrolled": true
   },
   "outputs": [
    {
     "data": {
      "text/plain": [
       "array(['Phineas', 'Tilly', 'Archie', 'Darla', 'Franklin', 'None', 'Jax',\n",
       "       'Zoey', 'Cassie', 'Koda', 'Bruno', 'Ted', 'Stuart', 'Oliver',\n",
       "       'Jim', 'Zeke', 'Ralphus', 'Canela', 'Gerald', 'Jeffrey', 'such',\n",
       "       'Maya', 'Mingus', 'Derek', 'Roscoe', 'Waffles', 'Jimbo', 'Maisey',\n",
       "       'Lilly', 'Earl', 'Lola', 'Kevin', 'Yogi', 'Noah', 'Bella',\n",
       "       'Grizzwald', 'Rusty', 'Gus', 'Stanley', 'Alfy', 'Koko', 'Rey',\n",
       "       'Gary', 'a', 'Elliot', 'Louis', 'Jesse', 'Romeo', 'Bailey',\n",
       "       'Duddles', 'Jack', 'Emmy', 'Steven', 'Beau', 'Snoopy', 'Shadow',\n",
       "       'Terrance', 'Aja', 'Penny', 'Dante', 'Nelly', 'Ginger', 'Benedict',\n",
       "       'Venti', 'Goose', 'Nugget', 'Cash', 'Coco', 'Jed', 'Sebastian',\n",
       "       'Walter', 'Sierra', 'Monkey', 'Harry', 'Kody', 'Lassie', 'Rover',\n",
       "       'Napolean', 'Dawn', 'Boomer', 'Cody', 'Rumble', 'Clifford',\n",
       "       'quite', 'Dewey', 'Scout', 'Gizmo', 'Cooper', 'Harold', 'Shikha',\n",
       "       'Jamesy', 'Lili', 'Sammy', 'Meatball', 'Paisley', 'Albus',\n",
       "       'Neptune', 'Quinn', 'Belle', 'Zooey', 'Dave', 'Jersey', 'Hobbes',\n",
       "       'Burt', 'Lorenzo', 'Carl', 'Jordy', 'Milky', 'Trooper', 'Winston',\n",
       "       'Sophie', 'Wyatt', 'Rosie', 'Thor', 'Oscar', 'Luna', 'Callie',\n",
       "       'Cermet', 'George', 'Marlee', 'Arya', 'Einstein', 'Alice',\n",
       "       'Rumpole', 'Benny', 'Aspen', 'Jarod', 'Wiggles', 'General',\n",
       "       'Sailor', 'Astrid', 'Iggy', 'Snoop', 'Kyle', 'Leo', 'Riley',\n",
       "       'Gidget', 'Noosh', 'Odin', 'Jerry', 'Charlie', 'Georgie', 'Rontu',\n",
       "       'Cannon', 'Furzey', 'Daisy', 'Tuck', 'Barney', 'Vixen', 'Jarvis',\n",
       "       'Mimosa', 'Pickles', 'Bungalo', 'Brady', 'Margo', 'Sadie', 'Hank',\n",
       "       'Tycho', 'Stephan', 'Indie', 'Winnie', 'Bentley', 'Ken', 'Max',\n",
       "       'Maddie', 'Pipsy', 'Monty', 'Sojourner', 'Odie', 'Arlo', 'Sunny',\n",
       "       'Vincent', 'Lucy', 'Clark', 'Mookie', 'Meera', 'Buddy', 'Ava',\n",
       "       'Rory', 'Eli', 'Ash', 'Tucker', 'Tobi', 'Chester', 'Wilson',\n",
       "       'Sunshine', 'Lipton', 'Gabby', 'Bronte', 'Poppy', 'Rhino',\n",
       "       'Willow', 'not', 'Orion', 'Eevee', 'Smiley', 'Logan', 'Moreton',\n",
       "       'Klein', 'Miguel', 'Emanuel', 'Kuyu', 'Dutch', 'Pete', 'Scooter',\n",
       "       'Reggie', 'Kyro', 'Samson', 'Loki', 'Mia', 'Malcolm', 'Dexter',\n",
       "       'Alfie', 'Fiona', 'one', 'Mutt', 'Bear', 'Doobert', 'Beebop',\n",
       "       'Alexander', 'Sailer', 'Brutus', 'Kona', 'Boots', 'Ralphie',\n",
       "       'Phil', 'Cupid', 'Pawnd', 'Pilot', 'Ike', 'Mo', 'Toby', 'Sweet',\n",
       "       'Pablo', 'Nala', 'Balto', 'Crawford', 'Gabe', 'Mattie', 'Jimison',\n",
       "       'Hercules', 'Duchess', 'Harlso', 'Sampson', 'Sundance', 'Luca',\n",
       "       'Flash', 'Finn', 'Peaches', 'Howie', 'Jazzy', 'Anna', 'Bo',\n",
       "       'Seamus', 'Wafer', 'Chelsea', 'Tom', 'Moose', 'Florence', 'Autumn',\n",
       "       'Dido', 'Eugene', 'Herschel', 'Strudel', 'Tebow', 'Chloe', 'Betty',\n",
       "       'Timber', 'Binky', 'Dudley', 'Comet', 'Larry', 'Levi', 'Akumi',\n",
       "       'Titan', 'Olivia', 'Alf', 'Oshie', 'Bruce', 'Chubbs', 'Sky',\n",
       "       'Atlas', 'Eleanor', 'Layla', 'Rocky', 'Baron', 'Tyr', 'Bauer',\n",
       "       'Swagger', 'Brandi', 'Mary', 'Moe', 'Halo', 'Augie', 'Craig',\n",
       "       'Sam', 'Hunter', 'Pavlov', 'Maximus', 'Wallace', 'Ito', 'Milo',\n",
       "       'Ollie', 'Cali', 'Lennon', 'incredibly', 'Major', 'Duke',\n",
       "       'Reginald', 'Sansa', 'Shooter', 'Django', 'Diogi', 'Sonny',\n",
       "       'Philbert', 'Marley', 'Severus', 'Ronnie', 'Anakin', 'Bones',\n",
       "       'Mauve', 'Chef', 'Doc', 'Sobe', 'Longfellow', 'Mister', 'Iroh',\n",
       "       'Baloo', 'Stubert', 'Paull', 'Timison', 'Davey', 'Pancake',\n",
       "       'Tyrone', 'Snicku', 'Ruby', 'Brody', 'Rizzy', 'Mack', 'Butter',\n",
       "       'Nimbus', 'Laika', 'Dobby', 'Juno', 'Maude', 'Lily', 'Newt',\n",
       "       'Benji', 'Nida', 'Robin', 'Monster', 'BeBe', 'Remus', 'Mabel',\n",
       "       'Misty', 'Happy', 'Mosby', 'Maggie', 'Leela', 'Ralphy', 'Brownie',\n",
       "       'Meyer', 'Stella', 'mad', 'Frank', 'Tonks', 'Lincoln', 'Oakley',\n",
       "       'Dale', 'Rizzo', 'Arnie', 'Pinot', 'Dallas', 'Hero', 'Frankie',\n",
       "       'Stormy', 'Mairi', 'Loomis', 'Godi', 'Kenny', 'Deacon', 'Timmy',\n",
       "       'Harper', 'Chipson', 'Combo', 'Dash', 'Bell', 'Hurley', 'Jay',\n",
       "       'Mya', 'Strider', 'an', 'Wesley', 'Solomon', 'Huck', 'very', 'O',\n",
       "       'Blue', 'Finley', 'Sprinkles', 'Heinrich', 'Shakespeare', 'Fizz',\n",
       "       'Chip', 'Grey', 'Roosevelt', 'Gromit', 'Willem', 'Dakota', 'Dixie',\n",
       "       'Al', 'Jackson', 'just', 'Carbon', 'DonDon', 'Kirby', 'Lou',\n",
       "       'Nollie', 'Chevy', 'Tito', 'Louie', 'Rupert', 'Rufus', 'Brudge',\n",
       "       'Shadoe', 'Colby', 'Angel', 'Brat', 'Tove', 'my', 'Aubie', 'Kota',\n",
       "       'Eve', 'Glenn', 'Shelby', 'Sephie', 'Bonaparte', 'Albert',\n",
       "       'Wishes', 'Rose', 'Theo', 'Rocco', 'Fido', 'Emma', 'Spencer',\n",
       "       'Lilli', 'Boston', 'Brandonald', 'Corey', 'Leonard', 'Chompsky',\n",
       "       'Beckham', 'Devón', 'Gert', 'Watson', 'Rubio', 'Keith', 'Dex',\n",
       "       'Carly', 'Ace', 'Tayzie', 'Grizzie', 'Fred', 'Gilbert', 'Zoe',\n",
       "       'Stewie', 'Calvin', 'Lilah', 'Spanky', 'Jameson', 'Piper',\n",
       "       'Atticus', 'Blu', 'Dietrich', 'Divine', 'Tripp', 'his', 'Cora',\n",
       "       'Huxley', 'Keurig', 'Bookstore', 'Linus', 'Abby', 'Shaggy',\n",
       "       'Shiloh', 'Gustav', 'Arlen', 'Percy', 'Lenox', 'Sugar', 'Harvey',\n",
       "       'Blanket', 'actually', 'Geno', 'Stark', 'Beya', 'Kilo', 'Kayla',\n",
       "       'Maxaroni', 'Doug', 'Edmund', 'Aqua', 'Theodore', 'Chase',\n",
       "       'getting', 'Rorie', 'Simba', 'Charles', 'Bayley', 'Axel',\n",
       "       'Storkson', 'Remy', 'Chadrick', 'Kellogg', 'Buckley', 'Livvie',\n",
       "       'Terry', 'Hermione', 'Ralpher', 'Aldrick', 'this', 'unacceptable',\n",
       "       'Rooney', 'Crystal', 'Ziva', 'Stefan', 'Pupcasso', 'Puff',\n",
       "       'Flurpson', 'Coleman', 'Enchilada', 'Raymond', 'all', 'Rueben',\n",
       "       'Cilantro', 'Karll', 'Sprout', 'Blitz', 'Bloop', 'Lillie',\n",
       "       'Ashleigh', 'Kreggory', 'Sarge', 'Luther', 'Ivar', 'Jangle',\n",
       "       'Schnitzel', 'Panda', 'Berkeley', 'Ralphé', 'Charleson', 'Clyde',\n",
       "       'Harnold', 'Sid', 'Pippa', 'Otis', 'Carper', 'Bowie',\n",
       "       'Alexanderson', 'Suki', 'Barclay', 'Skittle', 'Ebby', 'Flávio',\n",
       "       'Smokey', 'Link', 'Jennifur', 'Ozzy', 'Bluebert', 'Stephanus',\n",
       "       'Bubbles', 'old', 'Zeus', 'Bertson', 'Nico', 'Michelangelope',\n",
       "       'Siba', 'Calbert', 'Curtis', 'Travis', 'Thumas', 'Kanu', 'Lance',\n",
       "       'Opie', 'Kane', 'Olive', 'Chuckles', 'Staniel', 'Sora', 'Beemo',\n",
       "       'Gunner', 'infuriating', 'Lacy', 'Tater', 'Olaf', 'Cecil', 'Vince',\n",
       "       'Karma', 'Billy', 'Walker', 'Rodney', 'Klevin', 'Malikai',\n",
       "       'Bobble', 'River', 'Jebberson', 'Remington', 'Farfle', 'Jiminus',\n",
       "       'Clarkus', 'Finnegus', 'Cupcake', 'Kathmandu', 'Ellie', 'Katie',\n",
       "       'Kara', 'Adele', 'Zara', 'Ambrose', 'Jimothy', 'Bode', 'Terrenth',\n",
       "       'Reese', 'Chesterson', 'Lucia', 'Bisquick', 'Ralphson', 'Socks',\n",
       "       'Rambo', 'Rudy', 'Fiji', 'Rilo', 'Bilbo', 'Coopson', 'Yoda',\n",
       "       'Millie', 'Chet', 'Crouton', 'Daniel', 'Kaia', 'Murphy', 'Dotsy',\n",
       "       'Eazy', 'Coops', 'Fillup', 'Miley', 'Charl', 'Reagan', 'Yukon',\n",
       "       'CeCe', 'Cuddles', 'Claude', 'Jessiga', 'Carter', 'Ole', 'Pherb',\n",
       "       'Blipson', 'Reptar', 'Trevith', 'Berb', 'Bob', 'Colin', 'Brian',\n",
       "       'Oliviér', 'Grady', 'Kobe', 'Freddery', 'Bodie', 'Dunkin', 'Wally',\n",
       "       'Tupawc', 'Amber', 'Edgar', 'Teddy', 'Kingsley', 'Brockly',\n",
       "       'Richie', 'Molly', 'Vinscent', 'Cedrick', 'Hazel', 'Lolo', 'Eriq',\n",
       "       'Phred', 'the', 'Oddie', 'Maxwell', 'Geoff', 'Covach', 'Durg',\n",
       "       'Fynn', 'Ricky', 'Herald', 'Lucky', 'Ferg', 'Trip', 'Clarence',\n",
       "       'Hamrick', 'Brad', 'Pubert', 'Frönq', 'Derby', 'Lizzie', 'Ember',\n",
       "       'Blakely', 'Opal', 'Marq', 'Kramer', 'Barry', 'Gordon', 'Baxter',\n",
       "       'Mona', 'Horace', 'Crimson', 'Birf', 'Hammond', 'Lorelei', 'Marty',\n",
       "       'Brooks', 'Petrick', 'Hubertson', 'Gerbald', 'Oreo', 'Bruiser',\n",
       "       'Perry', 'Bobby', 'Jeph', 'Obi', 'Tino', 'Kulet', 'Sweets', 'Lupe',\n",
       "       'Tiger', 'Jiminy', 'Griffin', 'Banjo', 'Brandy', 'Lulu', 'Darrel',\n",
       "       'Taco', 'Joey', 'Patrick', 'Kreg', 'Todo', 'Tess', 'Ulysses',\n",
       "       'Toffee', 'Apollo', 'Asher', 'Glacier', 'Chuck', 'Champ', 'Ozzie',\n",
       "       'Griswold', 'Cheesy', 'Moofasa', 'Hector', 'Goliath', 'Kawhi',\n",
       "       'by', 'Emmie', 'Penelope', 'Willie', 'Rinna', 'Mike', 'William',\n",
       "       'Dwight', 'Evy', 'officially', 'Rascal', 'Linda', 'Tug', 'Tango',\n",
       "       'Grizz', 'Jerome', 'Crumpet', 'Jessifer', 'Izzy', 'Ralph', 'Sandy',\n",
       "       'Humphrey', 'Tassy', 'Juckson', 'Chuq', 'Tyrus', 'Karl',\n",
       "       'Godzilla', 'Vinnie', 'Kenneth', 'Herm', 'Bert', 'Striker',\n",
       "       'Donny', 'Pepper', 'Bernie', 'Buddah', 'Lenny', 'Arnold', 'Zuzu',\n",
       "       'Mollie', 'Laela', 'Tedders', 'Superpup', 'Rufio', 'Jeb', 'Rodman',\n",
       "       'Jonah', 'Chesney', 'life', 'Henry', 'Bobbay', 'Mitch', 'Kaiya',\n",
       "       'Acro', 'Aiden', 'Obie', 'Dot', 'Shnuggles', 'Kendall', 'Jeffri',\n",
       "       'Steve', 'Mac', 'Fletcher', 'Kenzie', 'Pumpkin', 'Schnozz',\n",
       "       'Gustaf', 'Cheryl', 'Ed', 'Leonidas', 'Norman', 'Caryl', 'Scott',\n",
       "       'Taz', 'Darby', 'Jackie', 'light', 'Jazz', 'Franq', 'Pippin',\n",
       "       'Rolf', 'Snickers', 'Ridley', 'Cal', 'Bradley', 'Bubba', 'Tuco',\n",
       "       'Patch', 'Mojo', 'Batdog', 'Dylan', 'space', 'Mark', 'JD',\n",
       "       'Alejandro', 'Scruffers', 'Pip', 'Julius', 'Tanner', 'Sparky',\n",
       "       'Anthony', 'Holly', 'Jett', 'Amy', 'Sage', 'Andy', 'Mason',\n",
       "       'Trigger', 'Antony', 'Creg', 'Traviss', 'Gin', 'Jeffrie', 'Danny',\n",
       "       'Ester', 'Pluto', 'Bloo', 'Edd', 'Willy', 'Herb', 'Damon',\n",
       "       'Peanut', 'Nigel', 'Butters', 'Sandra', 'Fabio', 'Randall', 'Liam',\n",
       "       'Tommy', 'Ben', 'Raphael', 'Julio', 'Andru', 'Kloey', 'Shawwn',\n",
       "       'Skye', 'Kollin', 'Ronduh', 'Billl', 'Saydee', 'Dug', 'Tessa',\n",
       "       'Sully', 'Kirk', 'Ralf', 'Clarq', 'Jaspers', 'Samsom', 'Harrison',\n",
       "       'Chaz', 'Jeremy', 'Jaycob', 'Lambeau', 'Ruffles', 'Amélie', 'Bobb',\n",
       "       'Banditt', 'Kevon', 'Winifred', 'Hanz', 'Churlie', 'Zeek',\n",
       "       'Timofy', 'Maks', 'Jomathan', 'Kallie', 'Marvin', 'Spark',\n",
       "       'Gòrdón', 'Jo', 'DayZ', 'Jareld', 'Torque', 'Ron', 'Skittles',\n",
       "       'Cleopatricia', 'Erik', 'Stu', 'Tedrick', 'Filup', 'Kial',\n",
       "       'Naphaniel', 'Dook', 'Hall', 'Philippe', 'Biden', 'Fwed',\n",
       "       'Genevieve', 'Joshwa', 'Bradlay', 'Clybe', 'Keet', 'Carll',\n",
       "       'Jockson', 'Josep', 'Lugan', 'Christoper'], dtype=object)"
      ]
     },
     "execution_count": 31,
     "metadata": {},
     "output_type": "execute_result"
    }
   ],
   "source": [
    "archive['name'].unique()"
   ]
  },
  {
   "cell_type": "markdown",
   "metadata": {},
   "source": [
    "Many dogs don't have a name. Some dogs are named 'a', 'an', 'the', 'quite'."
   ]
  },
  {
   "cell_type": "markdown",
   "metadata": {},
   "source": [
    "<a id='image_predictions_assessment'></a>"
   ]
  },
  {
   "cell_type": "markdown",
   "metadata": {},
   "source": [
    "[back to top of Data assessment](#assessment)      [back to top of the report](#top)"
   ]
  },
  {
   "cell_type": "markdown",
   "metadata": {},
   "source": [
    "### 2.2 Assessing image_predictions dataframe"
   ]
  },
  {
   "cell_type": "code",
   "execution_count": 32,
   "metadata": {},
   "outputs": [
    {
     "data": {
      "text/plain": [
       "(2075, 12)"
      ]
     },
     "execution_count": 32,
     "metadata": {},
     "output_type": "execute_result"
    }
   ],
   "source": [
    "image_predictions.shape"
   ]
  },
  {
   "cell_type": "markdown",
   "metadata": {},
   "source": [
    "Dataframe image_predictions contains 2075 entries, which is less than number of tweets in archive dataframe. This is probably because some tweets in archive don't have images. "
   ]
  },
  {
   "cell_type": "code",
   "execution_count": 33,
   "metadata": {},
   "outputs": [
    {
     "data": {
      "text/html": [
       "<div>\n",
       "<style scoped>\n",
       "    .dataframe tbody tr th:only-of-type {\n",
       "        vertical-align: middle;\n",
       "    }\n",
       "\n",
       "    .dataframe tbody tr th {\n",
       "        vertical-align: top;\n",
       "    }\n",
       "\n",
       "    .dataframe thead th {\n",
       "        text-align: right;\n",
       "    }\n",
       "</style>\n",
       "<table border=\"1\" class=\"dataframe\">\n",
       "  <thead>\n",
       "    <tr style=\"text-align: right;\">\n",
       "      <th></th>\n",
       "      <th>tweet_id</th>\n",
       "      <th>jpg_url</th>\n",
       "      <th>img_num</th>\n",
       "      <th>p1</th>\n",
       "      <th>p1_conf</th>\n",
       "      <th>p1_dog</th>\n",
       "      <th>p2</th>\n",
       "      <th>p2_conf</th>\n",
       "      <th>p2_dog</th>\n",
       "      <th>p3</th>\n",
       "      <th>p3_conf</th>\n",
       "      <th>p3_dog</th>\n",
       "    </tr>\n",
       "  </thead>\n",
       "  <tbody>\n",
       "    <tr>\n",
       "      <th>0</th>\n",
       "      <td>666020888022790149</td>\n",
       "      <td>https://pbs.twimg.com/media/CT4udn0WwAA0aMy.jpg</td>\n",
       "      <td>1</td>\n",
       "      <td>Welsh_springer_spaniel</td>\n",
       "      <td>0.465074</td>\n",
       "      <td>True</td>\n",
       "      <td>collie</td>\n",
       "      <td>0.156665</td>\n",
       "      <td>True</td>\n",
       "      <td>Shetland_sheepdog</td>\n",
       "      <td>0.061428</td>\n",
       "      <td>True</td>\n",
       "    </tr>\n",
       "    <tr>\n",
       "      <th>1</th>\n",
       "      <td>666029285002620928</td>\n",
       "      <td>https://pbs.twimg.com/media/CT42GRgUYAA5iDo.jpg</td>\n",
       "      <td>1</td>\n",
       "      <td>redbone</td>\n",
       "      <td>0.506826</td>\n",
       "      <td>True</td>\n",
       "      <td>miniature_pinscher</td>\n",
       "      <td>0.074192</td>\n",
       "      <td>True</td>\n",
       "      <td>Rhodesian_ridgeback</td>\n",
       "      <td>0.072010</td>\n",
       "      <td>True</td>\n",
       "    </tr>\n",
       "    <tr>\n",
       "      <th>2</th>\n",
       "      <td>666033412701032449</td>\n",
       "      <td>https://pbs.twimg.com/media/CT4521TWwAEvMyu.jpg</td>\n",
       "      <td>1</td>\n",
       "      <td>German_shepherd</td>\n",
       "      <td>0.596461</td>\n",
       "      <td>True</td>\n",
       "      <td>malinois</td>\n",
       "      <td>0.138584</td>\n",
       "      <td>True</td>\n",
       "      <td>bloodhound</td>\n",
       "      <td>0.116197</td>\n",
       "      <td>True</td>\n",
       "    </tr>\n",
       "    <tr>\n",
       "      <th>3</th>\n",
       "      <td>666044226329800704</td>\n",
       "      <td>https://pbs.twimg.com/media/CT5Dr8HUEAA-lEu.jpg</td>\n",
       "      <td>1</td>\n",
       "      <td>Rhodesian_ridgeback</td>\n",
       "      <td>0.408143</td>\n",
       "      <td>True</td>\n",
       "      <td>redbone</td>\n",
       "      <td>0.360687</td>\n",
       "      <td>True</td>\n",
       "      <td>miniature_pinscher</td>\n",
       "      <td>0.222752</td>\n",
       "      <td>True</td>\n",
       "    </tr>\n",
       "    <tr>\n",
       "      <th>4</th>\n",
       "      <td>666049248165822465</td>\n",
       "      <td>https://pbs.twimg.com/media/CT5IQmsXIAAKY4A.jpg</td>\n",
       "      <td>1</td>\n",
       "      <td>miniature_pinscher</td>\n",
       "      <td>0.560311</td>\n",
       "      <td>True</td>\n",
       "      <td>Rottweiler</td>\n",
       "      <td>0.243682</td>\n",
       "      <td>True</td>\n",
       "      <td>Doberman</td>\n",
       "      <td>0.154629</td>\n",
       "      <td>True</td>\n",
       "    </tr>\n",
       "  </tbody>\n",
       "</table>\n",
       "</div>"
      ],
      "text/plain": [
       "             tweet_id                                          jpg_url  \\\n",
       "0  666020888022790149  https://pbs.twimg.com/media/CT4udn0WwAA0aMy.jpg   \n",
       "1  666029285002620928  https://pbs.twimg.com/media/CT42GRgUYAA5iDo.jpg   \n",
       "2  666033412701032449  https://pbs.twimg.com/media/CT4521TWwAEvMyu.jpg   \n",
       "3  666044226329800704  https://pbs.twimg.com/media/CT5Dr8HUEAA-lEu.jpg   \n",
       "4  666049248165822465  https://pbs.twimg.com/media/CT5IQmsXIAAKY4A.jpg   \n",
       "\n",
       "   img_num                      p1   p1_conf  p1_dog                  p2  \\\n",
       "0        1  Welsh_springer_spaniel  0.465074    True              collie   \n",
       "1        1                 redbone  0.506826    True  miniature_pinscher   \n",
       "2        1         German_shepherd  0.596461    True            malinois   \n",
       "3        1     Rhodesian_ridgeback  0.408143    True             redbone   \n",
       "4        1      miniature_pinscher  0.560311    True          Rottweiler   \n",
       "\n",
       "    p2_conf  p2_dog                   p3   p3_conf  p3_dog  \n",
       "0  0.156665    True    Shetland_sheepdog  0.061428    True  \n",
       "1  0.074192    True  Rhodesian_ridgeback  0.072010    True  \n",
       "2  0.138584    True           bloodhound  0.116197    True  \n",
       "3  0.360687    True   miniature_pinscher  0.222752    True  \n",
       "4  0.243682    True             Doberman  0.154629    True  "
      ]
     },
     "execution_count": 33,
     "metadata": {},
     "output_type": "execute_result"
    }
   ],
   "source": [
    "image_predictions.head()"
   ]
  },
  {
   "cell_type": "markdown",
   "metadata": {},
   "source": [
    "No missing values in the columns"
   ]
  },
  {
   "cell_type": "markdown",
   "metadata": {},
   "source": [
    "##### image_predictions quality: duplicates of images and jpg_urls"
   ]
  },
  {
   "cell_type": "code",
   "execution_count": 34,
   "metadata": {},
   "outputs": [
    {
     "data": {
      "text/plain": [
       "66"
      ]
     },
     "execution_count": 34,
     "metadata": {},
     "output_type": "execute_result"
    }
   ],
   "source": [
    "# check duplicated of image url\n",
    "image_predictions['jpg_url'].duplicated().sum()"
   ]
  },
  {
   "cell_type": "markdown",
   "metadata": {},
   "source": [
    "There are 66 duplicated images."
   ]
  },
  {
   "cell_type": "code",
   "execution_count": 35,
   "metadata": {
    "scrolled": false
   },
   "outputs": [
    {
     "data": {
      "text/plain": [
       "2075"
      ]
     },
     "execution_count": 35,
     "metadata": {},
     "output_type": "execute_result"
    }
   ],
   "source": [
    "# check if tweet_id is in archive\n",
    "id_list=list(archive['tweet_id'])\n",
    "image_predictions['id_in_archive'] = image_predictions.apply(lambda x:x['tweet_id'] in id_list, axis=1)\n",
    "image_predictions['id_in_archive'].sum()"
   ]
  },
  {
   "cell_type": "markdown",
   "metadata": {},
   "source": [
    "All the tweet_id are in the archive dataframe."
   ]
  },
  {
   "cell_type": "code",
   "execution_count": 36,
   "metadata": {},
   "outputs": [
    {
     "data": {
      "text/plain": [
       "0"
      ]
     },
     "execution_count": 36,
     "metadata": {},
     "output_type": "execute_result"
    }
   ],
   "source": [
    "image_predictions['tweet_id'].duplicated().sum()"
   ]
  },
  {
   "cell_type": "markdown",
   "metadata": {},
   "source": [
    "No duplicates of tweet_id. But some tweets have same jpg_url. This is probably because some tweets are retweets."
   ]
  },
  {
   "cell_type": "code",
   "execution_count": 37,
   "metadata": {
    "scrolled": false
   },
   "outputs": [
    {
     "data": {
      "text/plain": [
       "1    1780\n",
       "2     198\n",
       "3      66\n",
       "4      31\n",
       "Name: img_num, dtype: int64"
      ]
     },
     "execution_count": 37,
     "metadata": {},
     "output_type": "execute_result"
    }
   ],
   "source": [
    "image_predictions.img_num.value_counts()"
   ]
  },
  {
   "cell_type": "markdown",
   "metadata": {},
   "source": [
    "image numbers are 1, 2, 3, or 4"
   ]
  },
  {
   "cell_type": "code",
   "execution_count": 38,
   "metadata": {
    "scrolled": false
   },
   "outputs": [
    {
     "data": {
      "text/html": [
       "<div>\n",
       "<style scoped>\n",
       "    .dataframe tbody tr th:only-of-type {\n",
       "        vertical-align: middle;\n",
       "    }\n",
       "\n",
       "    .dataframe tbody tr th {\n",
       "        vertical-align: top;\n",
       "    }\n",
       "\n",
       "    .dataframe thead th {\n",
       "        text-align: right;\n",
       "    }\n",
       "</style>\n",
       "<table border=\"1\" class=\"dataframe\">\n",
       "  <thead>\n",
       "    <tr style=\"text-align: right;\">\n",
       "      <th></th>\n",
       "      <th>tweet_id</th>\n",
       "      <th>img_num</th>\n",
       "      <th>p1_conf</th>\n",
       "      <th>p2_conf</th>\n",
       "      <th>p3_conf</th>\n",
       "    </tr>\n",
       "  </thead>\n",
       "  <tbody>\n",
       "    <tr>\n",
       "      <th>count</th>\n",
       "      <td>2.075000e+03</td>\n",
       "      <td>2075.000000</td>\n",
       "      <td>2075.000000</td>\n",
       "      <td>2.075000e+03</td>\n",
       "      <td>2.075000e+03</td>\n",
       "    </tr>\n",
       "    <tr>\n",
       "      <th>mean</th>\n",
       "      <td>7.384514e+17</td>\n",
       "      <td>1.203855</td>\n",
       "      <td>0.594548</td>\n",
       "      <td>1.345886e-01</td>\n",
       "      <td>6.032417e-02</td>\n",
       "    </tr>\n",
       "    <tr>\n",
       "      <th>std</th>\n",
       "      <td>6.785203e+16</td>\n",
       "      <td>0.561875</td>\n",
       "      <td>0.271174</td>\n",
       "      <td>1.006657e-01</td>\n",
       "      <td>5.090593e-02</td>\n",
       "    </tr>\n",
       "    <tr>\n",
       "      <th>min</th>\n",
       "      <td>6.660209e+17</td>\n",
       "      <td>1.000000</td>\n",
       "      <td>0.044333</td>\n",
       "      <td>1.011300e-08</td>\n",
       "      <td>1.740170e-10</td>\n",
       "    </tr>\n",
       "    <tr>\n",
       "      <th>25%</th>\n",
       "      <td>6.764835e+17</td>\n",
       "      <td>1.000000</td>\n",
       "      <td>0.364412</td>\n",
       "      <td>5.388625e-02</td>\n",
       "      <td>1.622240e-02</td>\n",
       "    </tr>\n",
       "    <tr>\n",
       "      <th>50%</th>\n",
       "      <td>7.119988e+17</td>\n",
       "      <td>1.000000</td>\n",
       "      <td>0.588230</td>\n",
       "      <td>1.181810e-01</td>\n",
       "      <td>4.944380e-02</td>\n",
       "    </tr>\n",
       "    <tr>\n",
       "      <th>75%</th>\n",
       "      <td>7.932034e+17</td>\n",
       "      <td>1.000000</td>\n",
       "      <td>0.843855</td>\n",
       "      <td>1.955655e-01</td>\n",
       "      <td>9.180755e-02</td>\n",
       "    </tr>\n",
       "    <tr>\n",
       "      <th>max</th>\n",
       "      <td>8.924206e+17</td>\n",
       "      <td>4.000000</td>\n",
       "      <td>1.000000</td>\n",
       "      <td>4.880140e-01</td>\n",
       "      <td>2.734190e-01</td>\n",
       "    </tr>\n",
       "  </tbody>\n",
       "</table>\n",
       "</div>"
      ],
      "text/plain": [
       "           tweet_id      img_num      p1_conf       p2_conf       p3_conf\n",
       "count  2.075000e+03  2075.000000  2075.000000  2.075000e+03  2.075000e+03\n",
       "mean   7.384514e+17     1.203855     0.594548  1.345886e-01  6.032417e-02\n",
       "std    6.785203e+16     0.561875     0.271174  1.006657e-01  5.090593e-02\n",
       "min    6.660209e+17     1.000000     0.044333  1.011300e-08  1.740170e-10\n",
       "25%    6.764835e+17     1.000000     0.364412  5.388625e-02  1.622240e-02\n",
       "50%    7.119988e+17     1.000000     0.588230  1.181810e-01  4.944380e-02\n",
       "75%    7.932034e+17     1.000000     0.843855  1.955655e-01  9.180755e-02\n",
       "max    8.924206e+17     4.000000     1.000000  4.880140e-01  2.734190e-01"
      ]
     },
     "execution_count": 38,
     "metadata": {},
     "output_type": "execute_result"
    }
   ],
   "source": [
    "image_predictions.describe()"
   ]
  },
  {
   "cell_type": "markdown",
   "metadata": {},
   "source": [
    "All p confidence levels are in correct range."
   ]
  },
  {
   "cell_type": "code",
   "execution_count": 39,
   "metadata": {
    "scrolled": false
   },
   "outputs": [
    {
     "data": {
      "text/plain": [
       "array(['Welsh_springer_spaniel', 'redbone', 'German_shepherd',\n",
       "       'Rhodesian_ridgeback', 'miniature_pinscher',\n",
       "       'Bernese_mountain_dog', 'box_turtle', 'chow', 'shopping_cart',\n",
       "       'miniature_poodle', 'golden_retriever', 'Gordon_setter',\n",
       "       'Walker_hound', 'pug', 'bloodhound', 'Lhasa', 'English_setter',\n",
       "       'hen', 'desktop_computer', 'Italian_greyhound', 'Maltese_dog',\n",
       "       'three-toed_sloth', 'ox', 'malamute', 'guinea_pig',\n",
       "       'soft-coated_wheaten_terrier', 'Chihuahua',\n",
       "       'black-and-tan_coonhound', 'coho', 'toy_terrier',\n",
       "       'Blenheim_spaniel', 'Pembroke', 'llama',\n",
       "       'Chesapeake_Bay_retriever', 'curly-coated_retriever', 'dalmatian',\n",
       "       'Ibizan_hound', 'Border_collie', 'Labrador_retriever', 'seat_belt',\n",
       "       'snail', 'miniature_schnauzer', 'Airedale', 'triceratops', 'swab',\n",
       "       'hay', 'hyena', 'jigsaw_puzzle', 'West_Highland_white_terrier',\n",
       "       'toy_poodle', 'giant_schnauzer', 'vizsla', 'vacuum', 'Rottweiler',\n",
       "       'Siberian_husky', 'teddy', 'papillon', 'Saint_Bernard',\n",
       "       'porcupine', 'goose', 'Tibetan_terrier', 'borzoi', 'beagle',\n",
       "       'hare', 'Yorkshire_terrier', 'Pomeranian', 'electric_fan',\n",
       "       'web_site', 'ibex', 'kuvasz', 'fire_engine', 'lorikeet',\n",
       "       'flat-coated_retriever', 'toyshop', 'common_iguana',\n",
       "       'Norwegian_elkhound', 'frilled_lizard', 'leatherback_turtle',\n",
       "       'hamster', 'Angora', 'Arctic_fox', 'trombone', 'canoe',\n",
       "       'king_penguin', 'shopping_basket', 'standard_poodle',\n",
       "       'Staffordshire_bullterrier', 'basenji', 'Lakeland_terrier',\n",
       "       'American_Staffordshire_terrier', 'bearskin', 'Shih-Tzu',\n",
       "       'bustard', 'crash_helmet', 'French_bulldog', 'Pekinese',\n",
       "       'komondor', 'ski_mask', 'malinois', 'kelpie', 'Brittany_spaniel',\n",
       "       'cocker_spaniel', 'shower_curtain', 'basset', 'jellyfish',\n",
       "       'doormat', 'Arabian_camel', 'lynx', 'hog', 'comic_book', 'minivan',\n",
       "       'seashore', 'cuirass', 'Brabancon_griffon', 'candle', 'Eskimo_dog',\n",
       "       'weasel', 'Christmas_stocking', 'washbasin', 'car_mirror',\n",
       "       'piggy_bank', 'pot', 'boathouse', 'mud_turtle',\n",
       "       'German_short-haired_pointer', 'Shetland_sheepdog',\n",
       "       'Irish_terrier', 'cairn', 'platypus', 'English_springer',\n",
       "       'whippet', 'ping-pong_ball', 'sea_urchin', 'bow_tie',\n",
       "       'window_shade', \"jack-o'-lantern\", 'sorrel', 'Sussex_spaniel',\n",
       "       'peacock', 'axolotl', 'wool', 'banana', 'Dandie_Dinmont',\n",
       "       'Norwich_terrier', 'wood_rabbit', 'dhole', 'keeshond',\n",
       "       'Norfolk_terrier', 'lacewing', 'dingo', 'brown_bear',\n",
       "       'Old_English_sheepdog', 'scorpion', 'flamingo', 'microphone',\n",
       "       'Samoyed', 'pitcher', 'African_hunting_dog', 'refrigerator',\n",
       "       'picket_fence', 'tub', 'zebra', 'hermit_crab', 'swing', 'Doberman',\n",
       "       'park_bench', 'feather_boa', 'Loafer', 'stone_wall', 'ice_bear',\n",
       "       'prayer_rug', 'chimpanzee', 'china_cabinet', 'bee_eater',\n",
       "       'tennis_ball', 'carton', 'killer_whale', 'ostrich', 'terrapin',\n",
       "       'Siamese_cat', 'gondola', 'Great_Pyrenees', 'microwave',\n",
       "       'starfish', 'sandbar', 'tusker', 'motor_scooter', 'ram',\n",
       "       'leaf_beetle', 'wombat', 'schipperke', 'Newfoundland',\n",
       "       'bull_mastiff', 'water_bottle', 'suit', 'toilet_seat', 'collie',\n",
       "       'robin', 'Cardigan', 'Greater_Swiss_Mountain_dog', 'slug',\n",
       "       'toilet_tissue', 'acorn_squash', 'soccer_ball',\n",
       "       'African_crocodile', 'tick', 'ocarina', 'boxer', 'street_sign',\n",
       "       'bow', 'stove', 'paper_towel', 'upright', 'dough',\n",
       "       'Scottish_deerhound', 'bath_towel', 'standard_schnauzer',\n",
       "       'walking_stick', 'Irish_water_spaniel', 'bubble', 'Boston_bull',\n",
       "       'book_jacket', 'rain_barrel', 'black-footed_ferret', 'guenon',\n",
       "       'Japanese_spaniel', 'water_buffalo', 'patio', 'cowboy_hat',\n",
       "       'dogsled', 'maze', 'harp', 'panpipe', 'cash_machine', 'mailbox',\n",
       "       'wallaby', 'EntleBucher', 'earthstar', 'pillow', 'bluetick',\n",
       "       'space_heater', 'carousel', 'Irish_setter', 'birdhouse', 'snorkel',\n",
       "       'bald_eagle', 'koala', 'Leonberg', 'cheetah', 'minibus',\n",
       "       'Weimaraner', 'clog', 'dishwasher', 'white_wolf', 'sliding_door',\n",
       "       'damselfly', 'Great_Dane', 'Tibetan_mastiff', 'cheeseburger',\n",
       "       'fiddler_crab', 'bannister', 'crane', 'Scotch_terrier',\n",
       "       'snowmobile', 'badger', 'bighorn', 'geyser', 'barrow', 'bison',\n",
       "       'Mexican_hairless', 'ice_lolly', 'sea_lion', 'dining_table',\n",
       "       'groenendael', 'Australian_terrier', 'beaver', 'briard',\n",
       "       'Appenzeller', 'grey_fox', 'mousetrap', 'hippopotamus',\n",
       "       'Border_terrier', 'hummingbird', 'tailed_frog', 'otter',\n",
       "       'Egyptian_cat', 'four-poster', 'wild_boar', 'bathtub', 'agama',\n",
       "       'muzzle', 'hotdog', 'bib', 'espresso', 'timber_wolf', 'meerkat',\n",
       "       'nail', 'hammer', 'home_theater', 'alp', 'bonnet', 'handkerchief',\n",
       "       'hand_blower', 'polecat', 'lakeside', 'studio_couch', 'cup',\n",
       "       'cliff', 'Bedlington_terrier', 'lawn_mower', 'balloon',\n",
       "       'sunglasses', 'rapeseed', 'traffic_light', 'coil', 'binoculars',\n",
       "       'paddle', 'tiger_shark', 'sulphur-crested_cockatoo',\n",
       "       'wire-haired_fox_terrier', 'Saluki', 'American_black_bear',\n",
       "       'rotisserie', 'conch', 'skunk', 'bookshop', 'radio_telescope',\n",
       "       'cougar', 'African_grey', 'coral_reef', 'lion', 'maillot',\n",
       "       'Madagascar_cat', 'tabby', 'silky_terrier', 'giant_panda',\n",
       "       'long-horned_beetle', 'Afghan_hound', 'clumber', 'sundial',\n",
       "       'padlock', 'pool_table', 'quilt', 'beach_wagon', 'remote_control',\n",
       "       'bakery', 'pedestal', 'gas_pump', 'bookcase', 'shield', 'loupe',\n",
       "       'restaurant', 'prison', 'school_bus', 'cowboy_boot', 'jersey',\n",
       "       'wooden_spoon', 'leopard', 'mortarboard', 'teapot',\n",
       "       'military_uniform', 'washer', 'coffee_mug', 'fountain',\n",
       "       'pencil_box', 'barbell', 'grille', 'revolver', 'envelope',\n",
       "       'syringe', 'marmot', 'pole', 'laptop', 'basketball', 'tricycle',\n",
       "       'convertible', 'limousine', 'orange'], dtype=object)"
      ]
     },
     "execution_count": 39,
     "metadata": {},
     "output_type": "execute_result"
    }
   ],
   "source": [
    "image_predictions['p1'].unique()"
   ]
  },
  {
   "cell_type": "code",
   "execution_count": 40,
   "metadata": {
    "scrolled": false
   },
   "outputs": [
    {
     "data": {
      "text/plain": [
       "True     1532\n",
       "False     543\n",
       "Name: p1_dog, dtype: int64"
      ]
     },
     "execution_count": 40,
     "metadata": {},
     "output_type": "execute_result"
    }
   ],
   "source": [
    "image_predictions['p1_dog'].value_counts()"
   ]
  },
  {
   "cell_type": "markdown",
   "metadata": {},
   "source": [
    "543 of the p1 predictions said that the image is not a dog. That is interesting.\n",
    "\n",
    "Find predictions where p1, p2 and p3 all predicted non-dog results"
   ]
  },
  {
   "cell_type": "code",
   "execution_count": 41,
   "metadata": {},
   "outputs": [],
   "source": [
    "non_dog_predictions=image_predictions.query('p1_dog==False and p2_dog==False and p3_dog==False')"
   ]
  },
  {
   "cell_type": "code",
   "execution_count": 42,
   "metadata": {},
   "outputs": [
    {
     "data": {
      "text/plain": [
       "(324, 13)"
      ]
     },
     "execution_count": 42,
     "metadata": {},
     "output_type": "execute_result"
    }
   ],
   "source": [
    "non_dog_predictions.shape"
   ]
  },
  {
   "cell_type": "code",
   "execution_count": 43,
   "metadata": {
    "scrolled": true
   },
   "outputs": [
    {
     "data": {
      "text/html": [
       "<div>\n",
       "<style scoped>\n",
       "    .dataframe tbody tr th:only-of-type {\n",
       "        vertical-align: middle;\n",
       "    }\n",
       "\n",
       "    .dataframe tbody tr th {\n",
       "        vertical-align: top;\n",
       "    }\n",
       "\n",
       "    .dataframe thead th {\n",
       "        text-align: right;\n",
       "    }\n",
       "</style>\n",
       "<table border=\"1\" class=\"dataframe\">\n",
       "  <thead>\n",
       "    <tr style=\"text-align: right;\">\n",
       "      <th></th>\n",
       "      <th>tweet_id</th>\n",
       "      <th>jpg_url</th>\n",
       "      <th>img_num</th>\n",
       "      <th>p1</th>\n",
       "      <th>p1_conf</th>\n",
       "      <th>p1_dog</th>\n",
       "      <th>p2</th>\n",
       "      <th>p2_conf</th>\n",
       "      <th>p2_dog</th>\n",
       "      <th>p3</th>\n",
       "      <th>p3_conf</th>\n",
       "      <th>p3_dog</th>\n",
       "      <th>id_in_archive</th>\n",
       "    </tr>\n",
       "  </thead>\n",
       "  <tbody>\n",
       "    <tr>\n",
       "      <th>6</th>\n",
       "      <td>666051853826850816</td>\n",
       "      <td>https://pbs.twimg.com/media/CT5KoJ1WoAAJash.jpg</td>\n",
       "      <td>1</td>\n",
       "      <td>box_turtle</td>\n",
       "      <td>0.933012</td>\n",
       "      <td>False</td>\n",
       "      <td>mud_turtle</td>\n",
       "      <td>0.045885</td>\n",
       "      <td>False</td>\n",
       "      <td>terrapin</td>\n",
       "      <td>0.017885</td>\n",
       "      <td>False</td>\n",
       "      <td>True</td>\n",
       "    </tr>\n",
       "    <tr>\n",
       "      <th>17</th>\n",
       "      <td>666104133288665088</td>\n",
       "      <td>https://pbs.twimg.com/media/CT56LSZWoAAlJj2.jpg</td>\n",
       "      <td>1</td>\n",
       "      <td>hen</td>\n",
       "      <td>0.965932</td>\n",
       "      <td>False</td>\n",
       "      <td>cock</td>\n",
       "      <td>0.033919</td>\n",
       "      <td>False</td>\n",
       "      <td>partridge</td>\n",
       "      <td>0.000052</td>\n",
       "      <td>False</td>\n",
       "      <td>True</td>\n",
       "    </tr>\n",
       "    <tr>\n",
       "      <th>18</th>\n",
       "      <td>666268910803644416</td>\n",
       "      <td>https://pbs.twimg.com/media/CT8QCd1WEAADXws.jpg</td>\n",
       "      <td>1</td>\n",
       "      <td>desktop_computer</td>\n",
       "      <td>0.086502</td>\n",
       "      <td>False</td>\n",
       "      <td>desk</td>\n",
       "      <td>0.085547</td>\n",
       "      <td>False</td>\n",
       "      <td>bookcase</td>\n",
       "      <td>0.079480</td>\n",
       "      <td>False</td>\n",
       "      <td>True</td>\n",
       "    </tr>\n",
       "    <tr>\n",
       "      <th>21</th>\n",
       "      <td>666293911632134144</td>\n",
       "      <td>https://pbs.twimg.com/media/CT8mx7KW4AEQu8N.jpg</td>\n",
       "      <td>1</td>\n",
       "      <td>three-toed_sloth</td>\n",
       "      <td>0.914671</td>\n",
       "      <td>False</td>\n",
       "      <td>otter</td>\n",
       "      <td>0.015250</td>\n",
       "      <td>False</td>\n",
       "      <td>great_grey_owl</td>\n",
       "      <td>0.013207</td>\n",
       "      <td>False</td>\n",
       "      <td>True</td>\n",
       "    </tr>\n",
       "    <tr>\n",
       "      <th>25</th>\n",
       "      <td>666362758909284353</td>\n",
       "      <td>https://pbs.twimg.com/media/CT9lXGsUcAAyUFt.jpg</td>\n",
       "      <td>1</td>\n",
       "      <td>guinea_pig</td>\n",
       "      <td>0.996496</td>\n",
       "      <td>False</td>\n",
       "      <td>skunk</td>\n",
       "      <td>0.002402</td>\n",
       "      <td>False</td>\n",
       "      <td>hamster</td>\n",
       "      <td>0.000461</td>\n",
       "      <td>False</td>\n",
       "      <td>True</td>\n",
       "    </tr>\n",
       "  </tbody>\n",
       "</table>\n",
       "</div>"
      ],
      "text/plain": [
       "              tweet_id                                          jpg_url  \\\n",
       "6   666051853826850816  https://pbs.twimg.com/media/CT5KoJ1WoAAJash.jpg   \n",
       "17  666104133288665088  https://pbs.twimg.com/media/CT56LSZWoAAlJj2.jpg   \n",
       "18  666268910803644416  https://pbs.twimg.com/media/CT8QCd1WEAADXws.jpg   \n",
       "21  666293911632134144  https://pbs.twimg.com/media/CT8mx7KW4AEQu8N.jpg   \n",
       "25  666362758909284353  https://pbs.twimg.com/media/CT9lXGsUcAAyUFt.jpg   \n",
       "\n",
       "    img_num                p1   p1_conf  p1_dog          p2   p2_conf  p2_dog  \\\n",
       "6         1        box_turtle  0.933012   False  mud_turtle  0.045885   False   \n",
       "17        1               hen  0.965932   False        cock  0.033919   False   \n",
       "18        1  desktop_computer  0.086502   False        desk  0.085547   False   \n",
       "21        1  three-toed_sloth  0.914671   False       otter  0.015250   False   \n",
       "25        1        guinea_pig  0.996496   False       skunk  0.002402   False   \n",
       "\n",
       "                p3   p3_conf  p3_dog  id_in_archive  \n",
       "6         terrapin  0.017885   False           True  \n",
       "17       partridge  0.000052   False           True  \n",
       "18        bookcase  0.079480   False           True  \n",
       "21  great_grey_owl  0.013207   False           True  \n",
       "25         hamster  0.000461   False           True  "
      ]
     },
     "execution_count": 43,
     "metadata": {},
     "output_type": "execute_result"
    }
   ],
   "source": [
    "non_dog_predictions.head()"
   ]
  },
  {
   "cell_type": "markdown",
   "metadata": {},
   "source": [
    "##### Some of these images are actually really NOT DOG!"
   ]
  },
  {
   "cell_type": "code",
   "execution_count": 44,
   "metadata": {},
   "outputs": [
    {
     "data": {
      "text/html": [
       "<div>\n",
       "<style scoped>\n",
       "    .dataframe tbody tr th:only-of-type {\n",
       "        vertical-align: middle;\n",
       "    }\n",
       "\n",
       "    .dataframe tbody tr th {\n",
       "        vertical-align: top;\n",
       "    }\n",
       "\n",
       "    .dataframe thead th {\n",
       "        text-align: right;\n",
       "    }\n",
       "</style>\n",
       "<table border=\"1\" class=\"dataframe\">\n",
       "  <thead>\n",
       "    <tr style=\"text-align: right;\">\n",
       "      <th></th>\n",
       "      <th>tweet_id</th>\n",
       "      <th>jpg_url</th>\n",
       "      <th>img_num</th>\n",
       "      <th>p1</th>\n",
       "      <th>p1_conf</th>\n",
       "      <th>p1_dog</th>\n",
       "      <th>p2</th>\n",
       "      <th>p2_conf</th>\n",
       "      <th>p2_dog</th>\n",
       "      <th>p3</th>\n",
       "      <th>p3_conf</th>\n",
       "      <th>p3_dog</th>\n",
       "      <th>id_in_archive</th>\n",
       "    </tr>\n",
       "  </thead>\n",
       "  <tbody>\n",
       "  </tbody>\n",
       "</table>\n",
       "</div>"
      ],
      "text/plain": [
       "Empty DataFrame\n",
       "Columns: [tweet_id, jpg_url, img_num, p1, p1_conf, p1_dog, p2, p2_conf, p2_dog, p3, p3_conf, p3_dog, id_in_archive]\n",
       "Index: []"
      ]
     },
     "execution_count": 44,
     "metadata": {},
     "output_type": "execute_result"
    }
   ],
   "source": [
    "image_predictions[image_predictions['p1_conf']<image_predictions['p2_conf']]"
   ]
  },
  {
   "cell_type": "code",
   "execution_count": 45,
   "metadata": {
    "scrolled": true
   },
   "outputs": [
    {
     "data": {
      "text/html": [
       "<div>\n",
       "<style scoped>\n",
       "    .dataframe tbody tr th:only-of-type {\n",
       "        vertical-align: middle;\n",
       "    }\n",
       "\n",
       "    .dataframe tbody tr th {\n",
       "        vertical-align: top;\n",
       "    }\n",
       "\n",
       "    .dataframe thead th {\n",
       "        text-align: right;\n",
       "    }\n",
       "</style>\n",
       "<table border=\"1\" class=\"dataframe\">\n",
       "  <thead>\n",
       "    <tr style=\"text-align: right;\">\n",
       "      <th></th>\n",
       "      <th>tweet_id</th>\n",
       "      <th>jpg_url</th>\n",
       "      <th>img_num</th>\n",
       "      <th>p1</th>\n",
       "      <th>p1_conf</th>\n",
       "      <th>p1_dog</th>\n",
       "      <th>p2</th>\n",
       "      <th>p2_conf</th>\n",
       "      <th>p2_dog</th>\n",
       "      <th>p3</th>\n",
       "      <th>p3_conf</th>\n",
       "      <th>p3_dog</th>\n",
       "      <th>id_in_archive</th>\n",
       "    </tr>\n",
       "  </thead>\n",
       "  <tbody>\n",
       "  </tbody>\n",
       "</table>\n",
       "</div>"
      ],
      "text/plain": [
       "Empty DataFrame\n",
       "Columns: [tweet_id, jpg_url, img_num, p1, p1_conf, p1_dog, p2, p2_conf, p2_dog, p3, p3_conf, p3_dog, id_in_archive]\n",
       "Index: []"
      ]
     },
     "execution_count": 45,
     "metadata": {},
     "output_type": "execute_result"
    }
   ],
   "source": [
    "image_predictions[image_predictions['p2_conf']<image_predictions['p3_conf']]"
   ]
  },
  {
   "cell_type": "markdown",
   "metadata": {},
   "source": [
    "The above codes didn't return any rows. So the order of p1, p2 and p3 are correct."
   ]
  },
  {
   "cell_type": "markdown",
   "metadata": {},
   "source": [
    "##### image_predictions tidiness: 3 predictions\n",
    "p1_conf is highest among the 3 predictions, so p1 is closest to what is truly in the image. p2 and p3 are not going to be very helpful for analysis, so I don't need p2 and p3 columns. "
   ]
  },
  {
   "cell_type": "markdown",
   "metadata": {},
   "source": [
    "<a id='updated_info_assessment'></a>"
   ]
  },
  {
   "cell_type": "markdown",
   "metadata": {},
   "source": [
    "[back to top of Data assessment](#assessment)      [back to top of the report](#top)"
   ]
  },
  {
   "cell_type": "markdown",
   "metadata": {},
   "source": [
    "### 2.3 Assessing updated_info"
   ]
  },
  {
   "cell_type": "code",
   "execution_count": 46,
   "metadata": {},
   "outputs": [
    {
     "data": {
      "text/html": [
       "<div>\n",
       "<style scoped>\n",
       "    .dataframe tbody tr th:only-of-type {\n",
       "        vertical-align: middle;\n",
       "    }\n",
       "\n",
       "    .dataframe tbody tr th {\n",
       "        vertical-align: top;\n",
       "    }\n",
       "\n",
       "    .dataframe thead th {\n",
       "        text-align: right;\n",
       "    }\n",
       "</style>\n",
       "<table border=\"1\" class=\"dataframe\">\n",
       "  <thead>\n",
       "    <tr style=\"text-align: right;\">\n",
       "      <th></th>\n",
       "      <th>expanded_url</th>\n",
       "      <th>external_url</th>\n",
       "      <th>favorite_count</th>\n",
       "      <th>media_types</th>\n",
       "      <th>num_medias</th>\n",
       "      <th>retweet_count</th>\n",
       "      <th>tweet_id</th>\n",
       "    </tr>\n",
       "  </thead>\n",
       "  <tbody>\n",
       "    <tr>\n",
       "      <th>0</th>\n",
       "      <td>https://twitter.com/dog_rates/status/892420643...</td>\n",
       "      <td>None</td>\n",
       "      <td>38509</td>\n",
       "      <td>photo</td>\n",
       "      <td>1</td>\n",
       "      <td>8487</td>\n",
       "      <td>892420643555336193</td>\n",
       "    </tr>\n",
       "    <tr>\n",
       "      <th>1</th>\n",
       "      <td>https://twitter.com/dog_rates/status/892177421...</td>\n",
       "      <td>None</td>\n",
       "      <td>33011</td>\n",
       "      <td>photo</td>\n",
       "      <td>1</td>\n",
       "      <td>6243</td>\n",
       "      <td>892177421306343426</td>\n",
       "    </tr>\n",
       "    <tr>\n",
       "      <th>2</th>\n",
       "      <td>https://twitter.com/dog_rates/status/891815181...</td>\n",
       "      <td>None</td>\n",
       "      <td>24847</td>\n",
       "      <td>photo</td>\n",
       "      <td>1</td>\n",
       "      <td>4138</td>\n",
       "      <td>891815181378084864</td>\n",
       "    </tr>\n",
       "    <tr>\n",
       "      <th>3</th>\n",
       "      <td>https://twitter.com/dog_rates/status/891689557...</td>\n",
       "      <td>None</td>\n",
       "      <td>41899</td>\n",
       "      <td>photo</td>\n",
       "      <td>1</td>\n",
       "      <td>8611</td>\n",
       "      <td>891689557279858688</td>\n",
       "    </tr>\n",
       "    <tr>\n",
       "      <th>4</th>\n",
       "      <td>https://twitter.com/dog_rates/status/891327558...</td>\n",
       "      <td>None</td>\n",
       "      <td>40028</td>\n",
       "      <td>photo</td>\n",
       "      <td>2</td>\n",
       "      <td>9348</td>\n",
       "      <td>891327558926688256</td>\n",
       "    </tr>\n",
       "  </tbody>\n",
       "</table>\n",
       "</div>"
      ],
      "text/plain": [
       "                                        expanded_url external_url  \\\n",
       "0  https://twitter.com/dog_rates/status/892420643...         None   \n",
       "1  https://twitter.com/dog_rates/status/892177421...         None   \n",
       "2  https://twitter.com/dog_rates/status/891815181...         None   \n",
       "3  https://twitter.com/dog_rates/status/891689557...         None   \n",
       "4  https://twitter.com/dog_rates/status/891327558...         None   \n",
       "\n",
       "   favorite_count media_types  num_medias  retweet_count            tweet_id  \n",
       "0           38509       photo           1           8487  892420643555336193  \n",
       "1           33011       photo           1           6243  892177421306343426  \n",
       "2           24847       photo           1           4138  891815181378084864  \n",
       "3           41899       photo           1           8611  891689557279858688  \n",
       "4           40028       photo           2           9348  891327558926688256  "
      ]
     },
     "execution_count": 46,
     "metadata": {},
     "output_type": "execute_result"
    }
   ],
   "source": [
    "updated_info.head()"
   ]
  },
  {
   "cell_type": "code",
   "execution_count": 47,
   "metadata": {
    "scrolled": true
   },
   "outputs": [
    {
     "data": {
      "text/plain": [
       "0"
      ]
     },
     "execution_count": 47,
     "metadata": {},
     "output_type": "execute_result"
    }
   ],
   "source": [
    "updated_info['tweet_id'].duplicated().sum()"
   ]
  },
  {
   "cell_type": "markdown",
   "metadata": {},
   "source": [
    "No duplicates"
   ]
  },
  {
   "cell_type": "code",
   "execution_count": 48,
   "metadata": {
    "scrolled": false
   },
   "outputs": [
    {
     "data": {
      "text/html": [
       "<div>\n",
       "<style scoped>\n",
       "    .dataframe tbody tr th:only-of-type {\n",
       "        vertical-align: middle;\n",
       "    }\n",
       "\n",
       "    .dataframe tbody tr th {\n",
       "        vertical-align: top;\n",
       "    }\n",
       "\n",
       "    .dataframe thead th {\n",
       "        text-align: right;\n",
       "    }\n",
       "</style>\n",
       "<table border=\"1\" class=\"dataframe\">\n",
       "  <thead>\n",
       "    <tr style=\"text-align: right;\">\n",
       "      <th></th>\n",
       "      <th>favorite_count</th>\n",
       "      <th>num_medias</th>\n",
       "      <th>retweet_count</th>\n",
       "      <th>tweet_id</th>\n",
       "    </tr>\n",
       "  </thead>\n",
       "  <tbody>\n",
       "    <tr>\n",
       "      <th>count</th>\n",
       "      <td>2342.000000</td>\n",
       "      <td>2342.000000</td>\n",
       "      <td>2342.000000</td>\n",
       "      <td>2.342000e+03</td>\n",
       "    </tr>\n",
       "    <tr>\n",
       "      <th>mean</th>\n",
       "      <td>8045.829206</td>\n",
       "      <td>1.253629</td>\n",
       "      <td>2982.694278</td>\n",
       "      <td>7.422646e+17</td>\n",
       "    </tr>\n",
       "    <tr>\n",
       "      <th>std</th>\n",
       "      <td>12355.651713</td>\n",
       "      <td>0.904529</td>\n",
       "      <td>4989.083417</td>\n",
       "      <td>6.837466e+16</td>\n",
       "    </tr>\n",
       "    <tr>\n",
       "      <th>min</th>\n",
       "      <td>0.000000</td>\n",
       "      <td>0.000000</td>\n",
       "      <td>0.000000</td>\n",
       "      <td>6.660209e+17</td>\n",
       "    </tr>\n",
       "    <tr>\n",
       "      <th>25%</th>\n",
       "      <td>1393.250000</td>\n",
       "      <td>1.000000</td>\n",
       "      <td>600.000000</td>\n",
       "      <td>6.783509e+17</td>\n",
       "    </tr>\n",
       "    <tr>\n",
       "      <th>50%</th>\n",
       "      <td>3512.500000</td>\n",
       "      <td>1.000000</td>\n",
       "      <td>1395.500000</td>\n",
       "      <td>7.186224e+17</td>\n",
       "    </tr>\n",
       "    <tr>\n",
       "      <th>75%</th>\n",
       "      <td>9888.750000</td>\n",
       "      <td>1.000000</td>\n",
       "      <td>3478.500000</td>\n",
       "      <td>7.987010e+17</td>\n",
       "    </tr>\n",
       "    <tr>\n",
       "      <th>max</th>\n",
       "      <td>159547.000000</td>\n",
       "      <td>4.000000</td>\n",
       "      <td>83560.000000</td>\n",
       "      <td>8.924206e+17</td>\n",
       "    </tr>\n",
       "  </tbody>\n",
       "</table>\n",
       "</div>"
      ],
      "text/plain": [
       "       favorite_count   num_medias  retweet_count      tweet_id\n",
       "count     2342.000000  2342.000000    2342.000000  2.342000e+03\n",
       "mean      8045.829206     1.253629    2982.694278  7.422646e+17\n",
       "std      12355.651713     0.904529    4989.083417  6.837466e+16\n",
       "min          0.000000     0.000000       0.000000  6.660209e+17\n",
       "25%       1393.250000     1.000000     600.000000  6.783509e+17\n",
       "50%       3512.500000     1.000000    1395.500000  7.186224e+17\n",
       "75%       9888.750000     1.000000    3478.500000  7.987010e+17\n",
       "max     159547.000000     4.000000   83560.000000  8.924206e+17"
      ]
     },
     "execution_count": 48,
     "metadata": {},
     "output_type": "execute_result"
    }
   ],
   "source": [
    "updated_info.describe()"
   ]
  },
  {
   "cell_type": "markdown",
   "metadata": {},
   "source": [
    "##### updated_info tidiness: this dataframe contain features of individual tweets. It should be in the same table as archive."
   ]
  },
  {
   "cell_type": "markdown",
   "metadata": {},
   "source": [
    "<a id='assessment_summary'></a>"
   ]
  },
  {
   "cell_type": "markdown",
   "metadata": {},
   "source": [
    "[back to top of Data assessment](#assessment)      [back to top of the report](#top)"
   ]
  },
  {
   "cell_type": "markdown",
   "metadata": {},
   "source": [
    "### 2.4 Summary of assessment:\n",
    "***archive quality:***  \n",
    "1. timestamps are strings, instead of datetime\n",
    "2. replies and retweets\n",
    "3. 13 tweets no longer exist\n",
    "4. source values are difficult to read\n",
    "5. multiple copies of url in same row\n",
    "6. inaccurate rating_numerator and rating_denominator\n",
    "7. multiple dog stages in single tweet\n",
    "8. need one additional column \"num_images\"\n",
    "9. inaccurate in dog names\n",
    "<br>\n",
    "\n",
    "***archive tidiness:*** \n",
    "1.\texternal urls included in expanded_urls\n",
    "2.\tdog stages spread into 4 columns\n",
    "\n",
    "***image_predictions quality:*** \n",
    "   1. duplicates of images and jpg_urls. This probably because some images are from reply or retweet\n",
    "   \n",
    "\n",
    "***image_predictions tidiness:*** \n",
    "   1. only 1 predictions result is enough.    \n",
    "\n",
    "***updated_info tidiness:*** \n",
    "   1. this dataframe belongs together with archive"
   ]
  },
  {
   "cell_type": "markdown",
   "metadata": {},
   "source": [
    "<a id='cleaning'></a>"
   ]
  },
  {
   "cell_type": "markdown",
   "metadata": {},
   "source": [
    "[back to top of the report](#top)"
   ]
  },
  {
   "cell_type": "markdown",
   "metadata": {},
   "source": [
    "## 3. Data cleaning\n",
    "***table of contents***:<br>\n",
    "    3.1 [merge archive and updated_info](#merge_archive_and_updated_info)    <br>\n",
    "    3.2 [convert timestamp to datetime](#convert_timestamp_to_datetime)    <br>\n",
    "    3.3 [remove replies and retweets](#remove_replies_retweets)    <br>\n",
    "    3.4 [remove non-existing tweets](#non_existing_tweets)    <br>\n",
    "    3.5 [extract clear source values](#source)    <br>\n",
    "    3.6 [remove extra copies in expanded_urls in same row](#expanded_urls)    <br>\n",
    "    3.7 [reextract accurate ratings](#correct_ratings)    <br>\n",
    "    3.8 [melt 4 dog stages columns into 1](#dog_stages)    <br>\n",
    "    3.9 [correct dog stages that have multiple values](#multiple_stages)    <br>\n",
    "    3.10 [correct dog names](#dog_names)<br>\n",
    "    3.11 [remove duplicate images in image_predictions ](#jpg_url_duplicated)    <br>\n",
    "    3.12 [drop p2 and p3 predictions in image_predictions](#drop_p2_p3)    <br>\n",
    "    3.13 [merge and save cleaned data](#merge_and_save)"
   ]
  },
  {
   "cell_type": "markdown",
   "metadata": {},
   "source": [
    "<a id='merge_archive_and_updated_info'></a>"
   ]
  },
  {
   "cell_type": "markdown",
   "metadata": {},
   "source": [
    "### 3.1 merge archive and updated_info\n",
    "***plan***: \n",
    " - merge archive and more_info to updated_archive\n",
    " - make a copy of updated_archive, **archive_clean** for cleaning"
   ]
  },
  {
   "cell_type": "markdown",
   "metadata": {},
   "source": [
    "***code***:"
   ]
  },
  {
   "cell_type": "code",
   "execution_count": 49,
   "metadata": {
    "scrolled": true
   },
   "outputs": [],
   "source": [
    "# merge archive and more_info to updated_archive by inner join\n",
    "updated_archive=pd.merge(archive, updated_info, on='tweet_id', how='inner')"
   ]
  },
  {
   "cell_type": "markdown",
   "metadata": {},
   "source": [
    "**The above inner join removed the 14 tweets that were not gathered.**"
   ]
  },
  {
   "cell_type": "code",
   "execution_count": 50,
   "metadata": {},
   "outputs": [],
   "source": [
    "# make a copy of updated_archive, archive_clean for cleaning\n",
    "archive_clean=updated_archive.copy()"
   ]
  },
  {
   "cell_type": "markdown",
   "metadata": {},
   "source": [
    "***test***:"
   ]
  },
  {
   "cell_type": "code",
   "execution_count": 51,
   "metadata": {
    "scrolled": true
   },
   "outputs": [
    {
     "data": {
      "text/plain": [
       "((2356, 18), (2342, 7), (2342, 24))"
      ]
     },
     "execution_count": 51,
     "metadata": {},
     "output_type": "execute_result"
    }
   ],
   "source": [
    "archive.shape, updated_info.shape, archive_clean.shape"
   ]
  },
  {
   "cell_type": "markdown",
   "metadata": {},
   "source": [
    "<a id='convert_timestamp_to_datetime'></a>"
   ]
  },
  {
   "cell_type": "markdown",
   "metadata": {},
   "source": [
    "[back to top of Data cleaning](#cleaning)  [back to top of the report](#top)"
   ]
  },
  {
   "cell_type": "markdown",
   "metadata": {},
   "source": [
    "### 3.2 convert timestamp to datetime"
   ]
  },
  {
   "cell_type": "markdown",
   "metadata": {},
   "source": [
    "***plan***: \n",
    " - use datetime method to convert the column to datetime date type"
   ]
  },
  {
   "cell_type": "markdown",
   "metadata": {},
   "source": [
    "***code***:"
   ]
  },
  {
   "cell_type": "code",
   "execution_count": 52,
   "metadata": {},
   "outputs": [
    {
     "data": {
      "text/html": [
       "<div>\n",
       "<style scoped>\n",
       "    .dataframe tbody tr th:only-of-type {\n",
       "        vertical-align: middle;\n",
       "    }\n",
       "\n",
       "    .dataframe tbody tr th {\n",
       "        vertical-align: top;\n",
       "    }\n",
       "\n",
       "    .dataframe thead th {\n",
       "        text-align: right;\n",
       "    }\n",
       "</style>\n",
       "<table border=\"1\" class=\"dataframe\">\n",
       "  <thead>\n",
       "    <tr style=\"text-align: right;\">\n",
       "      <th></th>\n",
       "    </tr>\n",
       "  </thead>\n",
       "  <tbody>\n",
       "    <tr>\n",
       "      <th>0</th>\n",
       "    </tr>\n",
       "    <tr>\n",
       "      <th>1</th>\n",
       "    </tr>\n",
       "  </tbody>\n",
       "</table>\n",
       "</div>"
      ],
      "text/plain": [
       "Empty DataFrame\n",
       "Columns: []\n",
       "Index: [0, 1]"
      ]
     },
     "execution_count": 52,
     "metadata": {},
     "output_type": "execute_result"
    }
   ],
   "source": [
    "archive_clean.select_dtypes(include=[np.datetime64]).head(2)"
   ]
  },
  {
   "cell_type": "code",
   "execution_count": 53,
   "metadata": {
    "scrolled": true
   },
   "outputs": [],
   "source": [
    "archive_clean['timestamp']=pd.to_datetime(archive_clean['timestamp'])"
   ]
  },
  {
   "cell_type": "markdown",
   "metadata": {},
   "source": [
    "***test***:"
   ]
  },
  {
   "cell_type": "code",
   "execution_count": 54,
   "metadata": {},
   "outputs": [
    {
     "data": {
      "text/html": [
       "<div>\n",
       "<style scoped>\n",
       "    .dataframe tbody tr th:only-of-type {\n",
       "        vertical-align: middle;\n",
       "    }\n",
       "\n",
       "    .dataframe tbody tr th {\n",
       "        vertical-align: top;\n",
       "    }\n",
       "\n",
       "    .dataframe thead th {\n",
       "        text-align: right;\n",
       "    }\n",
       "</style>\n",
       "<table border=\"1\" class=\"dataframe\">\n",
       "  <thead>\n",
       "    <tr style=\"text-align: right;\">\n",
       "      <th></th>\n",
       "      <th>timestamp</th>\n",
       "    </tr>\n",
       "  </thead>\n",
       "  <tbody>\n",
       "    <tr>\n",
       "      <th>0</th>\n",
       "      <td>2017-08-01 16:23:56</td>\n",
       "    </tr>\n",
       "    <tr>\n",
       "      <th>1</th>\n",
       "      <td>2017-08-01 00:17:27</td>\n",
       "    </tr>\n",
       "  </tbody>\n",
       "</table>\n",
       "</div>"
      ],
      "text/plain": [
       "            timestamp\n",
       "0 2017-08-01 16:23:56\n",
       "1 2017-08-01 00:17:27"
      ]
     },
     "execution_count": 54,
     "metadata": {},
     "output_type": "execute_result"
    }
   ],
   "source": [
    "archive_clean.select_dtypes(include=[np.datetime64]).head(2)"
   ]
  },
  {
   "cell_type": "markdown",
   "metadata": {},
   "source": [
    "<a id='remove_replies_retweets'></a>"
   ]
  },
  {
   "cell_type": "markdown",
   "metadata": {},
   "source": [
    "[back to top of Data cleaning](#cleaning)  [back to top of the report](#top)"
   ]
  },
  {
   "cell_type": "markdown",
   "metadata": {},
   "source": [
    "### 3.3 remove replies and retweets\n",
    "***plan***: \n",
    " - remove rows whose \"in_reply_to_status_id\" is not NaN\n",
    " - remove rows whose \"retweeted_status_id\" is not NaN\n",
    " - drop the columns \"in_reply_to_status_id\", \"in_reply_to_user_id\", \"retweeted_status_id\", \"retweeted_status_user_id\", \"retweeted_status_timestamp\""
   ]
  },
  {
   "cell_type": "markdown",
   "metadata": {},
   "source": [
    "***code***: remove replies and retweets"
   ]
  },
  {
   "cell_type": "markdown",
   "metadata": {},
   "source": [
    "There are 78 replies and 169 retweets"
   ]
  },
  {
   "cell_type": "code",
   "execution_count": 55,
   "metadata": {},
   "outputs": [],
   "source": [
    "# remove replies\n",
    "archive_clean=archive_clean[archive_clean['in_reply_to_status_id'].isnull()]"
   ]
  },
  {
   "cell_type": "code",
   "execution_count": 56,
   "metadata": {},
   "outputs": [],
   "source": [
    "# remove retweets\n",
    "archive_clean=archive_clean[archive_clean['retweeted_status_id'].isnull()]"
   ]
  },
  {
   "cell_type": "markdown",
   "metadata": {},
   "source": [
    "***test***:"
   ]
  },
  {
   "cell_type": "code",
   "execution_count": 57,
   "metadata": {
    "scrolled": true
   },
   "outputs": [
    {
     "name": "stdout",
     "output_type": "stream",
     "text": [
      "<class 'pandas.core.frame.DataFrame'>\n",
      "Int64Index: 2096 entries, 0 to 2341\n",
      "Data columns (total 24 columns):\n",
      "tweet_id                      2096 non-null int64\n",
      "in_reply_to_status_id         0 non-null float64\n",
      "in_reply_to_user_id           0 non-null float64\n",
      "timestamp                     2096 non-null datetime64[ns]\n",
      "source                        2096 non-null object\n",
      "text                          2096 non-null object\n",
      "retweeted_status_id           0 non-null float64\n",
      "retweeted_status_user_id      0 non-null float64\n",
      "retweeted_status_timestamp    0 non-null object\n",
      "expanded_urls                 2093 non-null object\n",
      "rating_numerator              2096 non-null int64\n",
      "rating_denominator            2096 non-null int64\n",
      "name                          2096 non-null object\n",
      "doggo                         2096 non-null object\n",
      "floofer                       2096 non-null object\n",
      "pupper                        2096 non-null object\n",
      "puppo                         2096 non-null object\n",
      "rating                        2096 non-null object\n",
      "expanded_url                  2096 non-null object\n",
      "external_url                  2096 non-null object\n",
      "favorite_count                2096 non-null int64\n",
      "media_types                   2096 non-null object\n",
      "num_medias                    2096 non-null int64\n",
      "retweet_count                 2096 non-null int64\n",
      "dtypes: datetime64[ns](1), float64(4), int64(6), object(13)\n",
      "memory usage: 409.4+ KB\n"
     ]
    }
   ],
   "source": [
    "archive_clean.info()"
   ]
  },
  {
   "cell_type": "markdown",
   "metadata": {},
   "source": [
    "replies and retweets are removed."
   ]
  },
  {
   "cell_type": "markdown",
   "metadata": {},
   "source": [
    "***code***:drop the columns \"in_reply_to_status_id\", \"in_reply_to_user_id\", \"retweeted_status_id\", \"retweeted_status_user_id\", \"retweeted_status_timestamp\""
   ]
  },
  {
   "cell_type": "code",
   "execution_count": 58,
   "metadata": {},
   "outputs": [],
   "source": [
    "columns_to_remove=[\"in_reply_to_status_id\", \"in_reply_to_user_id\", \"retweeted_status_id\", \"retweeted_status_user_id\", \"retweeted_status_timestamp\"]\n",
    "archive_clean.drop(columns=columns_to_remove, inplace=True)"
   ]
  },
  {
   "cell_type": "markdown",
   "metadata": {},
   "source": [
    "***test***:"
   ]
  },
  {
   "cell_type": "code",
   "execution_count": 59,
   "metadata": {
    "scrolled": false
   },
   "outputs": [
    {
     "name": "stdout",
     "output_type": "stream",
     "text": [
      "<class 'pandas.core.frame.DataFrame'>\n",
      "Int64Index: 2096 entries, 0 to 2341\n",
      "Data columns (total 19 columns):\n",
      "tweet_id              2096 non-null int64\n",
      "timestamp             2096 non-null datetime64[ns]\n",
      "source                2096 non-null object\n",
      "text                  2096 non-null object\n",
      "expanded_urls         2093 non-null object\n",
      "rating_numerator      2096 non-null int64\n",
      "rating_denominator    2096 non-null int64\n",
      "name                  2096 non-null object\n",
      "doggo                 2096 non-null object\n",
      "floofer               2096 non-null object\n",
      "pupper                2096 non-null object\n",
      "puppo                 2096 non-null object\n",
      "rating                2096 non-null object\n",
      "expanded_url          2096 non-null object\n",
      "external_url          2096 non-null object\n",
      "favorite_count        2096 non-null int64\n",
      "media_types           2096 non-null object\n",
      "num_medias            2096 non-null int64\n",
      "retweet_count         2096 non-null int64\n",
      "dtypes: datetime64[ns](1), int64(6), object(12)\n",
      "memory usage: 327.5+ KB\n"
     ]
    }
   ],
   "source": [
    "archive_clean.info()"
   ]
  },
  {
   "cell_type": "markdown",
   "metadata": {},
   "source": [
    "<a id=\"non_existing_tweets\"></a>"
   ]
  },
  {
   "cell_type": "markdown",
   "metadata": {},
   "source": [
    "[back to top of Data cleaning](#cleaning)  [back to top of the report](#top)"
   ]
  },
  {
   "cell_type": "markdown",
   "metadata": {},
   "source": [
    "### 3.4 remove non-existing tweets\n",
    "This was done already previously by inner join archive and more_info dataframe"
   ]
  },
  {
   "cell_type": "markdown",
   "metadata": {},
   "source": [
    "<a id=\"source\"></a>"
   ]
  },
  {
   "cell_type": "markdown",
   "metadata": {},
   "source": [
    "### 3.5\textract clear source values\n",
    "***plan***: \n",
    " - use BeautifulSoup to extract text from source"
   ]
  },
  {
   "cell_type": "markdown",
   "metadata": {},
   "source": [
    "***code***:"
   ]
  },
  {
   "cell_type": "code",
   "execution_count": 60,
   "metadata": {
    "scrolled": true
   },
   "outputs": [
    {
     "data": {
      "text/plain": [
       "array(['<a href=\"http://twitter.com/download/iphone\" rel=\"nofollow\">Twitter for iPhone</a>',\n",
       "       '<a href=\"http://twitter.com\" rel=\"nofollow\">Twitter Web Client</a>',\n",
       "       '<a href=\"http://vine.co\" rel=\"nofollow\">Vine - Make a Scene</a>',\n",
       "       '<a href=\"https://about.twitter.com/products/tweetdeck\" rel=\"nofollow\">TweetDeck</a>'],\n",
       "      dtype=object)"
      ]
     },
     "execution_count": 60,
     "metadata": {},
     "output_type": "execute_result"
    }
   ],
   "source": [
    "archive_clean['source'].unique()"
   ]
  },
  {
   "cell_type": "code",
   "execution_count": 61,
   "metadata": {
    "scrolled": false
   },
   "outputs": [],
   "source": [
    "#extract source\n",
    "from bs4 import BeautifulSoup as BS\n",
    "archive_clean['source']=archive_clean.apply(lambda x:BS(x['source'], 'lxml').find('a').text if type(x['source'])==str else \"None\", axis=1)"
   ]
  },
  {
   "cell_type": "markdown",
   "metadata": {},
   "source": [
    "***test***:"
   ]
  },
  {
   "cell_type": "code",
   "execution_count": 62,
   "metadata": {
    "scrolled": true
   },
   "outputs": [
    {
     "data": {
      "text/plain": [
       "array(['Twitter for iPhone', 'Twitter Web Client', 'Vine - Make a Scene',\n",
       "       'TweetDeck'], dtype=object)"
      ]
     },
     "execution_count": 62,
     "metadata": {},
     "output_type": "execute_result"
    }
   ],
   "source": [
    "archive_clean['source'].unique()"
   ]
  },
  {
   "cell_type": "markdown",
   "metadata": {},
   "source": [
    "<a id='expanded_urls'></a>"
   ]
  },
  {
   "cell_type": "markdown",
   "metadata": {},
   "source": [
    "[back to top of Data cleaning](#cleaning)  [back to top of the report](#top)"
   ]
  },
  {
   "cell_type": "markdown",
   "metadata": {},
   "source": [
    "### 3.6\tremove extra copies in expanded_urls in same row\n",
    "Previously I extracted expanded_url, external_url, and num_medias from the saved json text file. These three columns are the clean version of expanded_urls in arichive.\n",
    "<br>\n",
    "***plan***: drop the column expanded_urls"
   ]
  },
  {
   "cell_type": "markdown",
   "metadata": {},
   "source": [
    "***code:*** drop expanded_urls"
   ]
  },
  {
   "cell_type": "code",
   "execution_count": 63,
   "metadata": {},
   "outputs": [],
   "source": [
    "archive_clean.drop(columns='expanded_urls', inplace=True)"
   ]
  },
  {
   "cell_type": "markdown",
   "metadata": {},
   "source": [
    "***test***:"
   ]
  },
  {
   "cell_type": "code",
   "execution_count": 64,
   "metadata": {},
   "outputs": [
    {
     "data": {
      "text/plain": [
       "array(['https://twitter.com', 'None'], dtype=object)"
      ]
     },
     "execution_count": 64,
     "metadata": {},
     "output_type": "execute_result"
    }
   ],
   "source": [
    "archive_clean['expanded_url'].str[:19].unique()"
   ]
  },
  {
   "cell_type": "code",
   "execution_count": 65,
   "metadata": {
    "scrolled": true
   },
   "outputs": [
    {
     "data": {
      "text/plain": [
       "/photo/1    1898\n",
       "None         126\n",
       "/video/1      72\n",
       "Name: expanded_url, dtype: int64"
      ]
     },
     "execution_count": 65,
     "metadata": {},
     "output_type": "execute_result"
    }
   ],
   "source": [
    "archive_clean['expanded_url'].str[-8:].value_counts()"
   ]
  },
  {
   "cell_type": "markdown",
   "metadata": {},
   "source": [
    "The column \"expanded_url\" now only contain twitter urls for photo or videos."
   ]
  },
  {
   "cell_type": "code",
   "execution_count": 66,
   "metadata": {
    "scrolled": false
   },
   "outputs": [
    {
     "data": {
      "text/plain": [
       "{'',\n",
       " 'http://goo.gl/',\n",
       " 'http://us.blastingnews.com/',\n",
       " 'http://www.gofundme.com/',\n",
       " 'https://gofundme.com/',\n",
       " 'https://m.facebook.com/',\n",
       " 'https://m.youtube.com/',\n",
       " 'https://twitter.com/',\n",
       " 'https://vine.co/',\n",
       " 'https://www.gofundme.com/',\n",
       " 'https://www.loveyourmelon.com/',\n",
       " 'https://www.petfinder.com/'}"
      ]
     },
     "execution_count": 66,
     "metadata": {},
     "output_type": "execute_result"
    }
   ],
   "source": [
    "#use regular expression to extract domain names of external_url\n",
    "import re\n",
    "regex=re.compile('https?://[^/]*/')\n",
    "externalURL=[\",\".join(regex.findall(x)) if type(x)==str else \"None\" for x in archive_clean['external_url'] ]\n",
    "set(externalURL)"
   ]
  },
  {
   "cell_type": "code",
   "execution_count": 67,
   "metadata": {},
   "outputs": [
    {
     "data": {
      "text/plain": [
       "Index(['tweet_id', 'timestamp', 'source', 'text', 'rating_numerator',\n",
       "       'rating_denominator', 'name', 'doggo', 'floofer', 'pupper', 'puppo',\n",
       "       'rating', 'expanded_url', 'external_url', 'favorite_count',\n",
       "       'media_types', 'num_medias', 'retweet_count'],\n",
       "      dtype='object')"
      ]
     },
     "execution_count": 67,
     "metadata": {},
     "output_type": "execute_result"
    }
   ],
   "source": [
    "archive_clean.columns"
   ]
  },
  {
   "cell_type": "markdown",
   "metadata": {},
   "source": [
    "<a id='correct_ratings'></a>"
   ]
  },
  {
   "cell_type": "markdown",
   "metadata": {},
   "source": [
    "[back to top of Data cleaning](#cleaning)  [back to top of the report](#top)"
   ]
  },
  {
   "cell_type": "markdown",
   "metadata": {},
   "source": [
    "### 3.7 reextract accurate ratings \n",
    "***plan***:\n",
    " - make a copy of archive_clean, rating_df\n",
    " - extract ratings from 'text' by regular expression to lists.\n",
    " - for lists of length 1, if denominator is multiplication fo 10, normalize to 10; if denominator is not 10, regard the rating as 'None'\n",
    " - for lists of length larger than 1, check the original text and find out which rating is the intended one."
   ]
  },
  {
   "cell_type": "markdown",
   "metadata": {},
   "source": [
    "***code***: make a copy rating_df, and extract ratings"
   ]
  },
  {
   "cell_type": "code",
   "execution_count": 68,
   "metadata": {},
   "outputs": [
    {
     "data": {
      "text/html": [
       "<div>\n",
       "<style scoped>\n",
       "    .dataframe tbody tr th:only-of-type {\n",
       "        vertical-align: middle;\n",
       "    }\n",
       "\n",
       "    .dataframe tbody tr th {\n",
       "        vertical-align: top;\n",
       "    }\n",
       "\n",
       "    .dataframe thead th {\n",
       "        text-align: right;\n",
       "    }\n",
       "</style>\n",
       "<table border=\"1\" class=\"dataframe\">\n",
       "  <thead>\n",
       "    <tr style=\"text-align: right;\">\n",
       "      <th></th>\n",
       "      <th>tweet_id</th>\n",
       "      <th>text</th>\n",
       "    </tr>\n",
       "  </thead>\n",
       "  <tbody>\n",
       "    <tr>\n",
       "      <th>0</th>\n",
       "      <td>892420643555336193</td>\n",
       "      <td>This is Phineas. He's a mystical boy. Only eve...</td>\n",
       "    </tr>\n",
       "    <tr>\n",
       "      <th>1</th>\n",
       "      <td>892177421306343426</td>\n",
       "      <td>This is Tilly. She's just checking pup on you....</td>\n",
       "    </tr>\n",
       "    <tr>\n",
       "      <th>2</th>\n",
       "      <td>891815181378084864</td>\n",
       "      <td>This is Archie. He is a rare Norwegian Pouncin...</td>\n",
       "    </tr>\n",
       "    <tr>\n",
       "      <th>3</th>\n",
       "      <td>891689557279858688</td>\n",
       "      <td>This is Darla. She commenced a snooze mid meal...</td>\n",
       "    </tr>\n",
       "    <tr>\n",
       "      <th>4</th>\n",
       "      <td>891327558926688256</td>\n",
       "      <td>This is Franklin. He would like you to stop ca...</td>\n",
       "    </tr>\n",
       "  </tbody>\n",
       "</table>\n",
       "</div>"
      ],
      "text/plain": [
       "             tweet_id                                               text\n",
       "0  892420643555336193  This is Phineas. He's a mystical boy. Only eve...\n",
       "1  892177421306343426  This is Tilly. She's just checking pup on you....\n",
       "2  891815181378084864  This is Archie. He is a rare Norwegian Pouncin...\n",
       "3  891689557279858688  This is Darla. She commenced a snooze mid meal...\n",
       "4  891327558926688256  This is Franklin. He would like you to stop ca..."
      ]
     },
     "execution_count": 68,
     "metadata": {},
     "output_type": "execute_result"
    }
   ],
   "source": [
    "# make a copy rating_df for cleaning ratings\n",
    "rating_df=archive_clean.copy()\n",
    "rating_df.drop(columns=['timestamp', 'source','rating_numerator',\n",
    "       'rating_denominator', 'name', 'doggo', 'floofer', 'pupper', 'puppo',\n",
    "       'rating', 'expanded_url', 'external_url', 'favorite_count',\n",
    "       'media_types', 'num_medias', 'retweet_count'], inplace=True)\n",
    "rating_df.head()"
   ]
  },
  {
   "cell_type": "code",
   "execution_count": 69,
   "metadata": {},
   "outputs": [],
   "source": [
    "#extract ratings from text\n",
    "regex=re.compile('\\D*(\\d+/\\d+)\\D*')\n",
    "rating_df['newly_extracted_rating']=rating_df.apply(lambda x:\",\".join(regex.findall(x['text'])) if x['text'] is not None else \"None\", axis=1)"
   ]
  },
  {
   "cell_type": "markdown",
   "metadata": {},
   "source": [
    "***test***:"
   ]
  },
  {
   "cell_type": "code",
   "execution_count": 70,
   "metadata": {
    "scrolled": false
   },
   "outputs": [
    {
     "data": {
      "text/plain": [
       "array(['13/10', '12/10', '14/10', '5/10', '11/10', '6/10', '10/10',\n",
       "       '0/10', '84/70', '24/7', '75/10', '27/10', '3/10', '12/10,11/10',\n",
       "       '7/10', '8/10', '9/10', '4/10', '165/150', '1776/10', '10/10,7/10',\n",
       "       '9/11,14/10', '204/170', '4/20,13/10', '50/50,11/10', '10/10,8/10',\n",
       "       '99/90', '80/80', '45/50', '60/50', '9/10,2/10', '44/40',\n",
       "       '4/10,13/10', '10/10,5/10', '5/10,10/10', '10/10,6/10',\n",
       "       '11/10,10/10', '121/110', '7/11,10/10', '26/10', '2/10', '144/120',\n",
       "       '10/10,11/10', '88/80', '1/10', '10/10,4/10', '5/10,8/10',\n",
       "       '8/10,11/10', '10/10,7/10,12/10', '11/10,8/10', '420/10',\n",
       "       '8/10,1/10', '7/10,8/10', '10/10,10/10', '1/2,9/10'], dtype=object)"
      ]
     },
     "execution_count": 70,
     "metadata": {},
     "output_type": "execute_result"
    }
   ],
   "source": [
    "rating_df['newly_extracted_rating'].unique()"
   ]
  },
  {
   "cell_type": "markdown",
   "metadata": {},
   "source": [
    "Most texts have 1 rating in them, some have 2 ratings, and one has 3 ratings"
   ]
  },
  {
   "cell_type": "markdown",
   "metadata": {},
   "source": [
    "***code:*** correct the tweet that has 3 ratings"
   ]
  },
  {
   "cell_type": "code",
   "execution_count": 71,
   "metadata": {},
   "outputs": [
    {
     "data": {
      "text/plain": [
       "1996    10/10 for dog. 7/10 for cat. 12/10 for human. ...\n",
       "Name: text, dtype: object"
      ]
     },
     "execution_count": 71,
     "metadata": {},
     "output_type": "execute_result"
    }
   ],
   "source": [
    "# check the text with 3 ratings\n",
    "rating_df[rating_df['newly_extracted_rating']=='10/10,7/10,12/10']['text']"
   ]
  },
  {
   "cell_type": "markdown",
   "metadata": {},
   "source": [
    "The rating for dog is 10/10"
   ]
  },
  {
   "cell_type": "code",
   "execution_count": 72,
   "metadata": {
    "scrolled": true
   },
   "outputs": [],
   "source": [
    "# change the rating of row with index=1997 to 10/10\n",
    "the_index=rating_df[rating_df['newly_extracted_rating']=='10/10,7/10,12/10'].index\n",
    "\n",
    "rating_df.loc[the_index, 'newly_extracted_rating']='10/10'"
   ]
  },
  {
   "cell_type": "markdown",
   "metadata": {},
   "source": [
    "***test***:"
   ]
  },
  {
   "cell_type": "code",
   "execution_count": 73,
   "metadata": {
    "scrolled": false
   },
   "outputs": [
    {
     "data": {
      "text/html": [
       "<div>\n",
       "<style scoped>\n",
       "    .dataframe tbody tr th:only-of-type {\n",
       "        vertical-align: middle;\n",
       "    }\n",
       "\n",
       "    .dataframe tbody tr th {\n",
       "        vertical-align: top;\n",
       "    }\n",
       "\n",
       "    .dataframe thead th {\n",
       "        text-align: right;\n",
       "    }\n",
       "</style>\n",
       "<table border=\"1\" class=\"dataframe\">\n",
       "  <thead>\n",
       "    <tr style=\"text-align: right;\">\n",
       "      <th></th>\n",
       "      <th>tweet_id</th>\n",
       "      <th>text</th>\n",
       "      <th>newly_extracted_rating</th>\n",
       "    </tr>\n",
       "  </thead>\n",
       "  <tbody>\n",
       "    <tr>\n",
       "      <th>1996</th>\n",
       "      <td>672248013293752320</td>\n",
       "      <td>10/10 for dog. 7/10 for cat. 12/10 for human. ...</td>\n",
       "      <td>10/10</td>\n",
       "    </tr>\n",
       "  </tbody>\n",
       "</table>\n",
       "</div>"
      ],
      "text/plain": [
       "                tweet_id                                               text  \\\n",
       "1996  672248013293752320  10/10 for dog. 7/10 for cat. 12/10 for human. ...   \n",
       "\n",
       "     newly_extracted_rating  \n",
       "1996                  10/10  "
      ]
     },
     "execution_count": 73,
     "metadata": {},
     "output_type": "execute_result"
    }
   ],
   "source": [
    "rating_df.loc[the_index]"
   ]
  },
  {
   "cell_type": "markdown",
   "metadata": {},
   "source": [
    "***code***: split ratings that has two ratings, and check which one is the intended rating"
   ]
  },
  {
   "cell_type": "code",
   "execution_count": 74,
   "metadata": {},
   "outputs": [],
   "source": [
    "# extract 2nd ratings\n",
    "rating_df['second_rating']=rating_df.apply(lambda x:\n",
    "                                           x['newly_extracted_rating'].split(',')[1] \n",
    "                                           if ',' in x['newly_extracted_rating'] else None, \n",
    "                                           axis=1)"
   ]
  },
  {
   "cell_type": "code",
   "execution_count": 75,
   "metadata": {},
   "outputs": [
    {
     "data": {
      "text/html": [
       "<div>\n",
       "<style scoped>\n",
       "    .dataframe tbody tr th:only-of-type {\n",
       "        vertical-align: middle;\n",
       "    }\n",
       "\n",
       "    .dataframe tbody tr th {\n",
       "        vertical-align: top;\n",
       "    }\n",
       "\n",
       "    .dataframe thead th {\n",
       "        text-align: right;\n",
       "    }\n",
       "</style>\n",
       "<table border=\"1\" class=\"dataframe\">\n",
       "  <thead>\n",
       "    <tr style=\"text-align: right;\">\n",
       "      <th></th>\n",
       "      <th>tweet_id</th>\n",
       "      <th>text</th>\n",
       "      <th>newly_extracted_rating</th>\n",
       "      <th>second_rating</th>\n",
       "    </tr>\n",
       "  </thead>\n",
       "  <tbody>\n",
       "    <tr>\n",
       "      <th>0</th>\n",
       "      <td>892420643555336193</td>\n",
       "      <td>This is Phineas. He's a mystical boy. Only eve...</td>\n",
       "      <td>13/10</td>\n",
       "      <td>None</td>\n",
       "    </tr>\n",
       "  </tbody>\n",
       "</table>\n",
       "</div>"
      ],
      "text/plain": [
       "             tweet_id                                               text  \\\n",
       "0  892420643555336193  This is Phineas. He's a mystical boy. Only eve...   \n",
       "\n",
       "  newly_extracted_rating second_rating  \n",
       "0                  13/10          None  "
      ]
     },
     "execution_count": 75,
     "metadata": {},
     "output_type": "execute_result"
    }
   ],
   "source": [
    "rating_df.head(1)"
   ]
  },
  {
   "cell_type": "code",
   "execution_count": 76,
   "metadata": {},
   "outputs": [],
   "source": [
    "#save tweets with 2 rating to a csv file\n",
    "rating_df[rating_df['second_rating'].notnull()].to_csv('tweets_of_2_ratings.csv', \n",
    "                                                       float_format='{:f}'.format,\n",
    "                                                       index=False)"
   ]
  },
  {
   "cell_type": "markdown",
   "metadata": {},
   "source": [
    "I manually inspected the saved file, and extracted the ratings to a list, second_ratings that I think the tweet intended for. "
   ]
  },
  {
   "cell_type": "code",
   "execution_count": 77,
   "metadata": {},
   "outputs": [],
   "source": [
    "second_ratings=['12/10', '9/10', '14/10', '13/10', '11/10', '9/10', '9/10', '13/10', \n",
    "                '10/10', '10/10', '10/10', '11/10', '10/10', '11/10', '10/10', '10/10', \n",
    "                '8/10', '8/10', '11/10', '10/10', '10/10', '8/10', '10/10', '8/10', \n",
    "                '10/10', '9/10']"
   ]
  },
  {
   "cell_type": "code",
   "execution_count": 78,
   "metadata": {
    "scrolled": true
   },
   "outputs": [],
   "source": [
    "correct_rating={}\n",
    "correct_rating['tweet_id']=list(rating_df[rating_df['second_rating'].notnull()]['tweet_id'])\n",
    "correct_rating['correct_ratings']=second_ratings\n",
    "correct_rating=pd.DataFrame(correct_rating)"
   ]
  },
  {
   "cell_type": "code",
   "execution_count": 79,
   "metadata": {},
   "outputs": [
    {
     "name": "stdout",
     "output_type": "stream",
     "text": [
      "<class 'pandas.core.frame.DataFrame'>\n",
      "RangeIndex: 26 entries, 0 to 25\n",
      "Data columns (total 2 columns):\n",
      "tweet_id           26 non-null int64\n",
      "correct_ratings    26 non-null object\n",
      "dtypes: int64(1), object(1)\n",
      "memory usage: 496.0+ bytes\n"
     ]
    }
   ],
   "source": [
    "correct_rating.info()"
   ]
  },
  {
   "cell_type": "code",
   "execution_count": 80,
   "metadata": {},
   "outputs": [],
   "source": [
    "#merge correct_rating with rating_df on 'tweet_id'\n",
    "rating_df=pd.merge(rating_df, correct_rating, on='tweet_id', how='outer')"
   ]
  },
  {
   "cell_type": "code",
   "execution_count": 81,
   "metadata": {
    "scrolled": false
   },
   "outputs": [],
   "source": [
    "# replace values of newly_extract_rating that are two values with the correct rating\n",
    "index=rating_df[rating_df['correct_ratings'].notnull()].index\n",
    "for index in index:\n",
    "    rating_df.loc[index, 'newly_extracted_rating'] = rating_df.loc[index, 'correct_ratings']"
   ]
  },
  {
   "cell_type": "code",
   "execution_count": 82,
   "metadata": {},
   "outputs": [],
   "source": [
    "#drop columns second_rating and correct_ratings\n",
    "rating_df.drop(columns=['second_rating', 'correct_ratings'], inplace=True)"
   ]
  },
  {
   "cell_type": "markdown",
   "metadata": {},
   "source": [
    "***test***:"
   ]
  },
  {
   "cell_type": "code",
   "execution_count": 83,
   "metadata": {},
   "outputs": [
    {
     "name": "stdout",
     "output_type": "stream",
     "text": [
      "<class 'pandas.core.frame.DataFrame'>\n",
      "Int64Index: 2096 entries, 0 to 2095\n",
      "Data columns (total 3 columns):\n",
      "tweet_id                  2096 non-null int64\n",
      "text                      2096 non-null object\n",
      "newly_extracted_rating    2096 non-null object\n",
      "dtypes: int64(1), object(2)\n",
      "memory usage: 145.5+ KB\n"
     ]
    }
   ],
   "source": [
    "rating_df.info()"
   ]
  },
  {
   "cell_type": "code",
   "execution_count": 84,
   "metadata": {
    "scrolled": true
   },
   "outputs": [
    {
     "data": {
      "text/plain": [
       "array(['13/10', '12/10', '14/10', '5/10', '11/10', '6/10', '10/10',\n",
       "       '0/10', '84/70', '24/7', '75/10', '27/10', '3/10', '7/10', '8/10',\n",
       "       '9/10', '4/10', '165/150', '1776/10', '204/170', '99/90', '80/80',\n",
       "       '45/50', '60/50', '44/40', '121/110', '26/10', '2/10', '144/120',\n",
       "       '88/80', '1/10', '420/10'], dtype=object)"
      ]
     },
     "execution_count": 84,
     "metadata": {},
     "output_type": "execute_result"
    }
   ],
   "source": [
    "rating_df['newly_extracted_rating'].unique()"
   ]
  },
  {
   "cell_type": "markdown",
   "metadata": {},
   "source": [
    "***code***: check abnormal ratings: '24/7'"
   ]
  },
  {
   "cell_type": "code",
   "execution_count": 85,
   "metadata": {
    "scrolled": true
   },
   "outputs": [
    {
     "data": {
      "text/html": [
       "<div>\n",
       "<style scoped>\n",
       "    .dataframe tbody tr th:only-of-type {\n",
       "        vertical-align: middle;\n",
       "    }\n",
       "\n",
       "    .dataframe tbody tr th {\n",
       "        vertical-align: top;\n",
       "    }\n",
       "\n",
       "    .dataframe thead th {\n",
       "        text-align: right;\n",
       "    }\n",
       "</style>\n",
       "<table border=\"1\" class=\"dataframe\">\n",
       "  <thead>\n",
       "    <tr style=\"text-align: right;\">\n",
       "      <th></th>\n",
       "      <th>tweet_id</th>\n",
       "      <th>text</th>\n",
       "      <th>newly_extracted_rating</th>\n",
       "    </tr>\n",
       "  </thead>\n",
       "  <tbody>\n",
       "    <tr>\n",
       "      <th>403</th>\n",
       "      <td>810984652412424192</td>\n",
       "      <td>Meet Sam. She smiles 24/7 &amp;amp; secretly aspir...</td>\n",
       "      <td>24/7</td>\n",
       "    </tr>\n",
       "  </tbody>\n",
       "</table>\n",
       "</div>"
      ],
      "text/plain": [
       "               tweet_id                                               text  \\\n",
       "403  810984652412424192  Meet Sam. She smiles 24/7 &amp; secretly aspir...   \n",
       "\n",
       "    newly_extracted_rating  \n",
       "403                   24/7  "
      ]
     },
     "execution_count": 85,
     "metadata": {},
     "output_type": "execute_result"
    }
   ],
   "source": [
    "rating_df[rating_df['newly_extracted_rating']=='24/7']"
   ]
  },
  {
   "cell_type": "markdown",
   "metadata": {},
   "source": [
    "This tweet actually doesn't have rating. So I will remove this row"
   ]
  },
  {
   "cell_type": "code",
   "execution_count": 86,
   "metadata": {},
   "outputs": [],
   "source": [
    "rating_df.drop(index=403, inplace=True)"
   ]
  },
  {
   "cell_type": "markdown",
   "metadata": {},
   "source": [
    "***test***:"
   ]
  },
  {
   "cell_type": "code",
   "execution_count": 87,
   "metadata": {
    "scrolled": true
   },
   "outputs": [
    {
     "data": {
      "text/plain": [
       "array(['13/10', '12/10', '14/10', '5/10', '11/10', '6/10', '10/10',\n",
       "       '0/10', '84/70', '75/10', '27/10', '3/10', '7/10', '8/10', '9/10',\n",
       "       '4/10', '165/150', '1776/10', '204/170', '99/90', '80/80', '45/50',\n",
       "       '60/50', '44/40', '121/110', '26/10', '2/10', '144/120', '88/80',\n",
       "       '1/10', '420/10'], dtype=object)"
      ]
     },
     "execution_count": 87,
     "metadata": {},
     "output_type": "execute_result"
    }
   ],
   "source": [
    "rating_df['newly_extracted_rating'].unique()"
   ]
  },
  {
   "cell_type": "code",
   "execution_count": 88,
   "metadata": {},
   "outputs": [
    {
     "data": {
      "text/plain": [
       "(2095, 3)"
      ]
     },
     "execution_count": 88,
     "metadata": {},
     "output_type": "execute_result"
    }
   ],
   "source": [
    "rating_df.shape"
   ]
  },
  {
   "cell_type": "markdown",
   "metadata": {},
   "source": [
    "***code***: split ratings to numerators and denominators, and normalize them to 10"
   ]
  },
  {
   "cell_type": "code",
   "execution_count": 89,
   "metadata": {
    "scrolled": true
   },
   "outputs": [],
   "source": [
    "#split ratings to numerators and denominators\n",
    "rating_df['rating_list']=rating_df.apply(lambda x:x['newly_extracted_rating'].split('/')\n",
    "                                        if x['newly_extracted_rating'] is not None\n",
    "                                        else \"None\",\n",
    "                                        axis=1)\n",
    "\n",
    "rating_df[['rating_numerator','rating_denominator']] = pd.DataFrame(rating_df['rating_list'].values.tolist(), \n",
    "                                                index= rating_df.index)\n",
    "\n",
    "#convert the 2 new columns to integers\n",
    "rating_df[['rating_numerator','rating_denominator']]=rating_df[['rating_numerator','rating_denominator']].astype(int)\n",
    "\n",
    "rating_df.drop(columns='rating_list', inplace=True)"
   ]
  },
  {
   "cell_type": "code",
   "execution_count": 90,
   "metadata": {},
   "outputs": [],
   "source": [
    "# drop columns that are no longer needed\n",
    "rating_df.drop(columns=['newly_extracted_rating', 'text'], inplace=True)"
   ]
  },
  {
   "cell_type": "code",
   "execution_count": 91,
   "metadata": {},
   "outputs": [],
   "source": [
    "# normalize numerators and denominators with 10\n",
    "rating_df['normalize_factor']=rating_df['rating_denominator']/10\n",
    "rating_df['rating_numerator']=rating_df['rating_numerator']/rating_df['normalize_factor']\n",
    "rating_df['rating_denominator']=rating_df['rating_denominator']/rating_df['normalize_factor']\n",
    "\n",
    "#convert them to integers\n",
    "rating_df['rating_numerator']=rating_df['rating_numerator'].astype(int)\n",
    "rating_df['rating_denominator']=rating_df['rating_denominator'].astype(int)\n",
    "\n",
    "# drop the factor column\n",
    "rating_df.drop(columns='normalize_factor', inplace=True)"
   ]
  },
  {
   "cell_type": "markdown",
   "metadata": {},
   "source": [
    "***test***"
   ]
  },
  {
   "cell_type": "code",
   "execution_count": 92,
   "metadata": {
    "scrolled": true
   },
   "outputs": [
    {
     "name": "stdout",
     "output_type": "stream",
     "text": [
      "<class 'pandas.core.frame.DataFrame'>\n",
      "Int64Index: 2095 entries, 0 to 2095\n",
      "Data columns (total 3 columns):\n",
      "tweet_id              2095 non-null int64\n",
      "rating_numerator      2095 non-null int32\n",
      "rating_denominator    2095 non-null int32\n",
      "dtypes: int32(2), int64(1)\n",
      "memory usage: 49.1 KB\n"
     ]
    }
   ],
   "source": [
    "rating_df.info()"
   ]
  },
  {
   "cell_type": "code",
   "execution_count": 93,
   "metadata": {},
   "outputs": [
    {
     "data": {
      "text/plain": [
       "array([10], dtype=int64)"
      ]
     },
     "execution_count": 93,
     "metadata": {},
     "output_type": "execute_result"
    }
   ],
   "source": [
    "rating_df['rating_denominator'].unique()"
   ]
  },
  {
   "cell_type": "markdown",
   "metadata": {},
   "source": [
    "***code***: merge rating_df with archive_clean"
   ]
  },
  {
   "cell_type": "code",
   "execution_count": 94,
   "metadata": {},
   "outputs": [
    {
     "name": "stdout",
     "output_type": "stream",
     "text": [
      "<class 'pandas.core.frame.DataFrame'>\n",
      "Int64Index: 2096 entries, 0 to 2341\n",
      "Data columns (total 18 columns):\n",
      "tweet_id              2096 non-null int64\n",
      "timestamp             2096 non-null datetime64[ns]\n",
      "source                2096 non-null object\n",
      "text                  2096 non-null object\n",
      "rating_numerator      2096 non-null int64\n",
      "rating_denominator    2096 non-null int64\n",
      "name                  2096 non-null object\n",
      "doggo                 2096 non-null object\n",
      "floofer               2096 non-null object\n",
      "pupper                2096 non-null object\n",
      "puppo                 2096 non-null object\n",
      "rating                2096 non-null object\n",
      "expanded_url          2096 non-null object\n",
      "external_url          2096 non-null object\n",
      "favorite_count        2096 non-null int64\n",
      "media_types           2096 non-null object\n",
      "num_medias            2096 non-null int64\n",
      "retweet_count         2096 non-null int64\n",
      "dtypes: datetime64[ns](1), int64(6), object(11)\n",
      "memory usage: 311.1+ KB\n"
     ]
    }
   ],
   "source": [
    "archive_clean.info()"
   ]
  },
  {
   "cell_type": "code",
   "execution_count": 95,
   "metadata": {},
   "outputs": [],
   "source": [
    "# remove the rating, rating_numerator and rating_denominator columns in archive_clean\n",
    "archive_clean.drop(columns=['rating_numerator', 'rating_denominator', 'rating'], inplace=True)\n",
    "\n",
    "#merge the columns on 'tweet_id'\n",
    "archive_clean=pd.merge(archive_clean, rating_df, on='tweet_id', how='inner')\n",
    "\n",
    "# drop the column 'rating_denominator'\n",
    "archive_clean.drop(columns='rating_denominator', inplace=True)\n",
    "\n",
    "# rename column 'rating_numerator' to 'rating'\n",
    "archive_clean.rename(columns={'rating_numerator': 'rating'}, inplace=True)"
   ]
  },
  {
   "cell_type": "markdown",
   "metadata": {},
   "source": [
    "***test***: "
   ]
  },
  {
   "cell_type": "code",
   "execution_count": 96,
   "metadata": {
    "scrolled": false
   },
   "outputs": [
    {
     "name": "stdout",
     "output_type": "stream",
     "text": [
      "<class 'pandas.core.frame.DataFrame'>\n",
      "Int64Index: 2095 entries, 0 to 2094\n",
      "Data columns (total 16 columns):\n",
      "tweet_id          2095 non-null int64\n",
      "timestamp         2095 non-null datetime64[ns]\n",
      "source            2095 non-null object\n",
      "text              2095 non-null object\n",
      "name              2095 non-null object\n",
      "doggo             2095 non-null object\n",
      "floofer           2095 non-null object\n",
      "pupper            2095 non-null object\n",
      "puppo             2095 non-null object\n",
      "expanded_url      2095 non-null object\n",
      "external_url      2095 non-null object\n",
      "favorite_count    2095 non-null int64\n",
      "media_types       2095 non-null object\n",
      "num_medias        2095 non-null int64\n",
      "retweet_count     2095 non-null int64\n",
      "rating            2095 non-null int32\n",
      "dtypes: datetime64[ns](1), int32(1), int64(4), object(10)\n",
      "memory usage: 270.1+ KB\n"
     ]
    }
   ],
   "source": [
    "archive_clean.info()"
   ]
  },
  {
   "cell_type": "markdown",
   "metadata": {},
   "source": [
    "### This marks completion of cleaning of ratings."
   ]
  },
  {
   "cell_type": "markdown",
   "metadata": {},
   "source": [
    "<a id='dog_stages'></a>"
   ]
  },
  {
   "cell_type": "markdown",
   "metadata": {},
   "source": [
    "[back to top of Data cleaning](#cleaning)  [back to top of the report](#top)"
   ]
  },
  {
   "cell_type": "markdown",
   "metadata": {},
   "source": [
    "### 3.8 melt 4 dog stages columns into 1\n",
    "***plan***:\n",
    " - extract dog stage from the 4 stage columns to a new column stage\n",
    " - drop the original 4 stage columns"
   ]
  },
  {
   "cell_type": "markdown",
   "metadata": {},
   "source": [
    "***code***:"
   ]
  },
  {
   "cell_type": "code",
   "execution_count": 97,
   "metadata": {},
   "outputs": [],
   "source": [
    "archive_clean['stage']=\"None\""
   ]
  },
  {
   "cell_type": "code",
   "execution_count": 98,
   "metadata": {
    "scrolled": true
   },
   "outputs": [],
   "source": [
    "# define a function to melt 4 dog stage values into 1\n",
    "def dog_name(x):\n",
    "    name_list=[x['doggo'],x['floofer'],x['pupper'],x['puppo']]\n",
    "    if name_list.count('None')==4:\n",
    "        return \"None\"\n",
    "    else:\n",
    "        return ' & '.join([name for name in name_list  if name!='None'])        "
   ]
  },
  {
   "cell_type": "code",
   "execution_count": 99,
   "metadata": {},
   "outputs": [],
   "source": [
    "# apply the function to extract stage\n",
    "archive_clean['stage']=archive_clean.apply(dog_name, axis=1)"
   ]
  },
  {
   "cell_type": "code",
   "execution_count": 100,
   "metadata": {},
   "outputs": [],
   "source": [
    "# drop the columns doggo, floofer,pupper and puppo\n",
    "archive_clean.drop(columns=['doggo', 'floofer', 'pupper', 'puppo'], inplace=True)"
   ]
  },
  {
   "cell_type": "markdown",
   "metadata": {},
   "source": [
    "***test***:"
   ]
  },
  {
   "cell_type": "code",
   "execution_count": 101,
   "metadata": {},
   "outputs": [
    {
     "name": "stdout",
     "output_type": "stream",
     "text": [
      "<class 'pandas.core.frame.DataFrame'>\n",
      "Int64Index: 2095 entries, 0 to 2094\n",
      "Data columns (total 13 columns):\n",
      "tweet_id          2095 non-null int64\n",
      "timestamp         2095 non-null datetime64[ns]\n",
      "source            2095 non-null object\n",
      "text              2095 non-null object\n",
      "name              2095 non-null object\n",
      "expanded_url      2095 non-null object\n",
      "external_url      2095 non-null object\n",
      "favorite_count    2095 non-null int64\n",
      "media_types       2095 non-null object\n",
      "num_medias        2095 non-null int64\n",
      "retweet_count     2095 non-null int64\n",
      "rating            2095 non-null int32\n",
      "stage             2095 non-null object\n",
      "dtypes: datetime64[ns](1), int32(1), int64(4), object(7)\n",
      "memory usage: 221.0+ KB\n"
     ]
    }
   ],
   "source": [
    "archive_clean.info()"
   ]
  },
  {
   "cell_type": "code",
   "execution_count": 102,
   "metadata": {
    "scrolled": false
   },
   "outputs": [
    {
     "data": {
      "text/plain": [
       "array(['None', 'doggo', 'puppo', 'pupper', 'floofer', 'doggo & puppo',\n",
       "       'doggo & floofer', 'doggo & pupper'], dtype=object)"
      ]
     },
     "execution_count": 102,
     "metadata": {},
     "output_type": "execute_result"
    }
   ],
   "source": [
    "archive_clean['stage'].unique()"
   ]
  },
  {
   "cell_type": "markdown",
   "metadata": {},
   "source": [
    "1759 tweets don't have dog stages, and 336 tweets have dog stage"
   ]
  },
  {
   "cell_type": "markdown",
   "metadata": {},
   "source": [
    "<a id='multiple_stages'></a>"
   ]
  },
  {
   "cell_type": "markdown",
   "metadata": {},
   "source": [
    "[back to top of Data cleaning](#cleaning)  [back to top of the report](#top)"
   ]
  },
  {
   "cell_type": "markdown",
   "metadata": {},
   "source": [
    "### 3.9 correct dog stages that have multiple values\n",
    "***plan***:\n",
    "<br>\n",
    "I vidually inspected the images in the orignal tweets, and found that these tweet dog stages should be as follows:\n",
    " - 855851453814013952\tpuppo\n",
    " - 854010172552949760\tdoggo\n",
    " - 817777686764523521\tpupper\n",
    " - 801115127852503040\tpupper\n",
    " - 785639753186217984\tdoggo\n",
    " - 751583847268179968\tdoggo\n",
    " \n",
    "I will:\n",
    " - convert the tweet_id and correct dog stages into one data frame\n",
    " - correct the dog stages in archive_clean"
   ]
  },
  {
   "cell_type": "markdown",
   "metadata": {},
   "source": [
    "***code***:"
   ]
  },
  {
   "cell_type": "code",
   "execution_count": 103,
   "metadata": {},
   "outputs": [],
   "source": [
    "# organize correct dog stages with tweet_id\n",
    "correct_stages={'tweet_id': [855851453814013952, 854010172552949760,\n",
    "                             817777686764523521, 801115127852503040,\n",
    "                             785639753186217984, 751583847268179968],\n",
    "               'stage': ['puppo', 'doggo', 'pupper', \n",
    "                         'pupper', 'doggo', 'doggo']}\n",
    "correct_stages=pd.DataFrame(correct_stages)"
   ]
  },
  {
   "cell_type": "code",
   "execution_count": 104,
   "metadata": {},
   "outputs": [],
   "source": [
    "# find the index of in archive_clean, and replace dog_stage with the correct one\n",
    "indices=[archive_clean.index[archive_clean['tweet_id']==x] for x in correct_stages['tweet_id']]\n",
    "for index, stage in zip(indices, correct_stages['stage']):\n",
    "    archive_clean.loc[index, 'stage']=stage"
   ]
  },
  {
   "cell_type": "markdown",
   "metadata": {},
   "source": [
    "***test***:"
   ]
  },
  {
   "cell_type": "code",
   "execution_count": 105,
   "metadata": {},
   "outputs": [
    {
     "data": {
      "text/plain": [
       "154    puppo\n",
       "Name: stage, dtype: object"
      ]
     },
     "execution_count": 105,
     "metadata": {},
     "output_type": "execute_result"
    }
   ],
   "source": [
    "archive_clean.query('tweet_id==855851453814013952')['stage']"
   ]
  },
  {
   "cell_type": "code",
   "execution_count": 106,
   "metadata": {
    "scrolled": false
   },
   "outputs": [
    {
     "data": {
      "text/plain": [
       "161    doggo\n",
       "Name: stage, dtype: object"
      ]
     },
     "execution_count": 106,
     "metadata": {},
     "output_type": "execute_result"
    }
   ],
   "source": [
    "archive_clean.query('tweet_id==854010172552949760')['stage']"
   ]
  },
  {
   "cell_type": "code",
   "execution_count": 107,
   "metadata": {},
   "outputs": [
    {
     "data": {
      "text/plain": [
       "358    pupper\n",
       "Name: stage, dtype: object"
      ]
     },
     "execution_count": 107,
     "metadata": {},
     "output_type": "execute_result"
    }
   ],
   "source": [
    "archive_clean.query('tweet_id==817777686764523521')['stage']"
   ]
  },
  {
   "cell_type": "code",
   "execution_count": 108,
   "metadata": {},
   "outputs": [
    {
     "data": {
      "text/plain": [
       "445    pupper\n",
       "Name: stage, dtype: object"
      ]
     },
     "execution_count": 108,
     "metadata": {},
     "output_type": "execute_result"
    }
   ],
   "source": [
    "archive_clean.query('tweet_id==801115127852503040')['stage']"
   ]
  },
  {
   "cell_type": "code",
   "execution_count": 109,
   "metadata": {},
   "outputs": [
    {
     "data": {
      "text/plain": [
       "535    doggo\n",
       "Name: stage, dtype: object"
      ]
     },
     "execution_count": 109,
     "metadata": {},
     "output_type": "execute_result"
    }
   ],
   "source": [
    "archive_clean.query('tweet_id==785639753186217984')['stage']"
   ]
  },
  {
   "cell_type": "code",
   "execution_count": 110,
   "metadata": {
    "scrolled": true
   },
   "outputs": [
    {
     "data": {
      "text/plain": [
       "746    doggo\n",
       "Name: stage, dtype: object"
      ]
     },
     "execution_count": 110,
     "metadata": {},
     "output_type": "execute_result"
    }
   ],
   "source": [
    "archive_clean.query('tweet_id==751583847268179968')['stage']"
   ]
  },
  {
   "cell_type": "markdown",
   "metadata": {},
   "source": [
    "<a id='dog_names'></a>"
   ]
  },
  {
   "cell_type": "markdown",
   "metadata": {},
   "source": [
    "[back to top of Data cleaning](#cleaning)  [back to top of the report](#top)"
   ]
  },
  {
   "cell_type": "markdown",
   "metadata": {},
   "source": [
    "### 3.10 correct dog names"
   ]
  },
  {
   "cell_type": "markdown",
   "metadata": {},
   "source": [
    "***plan***: \n",
    " - find dog names that start with lower case letters and change them to string 'None'"
   ]
  },
  {
   "cell_type": "markdown",
   "metadata": {},
   "source": [
    "***code:***"
   ]
  },
  {
   "cell_type": "code",
   "execution_count": 111,
   "metadata": {},
   "outputs": [
    {
     "data": {
      "text/plain": [
       "['such',\n",
       " 'a',\n",
       " 'quite',\n",
       " 'not',\n",
       " 'one',\n",
       " 'incredibly',\n",
       " 'very',\n",
       " 'my',\n",
       " 'his',\n",
       " 'an',\n",
       " 'actually',\n",
       " 'just',\n",
       " 'getting',\n",
       " 'mad',\n",
       " 'this',\n",
       " 'unacceptable',\n",
       " 'all',\n",
       " 'old',\n",
       " 'infuriating',\n",
       " 'the',\n",
       " 'by',\n",
       " 'officially',\n",
       " 'life',\n",
       " 'light',\n",
       " 'space']"
      ]
     },
     "execution_count": 111,
     "metadata": {},
     "output_type": "execute_result"
    }
   ],
   "source": [
    "# find dog names that start with lower case letter, and put them in a list not_names\n",
    "not_names=list(archive_clean[archive_clean['name'].str.islower()]['name'].unique())\n",
    "not_names"
   ]
  },
  {
   "cell_type": "code",
   "execution_count": 112,
   "metadata": {},
   "outputs": [],
   "source": [
    "#define a function to replace name with \"None\" if name is in the not_names\n",
    "def replace(x):\n",
    "    if x['name'] in not_names:\n",
    "        return 'None'\n",
    "    else:\n",
    "        return x['name']\n",
    "    \n",
    "#apply replace function to archive_clean\n",
    "archive_clean['name']=archive_clean.apply(replace, axis=1)"
   ]
  },
  {
   "cell_type": "markdown",
   "metadata": {},
   "source": [
    "***test***"
   ]
  },
  {
   "cell_type": "code",
   "execution_count": 113,
   "metadata": {},
   "outputs": [
    {
     "data": {
      "text/plain": [
       "0"
      ]
     },
     "execution_count": 113,
     "metadata": {},
     "output_type": "execute_result"
    }
   ],
   "source": [
    "archive_clean['name'].str.islower().sum()"
   ]
  },
  {
   "cell_type": "markdown",
   "metadata": {},
   "source": [
    "No more dog names of words that start with lower case letter."
   ]
  },
  {
   "cell_type": "markdown",
   "metadata": {},
   "source": [
    "<a id='jpg_url_duplicated'></a>"
   ]
  },
  {
   "cell_type": "markdown",
   "metadata": {},
   "source": [
    "[back to top of Data cleaning](#cleaning)  [back to top of the report](#top)"
   ]
  },
  {
   "cell_type": "markdown",
   "metadata": {},
   "source": [
    "### 3.11 remove duplicate images in image_predictions \n",
    "***plan***: \n",
    " - make a copy image_predictions_clean\n",
    " - extract duplicates and visually inspect to check if image prediction results are the same for same image.\n",
    " - if they are the same, there is no need to have duplicates.\n",
    " - remove duplicates"
   ]
  },
  {
   "cell_type": "markdown",
   "metadata": {},
   "source": [
    "***code***:"
   ]
  },
  {
   "cell_type": "code",
   "execution_count": 114,
   "metadata": {},
   "outputs": [],
   "source": [
    "# make a copy\n",
    "image_predictions_clean=image_predictions.copy()"
   ]
  },
  {
   "cell_type": "code",
   "execution_count": 115,
   "metadata": {
    "scrolled": true
   },
   "outputs": [
    {
     "data": {
      "text/html": [
       "<div>\n",
       "<style scoped>\n",
       "    .dataframe tbody tr th:only-of-type {\n",
       "        vertical-align: middle;\n",
       "    }\n",
       "\n",
       "    .dataframe tbody tr th {\n",
       "        vertical-align: top;\n",
       "    }\n",
       "\n",
       "    .dataframe thead th {\n",
       "        text-align: right;\n",
       "    }\n",
       "</style>\n",
       "<table border=\"1\" class=\"dataframe\">\n",
       "  <thead>\n",
       "    <tr style=\"text-align: right;\">\n",
       "      <th></th>\n",
       "      <th>tweet_id</th>\n",
       "      <th>jpg_url</th>\n",
       "      <th>img_num</th>\n",
       "      <th>p1</th>\n",
       "      <th>p1_conf</th>\n",
       "      <th>p1_dog</th>\n",
       "      <th>p2</th>\n",
       "      <th>p2_conf</th>\n",
       "      <th>p2_dog</th>\n",
       "      <th>p3</th>\n",
       "      <th>p3_conf</th>\n",
       "      <th>p3_dog</th>\n",
       "      <th>id_in_archive</th>\n",
       "    </tr>\n",
       "  </thead>\n",
       "  <tbody>\n",
       "    <tr>\n",
       "      <th>480</th>\n",
       "      <td>675354435921575936</td>\n",
       "      <td>https://pbs.twimg.com/ext_tw_video_thumb/67535...</td>\n",
       "      <td>1</td>\n",
       "      <td>upright</td>\n",
       "      <td>0.303415</td>\n",
       "      <td>False</td>\n",
       "      <td>golden_retriever</td>\n",
       "      <td>0.181351</td>\n",
       "      <td>True</td>\n",
       "      <td>Brittany_spaniel</td>\n",
       "      <td>0.162084</td>\n",
       "      <td>True</td>\n",
       "      <td>True</td>\n",
       "    </tr>\n",
       "    <tr>\n",
       "      <th>1297</th>\n",
       "      <td>752309394570878976</td>\n",
       "      <td>https://pbs.twimg.com/ext_tw_video_thumb/67535...</td>\n",
       "      <td>1</td>\n",
       "      <td>upright</td>\n",
       "      <td>0.303415</td>\n",
       "      <td>False</td>\n",
       "      <td>golden_retriever</td>\n",
       "      <td>0.181351</td>\n",
       "      <td>True</td>\n",
       "      <td>Brittany_spaniel</td>\n",
       "      <td>0.162084</td>\n",
       "      <td>True</td>\n",
       "      <td>True</td>\n",
       "    </tr>\n",
       "    <tr>\n",
       "      <th>1864</th>\n",
       "      <td>842892208864923648</td>\n",
       "      <td>https://pbs.twimg.com/ext_tw_video_thumb/80710...</td>\n",
       "      <td>1</td>\n",
       "      <td>Chihuahua</td>\n",
       "      <td>0.505370</td>\n",
       "      <td>True</td>\n",
       "      <td>Pomeranian</td>\n",
       "      <td>0.120358</td>\n",
       "      <td>True</td>\n",
       "      <td>toy_terrier</td>\n",
       "      <td>0.077008</td>\n",
       "      <td>True</td>\n",
       "      <td>True</td>\n",
       "    </tr>\n",
       "    <tr>\n",
       "      <th>1641</th>\n",
       "      <td>807106840509214720</td>\n",
       "      <td>https://pbs.twimg.com/ext_tw_video_thumb/80710...</td>\n",
       "      <td>1</td>\n",
       "      <td>Chihuahua</td>\n",
       "      <td>0.505370</td>\n",
       "      <td>True</td>\n",
       "      <td>Pomeranian</td>\n",
       "      <td>0.120358</td>\n",
       "      <td>True</td>\n",
       "      <td>toy_terrier</td>\n",
       "      <td>0.077008</td>\n",
       "      <td>True</td>\n",
       "      <td>True</td>\n",
       "    </tr>\n",
       "    <tr>\n",
       "      <th>1703</th>\n",
       "      <td>817181837579653120</td>\n",
       "      <td>https://pbs.twimg.com/ext_tw_video_thumb/81596...</td>\n",
       "      <td>1</td>\n",
       "      <td>Tibetan_mastiff</td>\n",
       "      <td>0.506312</td>\n",
       "      <td>True</td>\n",
       "      <td>Tibetan_terrier</td>\n",
       "      <td>0.295690</td>\n",
       "      <td>True</td>\n",
       "      <td>otterhound</td>\n",
       "      <td>0.036251</td>\n",
       "      <td>True</td>\n",
       "      <td>True</td>\n",
       "    </tr>\n",
       "    <tr>\n",
       "      <th>1691</th>\n",
       "      <td>815966073409433600</td>\n",
       "      <td>https://pbs.twimg.com/ext_tw_video_thumb/81596...</td>\n",
       "      <td>1</td>\n",
       "      <td>Tibetan_mastiff</td>\n",
       "      <td>0.506312</td>\n",
       "      <td>True</td>\n",
       "      <td>Tibetan_terrier</td>\n",
       "      <td>0.295690</td>\n",
       "      <td>True</td>\n",
       "      <td>otterhound</td>\n",
       "      <td>0.036251</td>\n",
       "      <td>True</td>\n",
       "      <td>True</td>\n",
       "    </tr>\n",
       "    <tr>\n",
       "      <th>1705</th>\n",
       "      <td>817423860136083457</td>\n",
       "      <td>https://pbs.twimg.com/ext_tw_video_thumb/81742...</td>\n",
       "      <td>1</td>\n",
       "      <td>ice_bear</td>\n",
       "      <td>0.336200</td>\n",
       "      <td>False</td>\n",
       "      <td>Samoyed</td>\n",
       "      <td>0.201358</td>\n",
       "      <td>True</td>\n",
       "      <td>Eskimo_dog</td>\n",
       "      <td>0.186789</td>\n",
       "      <td>True</td>\n",
       "      <td>True</td>\n",
       "    </tr>\n",
       "    <tr>\n",
       "      <th>1858</th>\n",
       "      <td>841833993020538882</td>\n",
       "      <td>https://pbs.twimg.com/ext_tw_video_thumb/81742...</td>\n",
       "      <td>1</td>\n",
       "      <td>ice_bear</td>\n",
       "      <td>0.336200</td>\n",
       "      <td>False</td>\n",
       "      <td>Samoyed</td>\n",
       "      <td>0.201358</td>\n",
       "      <td>True</td>\n",
       "      <td>Eskimo_dog</td>\n",
       "      <td>0.186789</td>\n",
       "      <td>True</td>\n",
       "      <td>True</td>\n",
       "    </tr>\n",
       "    <tr>\n",
       "      <th>1715</th>\n",
       "      <td>819004803107983360</td>\n",
       "      <td>https://pbs.twimg.com/media/C12whDoVEAALRxa.jpg</td>\n",
       "      <td>1</td>\n",
       "      <td>standard_poodle</td>\n",
       "      <td>0.351308</td>\n",
       "      <td>True</td>\n",
       "      <td>toy_poodle</td>\n",
       "      <td>0.271929</td>\n",
       "      <td>True</td>\n",
       "      <td>Tibetan_terrier</td>\n",
       "      <td>0.094759</td>\n",
       "      <td>True</td>\n",
       "      <td>True</td>\n",
       "    </tr>\n",
       "    <tr>\n",
       "      <th>1718</th>\n",
       "      <td>819015337530290176</td>\n",
       "      <td>https://pbs.twimg.com/media/C12whDoVEAALRxa.jpg</td>\n",
       "      <td>1</td>\n",
       "      <td>standard_poodle</td>\n",
       "      <td>0.351308</td>\n",
       "      <td>True</td>\n",
       "      <td>toy_poodle</td>\n",
       "      <td>0.271929</td>\n",
       "      <td>True</td>\n",
       "      <td>Tibetan_terrier</td>\n",
       "      <td>0.094759</td>\n",
       "      <td>True</td>\n",
       "      <td>True</td>\n",
       "    </tr>\n",
       "    <tr>\n",
       "      <th>1716</th>\n",
       "      <td>819006400881917954</td>\n",
       "      <td>https://pbs.twimg.com/media/C12x-JTVIAAzdfl.jpg</td>\n",
       "      <td>4</td>\n",
       "      <td>prison</td>\n",
       "      <td>0.907083</td>\n",
       "      <td>False</td>\n",
       "      <td>palace</td>\n",
       "      <td>0.020089</td>\n",
       "      <td>False</td>\n",
       "      <td>umbrella</td>\n",
       "      <td>0.007850</td>\n",
       "      <td>False</td>\n",
       "      <td>True</td>\n",
       "    </tr>\n",
       "    <tr>\n",
       "      <th>1717</th>\n",
       "      <td>819015331746349057</td>\n",
       "      <td>https://pbs.twimg.com/media/C12x-JTVIAAzdfl.jpg</td>\n",
       "      <td>4</td>\n",
       "      <td>prison</td>\n",
       "      <td>0.907083</td>\n",
       "      <td>False</td>\n",
       "      <td>palace</td>\n",
       "      <td>0.020089</td>\n",
       "      <td>False</td>\n",
       "      <td>umbrella</td>\n",
       "      <td>0.007850</td>\n",
       "      <td>False</td>\n",
       "      <td>True</td>\n",
       "    </tr>\n",
       "    <tr>\n",
       "      <th>1746</th>\n",
       "      <td>823269594223824897</td>\n",
       "      <td>https://pbs.twimg.com/media/C2kzTGxWEAEOpPL.jpg</td>\n",
       "      <td>1</td>\n",
       "      <td>Samoyed</td>\n",
       "      <td>0.585441</td>\n",
       "      <td>True</td>\n",
       "      <td>Pomeranian</td>\n",
       "      <td>0.193654</td>\n",
       "      <td>True</td>\n",
       "      <td>Arctic_fox</td>\n",
       "      <td>0.071648</td>\n",
       "      <td>False</td>\n",
       "      <td>True</td>\n",
       "    </tr>\n",
       "    <tr>\n",
       "      <th>1738</th>\n",
       "      <td>822244816520155136</td>\n",
       "      <td>https://pbs.twimg.com/media/C2kzTGxWEAEOpPL.jpg</td>\n",
       "      <td>1</td>\n",
       "      <td>Samoyed</td>\n",
       "      <td>0.585441</td>\n",
       "      <td>True</td>\n",
       "      <td>Pomeranian</td>\n",
       "      <td>0.193654</td>\n",
       "      <td>True</td>\n",
       "      <td>Arctic_fox</td>\n",
       "      <td>0.071648</td>\n",
       "      <td>False</td>\n",
       "      <td>True</td>\n",
       "    </tr>\n",
       "    <tr>\n",
       "      <th>1740</th>\n",
       "      <td>822489057087389700</td>\n",
       "      <td>https://pbs.twimg.com/media/C2oRbOuWEAAbVSl.jpg</td>\n",
       "      <td>1</td>\n",
       "      <td>Samoyed</td>\n",
       "      <td>0.416769</td>\n",
       "      <td>True</td>\n",
       "      <td>malamute</td>\n",
       "      <td>0.252706</td>\n",
       "      <td>True</td>\n",
       "      <td>kuvasz</td>\n",
       "      <td>0.157028</td>\n",
       "      <td>True</td>\n",
       "      <td>True</td>\n",
       "    </tr>\n",
       "    <tr>\n",
       "      <th>1742</th>\n",
       "      <td>822647212903690241</td>\n",
       "      <td>https://pbs.twimg.com/media/C2oRbOuWEAAbVSl.jpg</td>\n",
       "      <td>1</td>\n",
       "      <td>Samoyed</td>\n",
       "      <td>0.416769</td>\n",
       "      <td>True</td>\n",
       "      <td>malamute</td>\n",
       "      <td>0.252706</td>\n",
       "      <td>True</td>\n",
       "      <td>kuvasz</td>\n",
       "      <td>0.157028</td>\n",
       "      <td>True</td>\n",
       "      <td>True</td>\n",
       "    </tr>\n",
       "    <tr>\n",
       "      <th>1767</th>\n",
       "      <td>826958653328592898</td>\n",
       "      <td>https://pbs.twimg.com/media/C3nygbBWQAAjwcW.jpg</td>\n",
       "      <td>1</td>\n",
       "      <td>golden_retriever</td>\n",
       "      <td>0.617389</td>\n",
       "      <td>True</td>\n",
       "      <td>Labrador_retriever</td>\n",
       "      <td>0.337053</td>\n",
       "      <td>True</td>\n",
       "      <td>tennis_ball</td>\n",
       "      <td>0.008554</td>\n",
       "      <td>False</td>\n",
       "      <td>True</td>\n",
       "    </tr>\n",
       "    <tr>\n",
       "      <th>1789</th>\n",
       "      <td>829878982036299777</td>\n",
       "      <td>https://pbs.twimg.com/media/C3nygbBWQAAjwcW.jpg</td>\n",
       "      <td>1</td>\n",
       "      <td>golden_retriever</td>\n",
       "      <td>0.617389</td>\n",
       "      <td>True</td>\n",
       "      <td>Labrador_retriever</td>\n",
       "      <td>0.337053</td>\n",
       "      <td>True</td>\n",
       "      <td>tennis_ball</td>\n",
       "      <td>0.008554</td>\n",
       "      <td>False</td>\n",
       "      <td>True</td>\n",
       "    </tr>\n",
       "    <tr>\n",
       "      <th>1785</th>\n",
       "      <td>829374341691346946</td>\n",
       "      <td>https://pbs.twimg.com/media/C4KHj-nWQAA3poV.jpg</td>\n",
       "      <td>1</td>\n",
       "      <td>Staffordshire_bullterrier</td>\n",
       "      <td>0.757547</td>\n",
       "      <td>True</td>\n",
       "      <td>American_Staffordshire_terrier</td>\n",
       "      <td>0.149950</td>\n",
       "      <td>True</td>\n",
       "      <td>Chesapeake_Bay_retriever</td>\n",
       "      <td>0.047523</td>\n",
       "      <td>True</td>\n",
       "      <td>True</td>\n",
       "    </tr>\n",
       "    <tr>\n",
       "      <th>1903</th>\n",
       "      <td>851953902622658560</td>\n",
       "      <td>https://pbs.twimg.com/media/C4KHj-nWQAA3poV.jpg</td>\n",
       "      <td>1</td>\n",
       "      <td>Staffordshire_bullterrier</td>\n",
       "      <td>0.757547</td>\n",
       "      <td>True</td>\n",
       "      <td>American_Staffordshire_terrier</td>\n",
       "      <td>0.149950</td>\n",
       "      <td>True</td>\n",
       "      <td>Chesapeake_Bay_retriever</td>\n",
       "      <td>0.047523</td>\n",
       "      <td>True</td>\n",
       "      <td>True</td>\n",
       "    </tr>\n",
       "    <tr>\n",
       "      <th>2041</th>\n",
       "      <td>885311592912609280</td>\n",
       "      <td>https://pbs.twimg.com/media/C4bTH6nWMAAX_bJ.jpg</td>\n",
       "      <td>1</td>\n",
       "      <td>Labrador_retriever</td>\n",
       "      <td>0.908703</td>\n",
       "      <td>True</td>\n",
       "      <td>seat_belt</td>\n",
       "      <td>0.057091</td>\n",
       "      <td>False</td>\n",
       "      <td>pug</td>\n",
       "      <td>0.011933</td>\n",
       "      <td>True</td>\n",
       "      <td>True</td>\n",
       "    </tr>\n",
       "    <tr>\n",
       "      <th>1791</th>\n",
       "      <td>830583320585068544</td>\n",
       "      <td>https://pbs.twimg.com/media/C4bTH6nWMAAX_bJ.jpg</td>\n",
       "      <td>1</td>\n",
       "      <td>Labrador_retriever</td>\n",
       "      <td>0.908703</td>\n",
       "      <td>True</td>\n",
       "      <td>seat_belt</td>\n",
       "      <td>0.057091</td>\n",
       "      <td>False</td>\n",
       "      <td>pug</td>\n",
       "      <td>0.011933</td>\n",
       "      <td>True</td>\n",
       "      <td>True</td>\n",
       "    </tr>\n",
       "    <tr>\n",
       "      <th>224</th>\n",
       "      <td>670319130621435904</td>\n",
       "      <td>https://pbs.twimg.com/media/CU1zsMSUAAAS0qW.jpg</td>\n",
       "      <td>1</td>\n",
       "      <td>Irish_terrier</td>\n",
       "      <td>0.254856</td>\n",
       "      <td>True</td>\n",
       "      <td>briard</td>\n",
       "      <td>0.227716</td>\n",
       "      <td>True</td>\n",
       "      <td>soft-coated_wheaten_terrier</td>\n",
       "      <td>0.223263</td>\n",
       "      <td>True</td>\n",
       "      <td>True</td>\n",
       "    </tr>\n",
       "    <tr>\n",
       "      <th>1345</th>\n",
       "      <td>759159934323924993</td>\n",
       "      <td>https://pbs.twimg.com/media/CU1zsMSUAAAS0qW.jpg</td>\n",
       "      <td>1</td>\n",
       "      <td>Irish_terrier</td>\n",
       "      <td>0.254856</td>\n",
       "      <td>True</td>\n",
       "      <td>briard</td>\n",
       "      <td>0.227716</td>\n",
       "      <td>True</td>\n",
       "      <td>soft-coated_wheaten_terrier</td>\n",
       "      <td>0.223263</td>\n",
       "      <td>True</td>\n",
       "      <td>True</td>\n",
       "    </tr>\n",
       "    <tr>\n",
       "      <th>1590</th>\n",
       "      <td>798644042770751489</td>\n",
       "      <td>https://pbs.twimg.com/media/CU3mITUWIAAfyQS.jpg</td>\n",
       "      <td>1</td>\n",
       "      <td>English_springer</td>\n",
       "      <td>0.403698</td>\n",
       "      <td>True</td>\n",
       "      <td>Brittany_spaniel</td>\n",
       "      <td>0.347609</td>\n",
       "      <td>True</td>\n",
       "      <td>Welsh_springer_spaniel</td>\n",
       "      <td>0.137186</td>\n",
       "      <td>True</td>\n",
       "      <td>True</td>\n",
       "    </tr>\n",
       "    <tr>\n",
       "      <th>241</th>\n",
       "      <td>670444955656130560</td>\n",
       "      <td>https://pbs.twimg.com/media/CU3mITUWIAAfyQS.jpg</td>\n",
       "      <td>1</td>\n",
       "      <td>English_springer</td>\n",
       "      <td>0.403698</td>\n",
       "      <td>True</td>\n",
       "      <td>Brittany_spaniel</td>\n",
       "      <td>0.347609</td>\n",
       "      <td>True</td>\n",
       "      <td>Welsh_springer_spaniel</td>\n",
       "      <td>0.137186</td>\n",
       "      <td>True</td>\n",
       "      <td>True</td>\n",
       "    </tr>\n",
       "    <tr>\n",
       "      <th>1589</th>\n",
       "      <td>798628517273620480</td>\n",
       "      <td>https://pbs.twimg.com/media/CUN4Or5UAAAa5K4.jpg</td>\n",
       "      <td>1</td>\n",
       "      <td>beagle</td>\n",
       "      <td>0.636169</td>\n",
       "      <td>True</td>\n",
       "      <td>Labrador_retriever</td>\n",
       "      <td>0.119256</td>\n",
       "      <td>True</td>\n",
       "      <td>golden_retriever</td>\n",
       "      <td>0.082549</td>\n",
       "      <td>True</td>\n",
       "      <td>True</td>\n",
       "    </tr>\n",
       "    <tr>\n",
       "      <th>85</th>\n",
       "      <td>667509364010450944</td>\n",
       "      <td>https://pbs.twimg.com/media/CUN4Or5UAAAa5K4.jpg</td>\n",
       "      <td>1</td>\n",
       "      <td>beagle</td>\n",
       "      <td>0.636169</td>\n",
       "      <td>True</td>\n",
       "      <td>Labrador_retriever</td>\n",
       "      <td>0.119256</td>\n",
       "      <td>True</td>\n",
       "      <td>golden_retriever</td>\n",
       "      <td>0.082549</td>\n",
       "      <td>True</td>\n",
       "      <td>True</td>\n",
       "    </tr>\n",
       "    <tr>\n",
       "      <th>327</th>\n",
       "      <td>671896809300709376</td>\n",
       "      <td>https://pbs.twimg.com/media/CVMOlMiWwAA4Yxl.jpg</td>\n",
       "      <td>1</td>\n",
       "      <td>chow</td>\n",
       "      <td>0.243529</td>\n",
       "      <td>True</td>\n",
       "      <td>hamster</td>\n",
       "      <td>0.227150</td>\n",
       "      <td>False</td>\n",
       "      <td>Pomeranian</td>\n",
       "      <td>0.056057</td>\n",
       "      <td>True</td>\n",
       "      <td>True</td>\n",
       "    </tr>\n",
       "    <tr>\n",
       "      <th>1591</th>\n",
       "      <td>798665375516884993</td>\n",
       "      <td>https://pbs.twimg.com/media/CVMOlMiWwAA4Yxl.jpg</td>\n",
       "      <td>1</td>\n",
       "      <td>chow</td>\n",
       "      <td>0.243529</td>\n",
       "      <td>True</td>\n",
       "      <td>hamster</td>\n",
       "      <td>0.227150</td>\n",
       "      <td>False</td>\n",
       "      <td>Pomeranian</td>\n",
       "      <td>0.056057</td>\n",
       "      <td>True</td>\n",
       "      <td>True</td>\n",
       "    </tr>\n",
       "    <tr>\n",
       "      <th>...</th>\n",
       "      <td>...</td>\n",
       "      <td>...</td>\n",
       "      <td>...</td>\n",
       "      <td>...</td>\n",
       "      <td>...</td>\n",
       "      <td>...</td>\n",
       "      <td>...</td>\n",
       "      <td>...</td>\n",
       "      <td>...</td>\n",
       "      <td>...</td>\n",
       "      <td>...</td>\n",
       "      <td>...</td>\n",
       "      <td>...</td>\n",
       "    </tr>\n",
       "    <tr>\n",
       "      <th>1571</th>\n",
       "      <td>794983741416415232</td>\n",
       "      <td>https://pbs.twimg.com/media/CvT6IV6WEAQhhV5.jpg</td>\n",
       "      <td>3</td>\n",
       "      <td>schipperke</td>\n",
       "      <td>0.363272</td>\n",
       "      <td>True</td>\n",
       "      <td>kelpie</td>\n",
       "      <td>0.197021</td>\n",
       "      <td>True</td>\n",
       "      <td>Norwegian_elkhound</td>\n",
       "      <td>0.151024</td>\n",
       "      <td>True</td>\n",
       "      <td>True</td>\n",
       "    </tr>\n",
       "    <tr>\n",
       "      <th>1530</th>\n",
       "      <td>789530877013393408</td>\n",
       "      <td>https://pbs.twimg.com/media/CvT6IV6WEAQhhV5.jpg</td>\n",
       "      <td>3</td>\n",
       "      <td>schipperke</td>\n",
       "      <td>0.363272</td>\n",
       "      <td>True</td>\n",
       "      <td>kelpie</td>\n",
       "      <td>0.197021</td>\n",
       "      <td>True</td>\n",
       "      <td>Norwegian_elkhound</td>\n",
       "      <td>0.151024</td>\n",
       "      <td>True</td>\n",
       "      <td>True</td>\n",
       "    </tr>\n",
       "    <tr>\n",
       "      <th>1538</th>\n",
       "      <td>790723298204217344</td>\n",
       "      <td>https://pbs.twimg.com/media/CvaYgDOWgAEfjls.jpg</td>\n",
       "      <td>1</td>\n",
       "      <td>tub</td>\n",
       "      <td>0.479477</td>\n",
       "      <td>False</td>\n",
       "      <td>bathtub</td>\n",
       "      <td>0.325106</td>\n",
       "      <td>False</td>\n",
       "      <td>golden_retriever</td>\n",
       "      <td>0.078530</td>\n",
       "      <td>True</td>\n",
       "      <td>True</td>\n",
       "    </tr>\n",
       "    <tr>\n",
       "      <th>1533</th>\n",
       "      <td>789986466051088384</td>\n",
       "      <td>https://pbs.twimg.com/media/CvaYgDOWgAEfjls.jpg</td>\n",
       "      <td>1</td>\n",
       "      <td>tub</td>\n",
       "      <td>0.479477</td>\n",
       "      <td>False</td>\n",
       "      <td>bathtub</td>\n",
       "      <td>0.325106</td>\n",
       "      <td>False</td>\n",
       "      <td>golden_retriever</td>\n",
       "      <td>0.078530</td>\n",
       "      <td>True</td>\n",
       "      <td>True</td>\n",
       "    </tr>\n",
       "    <tr>\n",
       "      <th>1683</th>\n",
       "      <td>813944609378369540</td>\n",
       "      <td>https://pbs.twimg.com/media/Cveg1-NXgAASaaT.jpg</td>\n",
       "      <td>1</td>\n",
       "      <td>Labrador_retriever</td>\n",
       "      <td>0.427742</td>\n",
       "      <td>True</td>\n",
       "      <td>Great_Dane</td>\n",
       "      <td>0.190503</td>\n",
       "      <td>True</td>\n",
       "      <td>curly-coated_retriever</td>\n",
       "      <td>0.146427</td>\n",
       "      <td>True</td>\n",
       "      <td>True</td>\n",
       "    </tr>\n",
       "    <tr>\n",
       "      <th>1534</th>\n",
       "      <td>790277117346975746</td>\n",
       "      <td>https://pbs.twimg.com/media/Cveg1-NXgAASaaT.jpg</td>\n",
       "      <td>1</td>\n",
       "      <td>Labrador_retriever</td>\n",
       "      <td>0.427742</td>\n",
       "      <td>True</td>\n",
       "      <td>Great_Dane</td>\n",
       "      <td>0.190503</td>\n",
       "      <td>True</td>\n",
       "      <td>curly-coated_retriever</td>\n",
       "      <td>0.146427</td>\n",
       "      <td>True</td>\n",
       "      <td>True</td>\n",
       "    </tr>\n",
       "    <tr>\n",
       "      <th>1539</th>\n",
       "      <td>790946055508652032</td>\n",
       "      <td>https://pbs.twimg.com/media/CvoBPWRWgAA4het.jpg</td>\n",
       "      <td>1</td>\n",
       "      <td>dishwasher</td>\n",
       "      <td>0.700466</td>\n",
       "      <td>False</td>\n",
       "      <td>golden_retriever</td>\n",
       "      <td>0.245773</td>\n",
       "      <td>True</td>\n",
       "      <td>chow</td>\n",
       "      <td>0.039012</td>\n",
       "      <td>True</td>\n",
       "      <td>True</td>\n",
       "    </tr>\n",
       "    <tr>\n",
       "      <th>1699</th>\n",
       "      <td>816829038950027264</td>\n",
       "      <td>https://pbs.twimg.com/media/CvoBPWRWgAA4het.jpg</td>\n",
       "      <td>1</td>\n",
       "      <td>dishwasher</td>\n",
       "      <td>0.700466</td>\n",
       "      <td>False</td>\n",
       "      <td>golden_retriever</td>\n",
       "      <td>0.245773</td>\n",
       "      <td>True</td>\n",
       "      <td>chow</td>\n",
       "      <td>0.039012</td>\n",
       "      <td>True</td>\n",
       "      <td>True</td>\n",
       "    </tr>\n",
       "    <tr>\n",
       "      <th>1544</th>\n",
       "      <td>791672322847637504</td>\n",
       "      <td>https://pbs.twimg.com/media/CvyVxQRWEAAdSZS.jpg</td>\n",
       "      <td>1</td>\n",
       "      <td>golden_retriever</td>\n",
       "      <td>0.705092</td>\n",
       "      <td>True</td>\n",
       "      <td>Labrador_retriever</td>\n",
       "      <td>0.219721</td>\n",
       "      <td>True</td>\n",
       "      <td>kuvasz</td>\n",
       "      <td>0.015965</td>\n",
       "      <td>True</td>\n",
       "      <td>True</td>\n",
       "    </tr>\n",
       "    <tr>\n",
       "      <th>1564</th>\n",
       "      <td>793614319594401792</td>\n",
       "      <td>https://pbs.twimg.com/media/CvyVxQRWEAAdSZS.jpg</td>\n",
       "      <td>1</td>\n",
       "      <td>golden_retriever</td>\n",
       "      <td>0.705092</td>\n",
       "      <td>True</td>\n",
       "      <td>Labrador_retriever</td>\n",
       "      <td>0.219721</td>\n",
       "      <td>True</td>\n",
       "      <td>kuvasz</td>\n",
       "      <td>0.015965</td>\n",
       "      <td>True</td>\n",
       "      <td>True</td>\n",
       "    </tr>\n",
       "    <tr>\n",
       "      <th>1804</th>\n",
       "      <td>832215726631055365</td>\n",
       "      <td>https://pbs.twimg.com/media/CwJR1okWIAA6XMp.jpg</td>\n",
       "      <td>1</td>\n",
       "      <td>Afghan_hound</td>\n",
       "      <td>0.274637</td>\n",
       "      <td>True</td>\n",
       "      <td>borzoi</td>\n",
       "      <td>0.142204</td>\n",
       "      <td>True</td>\n",
       "      <td>doormat</td>\n",
       "      <td>0.109677</td>\n",
       "      <td>False</td>\n",
       "      <td>True</td>\n",
       "    </tr>\n",
       "    <tr>\n",
       "      <th>1561</th>\n",
       "      <td>793286476301799424</td>\n",
       "      <td>https://pbs.twimg.com/media/CwJR1okWIAA6XMp.jpg</td>\n",
       "      <td>1</td>\n",
       "      <td>Afghan_hound</td>\n",
       "      <td>0.274637</td>\n",
       "      <td>True</td>\n",
       "      <td>borzoi</td>\n",
       "      <td>0.142204</td>\n",
       "      <td>True</td>\n",
       "      <td>doormat</td>\n",
       "      <td>0.109677</td>\n",
       "      <td>False</td>\n",
       "      <td>True</td>\n",
       "    </tr>\n",
       "    <tr>\n",
       "      <th>1566</th>\n",
       "      <td>793962221541933056</td>\n",
       "      <td>https://pbs.twimg.com/media/CwS4aqZXUAAe3IO.jpg</td>\n",
       "      <td>1</td>\n",
       "      <td>Labrador_retriever</td>\n",
       "      <td>0.861651</td>\n",
       "      <td>True</td>\n",
       "      <td>golden_retriever</td>\n",
       "      <td>0.044462</td>\n",
       "      <td>True</td>\n",
       "      <td>Staffordshire_bullterrier</td>\n",
       "      <td>0.016497</td>\n",
       "      <td>True</td>\n",
       "      <td>True</td>\n",
       "    </tr>\n",
       "    <tr>\n",
       "      <th>1652</th>\n",
       "      <td>809808892968534016</td>\n",
       "      <td>https://pbs.twimg.com/media/CwS4aqZXUAAe3IO.jpg</td>\n",
       "      <td>1</td>\n",
       "      <td>Labrador_retriever</td>\n",
       "      <td>0.861651</td>\n",
       "      <td>True</td>\n",
       "      <td>golden_retriever</td>\n",
       "      <td>0.044462</td>\n",
       "      <td>True</td>\n",
       "      <td>Staffordshire_bullterrier</td>\n",
       "      <td>0.016497</td>\n",
       "      <td>True</td>\n",
       "      <td>True</td>\n",
       "    </tr>\n",
       "    <tr>\n",
       "      <th>1572</th>\n",
       "      <td>795076730285391872</td>\n",
       "      <td>https://pbs.twimg.com/media/CwiuEJmW8AAZnit.jpg</td>\n",
       "      <td>2</td>\n",
       "      <td>gas_pump</td>\n",
       "      <td>0.676439</td>\n",
       "      <td>False</td>\n",
       "      <td>harvester</td>\n",
       "      <td>0.049995</td>\n",
       "      <td>False</td>\n",
       "      <td>swing</td>\n",
       "      <td>0.044660</td>\n",
       "      <td>False</td>\n",
       "      <td>True</td>\n",
       "    </tr>\n",
       "    <tr>\n",
       "      <th>1755</th>\n",
       "      <td>824796380199809024</td>\n",
       "      <td>https://pbs.twimg.com/media/CwiuEJmW8AAZnit.jpg</td>\n",
       "      <td>2</td>\n",
       "      <td>gas_pump</td>\n",
       "      <td>0.676439</td>\n",
       "      <td>False</td>\n",
       "      <td>harvester</td>\n",
       "      <td>0.049995</td>\n",
       "      <td>False</td>\n",
       "      <td>swing</td>\n",
       "      <td>0.044660</td>\n",
       "      <td>False</td>\n",
       "      <td>True</td>\n",
       "    </tr>\n",
       "    <tr>\n",
       "      <th>1579</th>\n",
       "      <td>796177847564038144</td>\n",
       "      <td>https://pbs.twimg.com/media/Cwx99rpW8AMk_Ie.jpg</td>\n",
       "      <td>1</td>\n",
       "      <td>golden_retriever</td>\n",
       "      <td>0.600276</td>\n",
       "      <td>True</td>\n",
       "      <td>Labrador_retriever</td>\n",
       "      <td>0.140798</td>\n",
       "      <td>True</td>\n",
       "      <td>seat_belt</td>\n",
       "      <td>0.087355</td>\n",
       "      <td>False</td>\n",
       "      <td>True</td>\n",
       "    </tr>\n",
       "    <tr>\n",
       "      <th>1578</th>\n",
       "      <td>796149749086875649</td>\n",
       "      <td>https://pbs.twimg.com/media/Cwx99rpW8AMk_Ie.jpg</td>\n",
       "      <td>1</td>\n",
       "      <td>golden_retriever</td>\n",
       "      <td>0.600276</td>\n",
       "      <td>True</td>\n",
       "      <td>Labrador_retriever</td>\n",
       "      <td>0.140798</td>\n",
       "      <td>True</td>\n",
       "      <td>seat_belt</td>\n",
       "      <td>0.087355</td>\n",
       "      <td>False</td>\n",
       "      <td>True</td>\n",
       "    </tr>\n",
       "    <tr>\n",
       "      <th>1610</th>\n",
       "      <td>801167903437357056</td>\n",
       "      <td>https://pbs.twimg.com/media/Cx5R8wPVEAALa9r.jpg</td>\n",
       "      <td>1</td>\n",
       "      <td>cocker_spaniel</td>\n",
       "      <td>0.740220</td>\n",
       "      <td>True</td>\n",
       "      <td>Dandie_Dinmont</td>\n",
       "      <td>0.061604</td>\n",
       "      <td>True</td>\n",
       "      <td>English_setter</td>\n",
       "      <td>0.041331</td>\n",
       "      <td>True</td>\n",
       "      <td>True</td>\n",
       "    </tr>\n",
       "    <tr>\n",
       "      <th>1645</th>\n",
       "      <td>808134635716833280</td>\n",
       "      <td>https://pbs.twimg.com/media/Cx5R8wPVEAALa9r.jpg</td>\n",
       "      <td>1</td>\n",
       "      <td>cocker_spaniel</td>\n",
       "      <td>0.740220</td>\n",
       "      <td>True</td>\n",
       "      <td>Dandie_Dinmont</td>\n",
       "      <td>0.061604</td>\n",
       "      <td>True</td>\n",
       "      <td>English_setter</td>\n",
       "      <td>0.041331</td>\n",
       "      <td>True</td>\n",
       "      <td>True</td>\n",
       "    </tr>\n",
       "    <tr>\n",
       "      <th>1603</th>\n",
       "      <td>800141422401830912</td>\n",
       "      <td>https://pbs.twimg.com/media/CxqsX-8XUAAEvjD.jpg</td>\n",
       "      <td>3</td>\n",
       "      <td>golden_retriever</td>\n",
       "      <td>0.938048</td>\n",
       "      <td>True</td>\n",
       "      <td>kuvasz</td>\n",
       "      <td>0.025119</td>\n",
       "      <td>True</td>\n",
       "      <td>Labrador_retriever</td>\n",
       "      <td>0.022977</td>\n",
       "      <td>True</td>\n",
       "      <td>True</td>\n",
       "    </tr>\n",
       "    <tr>\n",
       "      <th>1727</th>\n",
       "      <td>820446719150292993</td>\n",
       "      <td>https://pbs.twimg.com/media/CxqsX-8XUAAEvjD.jpg</td>\n",
       "      <td>3</td>\n",
       "      <td>golden_retriever</td>\n",
       "      <td>0.938048</td>\n",
       "      <td>True</td>\n",
       "      <td>kuvasz</td>\n",
       "      <td>0.025119</td>\n",
       "      <td>True</td>\n",
       "      <td>Labrador_retriever</td>\n",
       "      <td>0.022977</td>\n",
       "      <td>True</td>\n",
       "      <td>True</td>\n",
       "    </tr>\n",
       "    <tr>\n",
       "      <th>1944</th>\n",
       "      <td>861769973181624320</td>\n",
       "      <td>https://pbs.twimg.com/media/CzG425nWgAAnP7P.jpg</td>\n",
       "      <td>2</td>\n",
       "      <td>Arabian_camel</td>\n",
       "      <td>0.366248</td>\n",
       "      <td>False</td>\n",
       "      <td>house_finch</td>\n",
       "      <td>0.209852</td>\n",
       "      <td>False</td>\n",
       "      <td>cocker_spaniel</td>\n",
       "      <td>0.046403</td>\n",
       "      <td>True</td>\n",
       "      <td>True</td>\n",
       "    </tr>\n",
       "    <tr>\n",
       "      <th>1638</th>\n",
       "      <td>806629075125202948</td>\n",
       "      <td>https://pbs.twimg.com/media/CzG425nWgAAnP7P.jpg</td>\n",
       "      <td>2</td>\n",
       "      <td>Arabian_camel</td>\n",
       "      <td>0.366248</td>\n",
       "      <td>False</td>\n",
       "      <td>house_finch</td>\n",
       "      <td>0.209852</td>\n",
       "      <td>False</td>\n",
       "      <td>cocker_spaniel</td>\n",
       "      <td>0.046403</td>\n",
       "      <td>True</td>\n",
       "      <td>True</td>\n",
       "    </tr>\n",
       "    <tr>\n",
       "      <th>1970</th>\n",
       "      <td>868880397819494401</td>\n",
       "      <td>https://pbs.twimg.com/media/DA7iHL5U0AA1OQo.jpg</td>\n",
       "      <td>1</td>\n",
       "      <td>laptop</td>\n",
       "      <td>0.153718</td>\n",
       "      <td>False</td>\n",
       "      <td>French_bulldog</td>\n",
       "      <td>0.099984</td>\n",
       "      <td>True</td>\n",
       "      <td>printer</td>\n",
       "      <td>0.077130</td>\n",
       "      <td>False</td>\n",
       "      <td>True</td>\n",
       "    </tr>\n",
       "    <tr>\n",
       "      <th>1992</th>\n",
       "      <td>873697596434513921</td>\n",
       "      <td>https://pbs.twimg.com/media/DA7iHL5U0AA1OQo.jpg</td>\n",
       "      <td>1</td>\n",
       "      <td>laptop</td>\n",
       "      <td>0.153718</td>\n",
       "      <td>False</td>\n",
       "      <td>French_bulldog</td>\n",
       "      <td>0.099984</td>\n",
       "      <td>True</td>\n",
       "      <td>printer</td>\n",
       "      <td>0.077130</td>\n",
       "      <td>False</td>\n",
       "      <td>True</td>\n",
       "    </tr>\n",
       "    <tr>\n",
       "      <th>2051</th>\n",
       "      <td>887473957103951883</td>\n",
       "      <td>https://pbs.twimg.com/media/DFDw2tyUQAAAFke.jpg</td>\n",
       "      <td>2</td>\n",
       "      <td>Pembroke</td>\n",
       "      <td>0.809197</td>\n",
       "      <td>True</td>\n",
       "      <td>Rhodesian_ridgeback</td>\n",
       "      <td>0.054950</td>\n",
       "      <td>True</td>\n",
       "      <td>beagle</td>\n",
       "      <td>0.038915</td>\n",
       "      <td>True</td>\n",
       "      <td>True</td>\n",
       "    </tr>\n",
       "    <tr>\n",
       "      <th>2055</th>\n",
       "      <td>888202515573088257</td>\n",
       "      <td>https://pbs.twimg.com/media/DFDw2tyUQAAAFke.jpg</td>\n",
       "      <td>2</td>\n",
       "      <td>Pembroke</td>\n",
       "      <td>0.809197</td>\n",
       "      <td>True</td>\n",
       "      <td>Rhodesian_ridgeback</td>\n",
       "      <td>0.054950</td>\n",
       "      <td>True</td>\n",
       "      <td>beagle</td>\n",
       "      <td>0.038915</td>\n",
       "      <td>True</td>\n",
       "      <td>True</td>\n",
       "    </tr>\n",
       "    <tr>\n",
       "      <th>1033</th>\n",
       "      <td>711694788429553666</td>\n",
       "      <td>https://pbs.twimg.com/tweet_video_thumb/CeBym7...</td>\n",
       "      <td>1</td>\n",
       "      <td>brown_bear</td>\n",
       "      <td>0.713293</td>\n",
       "      <td>False</td>\n",
       "      <td>Indian_elephant</td>\n",
       "      <td>0.172844</td>\n",
       "      <td>False</td>\n",
       "      <td>water_buffalo</td>\n",
       "      <td>0.038902</td>\n",
       "      <td>False</td>\n",
       "      <td>True</td>\n",
       "    </tr>\n",
       "    <tr>\n",
       "      <th>1364</th>\n",
       "      <td>761371037149827077</td>\n",
       "      <td>https://pbs.twimg.com/tweet_video_thumb/CeBym7...</td>\n",
       "      <td>1</td>\n",
       "      <td>brown_bear</td>\n",
       "      <td>0.713293</td>\n",
       "      <td>False</td>\n",
       "      <td>Indian_elephant</td>\n",
       "      <td>0.172844</td>\n",
       "      <td>False</td>\n",
       "      <td>water_buffalo</td>\n",
       "      <td>0.038902</td>\n",
       "      <td>False</td>\n",
       "      <td>True</td>\n",
       "    </tr>\n",
       "  </tbody>\n",
       "</table>\n",
       "<p>132 rows × 13 columns</p>\n",
       "</div>"
      ],
      "text/plain": [
       "                tweet_id                                            jpg_url  \\\n",
       "480   675354435921575936  https://pbs.twimg.com/ext_tw_video_thumb/67535...   \n",
       "1297  752309394570878976  https://pbs.twimg.com/ext_tw_video_thumb/67535...   \n",
       "1864  842892208864923648  https://pbs.twimg.com/ext_tw_video_thumb/80710...   \n",
       "1641  807106840509214720  https://pbs.twimg.com/ext_tw_video_thumb/80710...   \n",
       "1703  817181837579653120  https://pbs.twimg.com/ext_tw_video_thumb/81596...   \n",
       "1691  815966073409433600  https://pbs.twimg.com/ext_tw_video_thumb/81596...   \n",
       "1705  817423860136083457  https://pbs.twimg.com/ext_tw_video_thumb/81742...   \n",
       "1858  841833993020538882  https://pbs.twimg.com/ext_tw_video_thumb/81742...   \n",
       "1715  819004803107983360    https://pbs.twimg.com/media/C12whDoVEAALRxa.jpg   \n",
       "1718  819015337530290176    https://pbs.twimg.com/media/C12whDoVEAALRxa.jpg   \n",
       "1716  819006400881917954    https://pbs.twimg.com/media/C12x-JTVIAAzdfl.jpg   \n",
       "1717  819015331746349057    https://pbs.twimg.com/media/C12x-JTVIAAzdfl.jpg   \n",
       "1746  823269594223824897    https://pbs.twimg.com/media/C2kzTGxWEAEOpPL.jpg   \n",
       "1738  822244816520155136    https://pbs.twimg.com/media/C2kzTGxWEAEOpPL.jpg   \n",
       "1740  822489057087389700    https://pbs.twimg.com/media/C2oRbOuWEAAbVSl.jpg   \n",
       "1742  822647212903690241    https://pbs.twimg.com/media/C2oRbOuWEAAbVSl.jpg   \n",
       "1767  826958653328592898    https://pbs.twimg.com/media/C3nygbBWQAAjwcW.jpg   \n",
       "1789  829878982036299777    https://pbs.twimg.com/media/C3nygbBWQAAjwcW.jpg   \n",
       "1785  829374341691346946    https://pbs.twimg.com/media/C4KHj-nWQAA3poV.jpg   \n",
       "1903  851953902622658560    https://pbs.twimg.com/media/C4KHj-nWQAA3poV.jpg   \n",
       "2041  885311592912609280    https://pbs.twimg.com/media/C4bTH6nWMAAX_bJ.jpg   \n",
       "1791  830583320585068544    https://pbs.twimg.com/media/C4bTH6nWMAAX_bJ.jpg   \n",
       "224   670319130621435904    https://pbs.twimg.com/media/CU1zsMSUAAAS0qW.jpg   \n",
       "1345  759159934323924993    https://pbs.twimg.com/media/CU1zsMSUAAAS0qW.jpg   \n",
       "1590  798644042770751489    https://pbs.twimg.com/media/CU3mITUWIAAfyQS.jpg   \n",
       "241   670444955656130560    https://pbs.twimg.com/media/CU3mITUWIAAfyQS.jpg   \n",
       "1589  798628517273620480    https://pbs.twimg.com/media/CUN4Or5UAAAa5K4.jpg   \n",
       "85    667509364010450944    https://pbs.twimg.com/media/CUN4Or5UAAAa5K4.jpg   \n",
       "327   671896809300709376    https://pbs.twimg.com/media/CVMOlMiWwAA4Yxl.jpg   \n",
       "1591  798665375516884993    https://pbs.twimg.com/media/CVMOlMiWwAA4Yxl.jpg   \n",
       "...                  ...                                                ...   \n",
       "1571  794983741416415232    https://pbs.twimg.com/media/CvT6IV6WEAQhhV5.jpg   \n",
       "1530  789530877013393408    https://pbs.twimg.com/media/CvT6IV6WEAQhhV5.jpg   \n",
       "1538  790723298204217344    https://pbs.twimg.com/media/CvaYgDOWgAEfjls.jpg   \n",
       "1533  789986466051088384    https://pbs.twimg.com/media/CvaYgDOWgAEfjls.jpg   \n",
       "1683  813944609378369540    https://pbs.twimg.com/media/Cveg1-NXgAASaaT.jpg   \n",
       "1534  790277117346975746    https://pbs.twimg.com/media/Cveg1-NXgAASaaT.jpg   \n",
       "1539  790946055508652032    https://pbs.twimg.com/media/CvoBPWRWgAA4het.jpg   \n",
       "1699  816829038950027264    https://pbs.twimg.com/media/CvoBPWRWgAA4het.jpg   \n",
       "1544  791672322847637504    https://pbs.twimg.com/media/CvyVxQRWEAAdSZS.jpg   \n",
       "1564  793614319594401792    https://pbs.twimg.com/media/CvyVxQRWEAAdSZS.jpg   \n",
       "1804  832215726631055365    https://pbs.twimg.com/media/CwJR1okWIAA6XMp.jpg   \n",
       "1561  793286476301799424    https://pbs.twimg.com/media/CwJR1okWIAA6XMp.jpg   \n",
       "1566  793962221541933056    https://pbs.twimg.com/media/CwS4aqZXUAAe3IO.jpg   \n",
       "1652  809808892968534016    https://pbs.twimg.com/media/CwS4aqZXUAAe3IO.jpg   \n",
       "1572  795076730285391872    https://pbs.twimg.com/media/CwiuEJmW8AAZnit.jpg   \n",
       "1755  824796380199809024    https://pbs.twimg.com/media/CwiuEJmW8AAZnit.jpg   \n",
       "1579  796177847564038144    https://pbs.twimg.com/media/Cwx99rpW8AMk_Ie.jpg   \n",
       "1578  796149749086875649    https://pbs.twimg.com/media/Cwx99rpW8AMk_Ie.jpg   \n",
       "1610  801167903437357056    https://pbs.twimg.com/media/Cx5R8wPVEAALa9r.jpg   \n",
       "1645  808134635716833280    https://pbs.twimg.com/media/Cx5R8wPVEAALa9r.jpg   \n",
       "1603  800141422401830912    https://pbs.twimg.com/media/CxqsX-8XUAAEvjD.jpg   \n",
       "1727  820446719150292993    https://pbs.twimg.com/media/CxqsX-8XUAAEvjD.jpg   \n",
       "1944  861769973181624320    https://pbs.twimg.com/media/CzG425nWgAAnP7P.jpg   \n",
       "1638  806629075125202948    https://pbs.twimg.com/media/CzG425nWgAAnP7P.jpg   \n",
       "1970  868880397819494401    https://pbs.twimg.com/media/DA7iHL5U0AA1OQo.jpg   \n",
       "1992  873697596434513921    https://pbs.twimg.com/media/DA7iHL5U0AA1OQo.jpg   \n",
       "2051  887473957103951883    https://pbs.twimg.com/media/DFDw2tyUQAAAFke.jpg   \n",
       "2055  888202515573088257    https://pbs.twimg.com/media/DFDw2tyUQAAAFke.jpg   \n",
       "1033  711694788429553666  https://pbs.twimg.com/tweet_video_thumb/CeBym7...   \n",
       "1364  761371037149827077  https://pbs.twimg.com/tweet_video_thumb/CeBym7...   \n",
       "\n",
       "      img_num                         p1   p1_conf  p1_dog  \\\n",
       "480         1                    upright  0.303415   False   \n",
       "1297        1                    upright  0.303415   False   \n",
       "1864        1                  Chihuahua  0.505370    True   \n",
       "1641        1                  Chihuahua  0.505370    True   \n",
       "1703        1            Tibetan_mastiff  0.506312    True   \n",
       "1691        1            Tibetan_mastiff  0.506312    True   \n",
       "1705        1                   ice_bear  0.336200   False   \n",
       "1858        1                   ice_bear  0.336200   False   \n",
       "1715        1            standard_poodle  0.351308    True   \n",
       "1718        1            standard_poodle  0.351308    True   \n",
       "1716        4                     prison  0.907083   False   \n",
       "1717        4                     prison  0.907083   False   \n",
       "1746        1                    Samoyed  0.585441    True   \n",
       "1738        1                    Samoyed  0.585441    True   \n",
       "1740        1                    Samoyed  0.416769    True   \n",
       "1742        1                    Samoyed  0.416769    True   \n",
       "1767        1           golden_retriever  0.617389    True   \n",
       "1789        1           golden_retriever  0.617389    True   \n",
       "1785        1  Staffordshire_bullterrier  0.757547    True   \n",
       "1903        1  Staffordshire_bullterrier  0.757547    True   \n",
       "2041        1         Labrador_retriever  0.908703    True   \n",
       "1791        1         Labrador_retriever  0.908703    True   \n",
       "224         1              Irish_terrier  0.254856    True   \n",
       "1345        1              Irish_terrier  0.254856    True   \n",
       "1590        1           English_springer  0.403698    True   \n",
       "241         1           English_springer  0.403698    True   \n",
       "1589        1                     beagle  0.636169    True   \n",
       "85          1                     beagle  0.636169    True   \n",
       "327         1                       chow  0.243529    True   \n",
       "1591        1                       chow  0.243529    True   \n",
       "...       ...                        ...       ...     ...   \n",
       "1571        3                 schipperke  0.363272    True   \n",
       "1530        3                 schipperke  0.363272    True   \n",
       "1538        1                        tub  0.479477   False   \n",
       "1533        1                        tub  0.479477   False   \n",
       "1683        1         Labrador_retriever  0.427742    True   \n",
       "1534        1         Labrador_retriever  0.427742    True   \n",
       "1539        1                 dishwasher  0.700466   False   \n",
       "1699        1                 dishwasher  0.700466   False   \n",
       "1544        1           golden_retriever  0.705092    True   \n",
       "1564        1           golden_retriever  0.705092    True   \n",
       "1804        1               Afghan_hound  0.274637    True   \n",
       "1561        1               Afghan_hound  0.274637    True   \n",
       "1566        1         Labrador_retriever  0.861651    True   \n",
       "1652        1         Labrador_retriever  0.861651    True   \n",
       "1572        2                   gas_pump  0.676439   False   \n",
       "1755        2                   gas_pump  0.676439   False   \n",
       "1579        1           golden_retriever  0.600276    True   \n",
       "1578        1           golden_retriever  0.600276    True   \n",
       "1610        1             cocker_spaniel  0.740220    True   \n",
       "1645        1             cocker_spaniel  0.740220    True   \n",
       "1603        3           golden_retriever  0.938048    True   \n",
       "1727        3           golden_retriever  0.938048    True   \n",
       "1944        2              Arabian_camel  0.366248   False   \n",
       "1638        2              Arabian_camel  0.366248   False   \n",
       "1970        1                     laptop  0.153718   False   \n",
       "1992        1                     laptop  0.153718   False   \n",
       "2051        2                   Pembroke  0.809197    True   \n",
       "2055        2                   Pembroke  0.809197    True   \n",
       "1033        1                 brown_bear  0.713293   False   \n",
       "1364        1                 brown_bear  0.713293   False   \n",
       "\n",
       "                                  p2   p2_conf  p2_dog  \\\n",
       "480                 golden_retriever  0.181351    True   \n",
       "1297                golden_retriever  0.181351    True   \n",
       "1864                      Pomeranian  0.120358    True   \n",
       "1641                      Pomeranian  0.120358    True   \n",
       "1703                 Tibetan_terrier  0.295690    True   \n",
       "1691                 Tibetan_terrier  0.295690    True   \n",
       "1705                         Samoyed  0.201358    True   \n",
       "1858                         Samoyed  0.201358    True   \n",
       "1715                      toy_poodle  0.271929    True   \n",
       "1718                      toy_poodle  0.271929    True   \n",
       "1716                          palace  0.020089   False   \n",
       "1717                          palace  0.020089   False   \n",
       "1746                      Pomeranian  0.193654    True   \n",
       "1738                      Pomeranian  0.193654    True   \n",
       "1740                        malamute  0.252706    True   \n",
       "1742                        malamute  0.252706    True   \n",
       "1767              Labrador_retriever  0.337053    True   \n",
       "1789              Labrador_retriever  0.337053    True   \n",
       "1785  American_Staffordshire_terrier  0.149950    True   \n",
       "1903  American_Staffordshire_terrier  0.149950    True   \n",
       "2041                       seat_belt  0.057091   False   \n",
       "1791                       seat_belt  0.057091   False   \n",
       "224                           briard  0.227716    True   \n",
       "1345                          briard  0.227716    True   \n",
       "1590                Brittany_spaniel  0.347609    True   \n",
       "241                 Brittany_spaniel  0.347609    True   \n",
       "1589              Labrador_retriever  0.119256    True   \n",
       "85                Labrador_retriever  0.119256    True   \n",
       "327                          hamster  0.227150   False   \n",
       "1591                         hamster  0.227150   False   \n",
       "...                              ...       ...     ...   \n",
       "1571                          kelpie  0.197021    True   \n",
       "1530                          kelpie  0.197021    True   \n",
       "1538                         bathtub  0.325106   False   \n",
       "1533                         bathtub  0.325106   False   \n",
       "1683                      Great_Dane  0.190503    True   \n",
       "1534                      Great_Dane  0.190503    True   \n",
       "1539                golden_retriever  0.245773    True   \n",
       "1699                golden_retriever  0.245773    True   \n",
       "1544              Labrador_retriever  0.219721    True   \n",
       "1564              Labrador_retriever  0.219721    True   \n",
       "1804                          borzoi  0.142204    True   \n",
       "1561                          borzoi  0.142204    True   \n",
       "1566                golden_retriever  0.044462    True   \n",
       "1652                golden_retriever  0.044462    True   \n",
       "1572                       harvester  0.049995   False   \n",
       "1755                       harvester  0.049995   False   \n",
       "1579              Labrador_retriever  0.140798    True   \n",
       "1578              Labrador_retriever  0.140798    True   \n",
       "1610                  Dandie_Dinmont  0.061604    True   \n",
       "1645                  Dandie_Dinmont  0.061604    True   \n",
       "1603                          kuvasz  0.025119    True   \n",
       "1727                          kuvasz  0.025119    True   \n",
       "1944                     house_finch  0.209852   False   \n",
       "1638                     house_finch  0.209852   False   \n",
       "1970                  French_bulldog  0.099984    True   \n",
       "1992                  French_bulldog  0.099984    True   \n",
       "2051             Rhodesian_ridgeback  0.054950    True   \n",
       "2055             Rhodesian_ridgeback  0.054950    True   \n",
       "1033                 Indian_elephant  0.172844   False   \n",
       "1364                 Indian_elephant  0.172844   False   \n",
       "\n",
       "                               p3   p3_conf  p3_dog  id_in_archive  \n",
       "480              Brittany_spaniel  0.162084    True           True  \n",
       "1297             Brittany_spaniel  0.162084    True           True  \n",
       "1864                  toy_terrier  0.077008    True           True  \n",
       "1641                  toy_terrier  0.077008    True           True  \n",
       "1703                   otterhound  0.036251    True           True  \n",
       "1691                   otterhound  0.036251    True           True  \n",
       "1705                   Eskimo_dog  0.186789    True           True  \n",
       "1858                   Eskimo_dog  0.186789    True           True  \n",
       "1715              Tibetan_terrier  0.094759    True           True  \n",
       "1718              Tibetan_terrier  0.094759    True           True  \n",
       "1716                     umbrella  0.007850   False           True  \n",
       "1717                     umbrella  0.007850   False           True  \n",
       "1746                   Arctic_fox  0.071648   False           True  \n",
       "1738                   Arctic_fox  0.071648   False           True  \n",
       "1740                       kuvasz  0.157028    True           True  \n",
       "1742                       kuvasz  0.157028    True           True  \n",
       "1767                  tennis_ball  0.008554   False           True  \n",
       "1789                  tennis_ball  0.008554   False           True  \n",
       "1785     Chesapeake_Bay_retriever  0.047523    True           True  \n",
       "1903     Chesapeake_Bay_retriever  0.047523    True           True  \n",
       "2041                          pug  0.011933    True           True  \n",
       "1791                          pug  0.011933    True           True  \n",
       "224   soft-coated_wheaten_terrier  0.223263    True           True  \n",
       "1345  soft-coated_wheaten_terrier  0.223263    True           True  \n",
       "1590       Welsh_springer_spaniel  0.137186    True           True  \n",
       "241        Welsh_springer_spaniel  0.137186    True           True  \n",
       "1589             golden_retriever  0.082549    True           True  \n",
       "85               golden_retriever  0.082549    True           True  \n",
       "327                    Pomeranian  0.056057    True           True  \n",
       "1591                   Pomeranian  0.056057    True           True  \n",
       "...                           ...       ...     ...            ...  \n",
       "1571           Norwegian_elkhound  0.151024    True           True  \n",
       "1530           Norwegian_elkhound  0.151024    True           True  \n",
       "1538             golden_retriever  0.078530    True           True  \n",
       "1533             golden_retriever  0.078530    True           True  \n",
       "1683       curly-coated_retriever  0.146427    True           True  \n",
       "1534       curly-coated_retriever  0.146427    True           True  \n",
       "1539                         chow  0.039012    True           True  \n",
       "1699                         chow  0.039012    True           True  \n",
       "1544                       kuvasz  0.015965    True           True  \n",
       "1564                       kuvasz  0.015965    True           True  \n",
       "1804                      doormat  0.109677   False           True  \n",
       "1561                      doormat  0.109677   False           True  \n",
       "1566    Staffordshire_bullterrier  0.016497    True           True  \n",
       "1652    Staffordshire_bullterrier  0.016497    True           True  \n",
       "1572                        swing  0.044660   False           True  \n",
       "1755                        swing  0.044660   False           True  \n",
       "1579                    seat_belt  0.087355   False           True  \n",
       "1578                    seat_belt  0.087355   False           True  \n",
       "1610               English_setter  0.041331    True           True  \n",
       "1645               English_setter  0.041331    True           True  \n",
       "1603           Labrador_retriever  0.022977    True           True  \n",
       "1727           Labrador_retriever  0.022977    True           True  \n",
       "1944               cocker_spaniel  0.046403    True           True  \n",
       "1638               cocker_spaniel  0.046403    True           True  \n",
       "1970                      printer  0.077130   False           True  \n",
       "1992                      printer  0.077130   False           True  \n",
       "2051                       beagle  0.038915    True           True  \n",
       "2055                       beagle  0.038915    True           True  \n",
       "1033                water_buffalo  0.038902   False           True  \n",
       "1364                water_buffalo  0.038902   False           True  \n",
       "\n",
       "[132 rows x 13 columns]"
      ]
     },
     "execution_count": 115,
     "metadata": {},
     "output_type": "execute_result"
    }
   ],
   "source": [
    "# extract duplicated jpg_urls into repeated_url\n",
    "repeated_url=image_predictions_clean[image_predictions_clean['jpg_url'].duplicated(keep=False)]\n",
    "repeated_url=pd.DataFrame(repeated_url)\n",
    "repeated_url.sort_values(by=['jpg_url'], inplace=True)\n",
    "\n",
    "# visually inspected the results of image predictions\n",
    "repeated_url"
   ]
  },
  {
   "cell_type": "markdown",
   "metadata": {},
   "source": [
    "Prediction results are the same for same jpg_url. So I should remove duplicated items"
   ]
  },
  {
   "cell_type": "code",
   "execution_count": 116,
   "metadata": {},
   "outputs": [],
   "source": [
    "image_predictions_clean= image_predictions_clean[-image_predictions_clean['jpg_url'].duplicated()]"
   ]
  },
  {
   "cell_type": "markdown",
   "metadata": {},
   "source": [
    "***test***:"
   ]
  },
  {
   "cell_type": "code",
   "execution_count": 117,
   "metadata": {},
   "outputs": [
    {
     "data": {
      "text/plain": [
       "(0, (2009, 13))"
      ]
     },
     "execution_count": 117,
     "metadata": {},
     "output_type": "execute_result"
    }
   ],
   "source": [
    "(image_predictions_clean['jpg_url'].duplicated()).sum(),  image_predictions_clean.shape"
   ]
  },
  {
   "cell_type": "markdown",
   "metadata": {},
   "source": [
    "There are no more duplicated images, and image_predictions_clean has 2009 items."
   ]
  },
  {
   "cell_type": "markdown",
   "metadata": {},
   "source": [
    "<a id='drop_p2_p3'></a>"
   ]
  },
  {
   "cell_type": "markdown",
   "metadata": {},
   "source": [
    "[back to top of Data cleaning](#cleaning)  [back to top of the report](#top)"
   ]
  },
  {
   "cell_type": "markdown",
   "metadata": {},
   "source": [
    "### 3.12 drop p2 and p3 columns"
   ]
  },
  {
   "cell_type": "markdown",
   "metadata": {},
   "source": [
    "***plan***: use pandas .drop() to drop the columns."
   ]
  },
  {
   "cell_type": "markdown",
   "metadata": {},
   "source": [
    "***code***:"
   ]
  },
  {
   "cell_type": "code",
   "execution_count": 118,
   "metadata": {},
   "outputs": [],
   "source": [
    "# drop p2 and p3 columns\n",
    "image_predictions_clean.drop(columns=['p2', 'p2_conf', 'p2_dog', \n",
    "                                      'p3', 'p3_conf', 'p3_dog'], \n",
    "                             inplace=True)\n",
    "\n",
    "# change p1, p1_conf, p1_dog column names to 'image_prediction', 'confidence_level', 'is_dog'\n",
    "image_predictions_clean.rename(columns={'p1': 'image_prediction',\n",
    "                                       'p1_conf': 'confidence_level',\n",
    "                                       'p1_dog':'is_dog'},\n",
    "                              inplace=True)"
   ]
  },
  {
   "cell_type": "markdown",
   "metadata": {},
   "source": [
    "***test***:"
   ]
  },
  {
   "cell_type": "code",
   "execution_count": 119,
   "metadata": {},
   "outputs": [
    {
     "data": {
      "text/plain": [
       "Index(['tweet_id', 'jpg_url', 'img_num', 'image_prediction',\n",
       "       'confidence_level', 'is_dog', 'id_in_archive'],\n",
       "      dtype='object')"
      ]
     },
     "execution_count": 119,
     "metadata": {},
     "output_type": "execute_result"
    }
   ],
   "source": [
    "image_predictions_clean.columns"
   ]
  },
  {
   "cell_type": "markdown",
   "metadata": {},
   "source": [
    "<a id='merge_and_save'></a>"
   ]
  },
  {
   "cell_type": "markdown",
   "metadata": {},
   "source": [
    "[back to top of Data cleaning](#cleaning)  [back to top of the report](#top)"
   ]
  },
  {
   "cell_type": "markdown",
   "metadata": {},
   "source": [
    "### 3.13 merge and save cleaned data"
   ]
  },
  {
   "cell_type": "markdown",
   "metadata": {},
   "source": [
    "***plan***:\n",
    " - merge the cleaned dataframes to **df**\n",
    " - save the merged file as twitter_archive_master.csv"
   ]
  },
  {
   "cell_type": "markdown",
   "metadata": {},
   "source": [
    "***code***"
   ]
  },
  {
   "cell_type": "code",
   "execution_count": 120,
   "metadata": {},
   "outputs": [
    {
     "data": {
      "text/plain": [
       "True     1969\n",
       "False      40\n",
       "Name: id_in_archive_clean, dtype: int64"
      ]
     },
     "execution_count": 120,
     "metadata": {},
     "output_type": "execute_result"
    }
   ],
   "source": [
    "# check overlap between image_predictions_clean and archive_clean\n",
    "archive_id=list(archive_clean['tweet_id'])\n",
    "image_predictions_clean['id_in_archive_clean']=image_predictions_clean.apply(lambda x: x['tweet_id'] in archive_id, axis=1)\n",
    "image_predictions_clean['id_in_archive_clean'].value_counts()"
   ]
  },
  {
   "cell_type": "markdown",
   "metadata": {},
   "source": [
    "40 of the images in image_predictions_clean are not in archive.\n",
    "<br> To preserve data, I will outer merge them"
   ]
  },
  {
   "cell_type": "code",
   "execution_count": 121,
   "metadata": {
    "scrolled": true
   },
   "outputs": [],
   "source": [
    "# drop columns that are not needed\n",
    "image_predictions_clean.drop(columns='id_in_archive_clean', inplace=True)\n",
    "image_predictions_clean.drop(columns='id_in_archive', inplace=True)"
   ]
  },
  {
   "cell_type": "code",
   "execution_count": 122,
   "metadata": {},
   "outputs": [],
   "source": [
    "#merge dataframes to df\n",
    "df=pd.merge(archive_clean, image_predictions_clean, on='tweet_id', how='inner')"
   ]
  },
  {
   "cell_type": "code",
   "execution_count": 123,
   "metadata": {},
   "outputs": [],
   "source": [
    "# save to csv file\n",
    "df.to_csv('twitter_archive_master.csv', index=False)"
   ]
  },
  {
   "cell_type": "markdown",
   "metadata": {},
   "source": [
    "***test***"
   ]
  },
  {
   "cell_type": "code",
   "execution_count": 124,
   "metadata": {
    "scrolled": false
   },
   "outputs": [
    {
     "name": "stdout",
     "output_type": "stream",
     "text": [
      "<class 'pandas.core.frame.DataFrame'>\n",
      "Int64Index: 1969 entries, 0 to 1968\n",
      "Data columns (total 18 columns):\n",
      "tweet_id            1969 non-null int64\n",
      "timestamp           1969 non-null datetime64[ns]\n",
      "source              1969 non-null object\n",
      "text                1969 non-null object\n",
      "name                1969 non-null object\n",
      "expanded_url        1969 non-null object\n",
      "external_url        1969 non-null object\n",
      "favorite_count      1969 non-null int64\n",
      "media_types         1969 non-null object\n",
      "num_medias          1969 non-null int64\n",
      "retweet_count       1969 non-null int64\n",
      "rating              1969 non-null int32\n",
      "stage               1969 non-null object\n",
      "jpg_url             1969 non-null object\n",
      "img_num             1969 non-null int64\n",
      "image_prediction    1969 non-null object\n",
      "confidence_level    1969 non-null float64\n",
      "is_dog              1969 non-null bool\n",
      "dtypes: bool(1), datetime64[ns](1), float64(1), int32(1), int64(5), object(9)\n",
      "memory usage: 271.1+ KB\n"
     ]
    }
   ],
   "source": [
    "df.info()"
   ]
  },
  {
   "cell_type": "markdown",
   "metadata": {},
   "source": [
    "The final data is clean."
   ]
  },
  {
   "cell_type": "markdown",
   "metadata": {},
   "source": [
    "### This marks completion of data wrangling."
   ]
  },
  {
   "cell_type": "markdown",
   "metadata": {},
   "source": [
    "<a id='analysis'></a>"
   ]
  },
  {
   "cell_type": "markdown",
   "metadata": {},
   "source": [
    "[back to top of the report](#top)"
   ]
  },
  {
   "cell_type": "markdown",
   "metadata": {},
   "source": [
    "## 4. Data analysis and visualization\n",
    "These are my features of interest and the areas that I like to investigate in.<br>\n",
    "- [what's the percentage of images that are predicted to be dog?](#dog_percentage)\n",
    "- [does it affect the rating when there is not a dog in the image?](#rating_and_image)\n",
    "- [what are the most common dog breed?](#breed_distrition)\n",
    "- [what is the distribution of dog stage?](#stage_distribution)\n",
    "- [how does dog stage affect rating?](#rating_and_stage)\n",
    "- [what's the distribution of media types?](#media_distribution)\n",
    "- [are higher rated tweets retweeted more time?](#rating_and_retweet_count)\n",
    "- [are higher rated tweets liked more?](#rating_and_favorite_count)\n",
    "- [**summary of analysis**](#summary_of_analysis)"
   ]
  },
  {
   "cell_type": "markdown",
   "metadata": {},
   "source": [
    "<a id='dog_percentage'></a>"
   ]
  },
  {
   "cell_type": "markdown",
   "metadata": {},
   "source": [
    "### 4.1 what's the percentage of images that are predicted to be dog?"
   ]
  },
  {
   "cell_type": "code",
   "execution_count": 125,
   "metadata": {
    "scrolled": false
   },
   "outputs": [
    {
     "data": {
      "image/png": "[encoded data removed]",
      "text/plain": [
       "<Figure size 288x288 with 1 Axes>"
      ]
     },
     "metadata": {},
     "output_type": "display_data"
    }
   ],
   "source": [
    "plt.rcParams['figure.figsize'] = [4,4]\n",
    "#percentage=list(df['is_dog'].value_counts()/df.shape[0]))\n",
    "plt.pie(df['is_dog'].value_counts(), \n",
    "        labels=['dog', 'not dog'],\n",
    "       autopct='%.0f%%')\n",
    "plt.title('p1 predictions');"
   ]
  },
  {
   "cell_type": "markdown",
   "metadata": {},
   "source": [
    "**74% the images are predicted to be dog, and 26% are predicted not to be dog.**"
   ]
  },
  {
   "cell_type": "markdown",
   "metadata": {},
   "source": [
    "<a id='rating_and_image'></a>"
   ]
  },
  {
   "cell_type": "markdown",
   "metadata": {},
   "source": [
    "[back to top of \"Data analysis and visualization\"](#analysis)  [back to top of the report](#top)"
   ]
  },
  {
   "cell_type": "markdown",
   "metadata": {},
   "source": [
    "### 4.2 does it affect the rating when there is not a dog in the image?"
   ]
  },
  {
   "cell_type": "code",
   "execution_count": 126,
   "metadata": {},
   "outputs": [],
   "source": [
    "dog=df.query('is_dog==True')\n",
    "not_dog=df.query('is_dog==False')"
   ]
  },
  {
   "cell_type": "code",
   "execution_count": 127,
   "metadata": {
    "scrolled": true
   },
   "outputs": [
    {
     "data": {
      "image/png": "[encoded data removed]",
      "text/plain": [
       "<Figure size 864x216 with 2 Axes>"
      ]
     },
     "metadata": {},
     "output_type": "display_data"
    }
   ],
   "source": [
    "plt.rcParams['figure.figsize'] = [12, 3]\n",
    "plt.subplot(121)\n",
    "dog_ratings=dog['rating'].unique()\n",
    "nondog_ratings=not_dog['rating'].unique()\n",
    "dog['rating'].hist(color='green',alpha=0.5, \n",
    "                   bins=dog_ratings.max(), \n",
    "                   density=True, label='dog')\n",
    "not_dog['rating'].hist(color='red',alpha=0.5, \n",
    "                   bins=nondog_ratings.max(), \n",
    "                   density=True, label='not dog')\n",
    "plt.legend()\n",
    "plt.title('histograms of ratings \\n of dog and non-dog images')\n",
    "plt.xlim(0,17)\n",
    "plt.xlabel('ratings (out of 10)')\n",
    "plt.ylabel('frequency')\n",
    "\n",
    "plt.subplot(122)\n",
    "plt.boxplot([dog['rating'], not_dog['rating']], labels=['dog', 'not dog'])\n",
    "#plt.boxplot(nondog_ratings, color='red')\n",
    "plt.ylabel('ratings (out of 10)')\n",
    "plt.ylim(0,17);"
   ]
  },
  {
   "cell_type": "markdown",
   "metadata": {},
   "source": [
    "Based on the above plots, it looks to me that **images that are not dog received lower ratings**."
   ]
  },
  {
   "cell_type": "markdown",
   "metadata": {},
   "source": [
    "<a id='breed_distrition'></a>"
   ]
  },
  {
   "cell_type": "markdown",
   "metadata": {},
   "source": [
    "[back to top of \"Data analysis and visualization\"](#analysis)  [back to top of the report](#top)"
   ]
  },
  {
   "cell_type": "markdown",
   "metadata": {},
   "source": [
    "### 4.3 what are the top 10 most common dog breeds?"
   ]
  },
  {
   "cell_type": "code",
   "execution_count": 128,
   "metadata": {
    "scrolled": true
   },
   "outputs": [
    {
     "data": {
      "image/png": "[encoded data removed]",
      "text/plain": [
       "<Figure size 720x216 with 1 Axes>"
      ]
     },
     "metadata": {},
     "output_type": "display_data"
    }
   ],
   "source": [
    "plt.rcParams['figure.figsize'] = [10,3]\n",
    "labels=dog['image_prediction'].value_counts()[:10].index\n",
    "num_dog=dog.shape[0]\n",
    "heights=dog['image_prediction'].value_counts()[:10]/num_dog\n",
    "plt.bar(x=labels, height=heights)\n",
    "plt.xticks(rotation=25, ha='right')\n",
    "plt.ylabel('frequency')\n",
    "plt.xlabel('dog breed')\n",
    "plt.title('the top 10 most common dog breeds');"
   ]
  },
  {
   "cell_type": "code",
   "execution_count": 129,
   "metadata": {},
   "outputs": [
    {
     "data": {
      "text/plain": [
       "golden_retriever      9.308693\n",
       "Labrador_retriever    6.433949\n",
       "Pembroke              6.023272\n",
       "Chihuahua             5.338809\n",
       "pug                   3.696099\n",
       "chow                  2.806297\n",
       "Samoyed               2.737851\n",
       "Pomeranian            2.600958\n",
       "toy_poodle            2.532512\n",
       "malamute              1.984942\n",
       "Name: image_prediction, dtype: float64"
      ]
     },
     "execution_count": 129,
     "metadata": {},
     "output_type": "execute_result"
    }
   ],
   "source": [
    "dog['image_prediction'].value_counts()[:10]/num_dog*100"
   ]
  },
  {
   "cell_type": "markdown",
   "metadata": {},
   "source": [
    "**The top 10 most common dog breeds in the tweets are:** \n",
    "golden_retriever (9.3%), Labrador_retriever (6.4%), Pembroke (6.0%), Chihuahua (5.3%), pug (3.7%), \n",
    "chow (2.8%), Samoyed (2.7%), Pomeranian (2.6%), toy_poodle (2.5%), malamute (2.0%)"
   ]
  },
  {
   "cell_type": "markdown",
   "metadata": {},
   "source": [
    "<a id='stage_distribution'></a>"
   ]
  },
  {
   "cell_type": "markdown",
   "metadata": {},
   "source": [
    "[back to top of \"Data analysis and visualization\"](#analysis)  [back to top of the report](#top)"
   ]
  },
  {
   "cell_type": "markdown",
   "metadata": {},
   "source": [
    "### 4.4 what is the distribution of dog stage like?"
   ]
  },
  {
   "cell_type": "code",
   "execution_count": 130,
   "metadata": {
    "scrolled": true
   },
   "outputs": [
    {
     "data": {
      "image/png": "[encoded data removed]",
      "text/plain": [
       "<Figure size 720x216 with 2 Axes>"
      ]
     },
     "metadata": {},
     "output_type": "display_data"
    }
   ],
   "source": [
    "# plot a histogram of dog stage that is not \"None\"\n",
    "plt.subplot(121)\n",
    "plt.rcParams['figure.figsize'] = [15,3]\n",
    "staged_dog=dog[dog['stage']!='None']\n",
    "total_num=staged_dog.shape[0]\n",
    "labels=staged_dog['stage'].value_counts().index\n",
    "heights=staged_dog['stage'].value_counts()\n",
    "plt.bar(x=labels, height=heights/total_num)\n",
    "plt.xticks(rotation=25, ha='right')\n",
    "plt.ylabel('frequency')\n",
    "plt.xlabel('dog stage')\n",
    "plt.title('histogram of dog stages')\n",
    "\n",
    "plt.subplot(122)\n",
    "plt.pie(heights, \n",
    "        labels=labels,\n",
    "       autopct='%.0f%%')\n",
    "plt.title('dog stages');"
   ]
  },
  {
   "cell_type": "markdown",
   "metadata": {},
   "source": [
    "<a id='rating_and_stage'></a>"
   ]
  },
  {
   "cell_type": "markdown",
   "metadata": {},
   "source": [
    "**Majority of dogs that has stage information are puppers (64%), followed by doggo (22%), and puppo (9%)**."
   ]
  },
  {
   "cell_type": "markdown",
   "metadata": {},
   "source": [
    "[back to top of \"Data analysis and visualization\"](#analysis)  [back to top of the report](#top)"
   ]
  },
  {
   "cell_type": "markdown",
   "metadata": {},
   "source": [
    "### 4.5 how does dog stage affect rating?"
   ]
  },
  {
   "cell_type": "code",
   "execution_count": 131,
   "metadata": {
    "scrolled": true
   },
   "outputs": [
    {
     "data": {
      "text/plain": [
       "pupper            146\n",
       "doggo              50\n",
       "puppo              20\n",
       "floofer             7\n",
       "doggo & pupper      4\n",
       "Name: stage, dtype: int64"
      ]
     },
     "execution_count": 131,
     "metadata": {},
     "output_type": "execute_result"
    }
   ],
   "source": [
    "staged_dog['stage'].value_counts()"
   ]
  },
  {
   "cell_type": "markdown",
   "metadata": {},
   "source": [
    "There are only 7 floofer and 4 doggo&pupper, so I will only consider pupper, doggo and puppo."
   ]
  },
  {
   "cell_type": "code",
   "execution_count": 132,
   "metadata": {},
   "outputs": [],
   "source": [
    "doggo=staged_dog.query('stage==\"doggo\"')['rating']\n",
    "puppo=staged_dog.query('stage==\"puppo\"')['rating']\n",
    "pupper=staged_dog.query('stage==\"pupper\"')['rating']"
   ]
  },
  {
   "cell_type": "code",
   "execution_count": 133,
   "metadata": {
    "scrolled": true
   },
   "outputs": [
    {
     "data": {
      "text/plain": [
       "''"
      ]
     },
     "execution_count": 133,
     "metadata": {},
     "output_type": "execute_result"
    },
    {
     "data": {
      "image/png": "[encoded data removed]",
      "text/plain": [
       "<Figure size 1080x216 with 2 Axes>"
      ]
     },
     "metadata": {},
     "output_type": "display_data"
    }
   ],
   "source": [
    "plt.subplot(121)\n",
    "plt.rcParams['figure.figsize'] = [10,3]\n",
    "doggo.hist(density=True, color='green', alpha=0.5, bins=20,  label='doggo')\n",
    "puppo.hist(density=True, color='red', alpha=0.5, bins=10, label='puppo')\n",
    "pupper.hist(density=True, color='blue', bins=20, alpha=0.5, label='pupper')\n",
    "plt.xlim(5,16)\n",
    "plt.legend()\n",
    "plt.xlabel('rating (out of 10)')\n",
    "plt.ylabel('frequency')\n",
    "\n",
    "\n",
    "plt.subplot(122)\n",
    "plt.boxplot([doggo,puppo,pupper], labels=['doggo','puppo','pupper'])\n",
    "plt.ylim(4,15)\n",
    "plt.ylabel('ratings (out of 10)')\n",
    ";"
   ]
  },
  {
   "cell_type": "markdown",
   "metadata": {},
   "source": [
    "**Dog stage don't seem to affect rating**."
   ]
  },
  {
   "cell_type": "markdown",
   "metadata": {},
   "source": [
    "<a id='media_distribution'></a>"
   ]
  },
  {
   "cell_type": "markdown",
   "metadata": {},
   "source": [
    "[back to top of \"Data analysis and visualization\"](#analysis)  [back to top of the report](#top)"
   ]
  },
  {
   "cell_type": "markdown",
   "metadata": {},
   "source": [
    "### 4.6 what's the distribution of media types?"
   ]
  },
  {
   "cell_type": "code",
   "execution_count": 134,
   "metadata": {
    "scrolled": true
   },
   "outputs": [
    {
     "data": {
      "text/plain": [
       "photo           1894\n",
       "video             72\n",
       "animated_gif       3\n",
       "Name: media_types, dtype: int64"
      ]
     },
     "execution_count": 134,
     "metadata": {},
     "output_type": "execute_result"
    }
   ],
   "source": [
    "df['media_types'].value_counts()"
   ]
  },
  {
   "cell_type": "code",
   "execution_count": 135,
   "metadata": {
    "scrolled": true
   },
   "outputs": [
    {
     "data": {
      "image/png": "[encoded data removed]",
      "text/plain": [
       "<Figure size 360x360 with 1 Axes>"
      ]
     },
     "metadata": {},
     "output_type": "display_data"
    }
   ],
   "source": [
    "plt.rcParams['figure.figsize']=[5,5]\n",
    "values=df['media_types'].value_counts()\n",
    "labels=(df['media_types'].value_counts()).index\n",
    "plt.pie(values, \n",
    "        labels=labels,\n",
    "       autopct='%.0f%%')\n",
    "plt.title('media types');"
   ]
  },
  {
   "cell_type": "markdown",
   "metadata": {},
   "source": [
    "**96% of the media are photos, 4% are videos, and less than 1% are animated_gif**"
   ]
  },
  {
   "cell_type": "markdown",
   "metadata": {},
   "source": [
    "<a id='rating_and_retweet_count'></a>"
   ]
  },
  {
   "cell_type": "markdown",
   "metadata": {},
   "source": [
    "[back to top of \"Data analysis and visualization\"](#analysis)  [back to top of the report](#top)"
   ]
  },
  {
   "cell_type": "markdown",
   "metadata": {},
   "source": [
    "### 4.7 are higher rated tweets retweeted more time?"
   ]
  },
  {
   "cell_type": "code",
   "execution_count": 136,
   "metadata": {
    "scrolled": true
   },
   "outputs": [
    {
     "data": {
      "image/png": "[encoded data removed]",
      "text/plain": [
       "<Figure size 504x216 with 1 Axes>"
      ]
     },
     "metadata": {},
     "output_type": "display_data"
    }
   ],
   "source": [
    "#plot a scater plot of retweet_count vs rating\n",
    "plt.rcParams['figure.figsize']=[7,3]\n",
    "plt.scatter(x=df['rating'], y=df['retweet_count'], alpha=0.5, label='retweet_count')\n",
    "plt.plot(((df.groupby('rating')['retweet_count']).agg('mean')), color='red', label='mean retweet_count')\n",
    "plt.xlim(-1,15)\n",
    "plt.legend()\n",
    "plt.ylim(0,30000)\n",
    "plt.xticks()\n",
    "plt.xlabel('rating (out of 10)')\n",
    "plt.ylabel('retweet_count')\n",
    "plt.title('retweet_count vs rating');"
   ]
  },
  {
   "cell_type": "markdown",
   "metadata": {},
   "source": [
    "**higher rated tweets are retweeted more times**"
   ]
  },
  {
   "cell_type": "markdown",
   "metadata": {},
   "source": [
    "<a id='rating_and_favorite_count'></a>"
   ]
  },
  {
   "cell_type": "markdown",
   "metadata": {},
   "source": [
    "[back to top of \"Data analysis and visualization\"](#analysis)  [back to top of the report](#top)"
   ]
  },
  {
   "cell_type": "markdown",
   "metadata": {},
   "source": [
    "### 4.8 are higher rated tweets more liked?"
   ]
  },
  {
   "cell_type": "code",
   "execution_count": 137,
   "metadata": {
    "scrolled": false
   },
   "outputs": [
    {
     "data": {
      "image/png": "[encoded data removed]",
      "text/plain": [
       "<Figure size 504x216 with 1 Axes>"
      ]
     },
     "metadata": {},
     "output_type": "display_data"
    }
   ],
   "source": [
    "#plot a scater plot of retweet_count vs rating\n",
    "plt.rcParams['figure.figsize']=[7,3]\n",
    "plt.scatter(x=df['rating'], y=df['favorite_count'], alpha=0.5, label='retweet_count')\n",
    "plt.plot(((df.groupby('rating')['favorite_count']).agg('mean')), color='red', label='mean favorite_count')\n",
    "plt.xlim(-1,15)\n",
    "plt.legend()\n",
    "plt.ylim(0,100000)\n",
    "plt.xticks()\n",
    "plt.xlabel('rating (out of 10)')\n",
    "plt.ylabel('favorite_count')\n",
    "plt.title('favorite_count vs rating');"
   ]
  },
  {
   "cell_type": "markdown",
   "metadata": {},
   "source": [
    "**higher rated tweets are more liked.**"
   ]
  },
  {
   "cell_type": "markdown",
   "metadata": {},
   "source": [
    "<a id='summary_of_analysis'></a>"
   ]
  },
  {
   "cell_type": "markdown",
   "metadata": {},
   "source": [
    "[back to top of \"Data analysis and visualization\"](#analysis)  [back to top of the report](#top)"
   ]
  },
  {
   "cell_type": "markdown",
   "metadata": {},
   "source": [
    "### Summary of analysis"
   ]
  },
  {
   "cell_type": "markdown",
   "metadata": {},
   "source": [
    " - The top 10 most common dog breeds in the tweets are: golden_retriever (9.3%), Labrador_retriever (6.4%), Pembroke (6.0%), Chihuahua (5.3%), pug (3.7%), chow (2.8%), Samoyed (2.7%), Pomeranian (2.6%), toy_poodle (2.5%), malamute (2.0%)\n",
    " - images that are not dog received lower ratings.\n",
    " - 74% the images are predicted to be dog, and 26% are predicted not to be dog.\n",
    " - Majority of dogs that has stage information are puppers (64%), followed by doggo (22%), and puppo (9%).\n",
    " - Dog stage don't seem to affect rating.\n",
    " - 96% of the media are photos, 4% are videos, and less than 1% are animated_gif\n",
    " - higher rated tweets are retweeted more times\n",
    " - higher rated tweets are like more"
   ]
  },
  {
   "cell_type": "markdown",
   "metadata": {},
   "source": [
    "<a id='references'></a>"
   ]
  },
  {
   "cell_type": "markdown",
   "metadata": {},
   "source": [
    "[back to top of the report](#top)"
   ]
  },
  {
   "cell_type": "markdown",
   "metadata": {},
   "source": [
    "## 5. References:\n",
    "https://www.google.com/<br>\n",
    "https://docs.python.org/3/library/<br>\n",
    "https://pandas.pydata.org/pandas-docs/stable/<br>\n",
    "https://stackoverflow.com<br>\n",
    "https://twitter.com/dog_rates<br>\n",
    "https://developer.twitter.com/en/docs/tweets/data-dictionary/overview/tweet-object.html<br>\n",
    "https://pillow.readthedocs.io/en/3.1.x/reference/Image.html<br>\n",
    "http://sebastianraschka.com/Articles/2014_ipython_internal_links.html<br>\n",
    "https://www.sqlalchemy.org/<br>\n",
    "https://matplotlib.org/tutorials/introductory/sample_plots.html"
   ]
  }
 ],
 "metadata": {
  "kernelspec": {
   "display_name": "Python [conda env:Anaconda3]",
   "language": "python",
   "name": "conda-env-Anaconda3-py"
  },
  "language_info": {
   "codemirror_mode": {
    "name": "ipython",
    "version": 3
   },
   "file_extension": ".py",
   "mimetype": "text/x-python",
   "name": "python",
   "nbconvert_exporter": "python",
   "pygments_lexer": "ipython3",
   "version": "3.6.5"
  }
 },
 "nbformat": 4,
 "nbformat_minor": 2
}
