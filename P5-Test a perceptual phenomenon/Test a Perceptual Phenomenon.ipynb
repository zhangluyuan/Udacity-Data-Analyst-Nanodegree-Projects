{
 "cells": [
  {
   "cell_type": "markdown",
   "metadata": {},
   "source": [
    "# Analyzing the Stroop Effect\n",
    "Perform the analysis in the space below. Remember to follow [the instructions](https://docs.google.com/document/d/1-OkpZLjG_kX9J6LIQ5IltsqMzVWjh36QpnP2RYpVdPU/pub?embedded=True) and review the [project rubric](https://review.udacity.com/#!/rubrics/71/view) before submitting. Once you've completed the analysis and write-up, download this file as a PDF or HTML file, upload that PDF/HTML into the workspace here (click on the orange Jupyter icon in the upper left then Upload), then use the Submit Project button at the bottom of this page. This will create a zip file containing both this .ipynb doc and the PDF/HTML doc that will be submitted for your project.\n",
    "\n",
    "\n",
    "## (1) What is the independent variable? What is the dependent variable?"
   ]
  },
  {
   "cell_type": "markdown",
   "metadata": {},
   "source": [
    "**Before answering any questions, I want to take a glance at the data**"
   ]
  },
  {
   "cell_type": "code",
   "execution_count": 1,
   "metadata": {},
   "outputs": [],
   "source": [
    "# import libraries\n",
    "import pandas as pd\n",
    "import numpy as np\n",
    "import matplotlib.pyplot as plt\n",
    "import seaborn as sns\n",
    "sns.set_style('dark')\n",
    "import scipy.stats as stats\n",
    "%matplotlib inline"
   ]
  },
  {
   "cell_type": "code",
   "execution_count": 2,
   "metadata": {
    "scrolled": true
   },
   "outputs": [
    {
     "data": {
      "text/html": [
       "<div>\n",
       "<style scoped>\n",
       "    .dataframe tbody tr th:only-of-type {\n",
       "        vertical-align: middle;\n",
       "    }\n",
       "\n",
       "    .dataframe tbody tr th {\n",
       "        vertical-align: top;\n",
       "    }\n",
       "\n",
       "    .dataframe thead th {\n",
       "        text-align: right;\n",
       "    }\n",
       "</style>\n",
       "<table border=\"1\" class=\"dataframe\">\n",
       "  <thead>\n",
       "    <tr style=\"text-align: right;\">\n",
       "      <th></th>\n",
       "      <th>Congruent</th>\n",
       "      <th>Incongruent</th>\n",
       "    </tr>\n",
       "  </thead>\n",
       "  <tbody>\n",
       "    <tr>\n",
       "      <th>0</th>\n",
       "      <td>12.079</td>\n",
       "      <td>19.278</td>\n",
       "    </tr>\n",
       "    <tr>\n",
       "      <th>1</th>\n",
       "      <td>16.791</td>\n",
       "      <td>18.741</td>\n",
       "    </tr>\n",
       "  </tbody>\n",
       "</table>\n",
       "</div>"
      ],
      "text/plain": [
       "   Congruent  Incongruent\n",
       "0     12.079       19.278\n",
       "1     16.791       18.741"
      ]
     },
     "execution_count": 2,
     "metadata": {},
     "output_type": "execute_result"
    }
   ],
   "source": [
    "#load data and view first 2 rows\n",
    "df=pd.read_csv('stroopdata.csv')\n",
    "df.head(2)"
   ]
  },
  {
   "cell_type": "code",
   "execution_count": 3,
   "metadata": {},
   "outputs": [
    {
     "data": {
      "text/plain": [
       "(24, 2)"
      ]
     },
     "execution_count": 3,
     "metadata": {},
     "output_type": "execute_result"
    }
   ],
   "source": [
    "df.shape"
   ]
  },
  {
   "cell_type": "markdown",
   "metadata": {},
   "source": [
    "An independent variable is a quantity that is being manipulated in an experiment. **In this case, the independent variable is the experiment condition, whether words are congruent or incongruent**.\n",
    "A dependent variable is a quantity whose value depends on how the independent variable is manipulated. **In this case is the time that takes the participant to say the color of the word**."
   ]
  },
  {
   "cell_type": "markdown",
   "metadata": {},
   "source": [
    "## (2) What is an appropriate set of hypotheses for this task? Specify your null and alternative hypotheses, and clearly define any notation used. Justify your choices."
   ]
  },
  {
   "cell_type": "markdown",
   "metadata": {},
   "source": [
    "The test contains two experiments, congruent color recognition and incongruent color recognition. In the congruent experiment, words are printed in the same color that the words represent. In the incongruent experiment, words are printed in a different color that the words represent. The participants need to recognize the color that the word is printed in, regardless of whether the word represents the color that it is printed in.\n",
    "<br>\n",
    "**We hope to find out whether it takes longer time for participants to recognize the ink color in incongruent experiment, than congruent experiment.** Because this is what we hope to find out, this will be our alternative hypothesis.\n",
    "<br>\n",
    "_**Null**_: Averagely, for the same person, incongruent color recognition does not take longer time than congruent color recognition. In other words, the mean result of (incongruent time - congruent time) is equal or less than zero.\n",
    "<br>\n",
    "_**Alternative**_: Averagely, for the same person, incongruent color recognition takes longer time than congruent color recognition.In other words, the mean result of (incongruent time - congruent time) is larger than zero.\n",
    "##### To express the null and alternative hypothesis mathematically, I first define following notations:\n",
    "$Time_{I_{i}}$: The Time for the $i^{th}$ individual to recognize the correct color in Incongruent experiment\n",
    "\n",
    "$Time_{C_{i}}$: The Time for the $i^{th}$ individual to recognize the correct color in Congruent experiment\n",
    "\n",
    "$d_i=Time_{I_{i}}-Time_{C_{i}}$: the extract the same person takes in Incongruent experiment relative to Congruent experiment.\n",
    "\n",
    "$N$: population count\n",
    "\n",
    "$D$: population mean of the difference between Incongruent and Congruent color recognition.\n",
    "\n",
    "$D=\\frac{\\sum_{i=1}^N d_i}{N}$\n",
    "#### Mathematical expression of null and alternative hypothesis:\n",
    "$H_0: D \\leq 0$\n",
    "\n",
    "$H_1: D > 0$\n",
    "\n",
    "This seem to reduce the sample to a one-sample experiment. "
   ]
  },
  {
   "cell_type": "markdown",
   "metadata": {},
   "source": [
    "#### Before performing any statistical test, first I need to get the sample by calculating  $d_i$"
   ]
  },
  {
   "cell_type": "code",
   "execution_count": 4,
   "metadata": {
    "scrolled": true
   },
   "outputs": [
    {
     "data": {
      "text/html": [
       "<div>\n",
       "<style scoped>\n",
       "    .dataframe tbody tr th:only-of-type {\n",
       "        vertical-align: middle;\n",
       "    }\n",
       "\n",
       "    .dataframe tbody tr th {\n",
       "        vertical-align: top;\n",
       "    }\n",
       "\n",
       "    .dataframe thead th {\n",
       "        text-align: right;\n",
       "    }\n",
       "</style>\n",
       "<table border=\"1\" class=\"dataframe\">\n",
       "  <thead>\n",
       "    <tr style=\"text-align: right;\">\n",
       "      <th></th>\n",
       "      <th>Congruent</th>\n",
       "      <th>Incongruent</th>\n",
       "      <th>d</th>\n",
       "    </tr>\n",
       "  </thead>\n",
       "  <tbody>\n",
       "    <tr>\n",
       "      <th>0</th>\n",
       "      <td>12.079</td>\n",
       "      <td>19.278</td>\n",
       "      <td>7.199</td>\n",
       "    </tr>\n",
       "    <tr>\n",
       "      <th>1</th>\n",
       "      <td>16.791</td>\n",
       "      <td>18.741</td>\n",
       "      <td>1.950</td>\n",
       "    </tr>\n",
       "    <tr>\n",
       "      <th>2</th>\n",
       "      <td>9.564</td>\n",
       "      <td>21.214</td>\n",
       "      <td>11.650</td>\n",
       "    </tr>\n",
       "    <tr>\n",
       "      <th>3</th>\n",
       "      <td>8.630</td>\n",
       "      <td>15.687</td>\n",
       "      <td>7.057</td>\n",
       "    </tr>\n",
       "    <tr>\n",
       "      <th>4</th>\n",
       "      <td>14.669</td>\n",
       "      <td>22.803</td>\n",
       "      <td>8.134</td>\n",
       "    </tr>\n",
       "  </tbody>\n",
       "</table>\n",
       "</div>"
      ],
      "text/plain": [
       "   Congruent  Incongruent       d\n",
       "0     12.079       19.278   7.199\n",
       "1     16.791       18.741   1.950\n",
       "2      9.564       21.214  11.650\n",
       "3      8.630       15.687   7.057\n",
       "4     14.669       22.803   8.134"
      ]
     },
     "execution_count": 4,
     "metadata": {},
     "output_type": "execute_result"
    }
   ],
   "source": [
    "df['d']=df['Incongruent']-df['Congruent']\n",
    "df.head()"
   ]
  },
  {
   "cell_type": "markdown",
   "metadata": {},
   "source": [
    "#### Take a look at the sample to decide what statistical test is appropriate."
   ]
  },
  {
   "cell_type": "code",
   "execution_count": 5,
   "metadata": {
    "scrolled": true
   },
   "outputs": [
    {
     "data": {
      "image/png": "[encoded data removed]",
      "text/plain": [
       "<Figure size 432x288 with 1 Axes>"
      ]
     },
     "metadata": {},
     "output_type": "display_data"
    }
   ],
   "source": [
    "# view distribution of d\n",
    "df['d'].hist(color='green',alpha=0.5,bins=10,  density=True,label='difference')\n",
    "plt.legend()\n",
    "plt.title('Histograms of difference')\n",
    "plt.xlabel('difference (seconds)')\n",
    "plt.ylabel('density');"
   ]
  },
  {
   "cell_type": "markdown",
   "metadata": {},
   "source": [
    "### Proposed statistical test\n",
    "These factors are taken into consideration when deciding what statistical test should be performed:\n",
    "<br>\n",
    "(1) Data are continuous.\n",
    "<br>\n",
    "(2) Sample is collected from randomly selected participants.\n",
    "<br>\n",
    "(3) Sample size is smaller than 30.\n",
    "\n",
    "Due to small sample size, it is really hard to tell whether normal distribution assumption holds, so I will not take normality into consideration.\n",
    "<br>\n",
    "**A t-test is appropriate. Type I error is set to 0.001**"
   ]
  },
  {
   "cell_type": "markdown",
   "metadata": {},
   "source": [
    "## (3) Report some descriptive statistics regarding this dataset. Include at least one measure of central tendency and at least one measure of variability. "
   ]
  },
  {
   "cell_type": "code",
   "execution_count": 6,
   "metadata": {
    "scrolled": true
   },
   "outputs": [
    {
     "data": {
      "text/plain": [
       "count    24.000000\n",
       "mean     14.051125\n",
       "std       3.559358\n",
       "min       8.630000\n",
       "25%      11.895250\n",
       "50%      14.356500\n",
       "75%      16.200750\n",
       "max      22.328000\n",
       "Name: Congruent, dtype: float64"
      ]
     },
     "execution_count": 6,
     "metadata": {},
     "output_type": "execute_result"
    }
   ],
   "source": [
    "df['Congruent'].describe()"
   ]
  },
  {
   "cell_type": "code",
   "execution_count": 7,
   "metadata": {
    "scrolled": true
   },
   "outputs": [
    {
     "data": {
      "text/plain": [
       "count    24.000000\n",
       "mean     22.015917\n",
       "std       4.797057\n",
       "min      15.687000\n",
       "25%      18.716750\n",
       "50%      21.017500\n",
       "75%      24.051500\n",
       "max      35.255000\n",
       "Name: Incongruent, dtype: float64"
      ]
     },
     "execution_count": 7,
     "metadata": {},
     "output_type": "execute_result"
    }
   ],
   "source": [
    "df['Incongruent'].describe()"
   ]
  },
  {
   "cell_type": "code",
   "execution_count": 8,
   "metadata": {
    "scrolled": false
   },
   "outputs": [
    {
     "data": {
      "text/plain": [
       "count    24.000000\n",
       "mean      7.964792\n",
       "std       4.864827\n",
       "min       1.950000\n",
       "25%       3.645500\n",
       "50%       7.666500\n",
       "75%      10.258500\n",
       "max      21.919000\n",
       "Name: d, dtype: float64"
      ]
     },
     "execution_count": 8,
     "metadata": {},
     "output_type": "execute_result"
    }
   ],
   "source": [
    "df['d'].describe()"
   ]
  },
  {
   "cell_type": "markdown",
   "metadata": {},
   "source": [
    "#### From the results above, I got the following statistics:\n",
    "Congruent: (1) Central tendency:         mean=14.05;  median=14.36;   (2) measure of variability:   range=13.7;  IQR=4.3;       std=3.56;   variance=12.57\n",
    "\n",
    "Incongruent: (1) Central tendency:         mean=22.02;  median=21.02; (2) measure of variability:   range=19.57;  IQR=5.33;       std=4.80;   variance=23.01\n",
    "             \n",
    "d: (1) Central tendency:         mean=7.96;  median=7.66; (2) measure of variability:   range=13.70;  IQR=6.61;       std=4.86;   variance=23.62"
   ]
  },
  {
   "cell_type": "markdown",
   "metadata": {},
   "source": [
    "## (4) Provide one or two visualizations that show the distribution of the sample data. Write one or two sentences noting what you observe about the plot or plots."
   ]
  },
  {
   "cell_type": "code",
   "execution_count": 9,
   "metadata": {
    "scrolled": true
   },
   "outputs": [
    {
     "data": {
      "image/png": "[encoded data removed]",
      "text/plain": [
       "<Figure size 432x288 with 1 Axes>"
      ]
     },
     "metadata": {},
     "output_type": "display_data"
    }
   ],
   "source": [
    "# view distribution of the d\n",
    "df['d'].hist(color='green',alpha=0.5,bins=10,  density=True,label='difference')\n",
    "plt.legend()\n",
    "plt.title('Histograms of difference')\n",
    "plt.xlabel('difference (seconds)')\n",
    "plt.ylabel('density');"
   ]
  },
  {
   "cell_type": "code",
   "execution_count": 18,
   "metadata": {},
   "outputs": [
    {
     "data": {
      "image/png": "[encoded data removed]",
      "text/plain": [
       "<Figure size 432x288 with 1 Axes>"
      ]
     },
     "metadata": {},
     "output_type": "display_data"
    }
   ],
   "source": [
    "# view box-plot of d\n",
    "plt.boxplot(df['d'])\n",
    "plt.title('box_plot of d')\n",
    "plt.ylabel('d (seconds)');"
   ]
  },
  {
   "cell_type": "markdown",
   "metadata": {},
   "source": [
    "**Observations:**\n",
    "<br>\n",
    "** (1)** All values of difference are larger than 0!\n",
    "<br>\n",
    "** (2)** Sample d seem to be centered at 7.5. Because of limited sample size (n=24), it is hard to tell whether sample distribution is normal. \n",
    "<br>\n",
    "** (3)** On Question(3), I found the mean and median of d within 6.2% std of each other. This indicates that sample distribution is close to normal\n",
    "<br>\n",
    "** (4)** There are 2 seemingly outliers at d = 17.0 and 21.9. These are not extreme outliers. Due to small sample size, I cannot rule these as outliers, so I will include them in my following analysis and test."
   ]
  },
  {
   "cell_type": "markdown",
   "metadata": {},
   "source": [
    "## (5)  Now, perform the statistical test and report your results.\n",
    "What is your confidence level or Type I error associated with your test? What is your conclusion regarding the hypotheses you set up? Did the results match up with your expectations? **Hint:**  Think about what is being measured on each individual, and what statistic best captures how an individual reacts in each environment."
   ]
  },
  {
   "cell_type": "markdown",
   "metadata": {},
   "source": [
    "**Confidence level=99.9%, Type I error =0.001**"
   ]
  },
  {
   "cell_type": "markdown",
   "metadata": {},
   "source": [
    "### T-test and results"
   ]
  },
  {
   "cell_type": "markdown",
   "metadata": {},
   "source": [
    "### (1) manual t-test"
   ]
  },
  {
   "cell_type": "code",
   "execution_count": 11,
   "metadata": {},
   "outputs": [
    {
     "data": {
      "text/plain": [
       "7.964791666666667"
      ]
     },
     "execution_count": 11,
     "metadata": {},
     "output_type": "execute_result"
    }
   ],
   "source": [
    "#mean difference of the sample\n",
    "mean_d=df['d'].mean()\n",
    "mean_d"
   ]
  },
  {
   "cell_type": "code",
   "execution_count": 12,
   "metadata": {},
   "outputs": [
    {
     "data": {
      "text/plain": [
       "24"
      ]
     },
     "execution_count": 12,
     "metadata": {},
     "output_type": "execute_result"
    }
   ],
   "source": [
    "#sample size n\n",
    "n=df.shape[0]\n",
    "n"
   ]
  },
  {
   "cell_type": "code",
   "execution_count": 13,
   "metadata": {},
   "outputs": [
    {
     "data": {
      "text/plain": [
       "4.864826910359056"
      ]
     },
     "execution_count": 13,
     "metadata": {},
     "output_type": "execute_result"
    }
   ],
   "source": [
    "#standard deviation\n",
    "std_d=df['d'].std()\n",
    "std_d"
   ]
  },
  {
   "cell_type": "code",
   "execution_count": 14,
   "metadata": {},
   "outputs": [
    {
     "data": {
      "text/plain": [
       "0.9930286347783406"
      ]
     },
     "execution_count": 14,
     "metadata": {},
     "output_type": "execute_result"
    }
   ],
   "source": [
    "#standard error\n",
    "se_d=df['d'].std()/n**0.5\n",
    "se_d"
   ]
  },
  {
   "cell_type": "code",
   "execution_count": 15,
   "metadata": {},
   "outputs": [
    {
     "data": {
      "text/plain": [
       "8.020706944109957"
      ]
     },
     "execution_count": 15,
     "metadata": {},
     "output_type": "execute_result"
    }
   ],
   "source": [
    "#T-statistics\n",
    "t_statistics=mean_d/se_d\n",
    "t_statistics"
   ]
  },
  {
   "cell_type": "markdown",
   "metadata": {},
   "source": [
    "**(1)** Looking up t in the t-distribution table, I found p<0.0005 (degree of freedom = 23), which is smaller than Type I error.  Assuming null hypothesis is correct, the probability to observe the test statistics 8.02 is less than 0.05%\n",
    "<br>\n",
    "**(2)** With Type I error=0.001, critical t-value =3.485, which is less than the calculated t-statistics.\n",
    "<br>\n",
    "**With above two comparison results, I reject the null hypothesis, and conclude that incongruent color recognition does take longer than congruent color recognition.**"
   ]
  },
  {
   "cell_type": "markdown",
   "metadata": {},
   "source": [
    "### (2) t-test with Scipy.stats\n",
    "The above performed t-test can also be done with Scipy.stats."
   ]
  },
  {
   "cell_type": "code",
   "execution_count": 16,
   "metadata": {
    "scrolled": false
   },
   "outputs": [
    {
     "data": {
      "text/plain": [
       "Ttest_1sampResult(statistic=8.020706944109957, pvalue=4.103000585711178e-08)"
      ]
     },
     "execution_count": 16,
     "metadata": {},
     "output_type": "execute_result"
    }
   ],
   "source": [
    "stats.ttest_1samp(df['d'],0)"
   ]
  },
  {
   "cell_type": "markdown",
   "metadata": {},
   "source": [
    "#### Alternatively, a two-sample paired t-test yields same results."
   ]
  },
  {
   "cell_type": "code",
   "execution_count": 17,
   "metadata": {},
   "outputs": [
    {
     "data": {
      "text/plain": [
       "Ttest_relResult(statistic=8.020706944109957, pvalue=4.103000585711178e-08)"
      ]
     },
     "execution_count": 17,
     "metadata": {},
     "output_type": "execute_result"
    }
   ],
   "source": [
    "stats.ttest_rel(df['Incongruent'], df['Congruent'])"
   ]
  },
  {
   "cell_type": "markdown",
   "metadata": {},
   "source": [
    "**(1)** These are two-tailed tests. The pvalue of one-tailed test= 0.5 * 4.1030005857111781e-08, which is less than Type I error. Assuming null hypothesis is correct, the probability to observe the test statistics 8.02 is 2.05e-08, meaning extremely unlikely.\n",
    "<br>\n",
    "**(2)** t-value is the same as before, and it is larger than critical t-value =3.485.\n",
    "<br>\n",
    "**With above two comparison results, I reject the null hypothesis, and conclude that incongruent color recognition does take longer than congruent color recognition.**"
   ]
  },
  {
   "cell_type": "markdown",
   "metadata": {},
   "source": [
    "#### The results are consistent with my expectation."
   ]
  },
  {
   "cell_type": "markdown",
   "metadata": {},
   "source": [
    "## (6) Optional: \n",
    "What do you think is responsible for the effects observed? Can you think of an alternative or similar task that would result in a similar effect? Some research about the problem will be helpful for thinking about these two questions!"
   ]
  },
  {
   "cell_type": "markdown",
   "metadata": {},
   "source": [
    "I think the Stroop effect is due to the facts that (1) participants were more trained at reading words than recognizing colors; (2) participants process words and colors through 2 distinct mechanisms. Because we are better at reading words, when we have to choose recognizing colors over reading the words, there is an interference between two potential responses, which causes a delay in recognizing the color. \n",
    "\n",
    "During googling, I found Simon effect. The participant is placed in front of a monitor and a panel with a left and a right button. The participant is told to press the right button when something red appears on the monitor, and press the left button when something green appears on the monitor. The red/green thing can appear anywhere in the monitor. When red appears on right side or green appears on left side of the monitor, the participant reacts quickly and presses the correct button. When red appears on left side of the monitor, or when green appears on the left side of the monitor, it takes longer time for the participant to figure out which button to press. \n",
    "\n",
    "Cause of Simon effect: Processing of location-location correspondence by our brain is more straight forward and faster than color-location translation. When red appears on right or green appears on left, their location corresponds well with the location of the buttons, and the participants simple presses the button that is on the same side as the color. In other cases, our brains have to process the color information and translate into location information. Color and location are two completely different category, therefore there are two distinct steps involved, and that is why in these cases the participants takes longer time to figure out the correct button. "
   ]
  },
  {
   "cell_type": "markdown",
   "metadata": {},
   "source": [
    "### References:\n",
    "https://en.wikipedia.org\n",
    "\n",
    "https://docs.python.org\n",
    "\n",
    "https://d2l.deakin.edu.au/d2l/eP/presentations/presentation_preview_popup.d2l?presId=67655"
   ]
  }
 ],
 "metadata": {
  "kernelspec": {
   "display_name": "Python [default]",
   "language": "python",
   "name": "python3"
  },
  "language_info": {
   "codemirror_mode": {
    "name": "ipython",
    "version": 3
   },
   "file_extension": ".py",
   "mimetype": "text/x-python",
   "name": "python",
   "nbconvert_exporter": "python",
   "pygments_lexer": "ipython3",
   "version": "3.6.5"
  }
 },
 "nbformat": 4,
 "nbformat_minor": 2
}
