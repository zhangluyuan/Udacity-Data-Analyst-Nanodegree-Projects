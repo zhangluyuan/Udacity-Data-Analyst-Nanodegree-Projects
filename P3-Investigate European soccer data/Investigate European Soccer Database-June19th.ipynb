{
 "cells": [
  {
   "cell_type": "markdown",
   "metadata": {},
   "source": [
    "# Project: Investigate European Soccer Database\n",
    "### by Luyuan Zhang, June 19th, 2018\n",
    "\n",
    "## Table of Contents\n",
    "<ul>\n",
    "<li><a href=\"#intro\">Introduction</a></li>\n",
    "<li><a href=\"#wrangling\">Data Wrangling</a></li>\n",
    "<li><a href=\"#eda\">Exploratory Data Analysis</a></li>\n",
    "<li><a href=\"#conclusions\">Conclusions</a></li>\n",
    "</ul>"
   ]
  },
  {
   "cell_type": "markdown",
   "metadata": {},
   "source": [
    "<a id='intro'></a>\n",
    "## Introduction\n",
    "\n",
    ">This is a part of Udacity Data Analysis Nano Degree. I select European Soccer Database for my project. The reason I picked this database is that it is well suited for data analysis. The amount of data is overwhelming, and it was very hard for me to decide what questions to ask, because there are potentially hundreds of questions to ask. Finally I decided on obvious questions.\n",
    "\n",
    ">There are two major tables in this database, match and player_attributes. I will explore each of them, and answer three questions of each. \n",
    "\n",
    ">For the table match, I will try to answer these questions:\n",
    ">(1) Is there a home game advantage?\n",
    ">(2) Which team improved most over the years?\n",
    ">(3) which team attributes lead to most victories?\n",
    "\n",
    ">For the table player_attributes, I will try to answer these questions:\n",
    ">(4) Which player has most penalties?\n",
    ">(5) What is the distribution of player ages?\n",
    ">(6) What affect players overall rating?"
   ]
  },
  {
   "cell_type": "code",
   "execution_count": 3,
   "metadata": {},
   "outputs": [],
   "source": [
    "#import necessary tools\n",
    "import pandas as pd\n",
    "import numpy as np\n",
    "import matplotlib.pyplot as plt\n",
    "import seaborn as sns\n",
    "sns.set_style('dark')\n",
    "import sqlite3\n",
    "import scipy.stats as stats\n",
    "%matplotlib inline"
   ]
  },
  {
   "cell_type": "markdown",
   "metadata": {},
   "source": [
    "<a id='wrangling'></a>\n",
    "## Data Wrangling\n",
    "\n",
    "### General Properties"
   ]
  },
  {
   "cell_type": "code",
   "execution_count": 4,
   "metadata": {},
   "outputs": [],
   "source": [
    "# Establish connection to database, and load the tables.\n",
    "conn=sqlite3.connect('database.sqlite')\n",
    "match=pd.read_sql_query('SELECT * FROM match;', conn)\n",
    "team_attributes=pd.read_sql_query('SELECT * FROM team_attributes',conn)\n",
    "player_attributes=pd.read_sql_query('SELECT * FROM player_attributes;', conn)"
   ]
  },
  {
   "cell_type": "markdown",
   "metadata": {},
   "source": [
    "#### General properties of the table match"
   ]
  },
  {
   "cell_type": "code",
   "execution_count": 5,
   "metadata": {},
   "outputs": [
    {
     "data": {
      "text/plain": [
       "array([    0,     0,     0,     0,     0,     0,     0,     0,     0,\n",
       "           0,     0,  1821,  1821,  1832,  1832,  1832,  1832,  1832,\n",
       "        1832,  1832,  1832,  1832,  1832,  1832,  1832,  1832,  1832,\n",
       "        1832,  1832,  1832,  1833,  1833,  1839,  1821,  1821,  1832,\n",
       "        1832,  1832,  1832,  1832,  1832,  1832,  1832,  1832,  1832,\n",
       "        1832,  1832,  1832,  1832,  1832,  1832,  1832,  1833,  1833,\n",
       "        1839,  1224,  1315,  1281,  1323,  1316,  1325,  1227,  1309,\n",
       "        1273,  1436,  1555,  1234,  1278,  1293,  1321,  1335,  1313,\n",
       "        1235,  1341,  1328,  1441,  1554, 11762, 11762, 11762, 11762,\n",
       "       11762, 11762, 11762, 11762,  3387,  3387,  3387,  3404,  3404,\n",
       "        3404,  3459,  3459,  3459,  3423,  3423,  3423, 14811, 14811,\n",
       "       14811,  3408,  3408,  3408,  8882,  8882,  8882,  3411,  3411,\n",
       "        3411, 11817, 11817, 11817, 11818, 11818, 11818], dtype=int64)"
      ]
     },
     "execution_count": 5,
     "metadata": {},
     "output_type": "execute_result"
    }
   ],
   "source": [
    "#check for missing values\n",
    "np.array(match.isnull().sum())"
   ]
  },
  {
   "cell_type": "code",
   "execution_count": 6,
   "metadata": {},
   "outputs": [
    {
     "data": {
      "text/plain": [
       "0"
      ]
     },
     "execution_count": 6,
     "metadata": {},
     "output_type": "execute_result"
    }
   ],
   "source": [
    "# no duplicates in match\n",
    "match.duplicated().sum()"
   ]
  },
  {
   "cell_type": "code",
   "execution_count": 7,
   "metadata": {},
   "outputs": [
    {
     "data": {
      "text/html": [
       "<div>\n",
       "<style scoped>\n",
       "    .dataframe tbody tr th:only-of-type {\n",
       "        vertical-align: middle;\n",
       "    }\n",
       "\n",
       "    .dataframe tbody tr th {\n",
       "        vertical-align: top;\n",
       "    }\n",
       "\n",
       "    .dataframe thead th {\n",
       "        text-align: right;\n",
       "    }\n",
       "</style>\n",
       "<table border=\"1\" class=\"dataframe\">\n",
       "  <thead>\n",
       "    <tr style=\"text-align: right;\">\n",
       "      <th></th>\n",
       "      <th>id</th>\n",
       "      <th>country_id</th>\n",
       "      <th>league_id</th>\n",
       "      <th>season</th>\n",
       "      <th>stage</th>\n",
       "      <th>date</th>\n",
       "      <th>match_api_id</th>\n",
       "      <th>home_team_api_id</th>\n",
       "      <th>away_team_api_id</th>\n",
       "      <th>home_team_goal</th>\n",
       "      <th>...</th>\n",
       "      <th>SJA</th>\n",
       "      <th>VCH</th>\n",
       "      <th>VCD</th>\n",
       "      <th>VCA</th>\n",
       "      <th>GBH</th>\n",
       "      <th>GBD</th>\n",
       "      <th>GBA</th>\n",
       "      <th>BSH</th>\n",
       "      <th>BSD</th>\n",
       "      <th>BSA</th>\n",
       "    </tr>\n",
       "  </thead>\n",
       "  <tbody>\n",
       "    <tr>\n",
       "      <th>0</th>\n",
       "      <td>1</td>\n",
       "      <td>1</td>\n",
       "      <td>1</td>\n",
       "      <td>2008/2009</td>\n",
       "      <td>1</td>\n",
       "      <td>2008-08-17 00:00:00</td>\n",
       "      <td>492473</td>\n",
       "      <td>9987</td>\n",
       "      <td>9993</td>\n",
       "      <td>1</td>\n",
       "      <td>...</td>\n",
       "      <td>4.00</td>\n",
       "      <td>1.65</td>\n",
       "      <td>3.40</td>\n",
       "      <td>4.50</td>\n",
       "      <td>1.78</td>\n",
       "      <td>3.25</td>\n",
       "      <td>4.00</td>\n",
       "      <td>1.73</td>\n",
       "      <td>3.40</td>\n",
       "      <td>4.20</td>\n",
       "    </tr>\n",
       "    <tr>\n",
       "      <th>1</th>\n",
       "      <td>2</td>\n",
       "      <td>1</td>\n",
       "      <td>1</td>\n",
       "      <td>2008/2009</td>\n",
       "      <td>1</td>\n",
       "      <td>2008-08-16 00:00:00</td>\n",
       "      <td>492474</td>\n",
       "      <td>10000</td>\n",
       "      <td>9994</td>\n",
       "      <td>0</td>\n",
       "      <td>...</td>\n",
       "      <td>3.80</td>\n",
       "      <td>2.00</td>\n",
       "      <td>3.25</td>\n",
       "      <td>3.25</td>\n",
       "      <td>1.85</td>\n",
       "      <td>3.25</td>\n",
       "      <td>3.75</td>\n",
       "      <td>1.91</td>\n",
       "      <td>3.25</td>\n",
       "      <td>3.60</td>\n",
       "    </tr>\n",
       "    <tr>\n",
       "      <th>2</th>\n",
       "      <td>3</td>\n",
       "      <td>1</td>\n",
       "      <td>1</td>\n",
       "      <td>2008/2009</td>\n",
       "      <td>1</td>\n",
       "      <td>2008-08-16 00:00:00</td>\n",
       "      <td>492475</td>\n",
       "      <td>9984</td>\n",
       "      <td>8635</td>\n",
       "      <td>0</td>\n",
       "      <td>...</td>\n",
       "      <td>2.50</td>\n",
       "      <td>2.35</td>\n",
       "      <td>3.25</td>\n",
       "      <td>2.65</td>\n",
       "      <td>2.50</td>\n",
       "      <td>3.20</td>\n",
       "      <td>2.50</td>\n",
       "      <td>2.30</td>\n",
       "      <td>3.20</td>\n",
       "      <td>2.75</td>\n",
       "    </tr>\n",
       "    <tr>\n",
       "      <th>3</th>\n",
       "      <td>4</td>\n",
       "      <td>1</td>\n",
       "      <td>1</td>\n",
       "      <td>2008/2009</td>\n",
       "      <td>1</td>\n",
       "      <td>2008-08-17 00:00:00</td>\n",
       "      <td>492476</td>\n",
       "      <td>9991</td>\n",
       "      <td>9998</td>\n",
       "      <td>5</td>\n",
       "      <td>...</td>\n",
       "      <td>7.50</td>\n",
       "      <td>1.45</td>\n",
       "      <td>3.75</td>\n",
       "      <td>6.50</td>\n",
       "      <td>1.50</td>\n",
       "      <td>3.75</td>\n",
       "      <td>5.50</td>\n",
       "      <td>1.44</td>\n",
       "      <td>3.75</td>\n",
       "      <td>6.50</td>\n",
       "    </tr>\n",
       "    <tr>\n",
       "      <th>4</th>\n",
       "      <td>5</td>\n",
       "      <td>1</td>\n",
       "      <td>1</td>\n",
       "      <td>2008/2009</td>\n",
       "      <td>1</td>\n",
       "      <td>2008-08-16 00:00:00</td>\n",
       "      <td>492477</td>\n",
       "      <td>7947</td>\n",
       "      <td>9985</td>\n",
       "      <td>1</td>\n",
       "      <td>...</td>\n",
       "      <td>1.73</td>\n",
       "      <td>4.50</td>\n",
       "      <td>3.40</td>\n",
       "      <td>1.65</td>\n",
       "      <td>4.50</td>\n",
       "      <td>3.50</td>\n",
       "      <td>1.65</td>\n",
       "      <td>4.75</td>\n",
       "      <td>3.30</td>\n",
       "      <td>1.67</td>\n",
       "    </tr>\n",
       "  </tbody>\n",
       "</table>\n",
       "<p>5 rows × 115 columns</p>\n",
       "</div>"
      ],
      "text/plain": [
       "   id  country_id  league_id     season  stage                 date  \\\n",
       "0   1           1          1  2008/2009      1  2008-08-17 00:00:00   \n",
       "1   2           1          1  2008/2009      1  2008-08-16 00:00:00   \n",
       "2   3           1          1  2008/2009      1  2008-08-16 00:00:00   \n",
       "3   4           1          1  2008/2009      1  2008-08-17 00:00:00   \n",
       "4   5           1          1  2008/2009      1  2008-08-16 00:00:00   \n",
       "\n",
       "   match_api_id  home_team_api_id  away_team_api_id  home_team_goal  ...   \\\n",
       "0        492473              9987              9993               1  ...    \n",
       "1        492474             10000              9994               0  ...    \n",
       "2        492475              9984              8635               0  ...    \n",
       "3        492476              9991              9998               5  ...    \n",
       "4        492477              7947              9985               1  ...    \n",
       "\n",
       "    SJA   VCH   VCD   VCA   GBH   GBD   GBA   BSH   BSD   BSA  \n",
       "0  4.00  1.65  3.40  4.50  1.78  3.25  4.00  1.73  3.40  4.20  \n",
       "1  3.80  2.00  3.25  3.25  1.85  3.25  3.75  1.91  3.25  3.60  \n",
       "2  2.50  2.35  3.25  2.65  2.50  3.20  2.50  2.30  3.20  2.75  \n",
       "3  7.50  1.45  3.75  6.50  1.50  3.75  5.50  1.44  3.75  6.50  \n",
       "4  1.73  4.50  3.40  1.65  4.50  3.50  1.65  4.75  3.30  1.67  \n",
       "\n",
       "[5 rows x 115 columns]"
      ]
     },
     "execution_count": 7,
     "metadata": {},
     "output_type": "execute_result"
    }
   ],
   "source": [
    "#view first few rows of match\n",
    "match.head()"
   ]
  },
  {
   "cell_type": "code",
   "execution_count": 8,
   "metadata": {
    "scrolled": false
   },
   "outputs": [
    {
     "data": {
      "text/plain": [
       "array(['id', 'country_id', 'league_id', 'season', 'stage', 'date',\n",
       "       'match_api_id', 'home_team_api_id', 'away_team_api_id',\n",
       "       'home_team_goal', 'away_team_goal', 'home_player_X1',\n",
       "       'home_player_X2', 'home_player_X3', 'home_player_X4',\n",
       "       'home_player_X5', 'home_player_X6', 'home_player_X7',\n",
       "       'home_player_X8', 'home_player_X9', 'home_player_X10',\n",
       "       'home_player_X11', 'away_player_X1', 'away_player_X2',\n",
       "       'away_player_X3', 'away_player_X4', 'away_player_X5',\n",
       "       'away_player_X6', 'away_player_X7', 'away_player_X8',\n",
       "       'away_player_X9', 'away_player_X10', 'away_player_X11',\n",
       "       'home_player_Y1', 'home_player_Y2', 'home_player_Y3',\n",
       "       'home_player_Y4', 'home_player_Y5', 'home_player_Y6',\n",
       "       'home_player_Y7', 'home_player_Y8', 'home_player_Y9',\n",
       "       'home_player_Y10', 'home_player_Y11', 'away_player_Y1',\n",
       "       'away_player_Y2', 'away_player_Y3', 'away_player_Y4',\n",
       "       'away_player_Y5', 'away_player_Y6', 'away_player_Y7',\n",
       "       'away_player_Y8', 'away_player_Y9', 'away_player_Y10',\n",
       "       'away_player_Y11', 'home_player_1', 'home_player_2',\n",
       "       'home_player_3', 'home_player_4', 'home_player_5', 'home_player_6',\n",
       "       'home_player_7', 'home_player_8', 'home_player_9',\n",
       "       'home_player_10', 'home_player_11', 'away_player_1',\n",
       "       'away_player_2', 'away_player_3', 'away_player_4', 'away_player_5',\n",
       "       'away_player_6', 'away_player_7', 'away_player_8', 'away_player_9',\n",
       "       'away_player_10', 'away_player_11', 'goal', 'shoton', 'shotoff',\n",
       "       'foulcommit', 'card', 'cross', 'corner', 'possession', 'B365H',\n",
       "       'B365D', 'B365A', 'BWH', 'BWD', 'BWA', 'IWH', 'IWD', 'IWA', 'LBH',\n",
       "       'LBD', 'LBA', 'PSH', 'PSD', 'PSA', 'WHH', 'WHD', 'WHA', 'SJH',\n",
       "       'SJD', 'SJA', 'VCH', 'VCD', 'VCA', 'GBH', 'GBD', 'GBA', 'BSH',\n",
       "       'BSD', 'BSA'], dtype=object)"
      ]
     },
     "execution_count": 8,
     "metadata": {},
     "output_type": "execute_result"
    }
   ],
   "source": [
    "#most columns in match are player columns\n",
    "np.array(match.columns)"
   ]
  },
  {
   "cell_type": "markdown",
   "metadata": {},
   "source": [
    "##### In the match table, only the columns up to 'away_team_goal' are helpful in answering my question. So I will drop all other columns. After that the match table will be clean.  I also need to extract points of each team from the match table."
   ]
  },
  {
   "cell_type": "markdown",
   "metadata": {},
   "source": [
    "#### General properties of the table team_attributes"
   ]
  },
  {
   "cell_type": "code",
   "execution_count": 9,
   "metadata": {
    "scrolled": true
   },
   "outputs": [
    {
     "data": {
      "text/html": [
       "<div>\n",
       "<style scoped>\n",
       "    .dataframe tbody tr th:only-of-type {\n",
       "        vertical-align: middle;\n",
       "    }\n",
       "\n",
       "    .dataframe tbody tr th {\n",
       "        vertical-align: top;\n",
       "    }\n",
       "\n",
       "    .dataframe thead th {\n",
       "        text-align: right;\n",
       "    }\n",
       "</style>\n",
       "<table border=\"1\" class=\"dataframe\">\n",
       "  <thead>\n",
       "    <tr style=\"text-align: right;\">\n",
       "      <th></th>\n",
       "      <th>id</th>\n",
       "      <th>team_fifa_api_id</th>\n",
       "      <th>team_api_id</th>\n",
       "      <th>date</th>\n",
       "      <th>buildUpPlaySpeed</th>\n",
       "      <th>buildUpPlaySpeedClass</th>\n",
       "      <th>buildUpPlayDribbling</th>\n",
       "      <th>buildUpPlayDribblingClass</th>\n",
       "      <th>buildUpPlayPassing</th>\n",
       "      <th>buildUpPlayPassingClass</th>\n",
       "      <th>...</th>\n",
       "      <th>chanceCreationShooting</th>\n",
       "      <th>chanceCreationShootingClass</th>\n",
       "      <th>chanceCreationPositioningClass</th>\n",
       "      <th>defencePressure</th>\n",
       "      <th>defencePressureClass</th>\n",
       "      <th>defenceAggression</th>\n",
       "      <th>defenceAggressionClass</th>\n",
       "      <th>defenceTeamWidth</th>\n",
       "      <th>defenceTeamWidthClass</th>\n",
       "      <th>defenceDefenderLineClass</th>\n",
       "    </tr>\n",
       "  </thead>\n",
       "  <tbody>\n",
       "    <tr>\n",
       "      <th>0</th>\n",
       "      <td>1</td>\n",
       "      <td>434</td>\n",
       "      <td>9930</td>\n",
       "      <td>2010-02-22 00:00:00</td>\n",
       "      <td>60</td>\n",
       "      <td>Balanced</td>\n",
       "      <td>NaN</td>\n",
       "      <td>Little</td>\n",
       "      <td>50</td>\n",
       "      <td>Mixed</td>\n",
       "      <td>...</td>\n",
       "      <td>55</td>\n",
       "      <td>Normal</td>\n",
       "      <td>Organised</td>\n",
       "      <td>50</td>\n",
       "      <td>Medium</td>\n",
       "      <td>55</td>\n",
       "      <td>Press</td>\n",
       "      <td>45</td>\n",
       "      <td>Normal</td>\n",
       "      <td>Cover</td>\n",
       "    </tr>\n",
       "    <tr>\n",
       "      <th>1</th>\n",
       "      <td>2</td>\n",
       "      <td>434</td>\n",
       "      <td>9930</td>\n",
       "      <td>2014-09-19 00:00:00</td>\n",
       "      <td>52</td>\n",
       "      <td>Balanced</td>\n",
       "      <td>48.0</td>\n",
       "      <td>Normal</td>\n",
       "      <td>56</td>\n",
       "      <td>Mixed</td>\n",
       "      <td>...</td>\n",
       "      <td>64</td>\n",
       "      <td>Normal</td>\n",
       "      <td>Organised</td>\n",
       "      <td>47</td>\n",
       "      <td>Medium</td>\n",
       "      <td>44</td>\n",
       "      <td>Press</td>\n",
       "      <td>54</td>\n",
       "      <td>Normal</td>\n",
       "      <td>Cover</td>\n",
       "    </tr>\n",
       "    <tr>\n",
       "      <th>2</th>\n",
       "      <td>3</td>\n",
       "      <td>434</td>\n",
       "      <td>9930</td>\n",
       "      <td>2015-09-10 00:00:00</td>\n",
       "      <td>47</td>\n",
       "      <td>Balanced</td>\n",
       "      <td>41.0</td>\n",
       "      <td>Normal</td>\n",
       "      <td>54</td>\n",
       "      <td>Mixed</td>\n",
       "      <td>...</td>\n",
       "      <td>64</td>\n",
       "      <td>Normal</td>\n",
       "      <td>Organised</td>\n",
       "      <td>47</td>\n",
       "      <td>Medium</td>\n",
       "      <td>44</td>\n",
       "      <td>Press</td>\n",
       "      <td>54</td>\n",
       "      <td>Normal</td>\n",
       "      <td>Cover</td>\n",
       "    </tr>\n",
       "    <tr>\n",
       "      <th>3</th>\n",
       "      <td>4</td>\n",
       "      <td>77</td>\n",
       "      <td>8485</td>\n",
       "      <td>2010-02-22 00:00:00</td>\n",
       "      <td>70</td>\n",
       "      <td>Fast</td>\n",
       "      <td>NaN</td>\n",
       "      <td>Little</td>\n",
       "      <td>70</td>\n",
       "      <td>Long</td>\n",
       "      <td>...</td>\n",
       "      <td>70</td>\n",
       "      <td>Lots</td>\n",
       "      <td>Organised</td>\n",
       "      <td>60</td>\n",
       "      <td>Medium</td>\n",
       "      <td>70</td>\n",
       "      <td>Double</td>\n",
       "      <td>70</td>\n",
       "      <td>Wide</td>\n",
       "      <td>Cover</td>\n",
       "    </tr>\n",
       "    <tr>\n",
       "      <th>4</th>\n",
       "      <td>5</td>\n",
       "      <td>77</td>\n",
       "      <td>8485</td>\n",
       "      <td>2011-02-22 00:00:00</td>\n",
       "      <td>47</td>\n",
       "      <td>Balanced</td>\n",
       "      <td>NaN</td>\n",
       "      <td>Little</td>\n",
       "      <td>52</td>\n",
       "      <td>Mixed</td>\n",
       "      <td>...</td>\n",
       "      <td>52</td>\n",
       "      <td>Normal</td>\n",
       "      <td>Organised</td>\n",
       "      <td>47</td>\n",
       "      <td>Medium</td>\n",
       "      <td>47</td>\n",
       "      <td>Press</td>\n",
       "      <td>52</td>\n",
       "      <td>Normal</td>\n",
       "      <td>Cover</td>\n",
       "    </tr>\n",
       "  </tbody>\n",
       "</table>\n",
       "<p>5 rows × 25 columns</p>\n",
       "</div>"
      ],
      "text/plain": [
       "   id  team_fifa_api_id  team_api_id                 date  buildUpPlaySpeed  \\\n",
       "0   1               434         9930  2010-02-22 00:00:00                60   \n",
       "1   2               434         9930  2014-09-19 00:00:00                52   \n",
       "2   3               434         9930  2015-09-10 00:00:00                47   \n",
       "3   4                77         8485  2010-02-22 00:00:00                70   \n",
       "4   5                77         8485  2011-02-22 00:00:00                47   \n",
       "\n",
       "  buildUpPlaySpeedClass  buildUpPlayDribbling buildUpPlayDribblingClass  \\\n",
       "0              Balanced                   NaN                    Little   \n",
       "1              Balanced                  48.0                    Normal   \n",
       "2              Balanced                  41.0                    Normal   \n",
       "3                  Fast                   NaN                    Little   \n",
       "4              Balanced                   NaN                    Little   \n",
       "\n",
       "   buildUpPlayPassing buildUpPlayPassingClass           ...             \\\n",
       "0                  50                   Mixed           ...              \n",
       "1                  56                   Mixed           ...              \n",
       "2                  54                   Mixed           ...              \n",
       "3                  70                    Long           ...              \n",
       "4                  52                   Mixed           ...              \n",
       "\n",
       "  chanceCreationShooting  chanceCreationShootingClass  \\\n",
       "0                     55                       Normal   \n",
       "1                     64                       Normal   \n",
       "2                     64                       Normal   \n",
       "3                     70                         Lots   \n",
       "4                     52                       Normal   \n",
       "\n",
       "  chanceCreationPositioningClass  defencePressure defencePressureClass  \\\n",
       "0                      Organised               50               Medium   \n",
       "1                      Organised               47               Medium   \n",
       "2                      Organised               47               Medium   \n",
       "3                      Organised               60               Medium   \n",
       "4                      Organised               47               Medium   \n",
       "\n",
       "   defenceAggression defenceAggressionClass defenceTeamWidth  \\\n",
       "0                 55                  Press               45   \n",
       "1                 44                  Press               54   \n",
       "2                 44                  Press               54   \n",
       "3                 70                 Double               70   \n",
       "4                 47                  Press               52   \n",
       "\n",
       "   defenceTeamWidthClass defenceDefenderLineClass  \n",
       "0                 Normal                    Cover  \n",
       "1                 Normal                    Cover  \n",
       "2                 Normal                    Cover  \n",
       "3                   Wide                    Cover  \n",
       "4                 Normal                    Cover  \n",
       "\n",
       "[5 rows x 25 columns]"
      ]
     },
     "execution_count": 9,
     "metadata": {},
     "output_type": "execute_result"
    }
   ],
   "source": [
    "#view first few rows\n",
    "team_attributes.head()"
   ]
  },
  {
   "cell_type": "code",
   "execution_count": 10,
   "metadata": {},
   "outputs": [
    {
     "data": {
      "text/plain": [
       "0"
      ]
     },
     "execution_count": 10,
     "metadata": {},
     "output_type": "execute_result"
    }
   ],
   "source": [
    "#no duplicates\n",
    "team_attributes.duplicated().sum()"
   ]
  },
  {
   "cell_type": "code",
   "execution_count": 11,
   "metadata": {
    "scrolled": true
   },
   "outputs": [
    {
     "name": "stdout",
     "output_type": "stream",
     "text": [
      "<class 'pandas.core.frame.DataFrame'>\n",
      "RangeIndex: 1458 entries, 0 to 1457\n",
      "Data columns (total 25 columns):\n",
      "id                                1458 non-null int64\n",
      "team_fifa_api_id                  1458 non-null int64\n",
      "team_api_id                       1458 non-null int64\n",
      "date                              1458 non-null object\n",
      "buildUpPlaySpeed                  1458 non-null int64\n",
      "buildUpPlaySpeedClass             1458 non-null object\n",
      "buildUpPlayDribbling              489 non-null float64\n",
      "buildUpPlayDribblingClass         1458 non-null object\n",
      "buildUpPlayPassing                1458 non-null int64\n",
      "buildUpPlayPassingClass           1458 non-null object\n",
      "buildUpPlayPositioningClass       1458 non-null object\n",
      "chanceCreationPassing             1458 non-null int64\n",
      "chanceCreationPassingClass        1458 non-null object\n",
      "chanceCreationCrossing            1458 non-null int64\n",
      "chanceCreationCrossingClass       1458 non-null object\n",
      "chanceCreationShooting            1458 non-null int64\n",
      "chanceCreationShootingClass       1458 non-null object\n",
      "chanceCreationPositioningClass    1458 non-null object\n",
      "defencePressure                   1458 non-null int64\n",
      "defencePressureClass              1458 non-null object\n",
      "defenceAggression                 1458 non-null int64\n",
      "defenceAggressionClass            1458 non-null object\n",
      "defenceTeamWidth                  1458 non-null int64\n",
      "defenceTeamWidthClass             1458 non-null object\n",
      "defenceDefenderLineClass          1458 non-null object\n",
      "dtypes: float64(1), int64(11), object(13)\n",
      "memory usage: 284.8+ KB\n"
     ]
    }
   ],
   "source": [
    "#check for missing data\n",
    "team_attributes.info()"
   ]
  },
  {
   "cell_type": "markdown",
   "metadata": {},
   "source": [
    "##### The column buildUpPlayDribbling contains mostly NaN. Need to drop this column."
   ]
  },
  {
   "cell_type": "markdown",
   "metadata": {},
   "source": [
    "#### General properties of the table player_attributes"
   ]
  },
  {
   "cell_type": "code",
   "execution_count": 12,
   "metadata": {
    "scrolled": true
   },
   "outputs": [
    {
     "data": {
      "text/plain": [
       "id                        0\n",
       "player_fifa_api_id        0\n",
       "player_api_id             0\n",
       "date                      0\n",
       "overall_rating          836\n",
       "potential               836\n",
       "preferred_foot          836\n",
       "attacking_work_rate    3230\n",
       "defensive_work_rate     836\n",
       "crossing                836\n",
       "finishing               836\n",
       "heading_accuracy        836\n",
       "short_passing           836\n",
       "volleys                2713\n",
       "dribbling               836\n",
       "curve                  2713\n",
       "free_kick_accuracy      836\n",
       "long_passing            836\n",
       "ball_control            836\n",
       "acceleration            836\n",
       "sprint_speed            836\n",
       "agility                2713\n",
       "reactions               836\n",
       "balance                2713\n",
       "shot_power              836\n",
       "jumping                2713\n",
       "stamina                 836\n",
       "strength                836\n",
       "long_shots              836\n",
       "aggression              836\n",
       "interceptions           836\n",
       "positioning             836\n",
       "vision                 2713\n",
       "penalties               836\n",
       "marking                 836\n",
       "standing_tackle         836\n",
       "sliding_tackle         2713\n",
       "gk_diving               836\n",
       "gk_handling             836\n",
       "gk_kicking              836\n",
       "gk_positioning          836\n",
       "gk_reflexes             836\n",
       "dtype: int64"
      ]
     },
     "execution_count": 12,
     "metadata": {},
     "output_type": "execute_result"
    }
   ],
   "source": [
    "#check for missing values\n",
    "player_attributes.isnull().sum()"
   ]
  },
  {
   "cell_type": "code",
   "execution_count": 13,
   "metadata": {},
   "outputs": [
    {
     "data": {
      "text/plain": [
       "3624"
      ]
     },
     "execution_count": 13,
     "metadata": {},
     "output_type": "execute_result"
    }
   ],
   "source": [
    "#count number of rows that contains missing values\n",
    "player_attributes['null_count']=player_attributes.isnull().sum(axis=1)\n",
    "(player_attributes['null_count']!=0).sum()"
   ]
  },
  {
   "cell_type": "code",
   "execution_count": 14,
   "metadata": {},
   "outputs": [
    {
     "data": {
      "text/plain": [
       "0.019698007370446465"
      ]
     },
     "execution_count": 14,
     "metadata": {},
     "output_type": "execute_result"
    }
   ],
   "source": [
    "#calculate ther percentage of number of rows that contain NaN\n",
    "(player_attributes['null_count']!=0).sum()/player_attributes.shape[0]"
   ]
  },
  {
   "cell_type": "markdown",
   "metadata": {},
   "source": [
    "##### close to 2% of total number of rows contain at least one NaN"
   ]
  },
  {
   "cell_type": "code",
   "execution_count": 15,
   "metadata": {
    "scrolled": true
   },
   "outputs": [
    {
     "data": {
      "text/html": [
       "<div>\n",
       "<style scoped>\n",
       "    .dataframe tbody tr th:only-of-type {\n",
       "        vertical-align: middle;\n",
       "    }\n",
       "\n",
       "    .dataframe tbody tr th {\n",
       "        vertical-align: top;\n",
       "    }\n",
       "\n",
       "    .dataframe thead th {\n",
       "        text-align: right;\n",
       "    }\n",
       "</style>\n",
       "<table border=\"1\" class=\"dataframe\">\n",
       "  <thead>\n",
       "    <tr style=\"text-align: right;\">\n",
       "      <th></th>\n",
       "      <th>id</th>\n",
       "      <th>player_fifa_api_id</th>\n",
       "      <th>player_api_id</th>\n",
       "      <th>date</th>\n",
       "      <th>overall_rating</th>\n",
       "      <th>potential</th>\n",
       "      <th>preferred_foot</th>\n",
       "      <th>attacking_work_rate</th>\n",
       "      <th>defensive_work_rate</th>\n",
       "      <th>crossing</th>\n",
       "      <th>...</th>\n",
       "      <th>penalties</th>\n",
       "      <th>marking</th>\n",
       "      <th>standing_tackle</th>\n",
       "      <th>sliding_tackle</th>\n",
       "      <th>gk_diving</th>\n",
       "      <th>gk_handling</th>\n",
       "      <th>gk_kicking</th>\n",
       "      <th>gk_positioning</th>\n",
       "      <th>gk_reflexes</th>\n",
       "      <th>null_count</th>\n",
       "    </tr>\n",
       "  </thead>\n",
       "  <tbody>\n",
       "    <tr>\n",
       "      <th>0</th>\n",
       "      <td>1</td>\n",
       "      <td>218353</td>\n",
       "      <td>505942</td>\n",
       "      <td>2016-02-18 00:00:00</td>\n",
       "      <td>67.0</td>\n",
       "      <td>71.0</td>\n",
       "      <td>right</td>\n",
       "      <td>medium</td>\n",
       "      <td>medium</td>\n",
       "      <td>49.0</td>\n",
       "      <td>...</td>\n",
       "      <td>48.0</td>\n",
       "      <td>65.0</td>\n",
       "      <td>69.0</td>\n",
       "      <td>69.0</td>\n",
       "      <td>6.0</td>\n",
       "      <td>11.0</td>\n",
       "      <td>10.0</td>\n",
       "      <td>8.0</td>\n",
       "      <td>8.0</td>\n",
       "      <td>0</td>\n",
       "    </tr>\n",
       "    <tr>\n",
       "      <th>1</th>\n",
       "      <td>2</td>\n",
       "      <td>218353</td>\n",
       "      <td>505942</td>\n",
       "      <td>2015-11-19 00:00:00</td>\n",
       "      <td>67.0</td>\n",
       "      <td>71.0</td>\n",
       "      <td>right</td>\n",
       "      <td>medium</td>\n",
       "      <td>medium</td>\n",
       "      <td>49.0</td>\n",
       "      <td>...</td>\n",
       "      <td>48.0</td>\n",
       "      <td>65.0</td>\n",
       "      <td>69.0</td>\n",
       "      <td>69.0</td>\n",
       "      <td>6.0</td>\n",
       "      <td>11.0</td>\n",
       "      <td>10.0</td>\n",
       "      <td>8.0</td>\n",
       "      <td>8.0</td>\n",
       "      <td>0</td>\n",
       "    </tr>\n",
       "    <tr>\n",
       "      <th>2</th>\n",
       "      <td>3</td>\n",
       "      <td>218353</td>\n",
       "      <td>505942</td>\n",
       "      <td>2015-09-21 00:00:00</td>\n",
       "      <td>62.0</td>\n",
       "      <td>66.0</td>\n",
       "      <td>right</td>\n",
       "      <td>medium</td>\n",
       "      <td>medium</td>\n",
       "      <td>49.0</td>\n",
       "      <td>...</td>\n",
       "      <td>48.0</td>\n",
       "      <td>65.0</td>\n",
       "      <td>66.0</td>\n",
       "      <td>69.0</td>\n",
       "      <td>6.0</td>\n",
       "      <td>11.0</td>\n",
       "      <td>10.0</td>\n",
       "      <td>8.0</td>\n",
       "      <td>8.0</td>\n",
       "      <td>0</td>\n",
       "    </tr>\n",
       "    <tr>\n",
       "      <th>3</th>\n",
       "      <td>4</td>\n",
       "      <td>218353</td>\n",
       "      <td>505942</td>\n",
       "      <td>2015-03-20 00:00:00</td>\n",
       "      <td>61.0</td>\n",
       "      <td>65.0</td>\n",
       "      <td>right</td>\n",
       "      <td>medium</td>\n",
       "      <td>medium</td>\n",
       "      <td>48.0</td>\n",
       "      <td>...</td>\n",
       "      <td>47.0</td>\n",
       "      <td>62.0</td>\n",
       "      <td>63.0</td>\n",
       "      <td>66.0</td>\n",
       "      <td>5.0</td>\n",
       "      <td>10.0</td>\n",
       "      <td>9.0</td>\n",
       "      <td>7.0</td>\n",
       "      <td>7.0</td>\n",
       "      <td>0</td>\n",
       "    </tr>\n",
       "    <tr>\n",
       "      <th>4</th>\n",
       "      <td>5</td>\n",
       "      <td>218353</td>\n",
       "      <td>505942</td>\n",
       "      <td>2007-02-22 00:00:00</td>\n",
       "      <td>61.0</td>\n",
       "      <td>65.0</td>\n",
       "      <td>right</td>\n",
       "      <td>medium</td>\n",
       "      <td>medium</td>\n",
       "      <td>48.0</td>\n",
       "      <td>...</td>\n",
       "      <td>47.0</td>\n",
       "      <td>62.0</td>\n",
       "      <td>63.0</td>\n",
       "      <td>66.0</td>\n",
       "      <td>5.0</td>\n",
       "      <td>10.0</td>\n",
       "      <td>9.0</td>\n",
       "      <td>7.0</td>\n",
       "      <td>7.0</td>\n",
       "      <td>0</td>\n",
       "    </tr>\n",
       "  </tbody>\n",
       "</table>\n",
       "<p>5 rows × 43 columns</p>\n",
       "</div>"
      ],
      "text/plain": [
       "   id  player_fifa_api_id  player_api_id                 date  overall_rating  \\\n",
       "0   1              218353         505942  2016-02-18 00:00:00            67.0   \n",
       "1   2              218353         505942  2015-11-19 00:00:00            67.0   \n",
       "2   3              218353         505942  2015-09-21 00:00:00            62.0   \n",
       "3   4              218353         505942  2015-03-20 00:00:00            61.0   \n",
       "4   5              218353         505942  2007-02-22 00:00:00            61.0   \n",
       "\n",
       "   potential preferred_foot attacking_work_rate defensive_work_rate  crossing  \\\n",
       "0       71.0          right              medium              medium      49.0   \n",
       "1       71.0          right              medium              medium      49.0   \n",
       "2       66.0          right              medium              medium      49.0   \n",
       "3       65.0          right              medium              medium      48.0   \n",
       "4       65.0          right              medium              medium      48.0   \n",
       "\n",
       "      ...      penalties  marking  standing_tackle  sliding_tackle  gk_diving  \\\n",
       "0     ...           48.0     65.0             69.0            69.0        6.0   \n",
       "1     ...           48.0     65.0             69.0            69.0        6.0   \n",
       "2     ...           48.0     65.0             66.0            69.0        6.0   \n",
       "3     ...           47.0     62.0             63.0            66.0        5.0   \n",
       "4     ...           47.0     62.0             63.0            66.0        5.0   \n",
       "\n",
       "   gk_handling  gk_kicking  gk_positioning  gk_reflexes  null_count  \n",
       "0         11.0        10.0             8.0          8.0           0  \n",
       "1         11.0        10.0             8.0          8.0           0  \n",
       "2         11.0        10.0             8.0          8.0           0  \n",
       "3         10.0         9.0             7.0          7.0           0  \n",
       "4         10.0         9.0             7.0          7.0           0  \n",
       "\n",
       "[5 rows x 43 columns]"
      ]
     },
     "execution_count": 15,
     "metadata": {},
     "output_type": "execute_result"
    }
   ],
   "source": [
    "# Check the first few rows of the table player_attributes\n",
    "player_attributes.head()"
   ]
  },
  {
   "cell_type": "code",
   "execution_count": 16,
   "metadata": {},
   "outputs": [
    {
     "data": {
      "text/plain": [
       "0"
      ]
     },
     "execution_count": 16,
     "metadata": {},
     "output_type": "execute_result"
    }
   ],
   "source": [
    "#no duplicates\n",
    "player_attributes.duplicated().sum()"
   ]
  },
  {
   "cell_type": "markdown",
   "metadata": {},
   "source": [
    "##### To clean the player_attributes table,  I will drop rows that contain NaN\n",
    "##### I also need to calculate players age at the date when the overall_rating is accessed, and add them to player_attributes table. "
   ]
  },
  {
   "cell_type": "markdown",
   "metadata": {},
   "source": [
    "#### Load other necessary tables and inspect their cleanliness"
   ]
  },
  {
   "cell_type": "code",
   "execution_count": 17,
   "metadata": {},
   "outputs": [],
   "source": [
    "#load other necessary tables\n",
    "team=pd.read_sql_query('SELECT * FROM team',conn)\n",
    "player=pd.read_sql_query('SELECT * FROM player',conn)"
   ]
  },
  {
   "cell_type": "code",
   "execution_count": 18,
   "metadata": {
    "scrolled": true
   },
   "outputs": [
    {
     "data": {
      "text/html": [
       "<div>\n",
       "<style scoped>\n",
       "    .dataframe tbody tr th:only-of-type {\n",
       "        vertical-align: middle;\n",
       "    }\n",
       "\n",
       "    .dataframe tbody tr th {\n",
       "        vertical-align: top;\n",
       "    }\n",
       "\n",
       "    .dataframe thead th {\n",
       "        text-align: right;\n",
       "    }\n",
       "</style>\n",
       "<table border=\"1\" class=\"dataframe\">\n",
       "  <thead>\n",
       "    <tr style=\"text-align: right;\">\n",
       "      <th></th>\n",
       "      <th>id</th>\n",
       "      <th>team_api_id</th>\n",
       "      <th>team_fifa_api_id</th>\n",
       "      <th>team_long_name</th>\n",
       "      <th>team_short_name</th>\n",
       "    </tr>\n",
       "  </thead>\n",
       "  <tbody>\n",
       "    <tr>\n",
       "      <th>0</th>\n",
       "      <td>1</td>\n",
       "      <td>9987</td>\n",
       "      <td>673.0</td>\n",
       "      <td>KRC Genk</td>\n",
       "      <td>GEN</td>\n",
       "    </tr>\n",
       "    <tr>\n",
       "      <th>1</th>\n",
       "      <td>2</td>\n",
       "      <td>9993</td>\n",
       "      <td>675.0</td>\n",
       "      <td>Beerschot AC</td>\n",
       "      <td>BAC</td>\n",
       "    </tr>\n",
       "    <tr>\n",
       "      <th>2</th>\n",
       "      <td>3</td>\n",
       "      <td>10000</td>\n",
       "      <td>15005.0</td>\n",
       "      <td>SV Zulte-Waregem</td>\n",
       "      <td>ZUL</td>\n",
       "    </tr>\n",
       "    <tr>\n",
       "      <th>3</th>\n",
       "      <td>4</td>\n",
       "      <td>9994</td>\n",
       "      <td>2007.0</td>\n",
       "      <td>Sporting Lokeren</td>\n",
       "      <td>LOK</td>\n",
       "    </tr>\n",
       "    <tr>\n",
       "      <th>4</th>\n",
       "      <td>5</td>\n",
       "      <td>9984</td>\n",
       "      <td>1750.0</td>\n",
       "      <td>KSV Cercle Brugge</td>\n",
       "      <td>CEB</td>\n",
       "    </tr>\n",
       "  </tbody>\n",
       "</table>\n",
       "</div>"
      ],
      "text/plain": [
       "   id  team_api_id  team_fifa_api_id     team_long_name team_short_name\n",
       "0   1         9987             673.0           KRC Genk             GEN\n",
       "1   2         9993             675.0       Beerschot AC             BAC\n",
       "2   3        10000           15005.0   SV Zulte-Waregem             ZUL\n",
       "3   4         9994            2007.0   Sporting Lokeren             LOK\n",
       "4   5         9984            1750.0  KSV Cercle Brugge             CEB"
      ]
     },
     "execution_count": 18,
     "metadata": {},
     "output_type": "execute_result"
    }
   ],
   "source": [
    "# view first few rows of team\n",
    "team.head()"
   ]
  },
  {
   "cell_type": "code",
   "execution_count": 19,
   "metadata": {},
   "outputs": [
    {
     "data": {
      "text/plain": [
       "0"
      ]
     },
     "execution_count": 19,
     "metadata": {},
     "output_type": "execute_result"
    }
   ],
   "source": [
    "# no duplicates\n",
    "team.duplicated().sum()"
   ]
  },
  {
   "cell_type": "code",
   "execution_count": 20,
   "metadata": {
    "scrolled": true
   },
   "outputs": [
    {
     "data": {
      "text/plain": [
       "id                   0\n",
       "team_api_id          0\n",
       "team_fifa_api_id    11\n",
       "team_long_name       0\n",
       "team_short_name      0\n",
       "dtype: int64"
      ]
     },
     "execution_count": 20,
     "metadata": {},
     "output_type": "execute_result"
    }
   ],
   "source": [
    "# check for missing values\n",
    "team.isnull().sum()"
   ]
  },
  {
   "cell_type": "markdown",
   "metadata": {},
   "source": [
    "##### team_fifa_api_id contains NaN values. I don't need this column to answer my questions, so I will drop this column."
   ]
  },
  {
   "cell_type": "code",
   "execution_count": 21,
   "metadata": {
    "scrolled": true
   },
   "outputs": [
    {
     "data": {
      "text/html": [
       "<div>\n",
       "<style scoped>\n",
       "    .dataframe tbody tr th:only-of-type {\n",
       "        vertical-align: middle;\n",
       "    }\n",
       "\n",
       "    .dataframe tbody tr th {\n",
       "        vertical-align: top;\n",
       "    }\n",
       "\n",
       "    .dataframe thead th {\n",
       "        text-align: right;\n",
       "    }\n",
       "</style>\n",
       "<table border=\"1\" class=\"dataframe\">\n",
       "  <thead>\n",
       "    <tr style=\"text-align: right;\">\n",
       "      <th></th>\n",
       "      <th>id</th>\n",
       "      <th>player_api_id</th>\n",
       "      <th>player_name</th>\n",
       "      <th>player_fifa_api_id</th>\n",
       "      <th>birthday</th>\n",
       "      <th>height</th>\n",
       "      <th>weight</th>\n",
       "    </tr>\n",
       "  </thead>\n",
       "  <tbody>\n",
       "    <tr>\n",
       "      <th>0</th>\n",
       "      <td>1</td>\n",
       "      <td>505942</td>\n",
       "      <td>Aaron Appindangoye</td>\n",
       "      <td>218353</td>\n",
       "      <td>1992-02-29 00:00:00</td>\n",
       "      <td>182.88</td>\n",
       "      <td>187</td>\n",
       "    </tr>\n",
       "    <tr>\n",
       "      <th>1</th>\n",
       "      <td>2</td>\n",
       "      <td>155782</td>\n",
       "      <td>Aaron Cresswell</td>\n",
       "      <td>189615</td>\n",
       "      <td>1989-12-15 00:00:00</td>\n",
       "      <td>170.18</td>\n",
       "      <td>146</td>\n",
       "    </tr>\n",
       "    <tr>\n",
       "      <th>2</th>\n",
       "      <td>3</td>\n",
       "      <td>162549</td>\n",
       "      <td>Aaron Doran</td>\n",
       "      <td>186170</td>\n",
       "      <td>1991-05-13 00:00:00</td>\n",
       "      <td>170.18</td>\n",
       "      <td>163</td>\n",
       "    </tr>\n",
       "    <tr>\n",
       "      <th>3</th>\n",
       "      <td>4</td>\n",
       "      <td>30572</td>\n",
       "      <td>Aaron Galindo</td>\n",
       "      <td>140161</td>\n",
       "      <td>1982-05-08 00:00:00</td>\n",
       "      <td>182.88</td>\n",
       "      <td>198</td>\n",
       "    </tr>\n",
       "    <tr>\n",
       "      <th>4</th>\n",
       "      <td>5</td>\n",
       "      <td>23780</td>\n",
       "      <td>Aaron Hughes</td>\n",
       "      <td>17725</td>\n",
       "      <td>1979-11-08 00:00:00</td>\n",
       "      <td>182.88</td>\n",
       "      <td>154</td>\n",
       "    </tr>\n",
       "  </tbody>\n",
       "</table>\n",
       "</div>"
      ],
      "text/plain": [
       "   id  player_api_id         player_name  player_fifa_api_id  \\\n",
       "0   1         505942  Aaron Appindangoye              218353   \n",
       "1   2         155782     Aaron Cresswell              189615   \n",
       "2   3         162549         Aaron Doran              186170   \n",
       "3   4          30572       Aaron Galindo              140161   \n",
       "4   5          23780        Aaron Hughes               17725   \n",
       "\n",
       "              birthday  height  weight  \n",
       "0  1992-02-29 00:00:00  182.88     187  \n",
       "1  1989-12-15 00:00:00  170.18     146  \n",
       "2  1991-05-13 00:00:00  170.18     163  \n",
       "3  1982-05-08 00:00:00  182.88     198  \n",
       "4  1979-11-08 00:00:00  182.88     154  "
      ]
     },
     "execution_count": 21,
     "metadata": {},
     "output_type": "execute_result"
    }
   ],
   "source": [
    "#view first few rows of the table player\n",
    "player.head()"
   ]
  },
  {
   "cell_type": "code",
   "execution_count": 22,
   "metadata": {},
   "outputs": [
    {
     "data": {
      "text/plain": [
       "0"
      ]
     },
     "execution_count": 22,
     "metadata": {},
     "output_type": "execute_result"
    }
   ],
   "source": [
    "# no duplicates\n",
    "player.duplicated().sum()"
   ]
  },
  {
   "cell_type": "code",
   "execution_count": 23,
   "metadata": {
    "scrolled": true
   },
   "outputs": [
    {
     "data": {
      "text/plain": [
       "id                    0\n",
       "player_api_id         0\n",
       "player_name           0\n",
       "player_fifa_api_id    0\n",
       "birthday              0\n",
       "height                0\n",
       "weight                0\n",
       "dtype: int64"
      ]
     },
     "execution_count": 23,
     "metadata": {},
     "output_type": "execute_result"
    }
   ],
   "source": [
    "# no missing values\n",
    "player.isnull().sum()"
   ]
  },
  {
   "cell_type": "markdown",
   "metadata": {},
   "source": [
    "##### player table is clean"
   ]
  },
  {
   "cell_type": "markdown",
   "metadata": {},
   "source": [
    "### Data Cleaning\n",
    ">After initial inspection, I will clean the tables that will be used to answer my questions"
   ]
  },
  {
   "cell_type": "markdown",
   "metadata": {},
   "source": [
    "#### team_attributes: drop the column 'buildUpPlayDribbling'"
   ]
  },
  {
   "cell_type": "code",
   "execution_count": 24,
   "metadata": {},
   "outputs": [],
   "source": [
    "team_attributes.drop(columns='buildUpPlayDribbling', inplace=True)"
   ]
  },
  {
   "cell_type": "markdown",
   "metadata": {},
   "source": [
    "#### player_attributes: drop the rows containing NaN, and merge with player table"
   ]
  },
  {
   "cell_type": "code",
   "execution_count": 25,
   "metadata": {
    "scrolled": true
   },
   "outputs": [],
   "source": [
    "#drop rows containing NaN\n",
    "player_attributes.dropna(inplace=True)"
   ]
  },
  {
   "cell_type": "code",
   "execution_count": 26,
   "metadata": {},
   "outputs": [],
   "source": [
    "#merge player and player_attributes\n",
    "player_data=pd.merge(player_attributes, player, on=['player_api_id', 'player_fifa_api_id'])"
   ]
  },
  {
   "cell_type": "code",
   "execution_count": 27,
   "metadata": {},
   "outputs": [],
   "source": [
    "#change date and birthday to datetime\n",
    "player_data.date=pd.to_datetime(player_data.date)\n",
    "player_data.birthday=pd.to_datetime(player_data.birthday)"
   ]
  },
  {
   "cell_type": "code",
   "execution_count": 28,
   "metadata": {},
   "outputs": [],
   "source": [
    "#calculate player age\n",
    "player_data['age']=(player_data['date']-player_data['birthday']).dt.days/365.25"
   ]
  },
  {
   "cell_type": "markdown",
   "metadata": {},
   "source": [
    "#### team: drop team_fifa_api_id"
   ]
  },
  {
   "cell_type": "code",
   "execution_count": 29,
   "metadata": {},
   "outputs": [],
   "source": [
    "team.drop(columns='team_fifa_api_id', inplace=True)"
   ]
  },
  {
   "cell_type": "markdown",
   "metadata": {},
   "source": [
    "#### match:\n",
    "##### (1) extract only first few columns\n",
    "##### (2) calculate points of each team in each match, \n",
    "##### (3) aggregate team points to points per game of individual year, and save them to a new dataframe team_data\n",
    "##### (4) merge team_attributes to team_data for analysis"
   ]
  },
  {
   "cell_type": "code",
   "execution_count": 30,
   "metadata": {
    "scrolled": true
   },
   "outputs": [],
   "source": [
    "# extract first few columns of match\n",
    "match=match[['id', 'country_id', 'league_id', 'season', 'stage', 'date','match_api_id', 'home_team_api_id', 'away_team_api_id','home_team_goal', 'away_team_goal']]"
   ]
  },
  {
   "cell_type": "code",
   "execution_count": 31,
   "metadata": {},
   "outputs": [
    {
     "data": {
      "text/html": [
       "<div>\n",
       "<style scoped>\n",
       "    .dataframe tbody tr th:only-of-type {\n",
       "        vertical-align: middle;\n",
       "    }\n",
       "\n",
       "    .dataframe tbody tr th {\n",
       "        vertical-align: top;\n",
       "    }\n",
       "\n",
       "    .dataframe thead th {\n",
       "        text-align: right;\n",
       "    }\n",
       "</style>\n",
       "<table border=\"1\" class=\"dataframe\">\n",
       "  <thead>\n",
       "    <tr style=\"text-align: right;\">\n",
       "      <th></th>\n",
       "      <th>id</th>\n",
       "      <th>country_id</th>\n",
       "      <th>league_id</th>\n",
       "      <th>season</th>\n",
       "      <th>stage</th>\n",
       "      <th>date</th>\n",
       "      <th>match_api_id</th>\n",
       "      <th>home_team_api_id</th>\n",
       "      <th>away_team_api_id</th>\n",
       "      <th>home_team_goal</th>\n",
       "      <th>away_team_goal</th>\n",
       "      <th>home_points</th>\n",
       "      <th>away_points</th>\n",
       "    </tr>\n",
       "  </thead>\n",
       "  <tbody>\n",
       "    <tr>\n",
       "      <th>0</th>\n",
       "      <td>1</td>\n",
       "      <td>1</td>\n",
       "      <td>1</td>\n",
       "      <td>2008/2009</td>\n",
       "      <td>1</td>\n",
       "      <td>2008-08-17 00:00:00</td>\n",
       "      <td>492473</td>\n",
       "      <td>9987</td>\n",
       "      <td>9993</td>\n",
       "      <td>1</td>\n",
       "      <td>1</td>\n",
       "      <td>1</td>\n",
       "      <td>1</td>\n",
       "    </tr>\n",
       "    <tr>\n",
       "      <th>1</th>\n",
       "      <td>2</td>\n",
       "      <td>1</td>\n",
       "      <td>1</td>\n",
       "      <td>2008/2009</td>\n",
       "      <td>1</td>\n",
       "      <td>2008-08-16 00:00:00</td>\n",
       "      <td>492474</td>\n",
       "      <td>10000</td>\n",
       "      <td>9994</td>\n",
       "      <td>0</td>\n",
       "      <td>0</td>\n",
       "      <td>1</td>\n",
       "      <td>1</td>\n",
       "    </tr>\n",
       "    <tr>\n",
       "      <th>2</th>\n",
       "      <td>3</td>\n",
       "      <td>1</td>\n",
       "      <td>1</td>\n",
       "      <td>2008/2009</td>\n",
       "      <td>1</td>\n",
       "      <td>2008-08-16 00:00:00</td>\n",
       "      <td>492475</td>\n",
       "      <td>9984</td>\n",
       "      <td>8635</td>\n",
       "      <td>0</td>\n",
       "      <td>3</td>\n",
       "      <td>0</td>\n",
       "      <td>3</td>\n",
       "    </tr>\n",
       "    <tr>\n",
       "      <th>3</th>\n",
       "      <td>4</td>\n",
       "      <td>1</td>\n",
       "      <td>1</td>\n",
       "      <td>2008/2009</td>\n",
       "      <td>1</td>\n",
       "      <td>2008-08-17 00:00:00</td>\n",
       "      <td>492476</td>\n",
       "      <td>9991</td>\n",
       "      <td>9998</td>\n",
       "      <td>5</td>\n",
       "      <td>0</td>\n",
       "      <td>3</td>\n",
       "      <td>0</td>\n",
       "    </tr>\n",
       "    <tr>\n",
       "      <th>4</th>\n",
       "      <td>5</td>\n",
       "      <td>1</td>\n",
       "      <td>1</td>\n",
       "      <td>2008/2009</td>\n",
       "      <td>1</td>\n",
       "      <td>2008-08-16 00:00:00</td>\n",
       "      <td>492477</td>\n",
       "      <td>7947</td>\n",
       "      <td>9985</td>\n",
       "      <td>1</td>\n",
       "      <td>3</td>\n",
       "      <td>0</td>\n",
       "      <td>3</td>\n",
       "    </tr>\n",
       "  </tbody>\n",
       "</table>\n",
       "</div>"
      ],
      "text/plain": [
       "   id  country_id  league_id     season  stage                 date  \\\n",
       "0   1           1          1  2008/2009      1  2008-08-17 00:00:00   \n",
       "1   2           1          1  2008/2009      1  2008-08-16 00:00:00   \n",
       "2   3           1          1  2008/2009      1  2008-08-16 00:00:00   \n",
       "3   4           1          1  2008/2009      1  2008-08-17 00:00:00   \n",
       "4   5           1          1  2008/2009      1  2008-08-16 00:00:00   \n",
       "\n",
       "   match_api_id  home_team_api_id  away_team_api_id  home_team_goal  \\\n",
       "0        492473              9987              9993               1   \n",
       "1        492474             10000              9994               0   \n",
       "2        492475              9984              8635               0   \n",
       "3        492476              9991              9998               5   \n",
       "4        492477              7947              9985               1   \n",
       "\n",
       "   away_team_goal  home_points  away_points  \n",
       "0               1            1            1  \n",
       "1               0            1            1  \n",
       "2               3            0            3  \n",
       "3               0            3            0  \n",
       "4               3            0            3  "
      ]
     },
     "execution_count": 31,
     "metadata": {},
     "output_type": "execute_result"
    }
   ],
   "source": [
    "#add 2 columns that calculates the points of home_team and away_team\n",
    "match['home_points']= (match.home_team_goal > match.away_team_goal)*3 + (match.home_team_goal == match.away_team_goal)*1\n",
    "match['away_points']= (match.home_team_goal < match.away_team_goal)*3 + (match.home_team_goal == match.away_team_goal)*1\n",
    "match.head()"
   ]
  },
  {
   "cell_type": "code",
   "execution_count": 32,
   "metadata": {},
   "outputs": [],
   "source": [
    "#split the match table into home dataframe and away dataframe, then append them into a single dataframe\n",
    "homedf=match[['home_team_api_id', 'date','home_team_goal','home_points']]\n",
    "homedf.columns=['team_api_id', 'date', 'goal','points']\n",
    "awaydf=match[['away_team_api_id', 'date','away_team_goal','away_points']]\n",
    "awaydf.columns=['team_api_id', 'date', 'goal','points']\n",
    "df1=pd.DataFrame(homedf.append(awaydf))"
   ]
  },
  {
   "cell_type": "code",
   "execution_count": 33,
   "metadata": {},
   "outputs": [],
   "source": [
    "#create a year column\n",
    "df1['date']=pd.to_datetime(df1['date'])\n",
    "df1['year']=df1['date'].dt.year"
   ]
  },
  {
   "cell_type": "code",
   "execution_count": 34,
   "metadata": {},
   "outputs": [],
   "source": [
    "#create a new dataframe team_data, that aggregates points into point per game for each year\n",
    "team_data=pd.DataFrame()\n",
    "team_data['total_goals']=df1.groupby(['team_api_id','year'])['goal'].sum()\n",
    "team_data['num_of_games']=df1.groupby(['team_api_id','year']).goal.count()\n",
    "team_data['total_points']=df1.groupby(['team_api_id','year']).points.sum()\n",
    "team_data['points_per_game']=team_data['total_points'] / team_data['num_of_games']\n",
    "team_data.reset_index(inplace=True)"
   ]
  },
  {
   "cell_type": "code",
   "execution_count": 35,
   "metadata": {},
   "outputs": [],
   "source": [
    "#merge with the table team to include team long name, and drop other unnecessary columns\n",
    "team=pd.read_sql_query(\"SELECT * FROM team;\", conn)\n",
    "team_data=pd.merge(team_data, team, on='team_api_id')\n",
    "team_data.drop(columns=['id', 'team_fifa_api_id','team_short_name'], inplace=True)"
   ]
  },
  {
   "cell_type": "markdown",
   "metadata": {},
   "source": [
    "##### Only consider the teams that have been playing every year since 2010, and played at least 5 years since 2010. I will drop all the rows before 2010. "
   ]
  },
  {
   "cell_type": "code",
   "execution_count": 36,
   "metadata": {
    "scrolled": true
   },
   "outputs": [
    {
     "data": {
      "text/html": [
       "<div>\n",
       "<style scoped>\n",
       "    .dataframe tbody tr th:only-of-type {\n",
       "        vertical-align: middle;\n",
       "    }\n",
       "\n",
       "    .dataframe tbody tr th {\n",
       "        vertical-align: top;\n",
       "    }\n",
       "\n",
       "    .dataframe thead th {\n",
       "        text-align: right;\n",
       "    }\n",
       "</style>\n",
       "<table border=\"1\" class=\"dataframe\">\n",
       "  <thead>\n",
       "    <tr style=\"text-align: right;\">\n",
       "      <th></th>\n",
       "      <th>team_api_id</th>\n",
       "      <th>year</th>\n",
       "      <th>total_goals</th>\n",
       "      <th>num_of_games</th>\n",
       "      <th>total_points</th>\n",
       "      <th>points_per_game</th>\n",
       "      <th>team_long_name</th>\n",
       "    </tr>\n",
       "  </thead>\n",
       "  <tbody>\n",
       "    <tr>\n",
       "      <th>2</th>\n",
       "      <td>1601</td>\n",
       "      <td>2010</td>\n",
       "      <td>29</td>\n",
       "      <td>28</td>\n",
       "      <td>38</td>\n",
       "      <td>1.357143</td>\n",
       "      <td>Ruch Chorzów</td>\n",
       "    </tr>\n",
       "    <tr>\n",
       "      <th>3</th>\n",
       "      <td>1601</td>\n",
       "      <td>2011</td>\n",
       "      <td>43</td>\n",
       "      <td>32</td>\n",
       "      <td>50</td>\n",
       "      <td>1.562500</td>\n",
       "      <td>Ruch Chorzów</td>\n",
       "    </tr>\n",
       "    <tr>\n",
       "      <th>4</th>\n",
       "      <td>1601</td>\n",
       "      <td>2012</td>\n",
       "      <td>31</td>\n",
       "      <td>28</td>\n",
       "      <td>41</td>\n",
       "      <td>1.464286</td>\n",
       "      <td>Ruch Chorzów</td>\n",
       "    </tr>\n",
       "    <tr>\n",
       "      <th>5</th>\n",
       "      <td>1601</td>\n",
       "      <td>2013</td>\n",
       "      <td>49</td>\n",
       "      <td>36</td>\n",
       "      <td>48</td>\n",
       "      <td>1.333333</td>\n",
       "      <td>Ruch Chorzów</td>\n",
       "    </tr>\n",
       "    <tr>\n",
       "      <th>6</th>\n",
       "      <td>1601</td>\n",
       "      <td>2014</td>\n",
       "      <td>33</td>\n",
       "      <td>28</td>\n",
       "      <td>35</td>\n",
       "      <td>1.250000</td>\n",
       "      <td>Ruch Chorzów</td>\n",
       "    </tr>\n",
       "  </tbody>\n",
       "</table>\n",
       "</div>"
      ],
      "text/plain": [
       "   team_api_id  year  total_goals  num_of_games  total_points  \\\n",
       "2         1601  2010           29            28            38   \n",
       "3         1601  2011           43            32            50   \n",
       "4         1601  2012           31            28            41   \n",
       "5         1601  2013           49            36            48   \n",
       "6         1601  2014           33            28            35   \n",
       "\n",
       "   points_per_game team_long_name  \n",
       "2         1.357143   Ruch Chorzów  \n",
       "3         1.562500   Ruch Chorzów  \n",
       "4         1.464286   Ruch Chorzów  \n",
       "5         1.333333   Ruch Chorzów  \n",
       "6         1.250000   Ruch Chorzów  "
      ]
     },
     "execution_count": 36,
     "metadata": {},
     "output_type": "execute_result"
    }
   ],
   "source": [
    "#drop the rows where the year is before 2010\n",
    "team_data=team_data[team_data.year>2009]\n",
    "team_data.head()"
   ]
  },
  {
   "cell_type": "code",
   "execution_count": 37,
   "metadata": {},
   "outputs": [
    {
     "data": {
      "text/html": [
       "<div>\n",
       "<style scoped>\n",
       "    .dataframe tbody tr th:only-of-type {\n",
       "        vertical-align: middle;\n",
       "    }\n",
       "\n",
       "    .dataframe tbody tr th {\n",
       "        vertical-align: top;\n",
       "    }\n",
       "\n",
       "    .dataframe thead th {\n",
       "        text-align: right;\n",
       "    }\n",
       "</style>\n",
       "<table border=\"1\" class=\"dataframe\">\n",
       "  <thead>\n",
       "    <tr style=\"text-align: right;\">\n",
       "      <th></th>\n",
       "      <th>team_api_id</th>\n",
       "      <th>num_years</th>\n",
       "    </tr>\n",
       "  </thead>\n",
       "  <tbody>\n",
       "    <tr>\n",
       "      <th>0</th>\n",
       "      <td>1601</td>\n",
       "      <td>7</td>\n",
       "    </tr>\n",
       "    <tr>\n",
       "      <th>1</th>\n",
       "      <td>1773</td>\n",
       "      <td>5</td>\n",
       "    </tr>\n",
       "    <tr>\n",
       "      <th>2</th>\n",
       "      <td>1957</td>\n",
       "      <td>7</td>\n",
       "    </tr>\n",
       "    <tr>\n",
       "      <th>3</th>\n",
       "      <td>2033</td>\n",
       "      <td>5</td>\n",
       "    </tr>\n",
       "    <tr>\n",
       "      <th>4</th>\n",
       "      <td>2182</td>\n",
       "      <td>7</td>\n",
       "    </tr>\n",
       "  </tbody>\n",
       "</table>\n",
       "</div>"
      ],
      "text/plain": [
       "   team_api_id  num_years\n",
       "0         1601          7\n",
       "1         1773          5\n",
       "2         1957          7\n",
       "3         2033          5\n",
       "4         2182          7"
      ]
     },
     "execution_count": 37,
     "metadata": {},
     "output_type": "execute_result"
    }
   ],
   "source": [
    "#create a dataframe that counts how many year each team played\n",
    "num_years=team_data.groupby('team_api_id').year.count()\n",
    "num_years=pd.DataFrame(num_years)\n",
    "num_years.columns=['num_years']\n",
    "num_years.reset_index(inplace=True)\n",
    "num_years.head()"
   ]
  },
  {
   "cell_type": "code",
   "execution_count": 38,
   "metadata": {},
   "outputs": [],
   "source": [
    "#merge the team_per and num_year dataframes\n",
    "team_data=pd.merge(team_data, num_years, on='team_api_id')"
   ]
  },
  {
   "cell_type": "code",
   "execution_count": 39,
   "metadata": {},
   "outputs": [],
   "source": [
    "#filter the dataframe to select only teams who has played at least 5 years \n",
    "team_data=team_data.query('num_years>4')"
   ]
  },
  {
   "cell_type": "markdown",
   "metadata": {},
   "source": [
    "##### At this point, I completed data wrangling and am ready to explore the data to answer my questions."
   ]
  },
  {
   "cell_type": "markdown",
   "metadata": {},
   "source": [
    "<a id='eda'></a>\n",
    "## Exploratory Data Analysis\n",
    "\n",
    "### Research Question 1: Is there a home game advantage?"
   ]
  },
  {
   "cell_type": "markdown",
   "metadata": {},
   "source": [
    "#### To answer this question, I will calculate the percentage of home team win, lose and draw, from the table match. If a home advantage does exist, I will find that the chance a home team wins is larger than home team loses."
   ]
  },
  {
   "cell_type": "markdown",
   "metadata": {},
   "source": [
    "#### Calculate home team chances of win, lose and draw"
   ]
  },
  {
   "cell_type": "code",
   "execution_count": 40,
   "metadata": {},
   "outputs": [],
   "source": [
    "#calculate the percentage of home team win, lose and draw, and save them to a list\n",
    "home_results=[]\n",
    "home_results.append(sum((match.home_points==3)))\n",
    "home_results.append((match.home_points==0).sum())\n",
    "home_results.append((match.home_points==1).sum())\n",
    "home_results=home_results/sum(home_results)\n",
    "home_results=np.array(home_results)"
   ]
  },
  {
   "cell_type": "markdown",
   "metadata": {},
   "source": [
    "#### plot a bar diagram to display differences between win, lose and draw"
   ]
  },
  {
   "cell_type": "code",
   "execution_count": 41,
   "metadata": {
    "scrolled": false
   },
   "outputs": [
    {
     "data": {
      "image/png": "[encoded data removed]",
      "text/plain": [
       "<Figure size 432x288 with 1 Axes>"
      ]
     },
     "metadata": {},
     "output_type": "display_data"
    }
   ],
   "source": [
    "# A bar diagram is the most straightforward visualization for the differences between win, lose and draw chances.\n",
    "xlabel=['win', 'lose','draw']\n",
    "plt.bar(xlabel,home_results);\n",
    "plt.ylabel('percentage')\n",
    "plt.title('Home team result');"
   ]
  },
  {
   "cell_type": "markdown",
   "metadata": {},
   "source": [
    "##### The percentage that a home team wins the game is indeed much larger than that of lose or draw. \n",
    "\n",
    "##### However, these percentages are only results from available sample. To draw a statistically more meaningful conclusion, I need to perform a hypothesis test based on the sample. \n",
    "Null=there is no home game advantage; Alternative=there is home game advantage.\n",
    "\n",
    "To make things simpler, I consider there are only two outcomes of a game, home_team win or lose. If there is no home_team advantage, the percentage that a home_team wins the game is 0.5. I create a sample where the game result is not draw, and 0 stands for home_team lose, and 1 for home_team win. "
   ]
  },
  {
   "cell_type": "markdown",
   "metadata": {},
   "source": [
    "#### Below is the hypothesis test"
   ]
  },
  {
   "cell_type": "code",
   "execution_count": 42,
   "metadata": {},
   "outputs": [
    {
     "data": {
      "text/plain": [
       "19383"
      ]
     },
     "execution_count": 42,
     "metadata": {},
     "output_type": "execute_result"
    }
   ],
   "source": [
    "# extract my sample from match table, where the game result is home win or home lose\n",
    "hypotest_df=match.query('home_points!=1')['home_points']==3\n",
    "hypotest_df.count()"
   ]
  },
  {
   "cell_type": "code",
   "execution_count": 43,
   "metadata": {},
   "outputs": [
    {
     "data": {
      "text/plain": [
       "(0.6147656038796884, 0.0035154054595979644)"
      ]
     },
     "execution_count": 43,
     "metadata": {},
     "output_type": "execute_result"
    }
   ],
   "source": [
    "# bootstrap my sample 10000 times\n",
    "boot_means=[]\n",
    "for _ in range(10000):\n",
    "    boot_sample=hypotest_df.sample(hypotest_df.count(), replace=True)\n",
    "    boot_means.append(boot_sample.mean())\n",
    "boot_means=np.array(boot_means)\n",
    "sample_mean=boot_means.mean()\n",
    "sample_std=boot_means.std()\n",
    "sample_mean, sample_std"
   ]
  },
  {
   "cell_type": "markdown",
   "metadata": {},
   "source": [
    "with the std from boot_means, I can calculate the p value"
   ]
  },
  {
   "cell_type": "code",
   "execution_count": 44,
   "metadata": {},
   "outputs": [
    {
     "data": {
      "text/plain": [
       "0.0"
      ]
     },
     "execution_count": 44,
     "metadata": {},
     "output_type": "execute_result"
    }
   ],
   "source": [
    "Null_val=np.random.normal(0.5, sample_std, hypotest_df.count())\n",
    "lowbound=0.5-(sample_mean-0.5)\n",
    "p=(Null_val>sample_mean).mean() + (Null_val < lowbound).mean()\n",
    "p"
   ]
  },
  {
   "cell_type": "markdown",
   "metadata": {},
   "source": [
    "##### p value is very small. Therefore I reject the null. I have statistically significant evidence that home team does have advantage."
   ]
  },
  {
   "cell_type": "markdown",
   "metadata": {},
   "source": [
    "### Answer to question 1: \n",
    "#### Yes there is a home game advantage. "
   ]
  },
  {
   "cell_type": "markdown",
   "metadata": {},
   "source": [
    "### Research Question 2: Which team improved most over the year?"
   ]
  },
  {
   "cell_type": "markdown",
   "metadata": {},
   "source": [
    "#### a slope of point_per_game vs. year will be the best quantity to evaluate team improvements. So below I will calculate the slope. I will also create diagrams for visualization of the improvement."
   ]
  },
  {
   "cell_type": "markdown",
   "metadata": {},
   "source": [
    "#### calculate slope of points_per_game vs. year"
   ]
  },
  {
   "cell_type": "code",
   "execution_count": 45,
   "metadata": {
    "scrolled": false
   },
   "outputs": [
    {
     "data": {
      "text/plain": [
       "team_long_name\n",
       "Southampton            0.231579\n",
       "Dundee FC              0.175278\n",
       "Juventus               0.174406\n",
       "Paris Saint-Germain    0.171992\n",
       "Sporting CP            0.159250\n",
       "Aberdeen               0.158783\n",
       "RC Celta de Vigo       0.158694\n",
       "Atlético Madrid        0.151243\n",
       "RKC Waalwijk           0.128676\n",
       "West Ham United        0.120718\n",
       "dtype: float64"
      ]
     },
     "execution_count": 45,
     "metadata": {},
     "output_type": "execute_result"
    }
   ],
   "source": [
    "# calculate the slope of points_per_game vs. year, and save it to team_improvement \n",
    "team_improvement = team_data.groupby('team_long_name').apply(lambda v: stats.linregress(v.year,v.points_per_game)[0])\n",
    "team_improvement.sort_values(axis=0, ascending=False).head(10)"
   ]
  },
  {
   "cell_type": "markdown",
   "metadata": {},
   "source": [
    "##### The top 5 most improved teams are Southampton, Dendee FC, Juventus, Paris Saint-Germain and Sporting CP."
   ]
  },
  {
   "cell_type": "code",
   "execution_count": 46,
   "metadata": {
    "scrolled": true
   },
   "outputs": [
    {
     "data": {
      "image/png": "[encoded data removed]",
      "text/plain": [
       "<Figure size 432x288 with 1 Axes>"
      ]
     },
     "metadata": {},
     "output_type": "display_data"
    }
   ],
   "source": [
    "#to check if these values of improvements are indeed at the upper end, I plot a histogram of team imporvements\n",
    "team_improvement.hist(bins=50)\n",
    "plt.xlabel('improvement points/game/year')\n",
    "plt.ylabel('number of teams')\n",
    "plt.title('team improvements');"
   ]
  },
  {
   "cell_type": "markdown",
   "metadata": {},
   "source": [
    "##### Slope is rather an abstract concept, so below I plot points_per_game vs. year for direct visualization of the increasing of points_per_game along with year."
   ]
  },
  {
   "cell_type": "code",
   "execution_count": 47,
   "metadata": {
    "scrolled": true
   },
   "outputs": [
    {
     "data": {
      "image/png": "[encoded data removed]",
      "text/plain": [
       "<Figure size 432x288 with 1 Axes>"
      ]
     },
     "metadata": {},
     "output_type": "display_data"
    }
   ],
   "source": [
    "#plot the points_per_game vs year to view improvement of the top 3 teams\n",
    "x1=team_data.query('team_long_name==\"Southampton\"')['year']\n",
    "y1=team_data.query('team_long_name==\"Southampton\"')['points_per_game']\n",
    "x2=team_data.query('team_long_name==\"Dundee FC\"')['year']\n",
    "y2=team_data.query('team_long_name==\"Dundee FC\"')['points_per_game']\n",
    "x3=team_data.query('team_long_name==\"Juventus\"')['year']\n",
    "y3=team_data.query('team_long_name==\"Juventus\"')['points_per_game']\n",
    "plt.plot(x1,y1, label='Southampton')\n",
    "plt.plot(x2,y2, label=\"Dundee FC\")\n",
    "plt.plot(x3,y3, label=\"Juventus\")\n",
    "plt.legend()\n",
    "plt.xlabel('Year')\n",
    "plt.ylabel('Points_per_Game')\n",
    "plt.title(\"Southampton_Improvement_from_2010_to_2016\");"
   ]
  },
  {
   "cell_type": "markdown",
   "metadata": {},
   "source": [
    "### Answer to question 2: \n",
    "#### The top 5 most improved teams are Southampton, Dendee FC, Juventus, Paris Saint-Germain and Sporting CP."
   ]
  },
  {
   "cell_type": "markdown",
   "metadata": {},
   "source": [
    "### Research Question 3: Which team attributes lead to most victories?"
   ]
  },
  {
   "cell_type": "markdown",
   "metadata": {},
   "source": [
    "#### To answer this question, I need to merge team_attributes with team_data. Points_per_game is still the best measure of victories. \n",
    "#### Then I will perform Pearson correlation and t-test to find out the statistical significance. "
   ]
  },
  {
   "cell_type": "code",
   "execution_count": 48,
   "metadata": {},
   "outputs": [],
   "source": [
    "#create a year column in team_attributes\n",
    "team_attributes['year']=pd.to_datetime(team_attributes['date']).dt.year"
   ]
  },
  {
   "cell_type": "code",
   "execution_count": 49,
   "metadata": {},
   "outputs": [],
   "source": [
    "#merge table team_data and team_attributes on team_api_id and year\n",
    "team_data=pd.merge(team_data, team_attributes, on=['team_api_id', 'year'])"
   ]
  },
  {
   "cell_type": "code",
   "execution_count": 50,
   "metadata": {
    "scrolled": true
   },
   "outputs": [
    {
     "name": "stdout",
     "output_type": "stream",
     "text": [
      "<class 'pandas.core.frame.DataFrame'>\n",
      "Int64Index: 981 entries, 0 to 980\n",
      "Data columns (total 31 columns):\n",
      "team_api_id                       981 non-null int64\n",
      "year                              981 non-null int64\n",
      "total_goals                       981 non-null int64\n",
      "num_of_games                      981 non-null int64\n",
      "total_points                      981 non-null int32\n",
      "points_per_game                   981 non-null float64\n",
      "team_long_name                    981 non-null object\n",
      "num_years                         981 non-null int64\n",
      "id                                981 non-null int64\n",
      "team_fifa_api_id                  981 non-null int64\n",
      "date                              981 non-null object\n",
      "buildUpPlaySpeed                  981 non-null int64\n",
      "buildUpPlaySpeedClass             981 non-null object\n",
      "buildUpPlayDribblingClass         981 non-null object\n",
      "buildUpPlayPassing                981 non-null int64\n",
      "buildUpPlayPassingClass           981 non-null object\n",
      "buildUpPlayPositioningClass       981 non-null object\n",
      "chanceCreationPassing             981 non-null int64\n",
      "chanceCreationPassingClass        981 non-null object\n",
      "chanceCreationCrossing            981 non-null int64\n",
      "chanceCreationCrossingClass       981 non-null object\n",
      "chanceCreationShooting            981 non-null int64\n",
      "chanceCreationShootingClass       981 non-null object\n",
      "chanceCreationPositioningClass    981 non-null object\n",
      "defencePressure                   981 non-null int64\n",
      "defencePressureClass              981 non-null object\n",
      "defenceAggression                 981 non-null int64\n",
      "defenceAggressionClass            981 non-null object\n",
      "defenceTeamWidth                  981 non-null int64\n",
      "defenceTeamWidthClass             981 non-null object\n",
      "defenceDefenderLineClass          981 non-null object\n",
      "dtypes: float64(1), int32(1), int64(15), object(14)\n",
      "memory usage: 241.4+ KB\n"
     ]
    }
   ],
   "source": [
    "#view properties of columns\n",
    "team_data.info()"
   ]
  },
  {
   "cell_type": "markdown",
   "metadata": {},
   "source": [
    "#### There are quantitative team attributes and categorical team attributes. I will first look at quantitative attributes."
   ]
  },
  {
   "cell_type": "code",
   "execution_count": 51,
   "metadata": {},
   "outputs": [],
   "source": [
    "#create a dataframe that contains only quantitative attributes\n",
    "num_df=team_data[['team_api_id', 'team_long_name', 'year', 'points_per_game','buildUpPlaySpeed','buildUpPlayPassing','chanceCreationPassing','chanceCreationCrossing','chanceCreationShooting','defencePressure','defenceAggression','defenceTeamWidth' ]]"
   ]
  },
  {
   "cell_type": "markdown",
   "metadata": {},
   "source": [
    "#### To quickly identify team_attributes that are most strongly correlated with points_per_game, I first create a correlation coefficients matrix between columns"
   ]
  },
  {
   "cell_type": "code",
   "execution_count": 52,
   "metadata": {
    "scrolled": true
   },
   "outputs": [
    {
     "data": {
      "text/html": [
       "<div>\n",
       "<style scoped>\n",
       "    .dataframe tbody tr th:only-of-type {\n",
       "        vertical-align: middle;\n",
       "    }\n",
       "\n",
       "    .dataframe tbody tr th {\n",
       "        vertical-align: top;\n",
       "    }\n",
       "\n",
       "    .dataframe thead th {\n",
       "        text-align: right;\n",
       "    }\n",
       "</style>\n",
       "<table border=\"1\" class=\"dataframe\">\n",
       "  <thead>\n",
       "    <tr style=\"text-align: right;\">\n",
       "      <th></th>\n",
       "      <th>team_api_id</th>\n",
       "      <th>year</th>\n",
       "      <th>points_per_game</th>\n",
       "      <th>buildUpPlaySpeed</th>\n",
       "      <th>buildUpPlayPassing</th>\n",
       "      <th>chanceCreationPassing</th>\n",
       "      <th>chanceCreationCrossing</th>\n",
       "      <th>chanceCreationShooting</th>\n",
       "      <th>defencePressure</th>\n",
       "      <th>defenceAggression</th>\n",
       "      <th>defenceTeamWidth</th>\n",
       "    </tr>\n",
       "  </thead>\n",
       "  <tbody>\n",
       "    <tr>\n",
       "      <th>team_api_id</th>\n",
       "      <td>1.000000</td>\n",
       "      <td>-0.007839</td>\n",
       "      <td>0.046772</td>\n",
       "      <td>0.052132</td>\n",
       "      <td>-0.003022</td>\n",
       "      <td>-0.042379</td>\n",
       "      <td>0.063503</td>\n",
       "      <td>-0.085082</td>\n",
       "      <td>-0.053151</td>\n",
       "      <td>0.014088</td>\n",
       "      <td>-0.058302</td>\n",
       "    </tr>\n",
       "    <tr>\n",
       "      <th>year</th>\n",
       "      <td>-0.007839</td>\n",
       "      <td>1.000000</td>\n",
       "      <td>-0.021977</td>\n",
       "      <td>0.074948</td>\n",
       "      <td>0.048514</td>\n",
       "      <td>0.024844</td>\n",
       "      <td>-0.021954</td>\n",
       "      <td>-0.333363</td>\n",
       "      <td>-0.099163</td>\n",
       "      <td>-0.080795</td>\n",
       "      <td>-0.042233</td>\n",
       "    </tr>\n",
       "    <tr>\n",
       "      <th>points_per_game</th>\n",
       "      <td>0.046772</td>\n",
       "      <td>-0.021977</td>\n",
       "      <td>1.000000</td>\n",
       "      <td>-0.008219</td>\n",
       "      <td>-0.159268</td>\n",
       "      <td>0.067678</td>\n",
       "      <td>0.065759</td>\n",
       "      <td>0.109798</td>\n",
       "      <td>0.219724</td>\n",
       "      <td>0.116018</td>\n",
       "      <td>0.089346</td>\n",
       "    </tr>\n",
       "    <tr>\n",
       "      <th>buildUpPlaySpeed</th>\n",
       "      <td>0.052132</td>\n",
       "      <td>0.074948</td>\n",
       "      <td>-0.008219</td>\n",
       "      <td>1.000000</td>\n",
       "      <td>0.395065</td>\n",
       "      <td>0.289608</td>\n",
       "      <td>0.162214</td>\n",
       "      <td>0.087372</td>\n",
       "      <td>0.007574</td>\n",
       "      <td>0.131372</td>\n",
       "      <td>0.073289</td>\n",
       "    </tr>\n",
       "    <tr>\n",
       "      <th>buildUpPlayPassing</th>\n",
       "      <td>-0.003022</td>\n",
       "      <td>0.048514</td>\n",
       "      <td>-0.159268</td>\n",
       "      <td>0.395065</td>\n",
       "      <td>1.000000</td>\n",
       "      <td>0.163973</td>\n",
       "      <td>0.202657</td>\n",
       "      <td>-0.062444</td>\n",
       "      <td>-0.107224</td>\n",
       "      <td>0.083848</td>\n",
       "      <td>0.039079</td>\n",
       "    </tr>\n",
       "    <tr>\n",
       "      <th>chanceCreationPassing</th>\n",
       "      <td>-0.042379</td>\n",
       "      <td>0.024844</td>\n",
       "      <td>0.067678</td>\n",
       "      <td>0.289608</td>\n",
       "      <td>0.163973</td>\n",
       "      <td>1.000000</td>\n",
       "      <td>0.204306</td>\n",
       "      <td>0.154151</td>\n",
       "      <td>0.154627</td>\n",
       "      <td>0.122657</td>\n",
       "      <td>0.109145</td>\n",
       "    </tr>\n",
       "    <tr>\n",
       "      <th>chanceCreationCrossing</th>\n",
       "      <td>0.063503</td>\n",
       "      <td>-0.021954</td>\n",
       "      <td>0.065759</td>\n",
       "      <td>0.162214</td>\n",
       "      <td>0.202657</td>\n",
       "      <td>0.204306</td>\n",
       "      <td>1.000000</td>\n",
       "      <td>-0.017948</td>\n",
       "      <td>0.027785</td>\n",
       "      <td>0.065589</td>\n",
       "      <td>0.096794</td>\n",
       "    </tr>\n",
       "    <tr>\n",
       "      <th>chanceCreationShooting</th>\n",
       "      <td>-0.085082</td>\n",
       "      <td>-0.333363</td>\n",
       "      <td>0.109798</td>\n",
       "      <td>0.087372</td>\n",
       "      <td>-0.062444</td>\n",
       "      <td>0.154151</td>\n",
       "      <td>-0.017948</td>\n",
       "      <td>1.000000</td>\n",
       "      <td>0.190772</td>\n",
       "      <td>0.116604</td>\n",
       "      <td>0.132674</td>\n",
       "    </tr>\n",
       "    <tr>\n",
       "      <th>defencePressure</th>\n",
       "      <td>-0.053151</td>\n",
       "      <td>-0.099163</td>\n",
       "      <td>0.219724</td>\n",
       "      <td>0.007574</td>\n",
       "      <td>-0.107224</td>\n",
       "      <td>0.154627</td>\n",
       "      <td>0.027785</td>\n",
       "      <td>0.190772</td>\n",
       "      <td>1.000000</td>\n",
       "      <td>0.428100</td>\n",
       "      <td>0.481688</td>\n",
       "    </tr>\n",
       "    <tr>\n",
       "      <th>defenceAggression</th>\n",
       "      <td>0.014088</td>\n",
       "      <td>-0.080795</td>\n",
       "      <td>0.116018</td>\n",
       "      <td>0.131372</td>\n",
       "      <td>0.083848</td>\n",
       "      <td>0.122657</td>\n",
       "      <td>0.065589</td>\n",
       "      <td>0.116604</td>\n",
       "      <td>0.428100</td>\n",
       "      <td>1.000000</td>\n",
       "      <td>0.227369</td>\n",
       "    </tr>\n",
       "    <tr>\n",
       "      <th>defenceTeamWidth</th>\n",
       "      <td>-0.058302</td>\n",
       "      <td>-0.042233</td>\n",
       "      <td>0.089346</td>\n",
       "      <td>0.073289</td>\n",
       "      <td>0.039079</td>\n",
       "      <td>0.109145</td>\n",
       "      <td>0.096794</td>\n",
       "      <td>0.132674</td>\n",
       "      <td>0.481688</td>\n",
       "      <td>0.227369</td>\n",
       "      <td>1.000000</td>\n",
       "    </tr>\n",
       "  </tbody>\n",
       "</table>\n",
       "</div>"
      ],
      "text/plain": [
       "                        team_api_id      year  points_per_game  \\\n",
       "team_api_id                1.000000 -0.007839         0.046772   \n",
       "year                      -0.007839  1.000000        -0.021977   \n",
       "points_per_game            0.046772 -0.021977         1.000000   \n",
       "buildUpPlaySpeed           0.052132  0.074948        -0.008219   \n",
       "buildUpPlayPassing        -0.003022  0.048514        -0.159268   \n",
       "chanceCreationPassing     -0.042379  0.024844         0.067678   \n",
       "chanceCreationCrossing     0.063503 -0.021954         0.065759   \n",
       "chanceCreationShooting    -0.085082 -0.333363         0.109798   \n",
       "defencePressure           -0.053151 -0.099163         0.219724   \n",
       "defenceAggression          0.014088 -0.080795         0.116018   \n",
       "defenceTeamWidth          -0.058302 -0.042233         0.089346   \n",
       "\n",
       "                        buildUpPlaySpeed  buildUpPlayPassing  \\\n",
       "team_api_id                     0.052132           -0.003022   \n",
       "year                            0.074948            0.048514   \n",
       "points_per_game                -0.008219           -0.159268   \n",
       "buildUpPlaySpeed                1.000000            0.395065   \n",
       "buildUpPlayPassing              0.395065            1.000000   \n",
       "chanceCreationPassing           0.289608            0.163973   \n",
       "chanceCreationCrossing          0.162214            0.202657   \n",
       "chanceCreationShooting          0.087372           -0.062444   \n",
       "defencePressure                 0.007574           -0.107224   \n",
       "defenceAggression               0.131372            0.083848   \n",
       "defenceTeamWidth                0.073289            0.039079   \n",
       "\n",
       "                        chanceCreationPassing  chanceCreationCrossing  \\\n",
       "team_api_id                         -0.042379                0.063503   \n",
       "year                                 0.024844               -0.021954   \n",
       "points_per_game                      0.067678                0.065759   \n",
       "buildUpPlaySpeed                     0.289608                0.162214   \n",
       "buildUpPlayPassing                   0.163973                0.202657   \n",
       "chanceCreationPassing                1.000000                0.204306   \n",
       "chanceCreationCrossing               0.204306                1.000000   \n",
       "chanceCreationShooting               0.154151               -0.017948   \n",
       "defencePressure                      0.154627                0.027785   \n",
       "defenceAggression                    0.122657                0.065589   \n",
       "defenceTeamWidth                     0.109145                0.096794   \n",
       "\n",
       "                        chanceCreationShooting  defencePressure  \\\n",
       "team_api_id                          -0.085082        -0.053151   \n",
       "year                                 -0.333363        -0.099163   \n",
       "points_per_game                       0.109798         0.219724   \n",
       "buildUpPlaySpeed                      0.087372         0.007574   \n",
       "buildUpPlayPassing                   -0.062444        -0.107224   \n",
       "chanceCreationPassing                 0.154151         0.154627   \n",
       "chanceCreationCrossing               -0.017948         0.027785   \n",
       "chanceCreationShooting                1.000000         0.190772   \n",
       "defencePressure                       0.190772         1.000000   \n",
       "defenceAggression                     0.116604         0.428100   \n",
       "defenceTeamWidth                      0.132674         0.481688   \n",
       "\n",
       "                        defenceAggression  defenceTeamWidth  \n",
       "team_api_id                      0.014088         -0.058302  \n",
       "year                            -0.080795         -0.042233  \n",
       "points_per_game                  0.116018          0.089346  \n",
       "buildUpPlaySpeed                 0.131372          0.073289  \n",
       "buildUpPlayPassing               0.083848          0.039079  \n",
       "chanceCreationPassing            0.122657          0.109145  \n",
       "chanceCreationCrossing           0.065589          0.096794  \n",
       "chanceCreationShooting           0.116604          0.132674  \n",
       "defencePressure                  0.428100          0.481688  \n",
       "defenceAggression                1.000000          0.227369  \n",
       "defenceTeamWidth                 0.227369          1.000000  "
      ]
     },
     "execution_count": 52,
     "metadata": {},
     "output_type": "execute_result"
    }
   ],
   "source": [
    "#Get a first overall glance of the correlation between quantitative columns.\n",
    "num_df.corr()"
   ]
  },
  {
   "cell_type": "markdown",
   "metadata": {},
   "source": [
    "##### The top 3 attributes that are best correlated with points_per_game are denfencePressure (positive), buildUpPlayPassing (negative), and chanceCreationShooting (positive).\n",
    "#### Below I will first visually inspect through scatter plots to find out whether these attributes indeed correlate well with points_per_game"
   ]
  },
  {
   "cell_type": "code",
   "execution_count": 53,
   "metadata": {
    "scrolled": true
   },
   "outputs": [
    {
     "data": {
      "image/png": "[encoded data removed]",
      "text/plain": [
       "<Figure size 432x288 with 1 Axes>"
      ]
     },
     "metadata": {},
     "output_type": "display_data"
    }
   ],
   "source": [
    "#visual inpection of potential correlation between points_per_game and defencePressure\n",
    "plt.scatter(num_df.defencePressure, num_df.points_per_game)\n",
    "plt.title('team defencePressure vs points per game')\n",
    "plt.xlabel('team defencePressure')\n",
    "plt.ylabel('team points per game');"
   ]
  },
  {
   "cell_type": "code",
   "execution_count": 54,
   "metadata": {
    "scrolled": true
   },
   "outputs": [
    {
     "data": {
      "image/png": "[encoded data removed]",
      "text/plain": [
       "<Figure size 432x288 with 1 Axes>"
      ]
     },
     "metadata": {},
     "output_type": "display_data"
    }
   ],
   "source": [
    "#visual inpection of potential correlation between points_per_game and buildUpPlayPassing\n",
    "plt.scatter(num_df.buildUpPlayPassing, num_df.points_per_game)\n",
    "plt.title('team buildUpPlayPassing vs points per game')\n",
    "plt.xlabel('team buildUpPlayPassing')\n",
    "plt.ylabel('team points per game');"
   ]
  },
  {
   "cell_type": "code",
   "execution_count": 55,
   "metadata": {
    "scrolled": false
   },
   "outputs": [
    {
     "data": {
      "image/png": "[encoded data removed]",
      "text/plain": [
       "<Figure size 432x288 with 1 Axes>"
      ]
     },
     "metadata": {},
     "output_type": "display_data"
    }
   ],
   "source": [
    "#visual inpection of potential correlation between points_per_game and chanceCreationShooting\n",
    "plt.scatter(num_df.chanceCreationShooting, num_df.points_per_game)\n",
    "plt.title('team chanceCreationShooting vs points per game')\n",
    "plt.xlabel('team chanceCreationShooting')\n",
    "plt.ylabel('team points per game');"
   ]
  },
  {
   "cell_type": "markdown",
   "metadata": {},
   "source": [
    "##### By looking at the scatter plots, the correlations of denfencePressure and buildUpPlayPassing versus points_per_game are indeed more apparent than chanceCreationShooting versus points per game\n",
    "##### However, none of the three scatter plots shows strong correlation. \n",
    "#### To find out whether these correlations are statistically significant, I perform Pearson correlations on them to find the p values. "
   ]
  },
  {
   "cell_type": "code",
   "execution_count": 56,
   "metadata": {},
   "outputs": [
    {
     "data": {
      "text/plain": [
       "(0.21972425478575514, 3.441622155031018e-12)"
      ]
     },
     "execution_count": 56,
     "metadata": {},
     "output_type": "execute_result"
    }
   ],
   "source": [
    "# Pearson correlation between points_per_game and defencePressure\n",
    "stats.pearsonr(num_df.points_per_game, num_df.defencePressure)"
   ]
  },
  {
   "cell_type": "markdown",
   "metadata": {},
   "source": [
    "coefficient = 0.22, p=0.0"
   ]
  },
  {
   "cell_type": "code",
   "execution_count": 57,
   "metadata": {},
   "outputs": [
    {
     "data": {
      "text/plain": [
       "(-0.15926776671232523, 5.328469531198922e-07)"
      ]
     },
     "execution_count": 57,
     "metadata": {},
     "output_type": "execute_result"
    }
   ],
   "source": [
    "# Pearson correlation between points_per_game and buildUpPlayPassing\n",
    "stats.pearsonr(num_df.points_per_game, num_df.buildUpPlayPassing)"
   ]
  },
  {
   "cell_type": "markdown",
   "metadata": {},
   "source": [
    "coefficient=-0.159, p=0.0"
   ]
  },
  {
   "cell_type": "code",
   "execution_count": 58,
   "metadata": {},
   "outputs": [
    {
     "data": {
      "text/plain": [
       "(0.10979840882197749, 0.0005710103134383585)"
      ]
     },
     "execution_count": 58,
     "metadata": {},
     "output_type": "execute_result"
    }
   ],
   "source": [
    "# Pearson correlation between points_per_game and chanceCreationShooting\n",
    "stats.pearsonr(num_df.points_per_game, num_df.chanceCreationShooting)"
   ]
  },
  {
   "cell_type": "markdown",
   "metadata": {},
   "source": [
    "coefficient= 0.109, p=0.00057"
   ]
  },
  {
   "cell_type": "markdown",
   "metadata": {},
   "source": [
    "##### All the three p-values are very small. So I conclude the correlation is reliable, and the quantitative team attributes lead to most victories are defencePressure, buildUpPlayPassing and chanceCreationShooting."
   ]
  },
  {
   "cell_type": "markdown",
   "metadata": {},
   "source": [
    "#### Next I check the correlation of points_per_game to categorical columns.\n",
    "\n",
    "#### To quickly identify attributes that are more likely to be correlated with points_per_game, I will calculate the mean point_per_game of each categorical value, and pick the columns that show largest differences between mean points_per_game of different categorical values."
   ]
  },
  {
   "cell_type": "markdown",
   "metadata": {},
   "source": [
    "Categorical attributes:\n",
    "buildUpPlaySpeedClass','buildUpPlayDribblingClass','buildUpPlayPassingClass','buildUpPlayPositioningClass',\n",
    "'chanceCreationPassingClass','chanceCreationCrossingClass','chanceCreationShootingClass','chanceCreationPositioningClass',\n",
    "'defencePressureClass','defenceAggressionClass','defenceTeamWidthClass','defenceDefenderLineClass'"
   ]
  },
  {
   "cell_type": "code",
   "execution_count": 59,
   "metadata": {
    "scrolled": true
   },
   "outputs": [
    {
     "data": {
      "text/plain": [
       "Balanced    773\n",
       "Fast        132\n",
       "Slow         76\n",
       "Name: buildUpPlaySpeedClass, dtype: int64"
      ]
     },
     "execution_count": 59,
     "metadata": {},
     "output_type": "execute_result"
    }
   ],
   "source": [
    "# unique value and counts of buildUpPlaySpeedClass\n",
    "team_data['buildUpPlaySpeedClass'].value_counts()"
   ]
  },
  {
   "cell_type": "code",
   "execution_count": 60,
   "metadata": {},
   "outputs": [
    {
     "data": {
      "text/plain": [
       "(1.3965367544315153, 1.4979217091232124, 1.4578486220878784)"
      ]
     },
     "execution_count": 60,
     "metadata": {},
     "output_type": "execute_result"
    }
   ],
   "source": [
    "# mean points_per_game of each category value\n",
    "buildUpPlaySpeedClass_mean_balanced=team_data.query('buildUpPlaySpeedClass==\"Balanced\"')['points_per_game'].mean()\n",
    "buildUpPlaySpeedClass_mean_fast=team_data.query('buildUpPlaySpeedClass==\"Fast\"')['points_per_game'].mean()\n",
    "buildUpPlaySpeedClass_mean_slow=team_data.query('buildUpPlaySpeedClass==\"Slow\"')['points_per_game'].mean()\n",
    "buildUpPlaySpeedClass_mean_balanced, buildUpPlaySpeedClass_mean_fast, buildUpPlaySpeedClass_mean_slow"
   ]
  },
  {
   "cell_type": "code",
   "execution_count": 61,
   "metadata": {
    "scrolled": true
   },
   "outputs": [
    {
     "data": {
      "text/plain": [
       "Little    668\n",
       "Normal    295\n",
       "Lots       18\n",
       "Name: buildUpPlayDribblingClass, dtype: int64"
      ]
     },
     "execution_count": 61,
     "metadata": {},
     "output_type": "execute_result"
    }
   ],
   "source": [
    "# unique value and counts of buildUpPlayDribblingClass\n",
    "team_data['buildUpPlayDribblingClass'].value_counts()"
   ]
  },
  {
   "cell_type": "code",
   "execution_count": 62,
   "metadata": {},
   "outputs": [
    {
     "data": {
      "text/plain": [
       "(1.4178329966806256, 1.4033355374463243, 1.4971470405100435)"
      ]
     },
     "execution_count": 62,
     "metadata": {},
     "output_type": "execute_result"
    }
   ],
   "source": [
    "# mean points_per_game of each category value\n",
    "buildUpPlayDribblingClass_mean_little=team_data.query('buildUpPlayDribblingClass==\"Little\"')['points_per_game'].mean()\n",
    "buildUpPlayDribblingClass_mean_Normal=team_data.query('buildUpPlayDribblingClass==\"Normal\"')['points_per_game'].mean()\n",
    "buildUpPlayDribblingClass_mean_lots=team_data.query('buildUpPlayDribblingClass==\"Lots\"')['points_per_game'].mean()\n",
    "buildUpPlayDribblingClass_mean_little, buildUpPlayDribblingClass_mean_Normal, buildUpPlayDribblingClass_mean_lots"
   ]
  },
  {
   "cell_type": "code",
   "execution_count": 63,
   "metadata": {
    "scrolled": false
   },
   "outputs": [
    {
     "data": {
      "text/plain": [
       "Mixed    835\n",
       "Short     96\n",
       "Long      50\n",
       "Name: buildUpPlayPassingClass, dtype: int64"
      ]
     },
     "execution_count": 63,
     "metadata": {},
     "output_type": "execute_result"
    }
   ],
   "source": [
    "# unique value and counts of buildUpPlayPassingClass\n",
    "team_data['buildUpPlayPassingClass'].value_counts()"
   ]
  },
  {
   "cell_type": "code",
   "execution_count": 64,
   "metadata": {},
   "outputs": [
    {
     "data": {
      "text/plain": [
       "(1.402525376796923, 1.608315202023083, 1.2507624607771668)"
      ]
     },
     "execution_count": 64,
     "metadata": {},
     "output_type": "execute_result"
    }
   ],
   "source": [
    "# mean points_per_game of each category value\n",
    "buildUpPlayPassingClass_mean_mixed=team_data.query('buildUpPlayPassingClass==\"Mixed\"')['points_per_game'].mean()\n",
    "buildUpPlayPassingClass_mean_short=team_data.query('buildUpPlayPassingClass==\"Short\"')['points_per_game'].mean()\n",
    "buildUpPlayPassingClass_mean_long=team_data.query('buildUpPlayPassingClass==\"Long\"')['points_per_game'].mean()\n",
    "buildUpPlayPassingClass_mean_mixed,buildUpPlayPassingClass_mean_short, buildUpPlayPassingClass_mean_long"
   ]
  },
  {
   "cell_type": "code",
   "execution_count": 65,
   "metadata": {
    "scrolled": true
   },
   "outputs": [
    {
     "data": {
      "text/plain": [
       "Organised    913\n",
       "Free Form     68\n",
       "Name: buildUpPlayPositioningClass, dtype: int64"
      ]
     },
     "execution_count": 65,
     "metadata": {},
     "output_type": "execute_result"
    }
   ],
   "source": [
    "# unique value and counts of buildUpPlayPositioningClass\n",
    "team_data['buildUpPlayPositioningClass'].value_counts()"
   ]
  },
  {
   "cell_type": "code",
   "execution_count": 66,
   "metadata": {},
   "outputs": [
    {
     "data": {
      "text/plain": [
       "(1.3875399589352762, 1.782663081626432)"
      ]
     },
     "execution_count": 66,
     "metadata": {},
     "output_type": "execute_result"
    }
   ],
   "source": [
    "# mean points_per_game of each category value\n",
    "buildUpPlayPositioningClass_mean_organised=team_data.query('buildUpPlayPositioningClass==\"Organised\"')['points_per_game'].mean()\n",
    "buildUpPlayPositioningClass_mean_freeform=team_data.query('buildUpPlayPositioningClass==\"Free Form\"')['points_per_game'].mean()\n",
    "buildUpPlayPositioningClass_mean_organised, buildUpPlayPositioningClass_mean_freeform"
   ]
  },
  {
   "cell_type": "code",
   "execution_count": 67,
   "metadata": {
    "scrolled": false
   },
   "outputs": [
    {
     "data": {
      "text/plain": [
       "Normal    824\n",
       "Risky     118\n",
       "Safe       39\n",
       "Name: chanceCreationPassingClass, dtype: int64"
      ]
     },
     "execution_count": 67,
     "metadata": {},
     "output_type": "execute_result"
    }
   ],
   "source": [
    "# unique value and counts of chanceCreationPassingClass\n",
    "team_data['chanceCreationPassingClass'].value_counts()"
   ]
  },
  {
   "cell_type": "code",
   "execution_count": 68,
   "metadata": {},
   "outputs": [
    {
     "data": {
      "text/plain": [
       "(1.398178496219548, 1.5494244048747268, 1.3618951640610344)"
      ]
     },
     "execution_count": 68,
     "metadata": {},
     "output_type": "execute_result"
    }
   ],
   "source": [
    "# mean points_per_game of each category value\n",
    "chanceCreationPassingClass_mean_normal=team_data.query('chanceCreationPassingClass==\"Normal\"')['points_per_game'].mean()\n",
    "chanceCreationPassingClass_mean_risky=team_data.query('chanceCreationPassingClass==\"Risky\"')['points_per_game'].mean()\n",
    "chanceCreationPassingClass_mean_safe=team_data.query('chanceCreationPassingClass==\"Safe\"')['points_per_game'].mean()\n",
    "chanceCreationPassingClass_mean_normal, chanceCreationPassingClass_mean_risky, chanceCreationPassingClass_mean_safe"
   ]
  },
  {
   "cell_type": "code",
   "execution_count": 69,
   "metadata": {
    "scrolled": true
   },
   "outputs": [
    {
     "data": {
      "text/plain": [
       "Normal    809\n",
       "Lots      139\n",
       "Little     33\n",
       "Name: chanceCreationCrossingClass, dtype: int64"
      ]
     },
     "execution_count": 69,
     "metadata": {},
     "output_type": "execute_result"
    }
   ],
   "source": [
    "# unique value and counts of chanceCreationCrossingClass\n",
    "team_data['chanceCreationCrossingClass'].value_counts()"
   ]
  },
  {
   "cell_type": "code",
   "execution_count": 70,
   "metadata": {},
   "outputs": [
    {
     "data": {
      "text/plain": [
       "(1.4067366691118466, 1.4311598177321316, 1.5473906691592452)"
      ]
     },
     "execution_count": 70,
     "metadata": {},
     "output_type": "execute_result"
    }
   ],
   "source": [
    "# mean points_per_game of each category value\n",
    "chanceCreationCrossingClass_mean_normal=team_data.query('chanceCreationCrossingClass==\"Normal\"')['points_per_game'].mean()\n",
    "chanceCreationCrossingClass_mean_lots=team_data.query('chanceCreationCrossingClass==\"Lots\"')['points_per_game'].mean()\n",
    "chanceCreationCrossingClass_mean_little=team_data.query('chanceCreationCrossingClass==\"Little\"')['points_per_game'].mean()\n",
    "chanceCreationCrossingClass_mean_normal, chanceCreationCrossingClass_mean_lots, chanceCreationCrossingClass_mean_little"
   ]
  },
  {
   "cell_type": "code",
   "execution_count": 71,
   "metadata": {
    "scrolled": true
   },
   "outputs": [
    {
     "data": {
      "text/plain": [
       "Normal    803\n",
       "Lots      145\n",
       "Little     33\n",
       "Name: chanceCreationShootingClass, dtype: int64"
      ]
     },
     "execution_count": 71,
     "metadata": {},
     "output_type": "execute_result"
    }
   ],
   "source": [
    "# unique value and counts of chanceCreationShootingClass\n",
    "team_data['chanceCreationShootingClass'].value_counts()"
   ]
  },
  {
   "cell_type": "code",
   "execution_count": 72,
   "metadata": {},
   "outputs": [
    {
     "data": {
      "text/plain": [
       "(1.37822879072967, 1.6034583579055837, 1.4795724607960743)"
      ]
     },
     "execution_count": 72,
     "metadata": {},
     "output_type": "execute_result"
    }
   ],
   "source": [
    "# mean points_per_game of each category value\n",
    "chanceCreationShootingClass_mean_normal=team_data.query('chanceCreationShootingClass==\"Normal\"')['points_per_game'].mean()\n",
    "chanceCreationShootingClass_mean_lots=team_data.query('chanceCreationShootingClass==\"Lots\"')['points_per_game'].mean()\n",
    "chanceCreationShootingClass_mean_little=team_data.query('chanceCreationShootingClass==\"Little\"')['points_per_game'].mean()\n",
    "chanceCreationShootingClass_mean_normal, chanceCreationShootingClass_mean_lots, chanceCreationShootingClass_mean_little"
   ]
  },
  {
   "cell_type": "code",
   "execution_count": 73,
   "metadata": {
    "scrolled": true
   },
   "outputs": [
    {
     "data": {
      "text/plain": [
       "Organised    849\n",
       "Free Form    132\n",
       "Name: chanceCreationPositioningClass, dtype: int64"
      ]
     },
     "execution_count": 73,
     "metadata": {},
     "output_type": "execute_result"
    }
   ],
   "source": [
    "# unique value and counts of chanceCreationPositioningClass\n",
    "team_data['chanceCreationPositioningClass'].value_counts()"
   ]
  },
  {
   "cell_type": "code",
   "execution_count": 74,
   "metadata": {},
   "outputs": [
    {
     "data": {
      "text/plain": [
       "(1.3699794423196439, 1.704034284311568)"
      ]
     },
     "execution_count": 74,
     "metadata": {},
     "output_type": "execute_result"
    }
   ],
   "source": [
    "# mean points_per_game of each category value\n",
    "chanceCreationPositioningClass_mean_organised=team_data.query('chanceCreationPositioningClass==\"Organised\"')['points_per_game'].mean()\n",
    "chanceCreationPositioningClass_mean_freeform=team_data.query('chanceCreationPositioningClass==\"Free Form\"')['points_per_game'].mean()\n",
    "chanceCreationPositioningClass_mean_organised,chanceCreationPositioningClass_mean_freeform"
   ]
  },
  {
   "cell_type": "code",
   "execution_count": 75,
   "metadata": {
    "scrolled": true
   },
   "outputs": [
    {
     "data": {
      "text/plain": [
       "Medium    843\n",
       "Deep      100\n",
       "High       38\n",
       "Name: defencePressureClass, dtype: int64"
      ]
     },
     "execution_count": 75,
     "metadata": {},
     "output_type": "execute_result"
    }
   ],
   "source": [
    "# unique value and counts of defencePressureClass\n",
    "team_data['defencePressureClass'].value_counts()"
   ]
  },
  {
   "cell_type": "code",
   "execution_count": 76,
   "metadata": {},
   "outputs": [
    {
     "data": {
      "text/plain": [
       "(1.420787469774845, 1.3069268511189753, 1.5691723664845583)"
      ]
     },
     "execution_count": 76,
     "metadata": {},
     "output_type": "execute_result"
    }
   ],
   "source": [
    "# mean points_per_game of each category value\n",
    "defencePressureClass_mean_Medium=team_data.query('defencePressureClass==\"Medium\"')['points_per_game'].mean()\n",
    "defencePressureClass_mean_Deep=team_data.query('defencePressureClass==\"Deep\"')['points_per_game'].mean()\n",
    "defencePressureClass_mean_High=team_data.query('defencePressureClass==\"High\"')['points_per_game'].mean()\n",
    "defencePressureClass_mean_Medium,defencePressureClass_mean_Deep, defencePressureClass_mean_High"
   ]
  },
  {
   "cell_type": "code",
   "execution_count": 77,
   "metadata": {
    "scrolled": true
   },
   "outputs": [
    {
     "data": {
      "text/plain": [
       "Press      858\n",
       "Double      63\n",
       "Contain     60\n",
       "Name: defenceAggressionClass, dtype: int64"
      ]
     },
     "execution_count": 77,
     "metadata": {},
     "output_type": "execute_result"
    }
   ],
   "source": [
    "# unique value and counts of defenceAggressionClass\n",
    "team_data['defenceAggressionClass'].value_counts()"
   ]
  },
  {
   "cell_type": "code",
   "execution_count": 78,
   "metadata": {},
   "outputs": [
    {
     "data": {
      "text/plain": [
       "(1.4155661371397343, 1.457556709058539, 1.361054228698752)"
      ]
     },
     "execution_count": 78,
     "metadata": {},
     "output_type": "execute_result"
    }
   ],
   "source": [
    "# mean points_per_game of each category value\n",
    "defenceAggressionClass_mean_Press=team_data.query('defenceAggressionClass==\"Press\"')['points_per_game'].mean()\n",
    "defenceAggressionClass_mean_Double=team_data.query('defenceAggressionClass==\"Double\"')['points_per_game'].mean()\n",
    "defenceAggressionClass_mean_Contain=team_data.query('defenceAggressionClass==\"Contain\"')['points_per_game'].mean()\n",
    "defenceAggressionClass_mean_Press,defenceAggressionClass_mean_Double, defenceAggressionClass_mean_Contain"
   ]
  },
  {
   "cell_type": "code",
   "execution_count": 79,
   "metadata": {
    "scrolled": true
   },
   "outputs": [
    {
     "data": {
      "text/plain": [
       "Normal    870\n",
       "Wide       72\n",
       "Narrow     39\n",
       "Name: defenceTeamWidthClass, dtype: int64"
      ]
     },
     "execution_count": 79,
     "metadata": {},
     "output_type": "execute_result"
    }
   ],
   "source": [
    "# unique value and counts of defenceTeamWidthClass\n",
    "team_data['defenceTeamWidthClass'].value_counts()"
   ]
  },
  {
   "cell_type": "code",
   "execution_count": 80,
   "metadata": {},
   "outputs": [
    {
     "data": {
      "text/plain": [
       "(1.4150961033659348, 1.4441900863362898, 1.357173741382779)"
      ]
     },
     "execution_count": 80,
     "metadata": {},
     "output_type": "execute_result"
    }
   ],
   "source": [
    "# mean points_per_game of each category value\n",
    "defenceTeamWidthClass_mean_Normal=team_data.query('defenceTeamWidthClass==\"Normal\"')['points_per_game'].mean()\n",
    "defenceTeamWidthClass_mean_Wide=team_data.query('defenceTeamWidthClass==\"Wide\"')['points_per_game'].mean()\n",
    "defenceTeamWidthClass_mean_Narrow=team_data.query('defenceTeamWidthClass==\"Narrow\"')['points_per_game'].mean()\n",
    "defenceTeamWidthClass_mean_Normal,defenceTeamWidthClass_mean_Wide, defenceTeamWidthClass_mean_Narrow"
   ]
  },
  {
   "cell_type": "code",
   "execution_count": 81,
   "metadata": {
    "scrolled": false
   },
   "outputs": [
    {
     "data": {
      "text/plain": [
       "Cover           914\n",
       "Offside Trap     67\n",
       "Name: defenceDefenderLineClass, dtype: int64"
      ]
     },
     "execution_count": 81,
     "metadata": {},
     "output_type": "execute_result"
    }
   ],
   "source": [
    "# unique value and counts of defenceDefenderLineClass\n",
    "team_data['defenceDefenderLineClass'].value_counts()"
   ]
  },
  {
   "cell_type": "code",
   "execution_count": 82,
   "metadata": {},
   "outputs": [
    {
     "data": {
      "text/plain": [
       "(1.4060238730348038, 1.5364067478312429)"
      ]
     },
     "execution_count": 82,
     "metadata": {},
     "output_type": "execute_result"
    }
   ],
   "source": [
    "# mean points_per_game of each category value\n",
    "defenceDefenderLineClass_mean_Cover=team_data.query('defenceDefenderLineClass==\"Cover\"')['points_per_game'].mean()\n",
    "defenceDefenderLineClass_mean_OffsideTrap=team_data.query('defenceDefenderLineClass==\"Offside Trap\"')['points_per_game'].mean()\n",
    "defenceDefenderLineClass_mean_Cover,defenceDefenderLineClass_mean_OffsideTrap"
   ]
  },
  {
   "cell_type": "markdown",
   "metadata": {},
   "source": [
    "##### The top 3 categorical attributes that are likely to correlated with team performance are chanceCreationPositioningClass, buildUpPlayPassingClass and buildUpPlayPositioningClass. "
   ]
  },
  {
   "cell_type": "markdown",
   "metadata": {},
   "source": [
    "#### To gain a more detailed understanding and statistical evidence, next I will\n",
    "#### (1) plot histograms of points_per_game of each category, \n",
    "#### (2) do a t-test on these three categories. "
   ]
  },
  {
   "cell_type": "markdown",
   "metadata": {},
   "source": [
    "#### visual inspection of potential correlation between points_per_game and chanceCreationPositioningClass"
   ]
  },
  {
   "cell_type": "code",
   "execution_count": 83,
   "metadata": {
    "scrolled": false
   },
   "outputs": [
    {
     "data": {
      "image/png": "[encoded data removed]",
      "text/plain": [
       "<Figure size 432x288 with 1 Axes>"
      ]
     },
     "metadata": {},
     "output_type": "display_data"
    }
   ],
   "source": [
    "#histogram of points_per_game of each category value of chanceCreationPositioningClass\n",
    "team_data.query('chanceCreationPositioningClass==\"Organised\"')['points_per_game'].hist(color='green',alpha=0.5,bins=20, density=True, label='Organised')\n",
    "team_data.query('chanceCreationPositioningClass==\"Free Form\"')['points_per_game'].hist(color='red',alpha=0.5,bins=20, density=True, label='Free Form')\n",
    "plt.legend()\n",
    "plt.title('points_per_game of chanceCreationPositioningClass categories')\n",
    "plt.xlabel('points_per_game');"
   ]
  },
  {
   "cell_type": "markdown",
   "metadata": {},
   "source": [
    "##### From the histogram, points_per_game of Free Form is visibly higher than Organised, on average.\n",
    "####  Then I perform a student t-test to obtain evidence that the observed difference in visual is statistically significant. "
   ]
  },
  {
   "cell_type": "code",
   "execution_count": 84,
   "metadata": {},
   "outputs": [
    {
     "data": {
      "text/plain": [
       "Ttest_indResult(statistic=-7.236601802807965, pvalue=1.8831120781658832e-11)"
      ]
     },
     "execution_count": 84,
     "metadata": {},
     "output_type": "execute_result"
    }
   ],
   "source": [
    "# t-test on chanceCreationPositioningClass Organized and Free Form\n",
    "stats.ttest_ind(team_data.query('chanceCreationPositioningClass==\"Organised\"')['points_per_game'],team_data.query('chanceCreationPositioningClass==\"Free Form\"')['points_per_game'],equal_var=False)"
   ]
  },
  {
   "cell_type": "markdown",
   "metadata": {},
   "source": [
    "##### Both t-statistic is large enough and p values is small enough to support that the team attribute chanceCreationPositioningClass Free Form leads to more team victories."
   ]
  },
  {
   "cell_type": "markdown",
   "metadata": {},
   "source": [
    "#### visual inspection of potential correlation between points_per_game and buildUpPlayPassingClass"
   ]
  },
  {
   "cell_type": "code",
   "execution_count": 85,
   "metadata": {
    "scrolled": true
   },
   "outputs": [
    {
     "data": {
      "image/png": "[encoded data removed]",
      "text/plain": [
       "<Figure size 432x288 with 1 Axes>"
      ]
     },
     "metadata": {},
     "output_type": "display_data"
    }
   ],
   "source": [
    "#histogram of points_per_game of each category value of buildUpPlayPassingClass\n",
    "team_data.query('buildUpPlayPassingClass==\"Mixed\"')['points_per_game'].hist(color='green',alpha=0.5,bins=20, density=True, label='Mixed')\n",
    "team_data.query('buildUpPlayPassingClass==\"Short\"')['points_per_game'].hist(color='red',alpha=0.5,bins=20, density=True, label='Short')\n",
    "team_data.query('buildUpPlayPassingClass==\"Long\"')['points_per_game'].hist(color='blue',alpha=0.5,bins=20, density=True, label='Long')\n",
    "plt.legend()\n",
    "plt.title('points_per_game of buildUpPlayPassingClass categories')\n",
    "plt.xlabel('points_per_game');"
   ]
  },
  {
   "cell_type": "markdown",
   "metadata": {},
   "source": [
    "##### From the histogram, points_per_game of Long is visibly lower than other two. And points_per_game of Short is higher than the other two.\n",
    "#####  Then I perform a student t-test to obtain evidence that the observed difference in visual is statistically significant. "
   ]
  },
  {
   "cell_type": "code",
   "execution_count": 86,
   "metadata": {},
   "outputs": [
    {
     "data": {
      "text/plain": [
       "Ttest_indResult(statistic=-3.7079041060853006, pvalue=0.00032958081063664033)"
      ]
     },
     "execution_count": 86,
     "metadata": {},
     "output_type": "execute_result"
    }
   ],
   "source": [
    "# t-test on buildUpPlayPassingClass Mixed and Short\n",
    "stats.ttest_ind(team_data.query('buildUpPlayPassingClass==\"Mixed\"')['points_per_game'],team_data.query('buildUpPlayPassingClass==\"Short\"')['points_per_game'],equal_var=False)"
   ]
  },
  {
   "cell_type": "code",
   "execution_count": 87,
   "metadata": {},
   "outputs": [
    {
     "data": {
      "text/plain": [
       "Ttest_indResult(statistic=3.5811551790573963, pvalue=0.0006650914655433903)"
      ]
     },
     "execution_count": 87,
     "metadata": {},
     "output_type": "execute_result"
    }
   ],
   "source": [
    "# t-test on buildUpPlayPassingClass Mixed and Long\n",
    "stats.ttest_ind(team_data.query('buildUpPlayPassingClass==\"Mixed\"')['points_per_game'],team_data.query('buildUpPlayPassingClass==\"Long\"')['points_per_game'],equal_var=False)"
   ]
  },
  {
   "cell_type": "code",
   "execution_count": 88,
   "metadata": {},
   "outputs": [
    {
     "data": {
      "text/plain": [
       "Ttest_indResult(statistic=5.361453685076605, pvalue=3.2138910726726413e-07)"
      ]
     },
     "execution_count": 88,
     "metadata": {},
     "output_type": "execute_result"
    }
   ],
   "source": [
    "# t-test on buildUpPlayPassingClass Short and Long\n",
    "stats.ttest_ind(team_data.query('buildUpPlayPassingClass==\"Short\"')['points_per_game'],team_data.query('buildUpPlayPassingClass==\"Long\"')['points_per_game'],equal_var=False)"
   ]
  },
  {
   "cell_type": "markdown",
   "metadata": {},
   "source": [
    "##### In all 3 t-tests, both t-statistic is large enough and p values is small enough to support that the team attribute buildUpPlayPassingClass Short  leads to more team victories, and Long leads to less victories."
   ]
  },
  {
   "cell_type": "markdown",
   "metadata": {},
   "source": [
    "#### visual inspection of potential correlation between points_per_game and buildUpPlayPositioningClass"
   ]
  },
  {
   "cell_type": "code",
   "execution_count": 89,
   "metadata": {
    "scrolled": true
   },
   "outputs": [
    {
     "data": {
      "image/png": "[encoded data removed]",
      "text/plain": [
       "<Figure size 432x288 with 1 Axes>"
      ]
     },
     "metadata": {},
     "output_type": "display_data"
    }
   ],
   "source": [
    "#histogram of points_per_game of each category value of buildUpPlayPositioningClass\n",
    "team_data.query('buildUpPlayPositioningClass==\"Organised\"')['points_per_game'].hist(color='green',alpha=0.5,bins=20, density=True, label='Organised')\n",
    "team_data.query('buildUpPlayPositioningClass==\"Free Form\"')['points_per_game'].hist(color='red',alpha=0.5,bins=20, density=True, label='Free Form')\n",
    "plt.legend()\n",
    "plt.title('points_per_game of chanceCreationPositioningClass categories')\n",
    "plt.xlabel('points_per_game');"
   ]
  },
  {
   "cell_type": "markdown",
   "metadata": {},
   "source": [
    "##### From the histogram, points_per_game of Free Form is visibly higher than Organised, on average.\n",
    "#####  Then I perform a student t-test to obtain evidence that the observed difference in visual is statistically significant. "
   ]
  },
  {
   "cell_type": "code",
   "execution_count": 90,
   "metadata": {},
   "outputs": [
    {
     "data": {
      "text/plain": [
       "Ttest_indResult(statistic=-6.502439185808116, pvalue=8.022425113846984e-09)"
      ]
     },
     "execution_count": 90,
     "metadata": {},
     "output_type": "execute_result"
    }
   ],
   "source": [
    "# t-test on buildUpPlayPositioningClass Organised and Free Form\n",
    "stats.ttest_ind(team_data.query('buildUpPlayPositioningClass==\"Organised\"')['points_per_game'],team_data.query('buildUpPlayPositioningClass==\"Free Form\"')['points_per_game'],equal_var=False)"
   ]
  },
  {
   "cell_type": "markdown",
   "metadata": {},
   "source": [
    "##### Statistic is more than 6, and p value is very small. This is a statistically significant evidence that Free Form buildUpPlayPositioningClass leads to more victories."
   ]
  },
  {
   "cell_type": "markdown",
   "metadata": {},
   "source": [
    "### Answer to question 3: \n",
    "#### The top 6 attributes (3 quantitative and 3 categorical) that lead to most victories are:defencePressure, buildUpPlayPassing, anchanceCreationShooting, chanceCreationPositioningClass, buildUpPlayPassingClass and buildUpPlayPositioningClass"
   ]
  },
  {
   "cell_type": "markdown",
   "metadata": {},
   "source": [
    "### Research Question 4: Which player has most penalties?"
   ]
  },
  {
   "cell_type": "markdown",
   "metadata": {},
   "source": [
    "#### To answer this question, I simply need to group player_attributes by player_name, and count "
   ]
  },
  {
   "cell_type": "code",
   "execution_count": 91,
   "metadata": {
    "scrolled": true
   },
   "outputs": [
    {
     "data": {
      "text/plain": [
       "player_name\n",
       "Danilo      6238.0\n",
       "Fernando    4764.0\n",
       "Douglas     4687.0\n",
       "Josue       4671.0\n",
       "Rafinha     4633.0\n",
       "Name: penalties, dtype: float64"
      ]
     },
     "execution_count": 91,
     "metadata": {},
     "output_type": "execute_result"
    }
   ],
   "source": [
    "###Count individual players number of penalties\n",
    "player_data.groupby('player_name')['penalties'].sum().sort_values(ascending=False).head()"
   ]
  },
  {
   "cell_type": "markdown",
   "metadata": {},
   "source": [
    "### Answer to question 4: \n",
    "#### Danilo has the most number of penalties."
   ]
  },
  {
   "cell_type": "markdown",
   "metadata": {},
   "source": [
    "### Research Question 5: How does the player age distribution look like?\n",
    "#### To answer this question, I will find out the center, shape, variance and range of player age distribution"
   ]
  },
  {
   "cell_type": "code",
   "execution_count": 92,
   "metadata": {},
   "outputs": [
    {
     "data": {
      "text/plain": [
       "count    180228.000000\n",
       "mean         25.652917\n",
       "std           4.708167\n",
       "min           7.832991\n",
       "25%          22.220397\n",
       "50%          25.459274\n",
       "75%          28.881588\n",
       "max          43.800137\n",
       "Name: age, dtype: float64"
      ]
     },
     "execution_count": 92,
     "metadata": {},
     "output_type": "execute_result"
    }
   ],
   "source": [
    "###find player age range\n",
    "player_data['age'].describe()"
   ]
  },
  {
   "cell_type": "markdown",
   "metadata": {},
   "source": [
    "##### player age range is 7.8-43.8 , mean is 25.6, standard deviation is 4.7, and variance is 22.2"
   ]
  },
  {
   "cell_type": "markdown",
   "metadata": {},
   "source": [
    "#### Below I will create a histogram for direct visualization of shape of player age distribution"
   ]
  },
  {
   "cell_type": "code",
   "execution_count": 94,
   "metadata": {
    "scrolled": true
   },
   "outputs": [
    {
     "data": {
      "image/png": "[encoded data removed]",
      "text/plain": [
       "<Figure size 432x288 with 1 Axes>"
      ]
     },
     "metadata": {},
     "output_type": "display_data"
    }
   ],
   "source": [
    "#plot a histogram of player age distribution\n",
    "player_data.age.hist(bins=50, alpha=0.9, label='player ages')\n",
    "plt.xlabel('player age')\n",
    "plt.ylabel('number of player')\n",
    "plt.title('distribution of player ages')\n",
    "plt.legend();"
   ]
  },
  {
   "cell_type": "markdown",
   "metadata": {},
   "source": [
    "##### Distribution of player ages is centered around 25. It seems to be skewed to right. There is a tiny tail in the left between 8-18. This tail looks like another independent group of players. More detailed analysis focusing on this group will certainly reveal more interesting results."
   ]
  },
  {
   "cell_type": "markdown",
   "metadata": {},
   "source": [
    "### Answer to question 5: \n",
    "#### Player ages range from 7.8 to 43.8. It has mean of 25.6 and variance of 22.6. It is not a normal distribution. It is skewed to right."
   ]
  },
  {
   "cell_type": "markdown",
   "metadata": {},
   "source": [
    "### Research Question 6: What affect players overall rating?\n",
    "#### To answer this question, I will look into correlations between player overall_rating and attributes columns. The columns that has large coefficients and lower p values are most like to affect player overall_rating"
   ]
  },
  {
   "cell_type": "markdown",
   "metadata": {},
   "source": [
    "#### I will first look at quantitative attributes. \n",
    "##### (1) First I will calculate their Pearson correlation coefficients with overall_rating. Columns with larger coefficients are more likely to be strongly correlated with overall_rating.  \n",
    "##### (2) Then I will make scatter plots for visual inspection, to make sure that the correlation is visibly strong. \n",
    "##### (3) Finally to obtain evidence that the correlation is statistically significant, I will obtain p values of Pearson correlation.  "
   ]
  },
  {
   "cell_type": "code",
   "execution_count": 95,
   "metadata": {},
   "outputs": [],
   "source": [
    "#create listw of columns that are quantitative\n",
    "num_cols=['potential', 'crossing', 'finishing', 'heading_accuracy','short_passing', 'volleys', 'dribbling', 'curve', 'free_kick_accuracy','long_passing', 'ball_control', 'acceleration', 'sprint_speed','agility', 'reactions', 'balance', 'shot_power', 'jumping', 'stamina','strength', 'long_shots', 'aggression', 'interceptions', 'positioning','vision', 'penalties', 'marking', 'standing_tackle', 'sliding_tackle','gk_diving', 'gk_handling', 'gk_kicking', 'gk_positioning','gk_reflexes', 'height', 'weight','age']"
   ]
  },
  {
   "cell_type": "code",
   "execution_count": 96,
   "metadata": {},
   "outputs": [
    {
     "data": {
      "text/plain": [
       "reactions             0.771831\n",
       "potential             0.765354\n",
       "short_passing         0.458174\n",
       "ball_control          0.443930\n",
       "long_passing          0.434507\n",
       "vision                0.431267\n",
       "shot_power            0.428210\n",
       "penalties             0.392648\n",
       "long_shots            0.392551\n",
       "age                   0.382509\n",
       "positioning           0.368788\n",
       "volleys               0.361612\n",
       "curve                 0.357268\n",
       "crossing              0.357110\n",
       "dribbling             0.353983\n",
       "free_kick_accuracy    0.349506\n",
       "finishing             0.329897\n",
       "stamina               0.325639\n",
       "aggression            0.322972\n",
       "strength              0.316768\n",
       "heading_accuracy      0.313816\n",
       "jumping               0.259984\n",
       "sprint_speed          0.252688\n",
       "interceptions         0.249619\n",
       "acceleration          0.243585\n",
       "agility               0.239475\n",
       "standing_tackle       0.164485\n",
       "balance               0.159659\n",
       "marking               0.132645\n",
       "sliding_tackle        0.128477\n",
       "weight                0.063879\n",
       "gk_kicking            0.028956\n",
       "gk_diving             0.027835\n",
       "gk_positioning        0.008177\n",
       "gk_reflexes           0.007967\n",
       "gk_handling           0.006874\n",
       "height               -0.004793\n",
       "dtype: float64"
      ]
     },
     "execution_count": 96,
     "metadata": {},
     "output_type": "execute_result"
    }
   ],
   "source": [
    "# create a list containing Pearson's correlation between 'overall_rating' with each column in num_cols\n",
    "correlations =pd.Series([ player_data['overall_rating'].corr(player_data[f]) for f in num_cols ], index=num_cols)\n",
    "correlations.sort_values(ascending=False)"
   ]
  },
  {
   "cell_type": "markdown",
   "metadata": {},
   "source": [
    "##### Reactions is most strongly correlated with overall_rating. Majority of other attributes are also strongly correlated with overall_rating, with more than 3/4 of them having a coefficient larger than 0.2.\n",
    "####  Next I will inspect the correlation through scatter plots"
   ]
  },
  {
   "cell_type": "code",
   "execution_count": 97,
   "metadata": {
    "scrolled": true
   },
   "outputs": [
    {
     "data": {
      "image/png": "[encoded data removed]",
      "text/plain": [
       "<Figure size 432x288 with 1 Axes>"
      ]
     },
     "metadata": {},
     "output_type": "display_data"
    }
   ],
   "source": [
    "# scatter plot of overall_rating vs reactions\n",
    "plt.scatter(player_data['reactions'], player_data['overall_rating'])\n",
    "plt.xlabel('player overall_rating')\n",
    "plt.ylabel('reaction')\n",
    "plt.title('overall_rating vs reaction');"
   ]
  },
  {
   "cell_type": "markdown",
   "metadata": {},
   "source": [
    "#####  Judging from the scatter plot, overall_rating is indeed strongly positively correlated with reactions."
   ]
  },
  {
   "cell_type": "code",
   "execution_count": 98,
   "metadata": {
    "scrolled": true
   },
   "outputs": [
    {
     "data": {
      "image/png": "[encoded data removed]",
      "text/plain": [
       "<Figure size 432x288 with 1 Axes>"
      ]
     },
     "metadata": {},
     "output_type": "display_data"
    }
   ],
   "source": [
    "# scatter plot of overall_rating vs potential\n",
    "plt.scatter(player_data['potential'], player_data['overall_rating'])\n",
    "plt.xlabel('player overall_rating')\n",
    "plt.ylabel('potential')\n",
    "plt.title('overall_rating vs potential');"
   ]
  },
  {
   "cell_type": "markdown",
   "metadata": {},
   "source": [
    "#####  Judging from the scatter plot, overall_rating is indeed strongly positively correlated with potential."
   ]
  },
  {
   "cell_type": "code",
   "execution_count": 99,
   "metadata": {
    "scrolled": true
   },
   "outputs": [
    {
     "data": {
      "image/png": "[encoded data removed]",
      "text/plain": [
       "<Figure size 432x288 with 1 Axes>"
      ]
     },
     "metadata": {},
     "output_type": "display_data"
    }
   ],
   "source": [
    "# scatter plot of overall_rating vs short_passing\n",
    "plt.scatter(player_data['short_passing'], player_data['overall_rating'])\n",
    "plt.xlabel('player overall_rating')\n",
    "plt.ylabel('short_passing')\n",
    "plt.title('overall_rating vs short_passing');"
   ]
  },
  {
   "cell_type": "markdown",
   "metadata": {},
   "source": [
    "#####  Judging from the scatter plot, overall_rating is indeed strongly positively correlated with short_passing."
   ]
  },
  {
   "cell_type": "code",
   "execution_count": 100,
   "metadata": {
    "scrolled": true
   },
   "outputs": [
    {
     "data": {
      "image/png": "[encoded data removed]",
      "text/plain": [
       "<Figure size 432x288 with 1 Axes>"
      ]
     },
     "metadata": {},
     "output_type": "display_data"
    }
   ],
   "source": [
    "# scatter plot of overall_rating vs ball_control\n",
    "plt.scatter(player_data['ball_control'], player_data['overall_rating'])\n",
    "plt.xlabel('player overall_rating')\n",
    "plt.ylabel('ball_control')\n",
    "plt.title('overall_rating vs ball_control');"
   ]
  },
  {
   "cell_type": "markdown",
   "metadata": {},
   "source": [
    "#####  Judging from the scatter plot, overall_rating is indeed strongly positively correlated with ball_control."
   ]
  },
  {
   "cell_type": "code",
   "execution_count": 101,
   "metadata": {
    "scrolled": true
   },
   "outputs": [
    {
     "data": {
      "image/png": "[encoded data removed]",
      "text/plain": [
       "<Figure size 432x288 with 1 Axes>"
      ]
     },
     "metadata": {},
     "output_type": "display_data"
    }
   ],
   "source": [
    "# scatter plot of overall_rating vs long_passing\n",
    "plt.scatter(player_data['long_passing'], player_data['overall_rating'])\n",
    "plt.xlabel('player overall_rating')\n",
    "plt.ylabel('long_passing')\n",
    "plt.title('overall_rating vs long_passing');"
   ]
  },
  {
   "cell_type": "markdown",
   "metadata": {},
   "source": [
    "#####  Judging from the scatter plot, overall_rating is indeed strongly positively correlated with long_passing.\n",
    "#### To obtain statistical evidence for the correlations, I will next perform Pearson correlation"
   ]
  },
  {
   "cell_type": "code",
   "execution_count": 102,
   "metadata": {},
   "outputs": [
    {
     "data": {
      "text/plain": [
       "(0.7718305380078719, 0.0)"
      ]
     },
     "execution_count": 102,
     "metadata": {},
     "output_type": "execute_result"
    }
   ],
   "source": [
    "#Pearson correlation between overall_rating and reactions\n",
    "stats.pearsonr(player_data['overall_rating'],player_data['reactions'])"
   ]
  },
  {
   "cell_type": "markdown",
   "metadata": {},
   "source": [
    "#####  The coefficient of reactions vs overall_rating is 0.77, p values is 0. Therefore the correlation between reaction and overall_rating is statistically significant. "
   ]
  },
  {
   "cell_type": "code",
   "execution_count": 103,
   "metadata": {},
   "outputs": [
    {
     "data": {
      "text/plain": [
       "(0.7653540103661755, 0.0)"
      ]
     },
     "execution_count": 103,
     "metadata": {},
     "output_type": "execute_result"
    }
   ],
   "source": [
    "#pearson correlation between overall_rating and potential\n",
    "stats.pearsonr(player_data['overall_rating'],player_data['potential'])"
   ]
  },
  {
   "cell_type": "markdown",
   "metadata": {},
   "source": [
    "#####  The coefficient of potential vs overall_rating is 0.76, p values is 0. Therefore the correlation between potential and overall_rating is statistically significant. "
   ]
  },
  {
   "cell_type": "code",
   "execution_count": 104,
   "metadata": {},
   "outputs": [
    {
     "data": {
      "text/plain": [
       "(0.4581742546783428, 0.0)"
      ]
     },
     "execution_count": 104,
     "metadata": {},
     "output_type": "execute_result"
    }
   ],
   "source": [
    "#pearson correlation between overall_rating and short_passing\n",
    "stats.pearsonr(player_data['overall_rating'],player_data['short_passing'])"
   ]
  },
  {
   "cell_type": "markdown",
   "metadata": {},
   "source": [
    "#####  The coefficient of short_passing vs overall_rating is 0.46, p values is 0. Therefore the correlation between short_passing and overall_rating is statistically significant. "
   ]
  },
  {
   "cell_type": "code",
   "execution_count": 105,
   "metadata": {},
   "outputs": [
    {
     "data": {
      "text/plain": [
       "(0.443929865933167, 0.0)"
      ]
     },
     "execution_count": 105,
     "metadata": {},
     "output_type": "execute_result"
    }
   ],
   "source": [
    "#pearson correlation between overall_rating and ball_control\n",
    "stats.pearsonr(player_data['overall_rating'],player_data['ball_control'])"
   ]
  },
  {
   "cell_type": "markdown",
   "metadata": {},
   "source": [
    "#####  The coefficient of ball_control vs overall_rating is 0.44, p values is 0. Therefore the correlation between ball_control and overall_rating is statistically significant. "
   ]
  },
  {
   "cell_type": "code",
   "execution_count": 106,
   "metadata": {},
   "outputs": [
    {
     "data": {
      "text/plain": [
       "(0.43450686647068165, 0.0)"
      ]
     },
     "execution_count": 106,
     "metadata": {},
     "output_type": "execute_result"
    }
   ],
   "source": [
    "#pearson correlation between overall_rating and long_passing\n",
    "stats.pearsonr(player_data['overall_rating'],player_data['long_passing'])"
   ]
  },
  {
   "cell_type": "markdown",
   "metadata": {},
   "source": [
    "#####  The coefficient of long_passing vs overall_rating is 0.43, p values is 0. Therefore the correlation between long_passing and overall_rating is statistically significant. "
   ]
  },
  {
   "cell_type": "markdown",
   "metadata": {},
   "source": [
    "####  Next I will check the correlation between overall_rating and categorical attributes. \n",
    "#####  (1) I will first create histograms of overall_ratings of each categorical value,  if there is visible shift between histograms, the category is likely to be correlated with overall_rating\n",
    "#####  (2) Then I will obtain statistical evidence to support conclusion drawn from histograms, through students t-test."
   ]
  },
  {
   "cell_type": "code",
   "execution_count": 107,
   "metadata": {},
   "outputs": [
    {
     "data": {
      "text/plain": [
       "array(['right', 'left'], dtype=object)"
      ]
     },
     "execution_count": 107,
     "metadata": {},
     "output_type": "execute_result"
    }
   ],
   "source": [
    "#check unique values of preferred_foot\n",
    "player_data['preferred_foot'].unique()"
   ]
  },
  {
   "cell_type": "markdown",
   "metadata": {},
   "source": [
    "####  Create a histogram to visually inspect if there is difference between overall_rating of players preferring left and right foot."
   ]
  },
  {
   "cell_type": "code",
   "execution_count": 108,
   "metadata": {
    "scrolled": true
   },
   "outputs": [
    {
     "data": {
      "image/png": "[encoded data removed]",
      "text/plain": [
       "<Figure size 432x288 with 1 Axes>"
      ]
     },
     "metadata": {},
     "output_type": "display_data"
    }
   ],
   "source": [
    "#histograms of the overall_ratings of players who prefer left foot and who prefer right food are completely overlapped\n",
    "player_data.query('preferred_foot==\"left\"')['overall_rating'].hist(color='red', alpha=0.5,label='left foot', bins=50, density=True)\n",
    "player_data.query('preferred_foot==\"right\"')['overall_rating'].hist(color='blue', alpha=0.5,label='right foot', bins=50, density=True)\n",
    "plt.xlabel('overall_rating')\n",
    "plt.xlim(50,90)\n",
    "plt.ylabel('percentage of players')\n",
    "plt.title('overall_rating vs preferred_foot')\n",
    "plt.legend();"
   ]
  },
  {
   "cell_type": "markdown",
   "metadata": {},
   "source": [
    "##### By looking at the histogram, there doesn't seem to be a noticeable difference between the overall_rating of players using left and right foot."
   ]
  },
  {
   "cell_type": "markdown",
   "metadata": {},
   "source": [
    "#### Perform a student t-test to support my conclusion drawn from visual."
   ]
  },
  {
   "cell_type": "code",
   "execution_count": 109,
   "metadata": {},
   "outputs": [
    {
     "data": {
      "text/plain": [
       "Ttest_indResult(statistic=0.6885746058873934, pvalue=0.4910930182245401)"
      ]
     },
     "execution_count": 109,
     "metadata": {},
     "output_type": "execute_result"
    }
   ],
   "source": [
    "stats.ttest_ind(player_data.query('preferred_foot==\"left\"')['overall_rating'], player_data.query('preferred_foot==\"right\"')['overall_rating'],equal_var=False)"
   ]
  },
  {
   "cell_type": "markdown",
   "metadata": {},
   "source": [
    "##### statistic is less than 1, and p value is 0.49. Therefore difference between the overall_ratings of players using left or right foot is not statistically significant."
   ]
  },
  {
   "cell_type": "markdown",
   "metadata": {},
   "source": [
    "####  Visually inspect potential correlation between overall_rating and attacking_work_rate through histogram"
   ]
  },
  {
   "cell_type": "code",
   "execution_count": 110,
   "metadata": {},
   "outputs": [
    {
     "data": {
      "text/plain": [
       "medium    125022\n",
       "high       42775\n",
       "low         8569\n",
       "None        3287\n",
       "norm         317\n",
       "y             94\n",
       "stoc          86\n",
       "le            78\n",
       "Name: attacking_work_rate, dtype: int64"
      ]
     },
     "execution_count": 110,
     "metadata": {},
     "output_type": "execute_result"
    }
   ],
   "source": [
    "#check unique values of the categorical attribute \"attacking_work_rate\".\n",
    "#Majority of the players fall into medium, high, low or None category. So I will only consider players who are in these four values.\n",
    "player_data.attacking_work_rate.value_counts()"
   ]
  },
  {
   "cell_type": "code",
   "execution_count": 111,
   "metadata": {},
   "outputs": [],
   "source": [
    "#create seperate dataframe for the 4 unique values of attacking_work_rate, that represent majority of players\n",
    "medium_attack=player_data.query('attacking_work_rate==\"medium\"')\n",
    "high_attack=player_data.query('attacking_work_rate==\"high\"')\n",
    "low_attack=player_data.query('attacking_work_rate==\"low\"')\n",
    "None_attack=player_data.query('attacking_work_rate==\"None\"')"
   ]
  },
  {
   "cell_type": "code",
   "execution_count": 112,
   "metadata": {},
   "outputs": [
    {
     "data": {
      "image/png": "[encoded data removed]",
      "text/plain": [
       "<Figure size 432x288 with 1 Axes>"
      ]
     },
     "metadata": {},
     "output_type": "display_data"
    }
   ],
   "source": [
    "#first check in histogram of high_attack and low_attack if there is visible difference.\n",
    "high_attack['overall_rating'].hist(color='red', alpha=0.5,label='high attacking_work_rate', bins=50, weights=np.ones_like(high_attack['overall_rating'])/len(high_attack['overall_rating']))\n",
    "low_attack['overall_rating'].hist(color='blue', alpha=0.3,label='low attacking_work_rate', bins=50, weights=np.ones_like(low_attack['overall_rating'])/len(low_attack['overall_rating']))\n",
    "plt.xlabel('overall_rating')\n",
    "plt.xlim(50,90)\n",
    "plt.ylabel('percentage of players')\n",
    "plt.title('histogram of overall_rating vs. attacking_work_rate')\n",
    "plt.legend();"
   ]
  },
  {
   "cell_type": "markdown",
   "metadata": {},
   "source": [
    "##### From the histogram, the over rating of high attacking_work_rate is visibly higher than low attacking_work_rate. So next I will perform 6 t-test on the all four values of attacking_work_rate."
   ]
  },
  {
   "cell_type": "markdown",
   "metadata": {},
   "source": [
    "#### Perform a student t-test to support my conclusion drawn from visual."
   ]
  },
  {
   "cell_type": "code",
   "execution_count": 113,
   "metadata": {},
   "outputs": [
    {
     "data": {
      "text/plain": [
       "Ttest_indResult(statistic=67.17927873247966, pvalue=0.0)"
      ]
     },
     "execution_count": 113,
     "metadata": {},
     "output_type": "execute_result"
    }
   ],
   "source": [
    "stats.ttest_ind(high_attack['overall_rating'], medium_attack['overall_rating'],equal_var=False)"
   ]
  },
  {
   "cell_type": "code",
   "execution_count": 114,
   "metadata": {},
   "outputs": [
    {
     "data": {
      "text/plain": [
       "Ttest_indResult(statistic=21.3410540151568, pvalue=2.914227665560095e-99)"
      ]
     },
     "execution_count": 114,
     "metadata": {},
     "output_type": "execute_result"
    }
   ],
   "source": [
    "stats.ttest_ind(high_attack['overall_rating'], low_attack['overall_rating'],equal_var=False)"
   ]
  },
  {
   "cell_type": "code",
   "execution_count": 115,
   "metadata": {},
   "outputs": [
    {
     "data": {
      "text/plain": [
       "Ttest_indResult(statistic=39.00199783230472, pvalue=1.6136352009824546e-281)"
      ]
     },
     "execution_count": 115,
     "metadata": {},
     "output_type": "execute_result"
    }
   ],
   "source": [
    "stats.ttest_ind(high_attack['overall_rating'], None_attack['overall_rating'],equal_var=False)"
   ]
  },
  {
   "cell_type": "code",
   "execution_count": 116,
   "metadata": {},
   "outputs": [
    {
     "data": {
      "text/plain": [
       "Ttest_indResult(statistic=-11.648186300823038, pvalue=3.742775258793313e-31)"
      ]
     },
     "execution_count": 116,
     "metadata": {},
     "output_type": "execute_result"
    }
   ],
   "source": [
    "stats.ttest_ind(medium_attack['overall_rating'], low_attack['overall_rating'],equal_var=False)"
   ]
  },
  {
   "cell_type": "code",
   "execution_count": 117,
   "metadata": {},
   "outputs": [
    {
     "data": {
      "text/plain": [
       "Ttest_indResult(statistic=16.5287490852461, pvalue=3.694498344403986e-59)"
      ]
     },
     "execution_count": 117,
     "metadata": {},
     "output_type": "execute_result"
    }
   ],
   "source": [
    "stats.ttest_ind(medium_attack['overall_rating'], None_attack['overall_rating'],equal_var=False)"
   ]
  },
  {
   "cell_type": "code",
   "execution_count": 118,
   "metadata": {},
   "outputs": [
    {
     "data": {
      "text/plain": [
       "Ttest_indResult(statistic=20.686100421037782, pvalue=4.2653925435795296e-92)"
      ]
     },
     "execution_count": 118,
     "metadata": {},
     "output_type": "execute_result"
    }
   ],
   "source": [
    "stats.ttest_ind(low_attack['overall_rating'], None_attack['overall_rating'],equal_var=False)"
   ]
  },
  {
   "cell_type": "markdown",
   "metadata": {},
   "source": [
    "##### The p value of all the 6 t-tests between overall_rating of the 4 values of attacking_work_rate are all very small. The statistics are all above 10. Therefore I conclude that attacking_work_rate affects overall rating."
   ]
  },
  {
   "cell_type": "markdown",
   "metadata": {},
   "source": [
    "####  Visually inspect potential correlation between overall_rating and defensive_work_rate through histogram"
   ]
  },
  {
   "cell_type": "code",
   "execution_count": 119,
   "metadata": {},
   "outputs": [
    {
     "data": {
      "text/plain": [
       "medium    130785\n",
       "high       27041\n",
       "low        18426\n",
       "o           1328\n",
       "1            421\n",
       "ormal        317\n",
       "2            299\n",
       "3            232\n",
       "5            231\n",
       "7            207\n",
       "0            188\n",
       "6            166\n",
       "9            143\n",
       "4            116\n",
       "es            94\n",
       "tocky         86\n",
       "ean           78\n",
       "8             70\n",
       "Name: defensive_work_rate, dtype: int64"
      ]
     },
     "execution_count": 119,
     "metadata": {},
     "output_type": "execute_result"
    }
   ],
   "source": [
    "#check unique values of defensive_work_rate\n",
    "player_data.defensive_work_rate.value_counts()"
   ]
  },
  {
   "cell_type": "code",
   "execution_count": 120,
   "metadata": {},
   "outputs": [],
   "source": [
    "#I will only consider the players whose value of defensive_work_rate are medium, high or low\n",
    "medium_defense=player_data.query('defensive_work_rate==\"medium\"')\n",
    "high_defense=player_data.query('defensive_work_rate==\"high\"')\n",
    "low_defense=player_data.query('defensive_work_rate==\"low\"')"
   ]
  },
  {
   "cell_type": "code",
   "execution_count": 121,
   "metadata": {},
   "outputs": [
    {
     "data": {
      "image/png": "[encoded data removed]",
      "text/plain": [
       "<Figure size 432x288 with 1 Axes>"
      ]
     },
     "metadata": {},
     "output_type": "display_data"
    }
   ],
   "source": [
    "#plot a hightogram of high and low defensive_work_rate\n",
    "high_defense['overall_rating'].hist(color='red', alpha=0.5,label='high defensive_work_rate', bins=50, weights=np.ones_like(high_defense['overall_rating'])/len(high_defense['overall_rating']) )\n",
    "low_defense['overall_rating'].hist(color='blue', alpha=0.3,label='low defensive_work_rate', bins=50, weights=np.ones_like(low_defense['overall_rating'])/len(low_defense['overall_rating']) )\n",
    "plt.xlabel('overall_rating')\n",
    "plt.ylabel('percentage of players')\n",
    "plt.title('player defensive_work_rate vs overall_rating')\n",
    "plt.xlim(50,90)\n",
    "plt.legend();"
   ]
  },
  {
   "cell_type": "markdown",
   "metadata": {},
   "source": [
    "##### There is a visible shift between the two histograms. So next I will do a t-test to get the p values."
   ]
  },
  {
   "cell_type": "markdown",
   "metadata": {},
   "source": [
    "#### Perform a student t-test to support my conclusion drawn from visual."
   ]
  },
  {
   "cell_type": "code",
   "execution_count": 122,
   "metadata": {},
   "outputs": [
    {
     "data": {
      "text/plain": [
       "Ttest_indResult(statistic=61.517055900231775, pvalue=0.0)"
      ]
     },
     "execution_count": 122,
     "metadata": {},
     "output_type": "execute_result"
    }
   ],
   "source": [
    "stats.ttest_ind(high_defense['overall_rating'], medium_defense['overall_rating'], equal_var=False)"
   ]
  },
  {
   "cell_type": "code",
   "execution_count": 123,
   "metadata": {},
   "outputs": [
    {
     "data": {
      "text/plain": [
       "Ttest_indResult(statistic=12.722405166361643, pvalue=5.2557319146435206e-37)"
      ]
     },
     "execution_count": 123,
     "metadata": {},
     "output_type": "execute_result"
    }
   ],
   "source": [
    "stats.ttest_ind(high_defense['overall_rating'], low_defense['overall_rating'], equal_var=False)"
   ]
  },
  {
   "cell_type": "code",
   "execution_count": 124,
   "metadata": {},
   "outputs": [
    {
     "data": {
      "text/plain": [
       "Ttest_indResult(statistic=-36.411921416562244, pvalue=1.0598036490489774e-282)"
      ]
     },
     "execution_count": 124,
     "metadata": {},
     "output_type": "execute_result"
    }
   ],
   "source": [
    "stats.ttest_ind(medium_defense['overall_rating'], low_defense['overall_rating'], equal_var=False)"
   ]
  },
  {
   "cell_type": "markdown",
   "metadata": {},
   "source": [
    "##### The p values are all very small. The statistics are all above 10. Therefore I conclude that defensive_work_rate affects player overall rating"
   ]
  },
  {
   "cell_type": "markdown",
   "metadata": {},
   "source": [
    "### Answer to question 6: \n",
    "#### The top attributes that affect player performance are: reactions, potential, short_passing, ball_control, long_passing, defensive_work_rate and attacking_work_rate"
   ]
  },
  {
   "cell_type": "code",
   "execution_count": 125,
   "metadata": {},
   "outputs": [],
   "source": [
    "#close connection to database\n",
    "conn.close()"
   ]
  },
  {
   "cell_type": "markdown",
   "metadata": {},
   "source": [
    "<a id='conclusions'></a>\n",
    "## Conclusions\n",
    "> It was a really good experience working on this project! I gained tremendous experience in data analysis! I also became more patient when searching for solutions on internet and reading other people's codes. There are certainly multiple challenges that I faced while working on this project, but some time I don't realize that these are challenges. Below I summarize the limitations I faced and answers to my questions.  \n",
    "### Limitations\n",
    "#### (1) Missing data\n",
    "   > During data wangling, I faced large amount of missing data. In the match table, although the columns needed for my questions are all clean, all other columns have too many missing data, with some of them missing 20%. These columns could be very helpful in answering other interesting questions such as betting odds.\n",
    "   > In the team_attributes data, more than 50% of data in the column 'buildUpPlayDribbling' is missing, therefore analysis on this column will be less reliable.\n",
    "   > In the table player_attributes, all the attributes columns have missing values. Although percentage of rows containing at least one missing value is less than 2%, consider the large total number of rows, 2% is actually several thousand, and they could potentially bias analysis results.\n",
    "#### (2) Insufficient amount of data\n",
    "   > This issue arised when I was trying to find any team_attributes that are most correlated with team performance. For example when analyzing column 'buildUpPlayPositioningClass' vs points_per_game, count of 'Organised' is 913, and count of 'Free Form' is only 68. This big difference in counts might cause error, and if there are more teams using 'Free Form', the result will be more reliable.\n",
    "\n",
    "### match table analysis\n",
    "#### (1) Is there a home game advantage?\n",
    "   > The answer is clearly yes, both from bar charts and hypothesis test result, when only considering win and lose, not draw. I didn't know what to do with draw results. If draw results are also included in my sample, the results will be more convincing. \n",
    "#### (2) Which team improved most over the years?   \n",
    "   > The top five most improved teams are Southampton, Dendee FC, Juventus, Paris Saint-Germain and Sporting CP. It would be more interesting to find out what caused these improvement. Is it an improvement in one of team attribute or recruitment of a top player?\n",
    "#### (3) which team attributes lead to most victories?\n",
    "   > The answer is defencePressure, buildUpPlayPassing, anchanceCreationShooting, chanceCreationPositioningClass, buildUpPlayPassingClass and buildUpPlayPositioningClass. The first 3 attributes are quantitative, and I did a visual inspect and found that the correlation is not very strong. The last 3 attributes are categorical. I notices that in all the categorical attributes, the difference between value counts are big. For example for the attribute 'buildUpPlayPositioningClass', count of 'Organised' is 913, and count of 'Free Form' is only 68. This big difference in count might caused error, and if there more teams using 'Free Form', the result will be more reliable.\n",
    "\n",
    "### player_attributes and player table analysis\n",
    "#### (1) Which player has the most penalties?\n",
    "   > The answer is Danilo.  This is done by grouping player_attributes by player_api_id. A more fair comparison would be penalties per year.\n",
    "#### (2) What is the distribution of player age?\n",
    "   > Player ages range from 7.8 to 43.8. Its mean and variance are 25.6 and 22.2. It is right skewed. There are some very young players. A more detailed analysis will require dividing the player age into two groups, younger than 18 and at least 18. Then various questions can be asked on each group.\n",
    "#### (3) What affect players overall rating?\n",
    "   > Top attributes that affect player rating are: reactions, potential, short_passing, ball_control, long_passing, defensive_work_rate and attacking_work_rate. Judging from Pearson correlation coefficients, most quantitative player attributes are more or less correlated with overall_rating. Surprisingly, whether a player prefers left or right foot does not affect his overall_rating. "
   ]
  },
  {
   "cell_type": "markdown",
   "metadata": {
    "collapsed": true
   },
   "source": [
    "## Acknowledgment\n",
    ">During work on this project, I frequently found help on these websites:\n",
    "https://www.kaggle.com\n",
    "https://stackoverflow.com"
   ]
  }
 ],
 "metadata": {
  "kernelspec": {
   "display_name": "Python [default]",
   "language": "python",
   "name": "python3"
  },
  "language_info": {
   "codemirror_mode": {
    "name": "ipython",
    "version": 3
   },
   "file_extension": ".py",
   "mimetype": "text/x-python",
   "name": "python",
   "nbconvert_exporter": "python",
   "pygments_lexer": "ipython3",
   "version": "3.6.5"
  }
 },
 "nbformat": 4,
 "nbformat_minor": 2
}
